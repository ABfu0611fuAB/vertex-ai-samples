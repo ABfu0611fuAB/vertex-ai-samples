{
  "nbformat": 4,
  "nbformat_minor": 0,
  "metadata": {
    "colab": {
      "provenance": []
    },
    "kernelspec": {
      "name": "python3",
      "display_name": "Python 3"
    },
    "language_info": {
      "name": "python"
    }
  },
  "cells": [
    {
      "cell_type": "code",
      "execution_count": null,
      "metadata": {
        "id": "3wy92L3hM7er"
      },
      "outputs": [],
      "source": [
        "# Copyright 2023 Google LLC\n",
        "#\n",
        "# Licensed under the Apache License, Version 2.0 (the \"License\");\n",
        "# you may not use this file except in compliance with the License.\n",
        "# You may obtain a copy of the License at\n",
        "#\n",
        "#     https://www.apache.org/licenses/LICENSE-2.0\n",
        "#\n",
        "# Unless required by applicable law or agreed to in writing, software\n",
        "# distributed under the License is distributed on an \"AS IS\" BASIS,\n",
        "# WITHOUT WARRANTIES OR CONDITIONS OF ANY KIND, either express or implied.\n",
        "# See the License for the specific language governing permissions and\n",
        "# limitations under the License."
      ]
    },
    {
      "cell_type": "code",
      "source": [
        "!pip install git+https://github.com/googleapis/python-aiplatform.git@copybara_559287614\n",
        "# Remember to restart your runtime!"
      ],
      "metadata": {
        "id": "HD0LnJ0mGjEn"
      },
      "execution_count": null,
      "outputs": []
    },
    {
      "cell_type": "code",
      "source": [
        "from google.colab import auth as google_auth\n",
        "google_auth.authenticate_user()\n",
        "import vertexai\n",
        "from vertexai.language_models import TextEmbeddingInput, TextEmbeddingModel\n",
        "\n",
        "# Note: when publishing, will make the PROJECT_ID empty\n",
        "PROJECT_ID = \"cloud-llm-preview1\" # @param {type:\"string\"}\n",
        "TASK_TYPE = \"RETRIEVAL_QUERY\" # @param [\"RETRIEVAL_QUERY\", \"RETRIEVAL_DOCUMENT\", \"SEMANTIC_SIMILARITY\", \"CLASSIFICATION\", \"CLUSTERING\"]\n",
        "TITLE = \"\" # @param {type:\"string\"}\n",
        "TEXT = \"Embedding text.\" # @param {type:\"string\"}\n",
        "MODEL_NAME = \"textembedding-gecko@latest\" # @param [\"textembedding-gecko@latest\", \"textembedding-gecko-multilingual@latest\"]\n",
        "\n",
        "if not PROJECT_ID:\n",
        "  raise ValueError(\"Please set your PROJECT_ID.\")\n",
        "if not TASK_TYPE:\n",
        "  raise ValueError(\"Please set TASK_TYPE.\")\n",
        "if not TEXT:\n",
        "  raise ValueError(\"Please set TEXT.\")\n",
        "if not MODEL_NAME:\n",
        "  raise ValueError(\"Please set MODEL_NAME.\")\n",
        "if TITLE and TASK_TYPE != \"RETRIEVAL_DOCUMENT\":\n",
        "  raise ValueError(\"Title can only be provided if the task_type is RETRIEVAL_DOCUMENT\")\n",
        "\n",
        "vertexai.init(project=PROJECT_ID, location=\"us-central1\")"
      ],
      "metadata": {
        "id": "QyhbYch5o-jh"
      },
      "execution_count": null,
      "outputs": []
    },
    {
      "cell_type": "code",
      "source": [
        "def text_embedding(\n",
        "  model_name: str, task_type: str, text: str, title: str=\"\",) -> list:\n",
        "    \"\"\"Text embedding with a Large Language Model.\"\"\"\n",
        "    model = TextEmbeddingModel.from_pretrained(model_name)\n",
        "\n",
        "    text_embedding_input = TextEmbeddingInput(\n",
        "        task_type=task_type, title=title, text=text)\n",
        "    embeddings = model.get_embeddings([text_embedding_input])\n",
        "    return embeddings[0].values\n",
        "\n",
        "embedding = text_embedding(\n",
        "    model_name=MODEL_NAME, task_type=TASK_TYPE, text=TEXT, title=TITLE)\n",
        "print(len(embedding))"
      ],
      "metadata": {
        "colab": {
          "base_uri": "https://localhost:8080/"
        },
        "id": "AW1sx9OBCeTL",
        "outputId": "2d6a297e-85af-49b4-fdaa-9d90adc00703"
      },
      "execution_count": null,
      "outputs": [
        {
          "output_type": "stream",
          "name": "stdout",
          "text": [
            "768\n"
          ]
        }
      ]
    },
    {
      "cell_type": "code",
      "source": [
        "# End of public demo\n",
        "# The following is to test the correctness of the above code.\n",
        "vertexai.init(project=\"cloud-llm-preview1\", location=\"us-central1\")\n",
        "print(sum(text_embedding(\"textembedding-gecko@latest\", \"SEMANTIC_SIMILARITY\", title=\"\", text=\"simple embedding\")))\n",
        "print(sum(text_embedding(\"textembedding-gecko@latest\", \"RETRIEVAL_DOCUMENT\", title=\"\", text=\"simple embedding\")))\n",
        "print(sum(text_embedding(\"textembedding-gecko@latest\", \"RETRIEVAL_DOCUMENT\", title=\"Google\", text=\"simple embedding\")))\n",
        "print(sum(text_embedding(\"textembedding-gecko-multilingual@latest\", \"SEMANTIC_SIMILARITY\", title=\"\", text=\"simple embedding\")))\n",
        "print(sum(text_embedding(\"textembedding-gecko-multilingual@latest\", \"RETRIEVAL_DOCUMENT\", title=\"\", text=\"simple embedding\")))\n",
        "print(sum(text_embedding(\"textembedding-gecko-multilingual@latest\", \"RETRIEVAL_DOCUMENT\", title=\"Google\", text=\"simple embedding\")))"
      ],
      "metadata": {
        "colab": {
          "base_uri": "https://localhost:8080/"
        },
        "id": "I-07lw47qjq7",
        "outputId": "939b4fa3-36d3-4690-904d-6307d23de326"
      },
      "execution_count": null,
      "outputs": [
        {
          "output_type": "stream",
          "name": "stdout",
          "text": [
            "-0.8425277400092455\n",
            "-0.5084050247105552\n",
            "-0.6567934176709969\n",
            "0.3477527925315371\n",
            "0.06128880959295202\n",
            "0.283250759935072\n"
          ]
        }
      ]
    },
    {
      "cell_type": "code",
      "source": [],
      "metadata": {
        "id": "LWnEKuCVhvq3"
      },
      "execution_count": null,
      "outputs": []
    }
  ]
}