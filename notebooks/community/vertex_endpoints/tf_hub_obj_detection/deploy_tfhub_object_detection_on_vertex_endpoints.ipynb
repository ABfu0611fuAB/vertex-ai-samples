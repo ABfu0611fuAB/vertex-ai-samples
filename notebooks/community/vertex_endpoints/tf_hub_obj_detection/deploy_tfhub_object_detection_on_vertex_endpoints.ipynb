{
  "cells": [
    {
      "cell_type": "code",
      "execution_count": null,
      "metadata": {
        "id": "zB_PYUGd7-ko"
      },
      "outputs": [],
      "source": [
        "# Copyright 2022 Google LLC\n",
        "#\n",
        "# Licensed under the Apache License, Version 2.0 (the \"License\");\n",
        "# you may not use this file except in compliance with the License.\n",
        "# You may obtain a copy of the License at\n",
        "#\n",
        "#     https://www.apache.org/licenses/LICENSE-2.0\n",
        "#\n",
        "# Unless required by applicable law or agreed to in writing, software\n",
        "# distributed under the License is distributed on an \"AS IS\" BASIS,\n",
        "# WITHOUT WARRANTIES OR CONDITIONS OF ANY KIND, either express or implied.\n",
        "# See the License for the specific language governing permissions and\n",
        "# limitations under the License."
      ]
    },
    {
      "cell_type": "markdown",
      "metadata": {
        "id": "3bcfa29cc2be"
      },
      "source": [
        "<table align=\"left\">\n",
        "\n",
        "  <td>\n",
        "    <a href=\"https://colab.research.google.com/github/GoogleCloudPlatform/vertex-ai-samples/blob/master/notebooks/community/vertex_endpoints/tf_hub_obj_detection/deploy_tfhub_object_detection_on_vertex_endpoints.ipynb\"\">\n",
        "      <img src=\"https://cloud.google.com/ml-engine/images/colab-logo-32px.png\" alt=\"Colab logo\"> Run in Colab\n",
        "    </a>\n",
        "  </td>\n",
        "  <td>\n",
        "    <a href=\"https://github.com/GoogleCloudPlatform/vertex-ai-samples/blob/master/notebooks/community/vertex_endpoints/tf_hub_obj_detection/deploy_tfhub_object_detection_on_vertex_endpoints.ipynb\">\n",
        "      <img src=\"https://cloud.google.com/ml-engine/images/github-logo-32px.png\" alt=\"GitHub logo\">\n",
        "      View on GitHub\n",
        "    </a>\n",
        "  </td>\n",
        "  <td>\n",
        "    <a href=\"https://console.cloud.google.com/vertex-ai/notebooks/deploy-notebook?download_url=https://github.com/GoogleCloudPlatform/vertex-ai-samples/blob/master/notebooks/community/vertex_endpoints/tf_hub_obj_detection/deploy_tfhub_object_detection_on_vertex_endpoints.ipynb\"\n",
        "      <img src=\"https://cloud.google.com/images/products/ai/ai-solutions-icon.svg\" alt=\"Vertex AI Workbench notebook\"> Open in Vertex AI Workbench\n",
        "    </a>\n",
        "  </td> \n",
        "</table>"
      ]
    },
    {
      "cell_type": "markdown",
      "metadata": {
        "id": "nmDKdOFh8Ko8"
      },
      "source": [
        "# Deploying a TensorFlow Hub object detection model using Vertex AI Endpoints"
      ]
    },
    {
      "cell_type": "markdown",
      "metadata": {
        "id": "FTe0sT1p8SHy"
      },
      "source": [
        "## Overview\n",
        "This tutorial demonstrates how to take a TensorFlow Hub object detection model, add a preprocessing layer and deploy it to a Vertex AI endpoint for online prediction.\n",
        "\n",
        "Because the object detection model accepts tensors as an input, we will add a preprocessing layer that accepts jpeg strings and decodes them. This makes it easier for clients to call the endpoint without having to implement their own TensorFlow logic."
      ]
    },
    {
      "cell_type": "markdown",
      "metadata": {
        "id": "c8OldBdp8VeZ"
      },
      "source": [
        "## Model\n",
        "The model used for this tutorial is the `CenterNet HourGlass104 Keypoints 512x512` from [TensorFlow Hub open source model repository](https://tfhub.dev/tensorflow/centernet/hourglass_512x512_kpts/1)"
      ]
    },
    {
      "cell_type": "markdown",
      "metadata": {
        "id": "DU7F8BCg8WgZ"
      },
      "source": [
        "## Objective\n",
        "\n",
        "The steps performed include:\n",
        "- Download a object detection model from TensorFlow Hub.\n",
        "- Create a preprocessing layer using @tf.function.\n",
        "- Upload the model to Vertex AI `Models`.\n",
        "- Create a Vertex AI `Endpoint`.\n",
        "- Call the endpoint with both the `Python Vertex AI SDK` and through command line using `CURL`.\n",
        "- Undeploy the endpoint and delete the model.\n"
      ]
    },
    {
      "cell_type": "markdown",
      "metadata": {
        "id": "KT8PQtz68aRa"
      },
      "source": [
        "## Costs\n",
        "This tutorial uses billable components of Google Cloud:\n",
        "- Vertex AI\n",
        "- Cloud Storage\n",
        "\n",
        "Learn about [Vertex AI pricing](https://cloud.google.com/vertex-ai/pricing) and [Cloud Storage pricing](https://cloud.google.com/storage/pricing), and use the [Pricing Calculator](https://cloud.google.com/products/calculator/) to generate a cost estimate based on your projected usage."
      ]
    },
    {
      "cell_type": "markdown",
      "metadata": {
        "id": "hHC5aja38dPU"
      },
      "source": [
        "## Installation\n",
        "Install the latest version of Vertex SDK for Python"
      ]
    },
    {
      "cell_type": "code",
      "execution_count": null,
      "metadata": {
        "id": "7NdnlHDb8gk7"
      },
      "outputs": [],
      "source": [
        "import os\n",
        "\n",
        "# The Google Cloud Notebook product has specific requirements\n",
        "IS_GOOGLE_CLOUD_NOTEBOOK = os.path.exists(\"/opt/deeplearning/metadata/env_version\")\n",
        "\n",
        "# Google Cloud Notebook requires dependencies to be installed with '--user'\n",
        "USER_FLAG = \"\"\n",
        "if IS_GOOGLE_CLOUD_NOTEBOOK:\n",
        "    USER_FLAG = \"--user\""
      ]
    },
    {
      "cell_type": "code",
      "execution_count": null,
      "metadata": {
        "id": "g0E-rLjd8kPJ"
      },
      "outputs": [],
      "source": [
        "! pip install {USER_FLAG} --upgrade google-cloud-aiplatform"
      ]
    },
    {
      "cell_type": "markdown",
      "metadata": {
        "id": "UCNy-5A19Iu8"
      },
      "source": [
        "Install TensorFlow."
      ]
    },
    {
      "cell_type": "code",
      "execution_count": null,
      "metadata": {
        "id": "vZUC9iJa9TPd"
      },
      "outputs": [],
      "source": [
        "!pip install -U \"tensorflow>=2.8\""
      ]
    },
    {
      "cell_type": "markdown",
      "metadata": {
        "id": "iyv85kWHvkQ2"
      },
      "source": [
        "### Restart the kernel\n",
        "\n",
        "Once you've installed everything, you need to restart the notebook kernel so it can find the packages."
      ]
    },
    {
      "cell_type": "code",
      "execution_count": null,
      "metadata": {
        "id": "av0sLWCDvmL6"
      },
      "outputs": [],
      "source": [
        "import os\n",
        "\n",
        "if not os.getenv(\"IS_TESTING\"):\n",
        "    # Automatically restart kernel after installs\n",
        "    import IPython\n",
        "\n",
        "    app = IPython.Application.instance()\n",
        "    app.kernel.do_shutdown(True)"
      ]
    },
    {
      "cell_type": "markdown",
      "metadata": {
        "id": "Peg2Bwy_v2fe"
      },
      "source": [
        "## Before you begin\n",
        "\n",
        "### Set up your Google Cloud project\n",
        "\n",
        "**The following steps are required, regardless of your notebook environment.**\n",
        "\n",
        "1. [Select or create a Google Cloud project](https://console.cloud.google.com/cloud-resource-manager). When you first create an account, you get a $300 free credit towards your compute/storage costs.\n",
        "\n",
        "2. [Make sure that billing is enabled for your project](https://cloud.google.com/billing/docs/how-to/modify-project).\n",
        "\n",
        "3. [Enable the Vertex AI API](https://console.cloud.google.com/flows/enableapi?apiid=aiplatform.googleapis.com).\n",
        "\n",
        "4. If you are running this notebook locally, you will need to install the [Cloud SDK](https://cloud.google.com/sdk).\n",
        "\n",
        "5. Enter your project ID in the cell below. Then run the cell to make sure the\n",
        "Cloud SDK uses the right project for all the commands in this notebook.\n",
        "\n",
        "**Note**: Jupyter runs lines prefixed with `!` as shell commands, and it interpolates Python variables prefixed with `$` into these commands."
      ]
    },
    {
      "cell_type": "markdown",
      "metadata": {
        "id": "1NRbJL7iwTwm"
      },
      "source": [
        "#### Set your project ID\n",
        "\n",
        "**If you don't know your project ID**, you might be able to get your project ID using `gcloud`."
      ]
    },
    {
      "cell_type": "code",
      "execution_count": null,
      "metadata": {
        "id": "jVrtnNtuwOgv"
      },
      "outputs": [],
      "source": [
        "import os\n",
        "\n",
        "PROJECT_ID = \"\"\n",
        "\n",
        "if not os.getenv(\"IS_TESTING\"):\n",
        "    # Get your Google Cloud project ID from gcloud\n",
        "    shell_output = !gcloud config list --format 'value(core.project)' 2>/dev/null\n",
        "    PROJECT_ID = shell_output[0]\n",
        "    print(\"Project ID: \", PROJECT_ID)"
      ]
    },
    {
      "cell_type": "markdown",
      "metadata": {
        "id": "yHaNeGniwQwf"
      },
      "source": [
        "Otherwise, set your project ID here."
      ]
    },
    {
      "cell_type": "code",
      "execution_count": null,
      "metadata": {
        "id": "7wU5w8-WwakX"
      },
      "outputs": [],
      "source": [
        "if PROJECT_ID == \"\" or PROJECT_ID is None:\n",
        "    PROJECT_ID = \"\"  # @param {type:\"string\"}"
      ]
    },
    {
      "cell_type": "markdown",
      "metadata": {
        "id": "R3YQn1FNv7I9"
      },
      "source": [
        "#### Timestamp\n",
        "\n",
        "If you are in a live tutorial session, you might be using a shared test account or project. To avoid name collisions between users on resources created, create a timestamp for each instance session, and append it onto the name of resources you create in this tutorial."
      ]
    },
    {
      "cell_type": "code",
      "execution_count": null,
      "metadata": {
        "id": "TU_3QS-Rwk0v"
      },
      "outputs": [],
      "source": [
        "from datetime import datetime\n",
        "\n",
        "TIMESTAMP = datetime.now().strftime(\"%Y%m%d%H%M%S\")"
      ]
    },
    {
      "cell_type": "markdown",
      "metadata": {
        "id": "VlLFGqlov_Ht"
      },
      "source": [
        "### Authenticate your Google Cloud account\n",
        "\n",
        "**If you are using Google Cloud Notebooks**, your environment is already\n",
        "authenticated. Skip this step.\n",
        "\n",
        "**If you are using Colab**, run the cell below and follow the instructions\n",
        "when prompted to authenticate your account via oAuth.\n",
        "\n",
        "**Otherwise**, follow these steps:\n",
        "\n",
        "1. In the Cloud Console, go to the [**Create service account key**\n",
        "   page](https://console.cloud.google.com/apis/credentials/serviceaccountkey).\n",
        "\n",
        "2. Click **Create service account**.\n",
        "\n",
        "3. In the **Service account name** field, enter a name, and\n",
        "   click **Create**.\n",
        "\n",
        "4. In the **Grant this service account access to project** section, click the **Role** drop-down list. Type \"Vertex AI\"\n",
        "into the filter box, and select\n",
        "   **Vertex AI Administrator**. Type \"Storage Object Admin\" into the filter box, and select **Storage Object Admin**.\n",
        "\n",
        "5. Click *Create*. A JSON file that contains your key downloads to your\n",
        "local environment.\n",
        "\n",
        "6. Enter the path to your service account key as the\n",
        "`GOOGLE_APPLICATION_CREDENTIALS` variable in the cell below and run the cell."
      ]
    },
    {
      "cell_type": "code",
      "execution_count": null,
      "metadata": {
        "id": "EBTUnqS1wqHo"
      },
      "outputs": [],
      "source": [
        "import os\n",
        "import sys\n",
        "\n",
        "# If you are running this notebook in Colab, run this cell and follow the\n",
        "# instructions to authenticate your GCP account. This provides access to your\n",
        "# Cloud Storage bucket and lets you submit training jobs and prediction\n",
        "# requests.\n",
        "\n",
        "# The Google Cloud Notebook product has specific requirements\n",
        "IS_GOOGLE_CLOUD_NOTEBOOK = os.path.exists(\"/opt/deeplearning/metadata/env_version\")\n",
        "\n",
        "# If on Google Cloud Notebooks, then don't execute this code\n",
        "if not IS_GOOGLE_CLOUD_NOTEBOOK:\n",
        "    if \"google.colab\" in sys.modules:\n",
        "        from google.colab import auth as google_auth\n",
        "\n",
        "        google_auth.authenticate_user()\n",
        "\n",
        "    # If you are running this notebook locally, replace the string below with the\n",
        "    # path to your service account key and run this cell to authenticate your GCP\n",
        "    # account.\n",
        "    elif not os.getenv(\"IS_TESTING\"):\n",
        "        %env GOOGLE_APPLICATION_CREDENTIALS ''"
      ]
    },
    {
      "cell_type": "markdown",
      "metadata": {
        "id": "wPrx2LnU8vFU"
      },
      "source": [
        "### Create a Cloud Storage bucket\n",
        "\n",
        "**The following steps are required, regardless of your notebook environment.**\n",
        "\n",
        "You first upload the model files to a Cloud Storage bucket. Using this model artifact, you can then\n",
        "create Vertex AI model and endpoint resources in order to serve\n",
        "online predictions.\n",
        "\n",
        "Set the name of your Cloud Storage bucket below. It must be unique across all\n",
        "Cloud Storage buckets.\n",
        "\n",
        "You may also change the `REGION` variable, which is used for operations\n",
        "throughout the rest of this notebook. Make sure to [choose a region where Vertex AI services are\n",
        "available](https://cloud.google.com/vertex-ai/docs/general/locations#available_regions). You may\n",
        "not use a Multi-Regional Storage bucket for training with Vertex AI."
      ]
    },
    {
      "cell_type": "code",
      "execution_count": null,
      "metadata": {
        "id": "ef0nYMRKxvDV"
      },
      "outputs": [],
      "source": [
        "BUCKET_NAME = \"\"  # @param {type:\"string\"}\n",
        "REGION = \"us-central1\"  # @param {type:\"string\"}"
      ]
    },
    {
      "cell_type": "code",
      "execution_count": null,
      "metadata": {
        "id": "ti_79ErvxxeF"
      },
      "outputs": [],
      "source": [
        "if BUCKET_NAME == \"\" or BUCKET_NAME is None or BUCKET_NAME == \"gs://[your-bucket-name]\":\n",
        "    BUCKET_NAME = \"gs://\" + PROJECT_ID + \"aip-\" + TIMESTAMP"
      ]
    },
    {
      "cell_type": "code",
      "execution_count": null,
      "metadata": {
        "id": "Ig18nZMtmuGH"
      },
      "outputs": [],
      "source": [
        "print(BUCKET_NAME)"
      ]
    },
    {
      "cell_type": "markdown",
      "metadata": {
        "id": "TCZRfgA9x0Mz"
      },
      "source": [
        "**Only if your bucket doesn't already exist**: Run the following cell to create your Cloud Storage bucket."
      ]
    },
    {
      "cell_type": "code",
      "execution_count": null,
      "metadata": {
        "id": "gDX_aWtjxzSN"
      },
      "outputs": [],
      "source": [
        "! gsutil mb -p $PROJECT_ID -l $REGION $BUCKET_NAME"
      ]
    },
    {
      "cell_type": "markdown",
      "metadata": {
        "id": "n7IDVRdwx4hd"
      },
      "source": [
        "Finally, validate access to your Cloud Storage bucket by examining its contents:"
      ]
    },
    {
      "cell_type": "code",
      "execution_count": null,
      "metadata": {
        "id": "iA6Uqvqxx8Ls"
      },
      "outputs": [],
      "source": [
        "! gsutil ls -al $BUCKET_NAME"
      ]
    },
    {
      "cell_type": "markdown",
      "metadata": {
        "id": "me1llTRsyImc"
      },
      "source": [
        "## Download and extract the model\n",
        "There are various object detection models in TensorFlow Hub. We will be using the `CenterNet HourGlass104 Keypoints 512x512`."
      ]
    },
    {
      "cell_type": "code",
      "execution_count": null,
      "metadata": {
        "id": "_6dmPQqxzGZp"
      },
      "outputs": [],
      "source": [
        "# Download and extract model\n",
        "!wget https://tfhub.dev/tensorflow/centernet/hourglass_512x512_kpts/1?tf-hub-format=compressed\n",
        "!tar xvzf 1?tf-hub-format=compressed\n",
        "!mkdir obj_detect_model\n",
        "!mv ./saved_model.pb obj_detect_model/\n",
        "!mv ./variables obj_detect_model/"
      ]
    },
    {
      "cell_type": "markdown",
      "metadata": {
        "id": "qAF8aH4HzXEY"
      },
      "source": [
        "## Visualization tools\n",
        "To visualize the images with the proper detected boxes, keypoints and segmentation, we will use the TensorFlow Object Detection API. To install it we will clone the repo."
      ]
    },
    {
      "cell_type": "code",
      "execution_count": null,
      "metadata": {
        "id": "fV_q5QTakk4H"
      },
      "outputs": [],
      "source": [
        "import matplotlib.pyplot as plt\n",
        "import numpy as np\n",
        "import tensorflow as tf\n",
        "from PIL import Image\n",
        "from six import BytesIO"
      ]
    },
    {
      "cell_type": "code",
      "execution_count": null,
      "metadata": {
        "id": "sztJl5lE0Lxd"
      },
      "outputs": [],
      "source": [
        "# Clone the tensorflow models repository\n",
        "!git clone --depth 1 https://github.com/tensorflow/models"
      ]
    },
    {
      "cell_type": "markdown",
      "metadata": {
        "id": "DYF0OD280SF-"
      },
      "source": [
        "Installing the object detection API"
      ]
    },
    {
      "cell_type": "code",
      "execution_count": null,
      "metadata": {
        "id": "3m_twvfY0U9k"
      },
      "outputs": [],
      "source": [
        "%%bash\n",
        "\n",
        "sudo apt install -y protobuf-compiler\n",
        "cd models/research/\n",
        "protoc object_detection/protos/*.proto --python_out=.\n",
        "cp object_detection/packages/tf2/setup.py .\n",
        "pip install ."
      ]
    },
    {
      "cell_type": "markdown",
      "metadata": {
        "id": "awZo_FXg1dkn"
      },
      "source": [
        "Now we can import the dependencies we will need later"
      ]
    },
    {
      "cell_type": "code",
      "execution_count": null,
      "metadata": {
        "id": "5aDl_EEH1lHh"
      },
      "outputs": [],
      "source": [
        "from object_detection.utils import label_map_util\n",
        "from object_detection.utils import visualization_utils as viz_utils\n",
        "\n",
        "%matplotlib inline"
      ]
    },
    {
      "cell_type": "markdown",
      "metadata": {
        "id": "uaXIEr4W52QY"
      },
      "source": [
        "## Load label map data (for plotting).\n",
        "Label maps correspond index numbers to category names, so that when our convolution network predicts 5, we know that this corresponds to airplane. Here we use internal utility functions, but anything that returns a dictionary mapping integers to appropriate string labels would be fine.\n",
        "\n",
        "We are going, for simplicity, to load from the repository that we loaded the Object Detection API code"
      ]
    },
    {
      "cell_type": "code",
      "execution_count": null,
      "metadata": {
        "id": "6e52z_Wi5Ar9"
      },
      "outputs": [],
      "source": [
        "PATH_TO_LABELS = \"./models/research/object_detection/data/mscoco_label_map.pbtxt\"\n",
        "category_index = label_map_util.create_category_index_from_labelmap(\n",
        "    PATH_TO_LABELS, use_display_name=True\n",
        ")\n",
        "print(category_index[5])"
      ]
    },
    {
      "cell_type": "markdown",
      "metadata": {
        "id": "swaDX8uE6Ksn"
      },
      "source": [
        "## Load the model\n",
        "Here we will load the downloaded model into memory."
      ]
    },
    {
      "cell_type": "code",
      "execution_count": null,
      "metadata": {
        "id": "e0eejzM26QXb"
      },
      "outputs": [],
      "source": [
        "model = tf.saved_model.load(\"obj_detect_model/\")"
      ]
    },
    {
      "cell_type": "markdown",
      "metadata": {
        "id": "ckNI8ZRW63od"
      },
      "source": [
        "Load an image and use the model for inference."
      ]
    },
    {
      "cell_type": "code",
      "execution_count": null,
      "metadata": {
        "id": "-J2YDW6r6_wO"
      },
      "outputs": [],
      "source": [
        "image_path = \"models/research/object_detection/test_images/image2.jpg\"\n",
        "\n",
        "\n",
        "def load_image_into_numpy_array(path):\n",
        "    image_data = tf.io.gfile.GFile(path, \"rb\").read()\n",
        "    image = Image.open(BytesIO(image_data))\n",
        "\n",
        "    (width, height) = image.size\n",
        "    return np.array(image.getdata()).reshape((1, height, width, 3)).astype(np.uint8)\n",
        "\n",
        "\n",
        "image_np = load_image_into_numpy_array(image_path)\n",
        "plt.figure(figsize=(24, 32))\n",
        "plt.imshow(image_np[0])\n",
        "plt.show()\n",
        "\n",
        "\n",
        "results = model(image_np)\n",
        "result = {key: value.numpy() for key, value in results.items()}"
      ]
    },
    {
      "cell_type": "markdown",
      "metadata": {
        "id": "7zMDFKfM7vuT"
      },
      "source": [
        "Visualize results"
      ]
    },
    {
      "cell_type": "code",
      "execution_count": null,
      "metadata": {
        "id": "FRV_-Q8x7uye"
      },
      "outputs": [],
      "source": [
        "COCO17_HUMAN_POSE_KEYPOINTS = [\n",
        "    (0, 1),\n",
        "    (0, 2),\n",
        "    (1, 3),\n",
        "    (2, 4),\n",
        "    (0, 5),\n",
        "    (0, 6),\n",
        "    (5, 7),\n",
        "    (7, 9),\n",
        "    (6, 8),\n",
        "    (8, 10),\n",
        "    (5, 6),\n",
        "    (5, 11),\n",
        "    (6, 12),\n",
        "    (11, 12),\n",
        "    (11, 13),\n",
        "    (13, 15),\n",
        "    (12, 14),\n",
        "    (14, 16),\n",
        "]\n",
        "\n",
        "label_id_offset = 0\n",
        "image_np_with_detections = image_np.copy()\n",
        "\n",
        "# Use keypoints if available in detections\n",
        "keypoints, keypoint_scores = None, None\n",
        "if \"detection_keypoints\" in result:\n",
        "    keypoints = result[\"detection_keypoints\"][0]\n",
        "    keypoint_scores = result[\"detection_keypoint_scores\"][0]\n",
        "\n",
        "viz_utils.visualize_boxes_and_labels_on_image_array(\n",
        "    image_np_with_detections[0],\n",
        "    result[\"detection_boxes\"][0],\n",
        "    (result[\"detection_classes\"][0] + label_id_offset).astype(int),\n",
        "    result[\"detection_scores\"][0],\n",
        "    category_index,\n",
        "    use_normalized_coordinates=True,\n",
        "    max_boxes_to_draw=200,\n",
        "    min_score_thresh=0.30,\n",
        "    agnostic_mode=False,\n",
        "    keypoints=keypoints,\n",
        "    keypoint_scores=keypoint_scores,\n",
        "    keypoint_edges=COCO17_HUMAN_POSE_KEYPOINTS,\n",
        ")\n",
        "\n",
        "plt.figure(figsize=(24, 32))\n",
        "plt.imshow(image_np_with_detections[0])\n",
        "plt.show()"
      ]
    },
    {
      "cell_type": "markdown",
      "metadata": {
        "id": "fb4xge9UE-ka"
      },
      "source": [
        "## Create a preprocessing function for Vertex AI serving.\n",
        "The model expects a numpy array as an input. This creates two problems for our endpoint:\n",
        "* Vertex AI public endpoints have a maximum request size of 1.5 MB. Images are much larger than this.\n",
        "* It would make it more difficult for clients based in languages other than Python to build a request.\n",
        "\n",
        "These two limitations can be solved by building a preprocessing function and attaching it to our model.\n",
        "\n",
        "We will create a preprocessing function that takes a jpeg encoded image, resizes it to the model's minimum required input and passes this preprocessed input to the model. We will then save the model with the preprocessing function which will be ready to be uploaded to our Vertex AI endpoint.\n",
        "\n",
        "The image will be passed to our endpoint as a base64 encoded jpeg string."
      ]
    },
    {
      "cell_type": "code",
      "execution_count": null,
      "metadata": {
        "id": "k5U3eLrbK3oH"
      },
      "outputs": [],
      "source": [
        "VERTEX_MODEL_PATH = \"obj_detect_model_vertex/\"\n",
        "\n",
        "\n",
        "def _preprocess(bytes_inputs):\n",
        "    decoded = tf.io.decode_jpeg(bytes_inputs, channels=3)\n",
        "    resized = tf.image.resize(decoded, size=(512, 512))\n",
        "    return tf.cast(resized, dtype=tf.uint8)\n",
        "\n",
        "\n",
        "def _get_serve_image_fn(model):\n",
        "    @tf.function(input_signature=[tf.TensorSpec([None], tf.string)])\n",
        "    def serve_image_fn(bytes_inputs):\n",
        "        decoded_images = tf.map_fn(_preprocess, bytes_inputs, dtype=tf.uint8)\n",
        "        return model(decoded_images)\n",
        "\n",
        "    return serve_image_fn\n",
        "\n",
        "\n",
        "signatures = {\n",
        "    \"serving_default\": _get_serve_image_fn(model).get_concrete_function(\n",
        "        tf.TensorSpec(shape=[None], dtype=tf.string)\n",
        "    )\n",
        "}\n",
        "\n",
        "tf.saved_model.save(model, VERTEX_MODEL_PATH, signatures=signatures)"
      ]
    },
    {
      "cell_type": "markdown",
      "metadata": {
        "id": "oPVVu5xcMTtm"
      },
      "source": [
        "We will verify that the input was modified correctly by using the `saved_model_cli` command on both the original and vertexai prepared model.\n",
        "\n",
        "The results for the `serving_default` signature should be as follows.\n",
        "\n",
        "\n",
        "Original model:\n",
        "\n",
        "```\n",
        "signature_def['serving_default']:\n",
        "  The given SavedModel SignatureDef contains the following input(s):\n",
        "    inputs['input_tensor'] tensor_info:\n",
        "        dtype: DT_UINT8\n",
        "        shape: (1, -1, -1, 3)\n",
        "        name: serving_default_input_tensor:0\n",
        "```\n",
        "\n",
        "Vertex AI model:\n",
        "\n",
        "```\n",
        "signature_def['serving_default']:\n",
        "  The given SavedModel SignatureDef contains the following input(s):\n",
        "    inputs['bytes_inputs'] tensor_info:\n",
        "        dtype: DT_STRING\n",
        "        shape: (-1)\n",
        "        name: serving_default_bytes_inputs:0\n",
        "```"
      ]
    },
    {
      "cell_type": "code",
      "execution_count": null,
      "metadata": {
        "id": "wJ1x3YISNWuH"
      },
      "outputs": [],
      "source": [
        "!saved_model_cli show --dir obj_detect_model --all"
      ]
    },
    {
      "cell_type": "code",
      "execution_count": null,
      "metadata": {
        "id": "trfpB2A8NS9k"
      },
      "outputs": [],
      "source": [
        "!saved_model_cli show --dir obj_detect_model_vertex --all"
      ]
    },
    {
      "cell_type": "markdown",
      "metadata": {
        "id": "s2vgZvn2NA2h"
      },
      "source": [
        "Lets test the preprocessing function by passing it a base 64 encoded jpeg image."
      ]
    },
    {
      "cell_type": "code",
      "execution_count": null,
      "metadata": {
        "id": "_GT55Kj_NGfC"
      },
      "outputs": [],
      "source": [
        "vertex_model = tf.saved_model.load(VERTEX_MODEL_PATH)"
      ]
    },
    {
      "cell_type": "code",
      "execution_count": null,
      "metadata": {
        "id": "2f8z6G7yNPaJ"
      },
      "outputs": [],
      "source": [
        "import base64\n",
        "\n",
        "\n",
        "def encode_image(image):\n",
        "    with open(image, \"rb\") as image_file:\n",
        "        encoded_string = base64.urlsafe_b64encode(image_file.read()).decode(\"utf-8\")\n",
        "    return encoded_string\n",
        "\n",
        "\n",
        "results = vertex_model([_preprocess(tf.io.decode_base64(encode_image(image_path)))])"
      ]
    },
    {
      "cell_type": "markdown",
      "metadata": {
        "id": "gwntQ3m1O8s_"
      },
      "source": [
        "View the results"
      ]
    },
    {
      "cell_type": "code",
      "execution_count": null,
      "metadata": {
        "id": "3hjSVSWiO-Qh"
      },
      "outputs": [],
      "source": [
        "# different object detection models have additional results\n",
        "# all of them are explained in the documentation\n",
        "result = {key: value.numpy() for key, value in results.items()}\n",
        "\n",
        "label_id_offset = 0\n",
        "image_np_with_detections = image_np.copy()\n",
        "\n",
        "# Use keypoints if available in detections\n",
        "keypoints, keypoint_scores = None, None\n",
        "if \"detection_keypoints\" in result:\n",
        "    keypoints = result[\"detection_keypoints\"][0]\n",
        "    keypoint_scores = result[\"detection_keypoint_scores\"][0]\n",
        "\n",
        "viz_utils.visualize_boxes_and_labels_on_image_array(\n",
        "    image_np_with_detections[0],\n",
        "    result[\"detection_boxes\"][0],\n",
        "    (result[\"detection_classes\"][0] + label_id_offset).astype(int),\n",
        "    result[\"detection_scores\"][0],\n",
        "    category_index,\n",
        "    use_normalized_coordinates=True,\n",
        "    max_boxes_to_draw=200,\n",
        "    min_score_thresh=0.30,\n",
        "    agnostic_mode=False,\n",
        "    keypoints=keypoints,\n",
        "    keypoint_scores=keypoint_scores,\n",
        "    keypoint_edges=COCO17_HUMAN_POSE_KEYPOINTS,\n",
        ")\n",
        "\n",
        "plt.figure(figsize=(24, 32))\n",
        "plt.imshow(image_np_with_detections[0])\n",
        "plt.show()"
      ]
    },
    {
      "cell_type": "markdown",
      "metadata": {
        "id": "43uTMJaQScuf"
      },
      "source": [
        "## Create a Vertex AI endpoint\n",
        "In this section we will upload the model to Google Cloud Storage and reference it inside Vertex AI for endpoints deployment"
      ]
    },
    {
      "cell_type": "code",
      "execution_count": null,
      "metadata": {
        "id": "MJg_8vLblmzQ"
      },
      "outputs": [],
      "source": [
        "!gsutil cp -r $VERTEX_MODEL_PATH $BUCKET_NAME/obj_detection_model_vertex"
      ]
    },
    {
      "cell_type": "code",
      "execution_count": null,
      "metadata": {
        "id": "HTKUaAyznRow"
      },
      "outputs": [],
      "source": [
        "!gsutil ls $BUCKET_NAME"
      ]
    },
    {
      "cell_type": "markdown",
      "metadata": {
        "id": "YKdYthMAnok9"
      },
      "source": [
        "Create a model in Vertex AI"
      ]
    },
    {
      "cell_type": "code",
      "execution_count": null,
      "metadata": {
        "id": "xKfDMn_Enqpn"
      },
      "outputs": [],
      "source": [
        "!gcloud ai models upload \\\n",
        "--region=us-central1 \\\n",
        "--project=$PROJECT_ID \\\n",
        "--display-name=object-detection \\\n",
        "--container-image-uri=us-docker.pkg.dev/vertex-ai/prediction/tf2-cpu.2-5:latest \\\n",
        "--artifact-uri=$BUCKET_NAME/obj_detection_model_vertex"
      ]
    },
    {
      "cell_type": "markdown",
      "metadata": {
        "id": "tcfjAOLUqKd-"
      },
      "source": [
        "To deploy to the endpoint, grab the model ID from the Google Cloud console >> Vertex AI >> Models.\n",
        "\n",
        "This will be used to deploy the model.\n",
        "\n",
        "![Models](data:image/png;base64,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)"
      ]
    },
    {
      "cell_type": "markdown",
      "metadata": {
        "id": "DxIgOjsltxdE"
      },
      "source": [
        "Create endpoint"
      ]
    },
    {
      "cell_type": "code",
      "execution_count": null,
      "metadata": {
        "id": "MvGJgk8TulMl"
      },
      "outputs": [],
      "source": [
        "!gcloud ai endpoints create \\\n",
        "--project=$PROJECT_ID \\\n",
        "--region=$REGION \\\n",
        "--display-name=object-detection-endpoint"
      ]
    },
    {
      "cell_type": "markdown",
      "metadata": {
        "id": "aiiHOA0luyd0"
      },
      "source": [
        "Retrieve the endpoint ID"
      ]
    },
    {
      "cell_type": "code",
      "execution_count": null,
      "metadata": {
        "id": "YdiOAc95uquk"
      },
      "outputs": [],
      "source": [
        "!gcloud ai endpoints list \\\n",
        "--project=$PROJECT_ID \\\n",
        "--region=$REGION \\\n",
        "--filter=display_name=object-detection-endpoint"
      ]
    },
    {
      "cell_type": "markdown",
      "metadata": {
        "id": "age7hMdpvMw1"
      },
      "source": [
        "**Don't forget to change the endpoint and model Ids.**"
      ]
    },
    {
      "cell_type": "code",
      "execution_count": null,
      "metadata": {
        "id": "KB3pJ-nDt0gj"
      },
      "outputs": [],
      "source": [
        "ENDPOINT_ID = \"\" # @param {type:\"string\"}\n",
        "MODEL_ID = \"\" # @param {type:\"string\"}\n",
        "!gcloud ai endpoints deploy-model $ENDPOINT_ID \\\n",
        "--project=$PROJECT_ID \\\n",
        "--region=$REGION \\\n",
        "--model=$MODEL_ID \\\n",
        "--display-name=object-detection-endpoint \\\n",
        "--traffic-split=0=100"
      ]
    },
    {
      "cell_type": "markdown",
      "metadata": {
        "id": "YcFSSWAmIevj"
      },
      "source": [
        "Write the request to a json file and call the endpoint using Curl.\n",
        "\n",
        "First we need to reduce our image memory footprint. As of Feb. 2022, Vertex AI endpoints has a maximum request size of 1.5mb. This is done to keep the containers behind endpoints from crashing during heavy load times."
      ]
    },
    {
      "cell_type": "code",
      "execution_count": null,
      "metadata": {
        "id": "hK2sGh95KtpA"
      },
      "outputs": [],
      "source": [
        "import os\n",
        "\n",
        "print(os.stat(image_path).st_size)\n",
        "\n",
        "im = Image.open(image_path)\n",
        "im.save(\"image2.jpg\", quality=95)\n",
        "print(os.stat(\"image2.jpg\").st_size)"
      ]
    },
    {
      "cell_type": "code",
      "execution_count": null,
      "metadata": {
        "id": "aOPq1R2y6AvP"
      },
      "outputs": [],
      "source": [
        "!echo {\"\\\"\"instances\"\\\"\" : [{\"\\\"\"bytes_inputs\"\\\"\" : {\"\\\"\"b64\"\\\"\" : \"\\\"\"$(base64 \"image2.jpg\")\"\\\"\"}}]} > instances.json"
      ]
    },
    {
      "cell_type": "code",
      "execution_count": null,
      "metadata": {
        "id": "HHbKrb7uw9Qn"
      },
      "outputs": [],
      "source": [
        "!curl POST  \\\n",
        "-H \"Authorization: Bearer $(gcloud auth print-access-token)\" \\\n",
        "-H \"Content-Type: application/json\" \\\n",
        "https://us-central1-aiplatform.googleapis.com/v1/projects/$PROJECT_ID/locations/us-central1/endpoints/$ENDPOINT_ID:predict \\\n",
        "-d @instances.json > results.json"
      ]
    },
    {
      "cell_type": "markdown",
      "metadata": {
        "id": "wrG91gkiFd8E"
      },
      "source": [
        "## Make Predictions using the Vertex SDK\n",
        "The Vertex SDK has convenient methods to call endpoints to make predictions.\n",
        "First, we get the serving input from the model. This is what the endpoint expects as a key for the base64 encoded image."
      ]
    },
    {
      "cell_type": "code",
      "execution_count": null,
      "metadata": {
        "id": "aPDEyXplFiOr"
      },
      "outputs": [],
      "source": [
        "# Get the input key\n",
        "serving_input = list(\n",
        "    vertex_model.signatures[\"serving_default\"].structured_input_signature[1].keys()\n",
        ")[0]\n",
        "print(\"Serving input :\", serving_input)"
      ]
    },
    {
      "cell_type": "markdown",
      "metadata": {
        "id": "OjAKDKKuJWJA"
      },
      "source": [
        "Load an endpoint object."
      ]
    },
    {
      "cell_type": "code",
      "execution_count": null,
      "metadata": {
        "id": "SZAbDHD4FlJd"
      },
      "outputs": [],
      "source": [
        "from google.cloud import aiplatform\n",
        "\n",
        "aip_endpoint_name = (\n",
        "    f\"projects/{PROJECT_ID}/locations/us-central1/endpoints/{ENDPOINT_ID}\"\n",
        ")\n",
        "endpoint = aiplatform.Endpoint(aip_endpoint_name)"
      ]
    },
    {
      "cell_type": "code",
      "execution_count": null,
      "metadata": {
        "id": "DBC_WUG7HDFe"
      },
      "outputs": [],
      "source": [
        "from google.protobuf import json_format\n",
        "from google.protobuf.struct_pb2 import Value\n",
        "\n",
        "\n",
        "# Endpoints will do the base64 decoding, so we change the function to encode the image a bit.\n",
        "def encode_image_bytes(image_path):\n",
        "    bytes = tf.io.read_file(image_path)\n",
        "    return base64.b64encode(bytes.numpy()).decode(\"utf-8\")\n",
        "\n",
        "\n",
        "instances_list = [{serving_input: {\"b64\": encode_image_bytes(\"image2.jpg\")}}]\n",
        "instances = [json_format.ParseDict(s, Value()) for s in instances_list]\n",
        "results = endpoint.predict(instances=instances)"
      ]
    },
    {
      "cell_type": "markdown",
      "metadata": {
        "id": "PRMUoG9zJg0_"
      },
      "source": [
        "View results"
      ]
    },
    {
      "cell_type": "code",
      "execution_count": null,
      "metadata": {
        "id": "ARTQn8dRHV-P"
      },
      "outputs": [],
      "source": [
        "# different object detection models have additional results\n",
        "# all of them are explained in the documentation\n",
        "prediction_results = results.predictions[0]\n",
        "result = {key: np.array([value]) for key, value in prediction_results.items()}\n",
        "\n",
        "label_id_offset = 0\n",
        "image_np_with_detections = image_np.copy()\n",
        "\n",
        "# Use keypoints if available in detections\n",
        "keypoints, keypoint_scores = None, None\n",
        "if \"detection_keypoints\" in result:\n",
        "    keypoints = result[\"detection_keypoints\"][0]\n",
        "    keypoint_scores = result[\"detection_keypoint_scores\"][0]\n",
        "\n",
        "viz_utils.visualize_boxes_and_labels_on_image_array(\n",
        "    image_np_with_detections[0],\n",
        "    result[\"detection_boxes\"][0],\n",
        "    (result[\"detection_classes\"][0] + label_id_offset).astype(int),\n",
        "    result[\"detection_scores\"][0],\n",
        "    category_index,\n",
        "    use_normalized_coordinates=True,\n",
        "    max_boxes_to_draw=200,\n",
        "    min_score_thresh=0.30,\n",
        "    agnostic_mode=False,\n",
        "    keypoints=keypoints,\n",
        "    keypoint_scores=keypoint_scores,\n",
        "    keypoint_edges=COCO17_HUMAN_POSE_KEYPOINTS,\n",
        ")\n",
        "\n",
        "plt.figure(figsize=(24, 32))\n",
        "plt.imshow(image_np_with_detections[0])\n",
        "plt.show()"
      ]
    },
    {
      "cell_type": "markdown",
      "metadata": {
        "id": "8c83b5cf6819"
      },
      "source": [
        "## Cleaning up\n",
        "\n",
        "To clean up all Google Cloud resources used in this project, you can [delete the Google Cloud\n",
        "project](https://cloud.google.com/resource-manager/docs/creating-managing-projects#shutting_down_projects) you used for the tutorial.\n",
        "\n",
        "Otherwise, you can delete the individual resources you created in this tutorial."
      ]
    },
    {
      "cell_type": "code",
      "execution_count": null,
      "metadata": {
        "id": "aokup0x_ZiJK"
      },
      "outputs": [],
      "source": [
        "%%bash --out ENDPOINT_MODEL_ID\n",
        "ENDPOINT_MODEL_ID=$(gcloud ai endpoints describe 4308018499021701120 --region=us-central1 --project=jfacevedo-project | grep \"id:\")\n",
        "ENDPOINT_MODEL_ID=`echo $ENDPOINT_MODEL_ID | cut -d' ' -f2`\n",
        "echo $ENDPOINT_MODEL_ID | tr -d \"'\""
      ]
    },
    {
      "cell_type": "code",
      "execution_count": null,
      "metadata": {
        "id": "35348dd21acd"
      },
      "outputs": [],
      "source": [
        "# Undeploy endpoint\n",
        "! gcloud ai endpoints undeploy-model $ENDPOINT_ID \\\n",
        "--project=$PROJECT_ID \\\n",
        "--region=$REGION \\\n",
        "--deployed-model-id=$ENDPOINT_MODEL_ID \\\n",
        "\n",
        "# Delete endpoint resource\n",
        "! gcloud ai endpoints delete $ENDPOINT_ID \\\n",
        "--project=$PROJECT_ID \\\n",
        "--region=$REGION \\\n",
        "--quiet\n",
        "\n",
        "# Delete model resource\n",
        "! gcloud ai models delete $MODEL_ID \\\n",
        "--project=$PROJECT_ID \\\n",
        "--region=$REGION \\\n",
        "--quiet\n",
        "\n",
        "# Delete Cloud Storage objects that were created\n",
        "#! gsutil -m rm -r $BUCKET_NAME"
      ]
    }
  ],
  "metadata": {
    "colab": {
      "collapsed_sections": [],
      "name": "deploy_tfhub_object_detection_on_vertex_endpoints.ipynb",
      "toc_visible": true
    },
    "kernelspec": {
      "display_name": "Python 3",
      "name": "python3"
    }
  },
  "nbformat": 4,
  "nbformat_minor": 0
}
