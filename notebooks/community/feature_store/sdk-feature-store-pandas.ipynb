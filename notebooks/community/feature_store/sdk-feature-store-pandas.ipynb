{
 "cells": [
  {
   "cell_type": "code",
   "execution_count": null,
   "metadata": {
    "id": "ur8xi4C7S06n"
   },
   "outputs": [],
   "source": [
    "# Copyright 2022 Google LLC\n",
    "#\n",
    "# Licensed under the Apache License, Version 2.0 (the \"License\");\n",
    "# you may not use this file except in compliance with the License.\n",
    "# You may obtain a copy of the License at\n",
    "#\n",
    "#     https://www.apache.org/licenses/LICENSE-2.0\n",
    "#\n",
    "# Unless required by applicable law or agreed to in writing, software\n",
    "# distributed under the License is distributed on an \"AS IS\" BASIS,\n",
    "# WITHOUT WARRANTIES OR CONDITIONS OF ANY KIND, either express or implied.\n",
    "# See the License for the specific language governing permissions and\n",
    "# limitations under the License."
   ]
  },
  {
   "cell_type": "markdown",
   "metadata": {
    "id": "JAPoU8Sm5E6e"
   },
   "source": [
    "<table align=\"left\">\n",
    "  <td>\n",
    "    <a href=\"https://colab.research.google.com/github/GoogleCloudPlatform/vertex-ai-samples/blob/main/notebooks/community/feature_store/sdk-feature-store-pandas.ipynb\"\">\n",
    "      <img src=\"https://cloud.google.com/ml-engine/images/colab-logo-32px.png\" alt=\"Colab logo\"> Run in Colab\n",
    "    </a>\n",
    "  </td>\n",
    "  <td>\n",
    "    <a href=\"https://github.com/GoogleCloudPlatform/vertex-ai-samples/blob/main/notebooks/community/feature_store/sdk-feature-store-pandas.ipynb\">\n",
    "      <img src=\"https://cloud.google.com/ml-engine/images/github-logo-32px.png\" alt=\"GitHub logo\">\n",
    "      View on GitHub\n",
    "    </a>\n",
    "  </td>\n",
    "</table>"
   ]
  },
  {
   "cell_type": "markdown",
   "metadata": {
    "id": "tvgnzT1CKxrO"
   },
   "source": [
    "## Overview\n",
    "\n",
    "This Colab introduces Pandas support of Vertex AI SDK Feature Store. For pre-requisite and introduction for Vertex AI SDK Feature Store native support, please see this [Colab](https://colab.sandbox.google.com/github/GoogleCloudPlatform/vertex-ai-samples/blob/main/notebooks/community/feature_store/sdk-feature-store.ipynb). "
   ]
  },
  {
   "cell_type": "markdown",
   "metadata": {
    "id": "c4ZNLaf6T0lN"
   },
   "source": [
    "\n",
    "### Dataset\n",
    "\n",
    "This Colab uses a movie recommendation dataset as an example throughout all the sessions. The dataset can be used to train a model to predict if a user is going to watch a movie and serve this model online. "
   ]
  },
  {
   "cell_type": "markdown",
   "metadata": {
    "id": "DxF5JWRVT5PP"
   },
   "source": [
    "### Objective\n",
    "\n",
    "In this notebook, you will learn how to:\n",
    "\n",
    "    * Ingest Feature Values from Pandas DataFrame into featurestore's entity types.\n",
    "    * Read Entity Feature Values from Online Feature Store into Pandas DataFrame.\n",
    "    * Batch Serve Feature Values from your featurestore to Pandas DataFrame.\n",
    "\n",
    "We will also discuss how Vertex AI Feature Store can be useful in the below scenarios:\n",
    "\n",
    "    * online serving with updated feature values\n",
    "    * point-in-time correctness to fetch feature values for training"
   ]
  },
  {
   "cell_type": "markdown",
   "metadata": {
    "id": "4W2Bj_QpT2Ud"
   },
   "source": [
    "\n",
    "### Costs \n",
    "\n",
    "This tutorial uses billable components of Google Cloud:\n",
    "\n",
    "* Vertex AI\n",
    "* Cloud BigQuery\n",
    "\n",
    "Learn about [Vertex AI\n",
    "pricing](https://cloud.google.com/vertex-ai/pricing) and [Cloud Storage\n",
    "pricing](https://cloud.google.com/storage/pricing), and use the [Pricing\n",
    "Calculator](https://cloud.google.com/products/calculator/)\n",
    "to generate a cost estimate based on your projected usage."
   ]
  },
  {
   "cell_type": "markdown",
   "metadata": {
    "id": "lWEdiXsJg0XY"
   },
   "source": [
    "## Before you begin"
   ]
  },
  {
   "cell_type": "markdown",
   "metadata": {
    "id": "i7EUnXsZhAGF"
   },
   "source": [
    "### Install additional packages\n",
    "\n",
    "For this Colab, you need the Vertex SDK for Python."
   ]
  },
  {
   "cell_type": "code",
   "execution_count": null,
   "metadata": {
    "id": "2b4ef9b72d43"
   },
   "outputs": [],
   "source": [
    "import os\n",
    "\n",
    "# The Google Cloud Notebook product has specific requirements\n",
    "IS_GOOGLE_CLOUD_NOTEBOOK = os.path.exists(\"/opt/deeplearning/metadata/env_version\")\n",
    "\n",
    "# Google Cloud Notebook requires dependencies to be installed with '--user'\n",
    "USER_FLAG = \"\"\n",
    "if IS_GOOGLE_CLOUD_NOTEBOOK:\n",
    "    USER_FLAG = \"--user\""
   ]
  },
  {
   "cell_type": "code",
   "execution_count": null,
   "metadata": {
    "id": "Kd0kgDqVZyRe"
   },
   "outputs": [],
   "source": [
    "! pip uninstall {USER_FLAG} -y google-cloud-aiplatform\n",
    "! pip uninstall {USER_FLAG} -y google-cloud-bigquery\n",
    "! pip uninstall {USER_FLAG} -y google-cloud-bigquery-storage\n",
    "! pip uninstall {USER_FLAG} -y google-cloud-aiplatform"
   ]
  },
  {
   "cell_type": "code",
   "execution_count": null,
   "metadata": {
    "id": "wUswAmpiN2l-"
   },
   "outputs": [],
   "source": [
    "! pip install {USER_FLAG} git+https://github.com/googleapis/python-aiplatform.git@refs/pull/1019/head\n",
    "! pip install {USER_FLAG} --upgrade google-cloud-bigquery\n",
    "! pip install {USER_FLAG} --upgrade google-cloud-bigquery-storage\n",
    "! pip install {USER_FLAG} avro"
   ]
  },
  {
   "cell_type": "markdown",
   "metadata": {
    "id": "hhq5zEbGg0XX"
   },
   "source": [
    "### Restart the kernel\n",
    "\n",
    "After you install the SDK, you need to restart the notebook kernel so it can find the packages. You can restart kernel from *Kernel -> Restart Kernel*, or running the following:"
   ]
  },
  {
   "cell_type": "code",
   "execution_count": null,
   "metadata": {
    "id": "EzrelQZ22IZj"
   },
   "outputs": [],
   "source": [
    "# Automatically restart kernel after installs\n",
    "import os\n",
    "\n",
    "if not os.getenv(\"IS_TESTING\"):\n",
    "    # Automatically restart kernel after installs\n",
    "    import IPython\n",
    "\n",
    "    app = IPython.Application.instance()\n",
    "    app.kernel.do_shutdown(True)"
   ]
  },
  {
   "cell_type": "markdown",
   "metadata": {
    "id": "BF1j6f9HApxa"
   },
   "source": [
    "### Set up your Google Cloud project\n",
    "\n",
    "**The following steps are required, regardless of your notebook environment.**\n",
    "\n",
    "1. [Select or create a Google Cloud project](https://console.cloud.google.com/cloud-resource-manager). When you first create an account, you get a $300 free credit towards your compute/storage costs.\n",
    "\n",
    "1. [Make sure that billing is enabled for your project](https://cloud.google.com/billing/docs/how-to/modify-project).\n",
    "\n",
    "1. [Enable the Vertex AI API and Compute Engine API](https://console.cloud.google.com/flows/enableapi?apiid=aiplatform.googleapis.com,compute_component).\n",
    "\n",
    "1. If you are running this notebook locally, you will need to install the [Cloud SDK](https://cloud.google.com/sdk).\n",
    "\n",
    "1. Enter your project ID in the cell below. Then run the cell to make sure the\n",
    "Cloud SDK uses the right project for all the commands in this notebook.\n",
    "\n",
    "**Note**: Jupyter runs lines prefixed with `!` as shell commands, and it interpolates Python variables prefixed with `$` into these commands."
   ]
  },
  {
   "cell_type": "markdown",
   "metadata": {
    "id": "WReHDGG5g0XY"
   },
   "source": [
    "#### Set your project ID\n",
    "\n",
    "**If you don't know your project ID**, you may be able to get your project ID using `gcloud`."
   ]
  },
  {
   "cell_type": "code",
   "execution_count": null,
   "metadata": {
    "id": "oM1iC_MfAts1",
    "colab": {
     "base_uri": "https://localhost:8080/"
    },
    "executionInfo": {
     "status": "ok",
     "timestamp": 1645087058702,
     "user_tz": 480,
     "elapsed": 1954,
     "user": {
      "displayName": "Morgan Du",
      "photoUrl": "https://lh3.googleusercontent.com/a-/AOh14GgiNQ8nC426hYcEASH4xml7UDD_No79WKjvqlnr=s64",
      "userId": "14071699383599295177"
     }
    },
    "outputId": "bb6ab303-1752-4eb9-92c0-3b29bffc0ea3"
   },
   "outputs": [],
   "source": [
    "import os\n",
    "\n",
    "PROJECT_ID = \"\"\n",
    "\n",
    "# Get your Google Cloud project ID from gcloud\n",
    "if not os.getenv(\"IS_TESTING\"):\n",
    "    shell_output = !gcloud config list --format 'value(core.project)' 2>/dev/null\n",
    "    PROJECT_ID = shell_output[0]\n",
    "    print(\"Project ID: \", PROJECT_ID)"
   ]
  },
  {
   "cell_type": "markdown",
   "metadata": {
    "id": "qJYoRfYng0XZ"
   },
   "source": [
    "Otherwise, set your project ID here."
   ]
  },
  {
   "cell_type": "code",
   "execution_count": null,
   "metadata": {
    "colab": {
     "base_uri": "https://localhost:8080/"
    },
    "executionInfo": {
     "elapsed": 171,
     "status": "ok",
     "timestamp": 1645087059783,
     "user": {
      "displayName": "Morgan Du",
      "photoUrl": "https://lh3.googleusercontent.com/a-/AOh14GgiNQ8nC426hYcEASH4xml7UDD_No79WKjvqlnr=s64",
      "userId": "14071699383599295177"
     },
     "user_tz": 480
    },
    "id": "riG_qUokg0XZ",
    "outputId": "89d9fd08-f58c-40fd-e7fe-e2bab275244c"
   },
   "outputs": [],
   "source": [
    "if PROJECT_ID == \"\" or PROJECT_ID is None:\n",
    "    PROJECT_ID = \"aiplatform-dev\"  # @param {type:\"string\"}\n",
    "print(\"Project ID: \", PROJECT_ID)"
   ]
  },
  {
   "cell_type": "markdown",
   "metadata": {
    "id": "dr--iN2kAylZ"
   },
   "source": [
    "### Authenticate your Google Cloud account\n",
    "\n",
    "**If you are using Google Cloud Notebooks**, your environment is already\n",
    "authenticated. Skip this step."
   ]
  },
  {
   "cell_type": "markdown",
   "metadata": {
    "id": "sBCra4QMA2wR"
   },
   "source": [
    "**If you are using Colab**, run the cell below and follow the instructions\n",
    "when prompted to authenticate your account via oAuth.\n",
    "\n",
    "**Otherwise**, follow these steps:\n",
    "\n",
    "1. In the Cloud Console, go to the [**Create service account key**\n",
    "   page](https://console.cloud.google.com/apis/credentials/serviceaccountkey).\n",
    "\n",
    "2. Click **Create service account**.\n",
    "\n",
    "3. In the **Service account name** field, enter a name, and\n",
    "   click **Create**.\n",
    "\n",
    "4. In the **Grant this service account access to project** section, click the **Role** drop-down list. Type \"Vertex AI\"\n",
    "into the filter box, and select\n",
    "   **Vertex AI Administrator**. Type \"Storage Object Admin\" into the filter box, and select **Storage Object Admin**.\n",
    "\n",
    "5. Click **Create**. A JSON file that contains your key downloads to your\n",
    "local environment.\n",
    "\n",
    "6. Enter the path to your service account key as the\n",
    "`GOOGLE_APPLICATION_CREDENTIALS` variable in the cell below and run the cell."
   ]
  },
  {
   "cell_type": "code",
   "execution_count": null,
   "metadata": {
    "id": "PyQmSRbKA8r-"
   },
   "outputs": [],
   "source": [
    "import os\n",
    "import sys\n",
    "\n",
    "# If you are running this notebook in Colab, run this cell and follow the\n",
    "# instructions to authenticate your GCP account. This provides access to your\n",
    "# Cloud Storage bucket and lets you submit training jobs and prediction\n",
    "# requests.\n",
    "\n",
    "# The Google Cloud Notebook product has specific requirements\n",
    "IS_GOOGLE_CLOUD_NOTEBOOK = os.path.exists(\"/opt/deeplearning/metadata/env_version\")\n",
    "\n",
    "# If on Google Cloud Notebooks, then don't execute this code\n",
    "if not IS_GOOGLE_CLOUD_NOTEBOOK:\n",
    "    if \"google.colab\" in sys.modules:\n",
    "        from google.colab import auth as google_auth\n",
    "\n",
    "        google_auth.authenticate_user()\n",
    "\n",
    "    # If you are running this notebook locally, replace the string below with the\n",
    "    # path to your service account key and run this cell to authenticate your GCP\n",
    "    # account.\n",
    "    elif not os.getenv(\"IS_TESTING\"):\n",
    "        %env GOOGLE_APPLICATION_CREDENTIALS ''"
   ]
  },
  {
   "cell_type": "markdown",
   "metadata": {
    "id": "XoEqT2Y4DJmf"
   },
   "source": [
    "### Import libraries and define constants"
   ]
  },
  {
   "cell_type": "code",
   "execution_count": null,
   "metadata": {
    "id": "Cdct_Lm7x2I_"
   },
   "outputs": [],
   "source": [
    "from google.cloud import aiplatform\n",
    "import pandas as pd\n",
    "\n",
    "REGION = \"us-central1\"  # @param {type:\"string\"}\n",
    "\n",
    "aiplatform.init(project=PROJECT_ID, location=REGION)"
   ]
  },
  {
   "cell_type": "markdown",
   "metadata": {
    "id": "9UvxYyGUimKw"
   },
   "source": [
    "## Create Feature Store Resources"
   ]
  },
  {
   "cell_type": "markdown",
   "metadata": {
    "id": "buQBIv3ZL3A0"
   },
   "source": [
    "### Create Featurestore\n",
    "\n",
    "The method to create a Featurestore returns a\n",
    "[long-running operation](https://google.aip.dev/151) (LRO). An LRO starts an asynchronous job. LROs are returned for other API\n",
    "methods too, such as updating or deleting a featurestore. Running the code cell will create a featurestore and print the process log."
   ]
  },
  {
   "cell_type": "code",
   "execution_count": null,
   "metadata": {
    "colab": {
     "base_uri": "https://localhost:8080/"
    },
    "executionInfo": {
     "elapsed": 7549,
     "status": "ok",
     "timestamp": 1645087073619,
     "user": {
      "displayName": "Morgan Du",
      "photoUrl": "https://lh3.googleusercontent.com/a-/AOh14GgiNQ8nC426hYcEASH4xml7UDD_No79WKjvqlnr=s64",
      "userId": "14071699383599295177"
     },
     "user_tz": 480
    },
    "id": "D6uIWQeoBSr8",
    "outputId": "2871eb0c-d5d7-4707-b05c-25da02d1c965"
   },
   "outputs": [],
   "source": [
    "movie_predictions_feature_store = aiplatform.Featurestore.create(\n",
    "    featurestore_id=\"movie_predictions\",\n",
    "    online_store_fixed_node_count=1,\n",
    ")"
   ]
  },
  {
   "cell_type": "markdown",
   "metadata": {
    "id": "EpmJq75zXjmT"
   },
   "source": [
    "### Create Entity Types\n",
    "\n",
    "Entity types can be created within the Featurestore class. Below, create the Users entity type and Movies entity type. A process log will be printed out."
   ]
  },
  {
   "cell_type": "code",
   "execution_count": null,
   "metadata": {
    "colab": {
     "base_uri": "https://localhost:8080/"
    },
    "executionInfo": {
     "elapsed": 2151,
     "status": "ok",
     "timestamp": 1645087075766,
     "user": {
      "displayName": "Morgan Du",
      "photoUrl": "https://lh3.googleusercontent.com/a-/AOh14GgiNQ8nC426hYcEASH4xml7UDD_No79WKjvqlnr=s64",
      "userId": "14071699383599295177"
     },
     "user_tz": 480
    },
    "id": "GU0oXvINBgPV",
    "outputId": "c12bd6f5-58f6-49cc-d722-aefd3bd4ad66"
   },
   "outputs": [],
   "source": [
    "users_entity_type = movie_predictions_feature_store.create_entity_type(\n",
    "    entity_type_id=\"users\",\n",
    "    description=\"Users entity\",\n",
    ")"
   ]
  },
  {
   "cell_type": "code",
   "execution_count": null,
   "metadata": {
    "colab": {
     "base_uri": "https://localhost:8080/"
    },
    "executionInfo": {
     "elapsed": 3075,
     "status": "ok",
     "timestamp": 1645087078837,
     "user": {
      "displayName": "Morgan Du",
      "photoUrl": "https://lh3.googleusercontent.com/a-/AOh14GgiNQ8nC426hYcEASH4xml7UDD_No79WKjvqlnr=s64",
      "userId": "14071699383599295177"
     },
     "user_tz": 480
    },
    "id": "qPCGFznrFwFy",
    "outputId": "4221a99e-2421-497e-b1b4-385ac83a2dad"
   },
   "outputs": [],
   "source": [
    "movies_entity_type = movie_predictions_feature_store.create_entity_type(\n",
    "    entity_type_id=\"movies\",\n",
    "    description=\"Movies entity\",\n",
    ")"
   ]
  },
  {
   "cell_type": "markdown",
   "metadata": {
    "id": "FJW4q-0jO2Xf"
   },
   "source": [
    "### Create Features\n",
    "Features can be created within each entity type. Add defining features to the Users entity type and Movies entity type by using the following methods."
   ]
  },
  {
   "cell_type": "code",
   "execution_count": null,
   "metadata": {
    "colab": {
     "base_uri": "https://localhost:8080/"
    },
    "executionInfo": {
     "elapsed": 5901,
     "status": "ok",
     "timestamp": 1645087084733,
     "user": {
      "displayName": "Morgan Du",
      "photoUrl": "https://lh3.googleusercontent.com/a-/AOh14GgiNQ8nC426hYcEASH4xml7UDD_No79WKjvqlnr=s64",
      "userId": "14071699383599295177"
     },
     "user_tz": 480
    },
    "id": "PvjwT84iVSps",
    "outputId": "78e8c915-4d47-484f-a133-7840c729d364"
   },
   "outputs": [],
   "source": [
    "users_feature_age = users_entity_type.create_feature(\n",
    "    feature_id=\"age\",\n",
    "    value_type=\"INT64\",\n",
    "    description=\"User age\",\n",
    ")\n",
    "\n",
    "users_feature_gender = users_entity_type.create_feature(\n",
    "    feature_id=\"gender\",\n",
    "    value_type=\"STRING\",\n",
    "    description=\"User gender\",\n",
    ")\n",
    "\n",
    "users_feature_liked_genres = users_entity_type.create_feature(\n",
    "    feature_id=\"liked_genres\",\n",
    "    value_type=\"STRING_ARRAY\",\n",
    "    description=\"An array of genres this user liked\",\n",
    ")"
   ]
  },
  {
   "cell_type": "code",
   "execution_count": null,
   "metadata": {
    "id": "llTT9_Dgbac2"
   },
   "outputs": [],
   "source": [
    "movies_feature_configs = {\n",
    "    \"title\": {\n",
    "        \"value_type\": \"STRING\",\n",
    "        \"description\": \"The title of the movie\",\n",
    "    },\n",
    "    \"genres\": {\n",
    "        \"value_type\": \"STRING\",\n",
    "        \"description\": \"The genre of the movie\",\n",
    "    },\n",
    "    \"average_rating\": {\n",
    "        \"value_type\": \"DOUBLE\",\n",
    "        \"description\": \"The average rating for the movie, range is [1.0-5.0]\",\n",
    "    },\n",
    "}"
   ]
  },
  {
   "cell_type": "code",
   "execution_count": null,
   "metadata": {
    "colab": {
     "base_uri": "https://localhost:8080/"
    },
    "executionInfo": {
     "elapsed": 1953,
     "status": "ok",
     "timestamp": 1645087086672,
     "user": {
      "displayName": "Morgan Du",
      "photoUrl": "https://lh3.googleusercontent.com/a-/AOh14GgiNQ8nC426hYcEASH4xml7UDD_No79WKjvqlnr=s64",
      "userId": "14071699383599295177"
     },
     "user_tz": 480
    },
    "id": "YhfOKJL_BvuM",
    "outputId": "188ad256-091e-4523-f67a-82f194e23084"
   },
   "outputs": [],
   "source": [
    "movie_features = movies_entity_type.batch_create_features(\n",
    "    feature_configs=movies_feature_configs,\n",
    ")"
   ]
  },
  {
   "cell_type": "markdown",
   "metadata": {
    "id": "K3n5XdK8Xjmw"
   },
   "source": [
    "## Ingest Feature Values from Pandas DataFrame\n",
    "\n",
    "You need to import feature values before you can use them for online/offline serving. In this step, you will learn how to import feature values by ingesting the values from a Pandas DataFrame. We can also import feature values from BigQuery or Google Cloud Storage.\n"
   ]
  },
  {
   "cell_type": "markdown",
   "metadata": {
    "id": "BlqJ-QdTcs6W"
   },
   "source": [
    "### Source Data"
   ]
  },
  {
   "cell_type": "code",
   "execution_count": null,
   "metadata": {
    "id": "_uNrHqiGXrff"
   },
   "outputs": [],
   "source": [
    "users_avro_fn = \"users.avro\"\n",
    "movies_avro_fn = \"movies.avro\""
   ]
  },
  {
   "cell_type": "code",
   "execution_count": null,
   "metadata": {
    "colab": {
     "base_uri": "https://localhost:8080/"
    },
    "executionInfo": {
     "elapsed": 3499,
     "status": "ok",
     "timestamp": 1645087090167,
     "user": {
      "displayName": "Morgan Du",
      "photoUrl": "https://lh3.googleusercontent.com/a-/AOh14GgiNQ8nC426hYcEASH4xml7UDD_No79WKjvqlnr=s64",
      "userId": "14071699383599295177"
     },
     "user_tz": 480
    },
    "id": "er2bve3BXRDq",
    "outputId": "25e22b6a-2f99-46de-94eb-d65c7cd6bee0"
   },
   "outputs": [],
   "source": [
    "! gsutil cp gs://cloud-samples-data-us-central1/vertex-ai/feature-store/datasets/users.avro $users_avro_fn\n",
    "! gsutil cp gs://cloud-samples-data-us-central1/vertex-ai/feature-store/datasets/movies.avro $movies_avro_fn"
   ]
  },
  {
   "cell_type": "code",
   "execution_count": null,
   "metadata": {
    "id": "KKuXK2XuW7NP"
   },
   "outputs": [],
   "source": [
    "from avro.datafile import DataFileReader\n",
    "from avro.io import DatumReader\n",
    "\n",
    "class AvroReader:\n",
    "  def __init__(self, data_file):\n",
    "    self.avro_reader = DataFileReader(open(data_file, \"rb\"), DatumReader())\n",
    "  \n",
    "  def to_dataframe(self):\n",
    "    records = [record for record in self.avro_reader]\n",
    "    return pd.DataFrame.from_records(data=records)"
   ]
  },
  {
   "cell_type": "code",
   "execution_count": null,
   "metadata": {
    "colab": {
     "base_uri": "https://localhost:8080/",
     "height": 269
    },
    "executionInfo": {
     "elapsed": 6,
     "status": "ok",
     "timestamp": 1645087090330,
     "user": {
      "displayName": "Morgan Du",
      "photoUrl": "https://lh3.googleusercontent.com/a-/AOh14GgiNQ8nC426hYcEASH4xml7UDD_No79WKjvqlnr=s64",
      "userId": "14071699383599295177"
     },
     "user_tz": 480
    },
    "id": "KrB7bnqbZYaC",
    "outputId": "f5110315-3251-4769-e06a-7043f71d5e9f"
   },
   "outputs": [],
   "source": [
    "users_avro_reader = AvroReader(data_file=users_avro_fn)\n",
    "users_source_df = users_avro_reader.to_dataframe()\n",
    "users_source_df"
   ]
  },
  {
   "cell_type": "code",
   "execution_count": null,
   "metadata": {
    "colab": {
     "base_uri": "https://localhost:8080/",
     "height": 175
    },
    "executionInfo": {
     "elapsed": 5,
     "status": "ok",
     "timestamp": 1645087090331,
     "user": {
      "displayName": "Morgan Du",
      "photoUrl": "https://lh3.googleusercontent.com/a-/AOh14GgiNQ8nC426hYcEASH4xml7UDD_No79WKjvqlnr=s64",
      "userId": "14071699383599295177"
     },
     "user_tz": 480
    },
    "id": "qAbKJLSJZtDm",
    "outputId": "c66dc548-9f23-451b-c8cf-4fa1b6b67d04"
   },
   "outputs": [],
   "source": [
    "movies_avro_reader = AvroReader(data_file=movies_avro_fn)\n",
    "movies_source_df = movies_avro_reader.to_dataframe()\n",
    "movies_source_df"
   ]
  },
  {
   "cell_type": "markdown",
   "metadata": {
    "id": "m7DyDa6chbJx"
   },
   "source": [
    "### Ingest feature values for Users entity type"
   ]
  },
  {
   "cell_type": "code",
   "execution_count": null,
   "metadata": {
    "colab": {
     "base_uri": "https://localhost:8080/"
    },
    "executionInfo": {
     "elapsed": 368247,
     "status": "ok",
     "timestamp": 1645087470207,
     "user": {
      "displayName": "Morgan Du",
      "photoUrl": "https://lh3.googleusercontent.com/a-/AOh14GgiNQ8nC426hYcEASH4xml7UDD_No79WKjvqlnr=s64",
      "userId": "14071699383599295177"
     },
     "user_tz": 480
    },
    "id": "x86Dtg0Vu-uf",
    "outputId": "aa12026e-d082-4b7b-a4f5-27aea5bc912a"
   },
   "outputs": [],
   "source": [
    "users_entity_type.ingest_from_df(\n",
    "    feature_ids=[\"age\", \"gender\", \"liked_genres\"],\n",
    "    feature_time=\"update_time\",\n",
    "    df_source=users_source_df,\n",
    "    entity_id_field=\"user_id\",\n",
    ")"
   ]
  },
  {
   "cell_type": "markdown",
   "metadata": {
    "id": "laXdJPIqkLJO"
   },
   "source": [
    "### Ingest feature values for Movies entity type"
   ]
  },
  {
   "cell_type": "code",
   "execution_count": null,
   "metadata": {
    "colab": {
     "base_uri": "https://localhost:8080/"
    },
    "executionInfo": {
     "elapsed": 345308,
     "status": "ok",
     "timestamp": 1645087883375,
     "user": {
      "displayName": "Morgan Du",
      "photoUrl": "https://lh3.googleusercontent.com/a-/AOh14GgiNQ8nC426hYcEASH4xml7UDD_No79WKjvqlnr=s64",
      "userId": "14071699383599295177"
     },
     "user_tz": 480
    },
    "id": "Q4mMBRTc1Xpx",
    "outputId": "f1582d89-b438-4f7c-9f51-de8e0e3ff603"
   },
   "outputs": [],
   "source": [
    "movies_entity_type.ingest_from_df(\n",
    "    feature_ids=[\"average_rating\", \"title\", \"genres\"],\n",
    "    feature_time=\"update_time\",\n",
    "    df_source=movies_source_df,\n",
    "    entity_id_field=\"movie_id\",\n",
    ")"
   ]
  },
  {
   "cell_type": "markdown",
   "metadata": {
    "id": "9TdxPYdDXjnA"
   },
   "source": [
    "## Read Entity Feature Values from Online Feature Store"
   ]
  },
  {
   "cell_type": "code",
   "execution_count": null,
   "metadata": {
    "id": "084G80L_DWwd",
    "colab": {
     "base_uri": "https://localhost:8080/",
     "height": 206
    },
    "executionInfo": {
     "status": "ok",
     "timestamp": 1645087883930,
     "user_tz": 480,
     "elapsed": 559,
     "user": {
      "displayName": "Morgan Du",
      "photoUrl": "https://lh3.googleusercontent.com/a-/AOh14GgiNQ8nC426hYcEASH4xml7UDD_No79WKjvqlnr=s64",
      "userId": "14071699383599295177"
     }
    },
    "outputId": "62fc1658-9252-4773-cba2-0a497cd5ebab"
   },
   "outputs": [],
   "source": [
    "users_read_df = users_entity_type.read(\n",
    "    entity_ids=[\"dave\", \"alice\", \"charlie\", \"bob\", \"eve\"], \n",
    ")\n",
    "users_read_df"
   ]
  },
  {
   "cell_type": "code",
   "execution_count": null,
   "metadata": {
    "colab": {
     "base_uri": "https://localhost:8080/",
     "height": 175
    },
    "executionInfo": {
     "elapsed": 476,
     "status": "ok",
     "timestamp": 1645087884404,
     "user": {
      "displayName": "Morgan Du",
      "photoUrl": "https://lh3.googleusercontent.com/a-/AOh14GgiNQ8nC426hYcEASH4xml7UDD_No79WKjvqlnr=s64",
      "userId": "14071699383599295177"
     },
     "user_tz": 480
    },
    "id": "qrR-SY3i58rh",
    "outputId": "10e2ab6a-2830-4ed4-f828-4210fa9977db"
   },
   "outputs": [],
   "source": [
    "movies_read_df = movies_entity_type.read(\n",
    "    entity_ids=[\"movie_01\", \"movie_02\", \"movie_03\", \"movie_04\"], \n",
    "    feature_ids=[\"title\", \"genres\", \"average_rating\"]\n",
    ")\n",
    "movies_read_df"
   ]
  },
  {
   "cell_type": "markdown",
   "metadata": {
    "id": "WpvhPAYxD-Ml"
   },
   "source": [
    "## Batch Serve Feature Values from the Featurestore\n"
   ]
  },
  {
   "cell_type": "code",
   "execution_count": null,
   "metadata": {
    "id": "T1T79ic8LLuN"
   },
   "outputs": [],
   "source": [
    "read_instances_csv_fn = \"movie_prediction.csv\""
   ]
  },
  {
   "cell_type": "code",
   "execution_count": null,
   "metadata": {
    "colab": {
     "base_uri": "https://localhost:8080/"
    },
    "executionInfo": {
     "elapsed": 1978,
     "status": "ok",
     "timestamp": 1645087886380,
     "user": {
      "displayName": "Morgan Du",
      "photoUrl": "https://lh3.googleusercontent.com/a-/AOh14GgiNQ8nC426hYcEASH4xml7UDD_No79WKjvqlnr=s64",
      "userId": "14071699383599295177"
     },
     "user_tz": 480
    },
    "id": "6B2hfPasK_T3",
    "outputId": "9aca0c02-5dbd-446c-9a61-46879e5b975f"
   },
   "outputs": [],
   "source": [
    "! gsutil cp gs://cloud-samples-data-us-central1/vertex-ai/feature-store/datasets/movie_prediction.csv $read_instances_csv_fn"
   ]
  },
  {
   "cell_type": "code",
   "execution_count": null,
   "metadata": {
    "colab": {
     "base_uri": "https://localhost:8080/",
     "height": 237
    },
    "executionInfo": {
     "elapsed": 12,
     "status": "ok",
     "timestamp": 1645087886381,
     "user": {
      "displayName": "Morgan Du",
      "photoUrl": "https://lh3.googleusercontent.com/a-/AOh14GgiNQ8nC426hYcEASH4xml7UDD_No79WKjvqlnr=s64",
      "userId": "14071699383599295177"
     },
     "user_tz": 480
    },
    "id": "-6za-lSJMLua",
    "outputId": "3289c284-90c7-481b-9b49-4c281a84d3d2"
   },
   "outputs": [],
   "source": [
    "read_instances_df = pd.read_csv(read_instances_csv_fn)\n",
    "read_instances_df"
   ]
  },
  {
   "cell_type": "code",
   "execution_count": null,
   "metadata": {
    "colab": {
     "base_uri": "https://localhost:8080/"
    },
    "executionInfo": {
     "elapsed": 11,
     "status": "ok",
     "timestamp": 1645087886382,
     "user": {
      "displayName": "Morgan Du",
      "photoUrl": "https://lh3.googleusercontent.com/a-/AOh14GgiNQ8nC426hYcEASH4xml7UDD_No79WKjvqlnr=s64",
      "userId": "14071699383599295177"
     },
     "user_tz": 480
    },
    "id": "nKGHWtaIMesq",
    "outputId": "2bb9c26c-83ac-4ad1-eff9-caf1483ca5cb"
   },
   "outputs": [],
   "source": [
    "print(\"before: \", read_instances_df[\"timestamp\"].dtype)\n",
    "read_instances_df = read_instances_df.astype({\"timestamp\": \"datetime64\"})\n",
    "print(\"after:  \", read_instances_df[\"timestamp\"].dtype)"
   ]
  },
  {
   "cell_type": "code",
   "execution_count": null,
   "metadata": {
    "colab": {
     "base_uri": "https://localhost:8080/",
     "height": 475
    },
    "executionInfo": {
     "elapsed": 60836,
     "status": "ok",
     "timestamp": 1645087947210,
     "user": {
      "displayName": "Morgan Du",
      "photoUrl": "https://lh3.googleusercontent.com/a-/AOh14GgiNQ8nC426hYcEASH4xml7UDD_No79WKjvqlnr=s64",
      "userId": "14071699383599295177"
     },
     "user_tz": 480
    },
    "id": "VsAaLGyHRYll",
    "outputId": "35cc82cf-1e33-4d31-adb3-9a8fcf9c2546"
   },
   "outputs": [],
   "source": [
    "movie_predictions_df = movie_predictions_feature_store.batch_serve_to_df(\n",
    "    serving_feature_ids={\n",
    "        \"users\": [\"age\", \"gender\", \"liked_genres\"],\n",
    "        \"movies\": [\"title\", \"average_rating\", \"genres\"],\n",
    "      },\n",
    "    read_instances_df=read_instances_df,\n",
    ")\n",
    "movie_predictions_df"
   ]
  },
  {
   "cell_type": "markdown",
   "metadata": {
    "id": "HRjAQXx_Yg9-"
   },
   "source": [
    "## Online Serving with Updated Feature Values"
   ]
  },
  {
   "cell_type": "code",
   "execution_count": null,
   "metadata": {
    "id": "aMBb2_mtlTcq",
    "colab": {
     "base_uri": "https://localhost:8080/",
     "height": 175
    },
    "executionInfo": {
     "status": "ok",
     "timestamp": 1645087947380,
     "user_tz": 480,
     "elapsed": 172,
     "user": {
      "displayName": "Morgan Du",
      "photoUrl": "https://lh3.googleusercontent.com/a-/AOh14GgiNQ8nC426hYcEASH4xml7UDD_No79WKjvqlnr=s64",
      "userId": "14071699383599295177"
     }
    },
    "outputId": "dab64a8b-5ef1-45df-d3a1-31c6ce41259b"
   },
   "outputs": [],
   "source": [
    "# last read\n",
    "movies_read_df"
   ]
  },
  {
   "cell_type": "code",
   "execution_count": null,
   "metadata": {
    "id": "fvBlYFYHb1DI",
    "colab": {
     "base_uri": "https://localhost:8080/",
     "height": 112
    },
    "executionInfo": {
     "status": "ok",
     "timestamp": 1645087947380,
     "user_tz": 480,
     "elapsed": 5,
     "user": {
      "displayName": "Morgan Du",
      "photoUrl": "https://lh3.googleusercontent.com/a-/AOh14GgiNQ8nC426hYcEASH4xml7UDD_No79WKjvqlnr=s64",
      "userId": "14071699383599295177"
     }
    },
    "outputId": "bb303fc2-0d5f-48b8-9524-5b8f628b3522"
   },
   "outputs": [],
   "source": [
    "update_movies_df = pd.DataFrame(\n",
    "    data=[[\"movie_03\", 4.3], [\"movie_04\", 4.8]],\n",
    "    columns=[\"movie_id\", \"average_rating\"],\n",
    ")\n",
    "update_movies_df"
   ]
  },
  {
   "cell_type": "code",
   "execution_count": null,
   "metadata": {
    "colab": {
     "base_uri": "https://localhost:8080/"
    },
    "id": "3njvLv2wbZok",
    "executionInfo": {
     "status": "ok",
     "timestamp": 1645088309392,
     "user_tz": 480,
     "elapsed": 362016,
     "user": {
      "displayName": "Morgan Du",
      "photoUrl": "https://lh3.googleusercontent.com/a-/AOh14GgiNQ8nC426hYcEASH4xml7UDD_No79WKjvqlnr=s64",
      "userId": "14071699383599295177"
     }
    },
    "outputId": "1751f005-5710-4fab-beab-67d1d09bb49d"
   },
   "outputs": [],
   "source": [
    "import datetime\n",
    "movies_entity_type.ingest_from_df(\n",
    "    feature_ids=[\"average_rating\"],\n",
    "    feature_time=datetime.datetime.now(),\n",
    "    df_source=update_movies_df,\n",
    "    entity_id_field=\"movie_id\",\n",
    ")"
   ]
  },
  {
   "cell_type": "code",
   "execution_count": null,
   "metadata": {
    "colab": {
     "base_uri": "https://localhost:8080/",
     "height": 175
    },
    "id": "L4QgD5-Vb8z-",
    "executionInfo": {
     "status": "ok",
     "timestamp": 1645088309858,
     "user_tz": 480,
     "elapsed": 471,
     "user": {
      "displayName": "Morgan Du",
      "photoUrl": "https://lh3.googleusercontent.com/a-/AOh14GgiNQ8nC426hYcEASH4xml7UDD_No79WKjvqlnr=s64",
      "userId": "14071699383599295177"
     }
    },
    "outputId": "5b8dfebe-2e95-440d-bfe2-f9c6278fb9e7"
   },
   "outputs": [],
   "source": [
    "update_movies_read_df = movies_entity_type.read(\n",
    "    entity_ids=[\"movie_01\", \"movie_02\", \"movie_03\", \"movie_04\"], \n",
    "    feature_ids=[\"title\", \"genres\", \"average_rating\"]\n",
    ")\n",
    "update_movies_read_df"
   ]
  },
  {
   "cell_type": "markdown",
   "metadata": {
    "id": "zBIOu6c0YDZE"
   },
   "source": [
    "## Point-in-Time Correctness"
   ]
  },
  {
   "cell_type": "code",
   "execution_count": null,
   "metadata": {
    "colab": {
     "base_uri": "https://localhost:8080/",
     "height": 423
    },
    "id": "zux4BrTrtMwu",
    "executionInfo": {
     "status": "ok",
     "timestamp": 1645088309859,
     "user_tz": 480,
     "elapsed": 8,
     "user": {
      "displayName": "Morgan Du",
      "photoUrl": "https://lh3.googleusercontent.com/a-/AOh14GgiNQ8nC426hYcEASH4xml7UDD_No79WKjvqlnr=s64",
      "userId": "14071699383599295177"
     }
    },
    "outputId": "4671c5a0-6b01-457e-d2e2-9107a82c1af0"
   },
   "outputs": [],
   "source": [
    "# last batch serve\n",
    "movie_predictions_df"
   ]
  },
  {
   "cell_type": "code",
   "execution_count": null,
   "metadata": {
    "colab": {
     "base_uri": "https://localhost:8080/",
     "height": 80
    },
    "id": "iZFseHf_kf5M",
    "executionInfo": {
     "status": "ok",
     "timestamp": 1645088309860,
     "user_tz": 480,
     "elapsed": 8,
     "user": {
      "displayName": "Morgan Du",
      "photoUrl": "https://lh3.googleusercontent.com/a-/AOh14GgiNQ8nC426hYcEASH4xml7UDD_No79WKjvqlnr=s64",
      "userId": "14071699383599295177"
     }
    },
    "outputId": "8677c5c9-e819-497e-cc45-2e6446dd84dc"
   },
   "outputs": [],
   "source": [
    "backfill_users_df = pd.DataFrame(\n",
    "    data=[[\"bob\", 34, \"Male\", [\"Drama\"], \"2020-02-13 09:35:15\"]],\n",
    "    columns=[\"user_id\", \"age\", \"gender\", \"liked_genres\", \"update_time\"],\n",
    ")\n",
    "backfill_users_df = backfill_users_df.astype({\"update_time\": \"datetime64\"})\n",
    "backfill_users_df"
   ]
  },
  {
   "cell_type": "code",
   "execution_count": null,
   "metadata": {
    "id": "t04ENfhwbktS",
    "colab": {
     "base_uri": "https://localhost:8080/"
    },
    "executionInfo": {
     "status": "ok",
     "timestamp": 1645088662495,
     "user_tz": 480,
     "elapsed": 352642,
     "user": {
      "displayName": "Morgan Du",
      "photoUrl": "https://lh3.googleusercontent.com/a-/AOh14GgiNQ8nC426hYcEASH4xml7UDD_No79WKjvqlnr=s64",
      "userId": "14071699383599295177"
     }
    },
    "outputId": "de3b8f5e-858d-4a33-a840-fdadf94b54fd"
   },
   "outputs": [],
   "source": [
    "users_entity_type.ingest_from_df(\n",
    "    feature_ids=[\"age\", \"gender\", \"liked_genres\"],\n",
    "    feature_time=\"update_time\",\n",
    "    df_source=backfill_users_df,\n",
    "    entity_id_field=\"user_id\",\n",
    ")"
   ]
  },
  {
   "cell_type": "code",
   "execution_count": null,
   "metadata": {
    "id": "7ti15fcUkRg8",
    "colab": {
     "base_uri": "https://localhost:8080/",
     "height": 80
    },
    "executionInfo": {
     "status": "ok",
     "timestamp": 1645088662495,
     "user_tz": 480,
     "elapsed": 7,
     "user": {
      "displayName": "Morgan Du",
      "photoUrl": "https://lh3.googleusercontent.com/a-/AOh14GgiNQ8nC426hYcEASH4xml7UDD_No79WKjvqlnr=s64",
      "userId": "14071699383599295177"
     }
    },
    "outputId": "ee832365-be5d-4aa4-85e0-5636bdcd9412"
   },
   "outputs": [],
   "source": [
    "backfill_movies_df = pd.DataFrame(\n",
    "    data=[[\"movie_04\", 4.2,\t\"The Dark Knight\", \"Action\", \"2020-02-13 09:35:15\"]],\n",
    "    columns=[\"movie_id\", \"average_rating\", \"title\", \"genres\", \"update_time\"],\n",
    ")\n",
    "backfill_movies_df = backfill_movies_df.astype({\"update_time\": \"datetime64\"})\n",
    "backfill_movies_df"
   ]
  },
  {
   "cell_type": "code",
   "execution_count": null,
   "metadata": {
    "id": "L18v7Mp7kmSd",
    "colab": {
     "base_uri": "https://localhost:8080/"
    },
    "executionInfo": {
     "status": "ok",
     "timestamp": 1645089076621,
     "user_tz": 480,
     "elapsed": 414131,
     "user": {
      "displayName": "Morgan Du",
      "photoUrl": "https://lh3.googleusercontent.com/a-/AOh14GgiNQ8nC426hYcEASH4xml7UDD_No79WKjvqlnr=s64",
      "userId": "14071699383599295177"
     }
    },
    "outputId": "3e8874fd-dc4c-4bd1-81ac-660ec2111472"
   },
   "outputs": [],
   "source": [
    "movies_entity_type.ingest_from_df(\n",
    "    feature_ids=[\"average_rating\", \"title\", \"genres\"],\n",
    "    feature_time=\"update_time\",\n",
    "    df_source=backfill_movies_df,\n",
    "    entity_id_field=\"movie_id\",\n",
    ")"
   ]
  },
  {
   "cell_type": "code",
   "execution_count": null,
   "metadata": {
    "id": "Y2z51sqjM6w0",
    "colab": {
     "base_uri": "https://localhost:8080/",
     "height": 475
    },
    "executionInfo": {
     "status": "ok",
     "timestamp": 1645089133745,
     "user_tz": 480,
     "elapsed": 57139,
     "user": {
      "displayName": "Morgan Du",
      "photoUrl": "https://lh3.googleusercontent.com/a-/AOh14GgiNQ8nC426hYcEASH4xml7UDD_No79WKjvqlnr=s64",
      "userId": "14071699383599295177"
     }
    },
    "outputId": "2a7fdbb1-3d0c-4071-e146-17ceee0cbb51"
   },
   "outputs": [],
   "source": [
    "backfill_movie_predictions_df = movie_predictions_feature_store.batch_serve_to_df(\n",
    "    serving_feature_ids={\n",
    "        \"users\": [\"age\", \"gender\", \"liked_genres\"],\n",
    "        \"movies\": [\"title\", \"average_rating\", \"genres\"],\n",
    "      },\n",
    "    read_instances_df=read_instances_df,\n",
    ")\n",
    "backfill_movie_predictions_df"
   ]
  },
  {
   "cell_type": "markdown",
   "metadata": {
    "id": "TpV-iwP9qw9c"
   },
   "source": [
    "## Cleaning up\n",
    "\n",
    "To clean up all Google Cloud resources used in this project, you can [delete the Google Cloud\n",
    "project](https://cloud.google.com/resource-manager/docs/creating-managing-projects#shutting_down_projects) you used for the tutorial.\n",
    "\n",
    "You can also keep the project but delete the featurestore by running the code below:"
   ]
  },
  {
   "cell_type": "code",
   "execution_count": null,
   "metadata": {
    "id": "NBTNfN8vxz4x"
   },
   "outputs": [],
   "source": [
    "movie_predictions_feature_store.delete(force=True)"
   ]
  }
 ],
 "metadata": {
  "colab": {
   "collapsed_sections": [],
   "name": "Copy of sdk-feature-store-pandas.ipynb",
   "provenance": [
    {
     "file_id": "1L7faiQuxfcco00tXfrD6R5pK-wRpR6HB",
     "timestamp": 1645114918157
    },
    {
     "file_id": "https://github.com/GoogleCloudPlatform/vertex-ai-samples/blob/main/notebooks/community/feature_store/sdk-feature-store.ipynb",
     "timestamp": 1645057893011
    }
   ],
   "toc_visible": true
  },
  "kernelspec": {
   "display_name": "Python 3",
   "name": "python3"
  }
 },
 "nbformat": 4,
 "nbformat_minor": 0
}