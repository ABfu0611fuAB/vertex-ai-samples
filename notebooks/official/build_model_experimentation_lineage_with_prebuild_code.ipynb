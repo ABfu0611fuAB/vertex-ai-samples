{
 "cells": [
  {
   "cell_type": "markdown",
   "id": "6c3fb9b4",
   "metadata": {
    "tags": [
     "papermill-error-cell-tag"
    ]
   },
   "source": [
    "<span style=\"color:red; font-family:Helvetica Neue, Helvetica, Arial, sans-serif; font-size:2em;\">An Exception was encountered at '<a href=\"#papermill-error-cell\">In [25]</a>'.</span>"
   ]
  },
  {
   "cell_type": "code",
   "execution_count": 1,
   "id": "64490efe",
   "metadata": {
    "execution": {
     "iopub.execute_input": "2022-06-23T17:50:34.294892Z",
     "iopub.status.busy": "2022-06-23T17:50:34.294209Z",
     "iopub.status.idle": "2022-06-23T17:50:34.299528Z",
     "shell.execute_reply": "2022-06-23T17:50:34.298774Z"
    },
    "id": "ur8xi4C7S06n",
    "papermill": {
     "duration": 0.02265,
     "end_time": "2022-06-23T17:50:34.301427",
     "exception": false,
     "start_time": "2022-06-23T17:50:34.278777",
     "status": "completed"
    },
    "tags": []
   },
   "outputs": [],
   "source": [
    "# Copyright 2022 Google LLC\n",
    "#\n",
    "# Licensed under the Apache License, Version 2.0 (the \"License\");\n",
    "# you may not use this file except in compliance with the License.\n",
    "# You may obtain a copy of the License at\n",
    "#\n",
    "#     https://www.apache.org/licenses/LICENSE-2.0\n",
    "#\n",
    "# Unless required by applicable law or agreed to in writing, software\n",
    "# distributed under the License is distributed on an \"AS IS\" BASIS,\n",
    "# WITHOUT WARRANTIES OR CONDITIONS OF ANY KIND, either express or implied.\n",
    "# See the License for the specific language governing permissions and\n",
    "# limitations under the License."
   ]
  },
  {
   "cell_type": "markdown",
   "id": "36cd253d",
   "metadata": {
    "id": "JAPoU8Sm5E6e",
    "papermill": {
     "duration": 0.010274,
     "end_time": "2022-06-23T17:50:34.322501",
     "exception": false,
     "start_time": "2022-06-23T17:50:34.312227",
     "status": "completed"
    },
    "tags": []
   },
   "source": [
    "<table align=\"left\">\n",
    "\n",
    "  <td>\n",
    "    <a href=\"https://colab.research.google.com/github/GoogleCloudPlatform/vertex-ai-samples/blob/main/notebooks/official/experiments/build_model_experimentation_lineage_with_prebuild_code.ipynb\">\n",
    "      <img src=\"https://cloud.google.com/ml-engine/images/colab-logo-32px.png\" alt=\"Colab logo\"> Run in Colab\n",
    "    </a>\n",
    "  </td>\n",
    "  <td>\n",
    "    <a href=\"https://github.com/GoogleCloudPlatform/vertex-ai-samples/blob/main/notebooks/official/experiments/build_model_experimentation_lineage_with_prebuild_code.ipynb\">\n",
    "      <img src=\"https://cloud.google.com/ml-engine/images/github-logo-32px.png\" alt=\"GitHub logo\">\n",
    "      View on GitHub\n",
    "    </a>\n",
    "  </td>\n",
    "  <td>\n",
    "    <a href=\"https://console.cloud.google.com/vertex-ai/workbench/deploy-notebook?download_url=https://github.com/GoogleCloudPlatform/vertex-ai-samples/blob/main/notebooks/official/experiments/build_model_experimentation_lineage_with_prebuild_code.ipynb\">\n",
    "      <img src=\"https://lh3.googleusercontent.com/UiNooY4LUgW_oTvpsNhPpQzsstV5W8F7rYgxgGBD85cWJoLmrOzhVs_ksK_vgx40SHs7jCqkTkCk=e14-rj-sc0xffffff-h130-w32\" alt=\"Vertex AI logo\">\n",
    "      Open in Vertex AI Workbench\n",
    "    </a>\n",
    "  </td>                                                                                               \n",
    "</table>"
   ]
  },
  {
   "cell_type": "markdown",
   "id": "0be994ce",
   "metadata": {
    "id": "tvgnzT1CKxrO",
    "papermill": {
     "duration": 0.010185,
     "end_time": "2022-06-23T17:50:34.342733",
     "exception": false,
     "start_time": "2022-06-23T17:50:34.332548",
     "status": "completed"
    },
    "tags": []
   },
   "source": [
    "## Overview\n",
    "\n",
    "As a Data Scientist, you want to be able to reuse code path (data preprocessing, feature engineering etc...) that others within your team have written to simplify and standardize all the complex data wrangling. \n",
    "\n",
    "### Dataset\n",
    "\n",
    "This dataset is the UCI News Aggregator Data Set which contains 422,937 news collected between March 10th, 2014 and August 10th, 2014. Below are example records from the dataset:\n",
    "\n",
    "\n",
    "|ID |TITLE                                                                |URL                                                                                                                        |PUBLISHER        |CATEGORY|STORY                        |HOSTNAME           |TIMESTAMP    |\n",
    "|---|---------------------------------------------------------------------|---------------------------------------------------------------------------------------------------------------------------|-----------------|--------|-----------------------------|-------------------|-------------|\n",
    "|1  |Fed official says weak data caused by weather, should not slow taper |http://www.latimes.com/business/money/la-fi-mo-federal-reserve-plosser-stimulus-economy-20140310,0,1312750.story\\?track=rss|Los Angeles Times|b       |ddUyU0VZz0BRneMioxUPQVP6sIxvM|www.latimes.com    |1394470370698|\n",
    "|2  |Fed's Charles Plosser sees high bar for change in pace of tapering   |http://www.livemint.com/Politics/H2EvwJSK2VE6OF7iK1g3PP/Feds-Charles-Plosser-sees-high-bar-for-change-in-pace-of-ta.html   |Livemint         |b       |ddUyU0VZz0BRneMioxUPQVP6sIxvM|www.livemint.com   |1394470371207|\n",
    "|3  |US open: Stocks fall after Fed official hints at accelerated tapering|http://www.ifamagazine.com/news/us-open-stocks-fall-after-fed-official-hints-at-accelerated-tapering-294436                |IFA Magazine     |b       |ddUyU0VZz0BRneMioxUPQVP6sIxvM|www.ifamagazine.com|1394470371550|\n",
    "|4  |Fed risks falling 'behind the curve', Charles Plosser says           |http://www.ifamagazine.com/news/fed-risks-falling-behind-the-curve-charles-plosser-says-294430                             |IFA Magazine     |b       |ddUyU0VZz0BRneMioxUPQVP6sIxvM|www.ifamagazine.com|1394470371793|\n",
    "|5  |Fed's Plosser: Nasty Weather Has Curbed Job Growth                   |http://www.moneynews.com/Economy/federal-reserve-charles-plosser-weather-job-growth/2014/03/10/id/557011                   |Moneynews        |b       |ddUyU0VZz0BRneMioxUPQVP6sIxvM|www.moneynews.com  |1394470372027|\n",
    "\n",
    "\n",
    "### Objective\n",
    "\n",
    "In this notebook, you learn how to integrate preprocessing code in a Vertex AI experiments. Also you will build the experiment lineage lets you record, analyze, debug, and audit metadata and artifacts produced along your ML journey.\n",
    "\n",
    "### Costs \n",
    "\n",
    "This tutorial uses billable components of Google Cloud:\n",
    "\n",
    "* Vertex AI\n",
    "* Cloud Storage\n",
    "\n",
    "Learn about [Vertex AI\n",
    "pricing](https://cloud.google.com/vertex-ai/pricing) and [Cloud Storage\n",
    "pricing](https://cloud.google.com/storage/pricing), and use the [Pricing\n",
    "Calculator](https://cloud.google.com/products/calculator/)\n",
    "to generate a cost estimate based on your projected usage."
   ]
  },
  {
   "cell_type": "markdown",
   "id": "5b65e308",
   "metadata": {
    "id": "ze4-nDLfK4pw",
    "papermill": {
     "duration": 0.010202,
     "end_time": "2022-06-23T17:50:34.363043",
     "exception": false,
     "start_time": "2022-06-23T17:50:34.352841",
     "status": "completed"
    },
    "tags": []
   },
   "source": [
    "### Set up your local development environment\n",
    "\n",
    "**If you are using Colab or Vertex AI Workbench Notebooks**, your environment already meets\n",
    "all the requirements to run this notebook. You can skip this step."
   ]
  },
  {
   "cell_type": "markdown",
   "id": "abdb3d53",
   "metadata": {
    "id": "gCuSR8GkAgzl",
    "papermill": {
     "duration": 0.010105,
     "end_time": "2022-06-23T17:50:34.383365",
     "exception": false,
     "start_time": "2022-06-23T17:50:34.373260",
     "status": "completed"
    },
    "tags": []
   },
   "source": [
    "**Otherwise**, make sure your environment meets this notebook's requirements.\n",
    "You need the following:\n",
    "\n",
    "* The Google Cloud SDK\n",
    "* Git\n",
    "* Python 3\n",
    "* virtualenv\n",
    "* Jupyter notebook running in a virtual environment with Python 3\n",
    "\n",
    "The Google Cloud guide to [Setting up a Python development\n",
    "environment](https://cloud.google.com/python/setup) and the [Jupyter\n",
    "installation guide](https://jupyter.org/install) provide detailed instructions\n",
    "for meeting these requirements. The following steps provide a condensed set of\n",
    "instructions:\n",
    "\n",
    "1. [Install and initialize the Cloud SDK.](https://cloud.google.com/sdk/docs/)\n",
    "\n",
    "1. [Install Python 3.](https://cloud.google.com/python/setup#installing_python)\n",
    "\n",
    "1. [Install\n",
    "   virtualenv](https://cloud.google.com/python/setup#installing_and_using_virtualenv)\n",
    "   and create a virtual environment that uses Python 3. Activate the virtual environment.\n",
    "\n",
    "1. To install Jupyter, run `pip3 install jupyter` on the\n",
    "command-line in a terminal shell.\n",
    "\n",
    "1. To launch Jupyter, run `jupyter notebook` on the command-line in a terminal shell.\n",
    "\n",
    "1. Open this notebook in the Jupyter Notebook Dashboard."
   ]
  },
  {
   "cell_type": "markdown",
   "id": "7ac69e89",
   "metadata": {
    "id": "i7EUnXsZhAGF",
    "papermill": {
     "duration": 0.010084,
     "end_time": "2022-06-23T17:50:34.403530",
     "exception": false,
     "start_time": "2022-06-23T17:50:34.393446",
     "status": "completed"
    },
    "tags": []
   },
   "source": [
    "### Install additional packages\n",
    "\n",
    "Install additional package dependencies not installed in your notebook environment, such as TensorFlow or Vertex AI SDK. Use the latest major GA version of each package."
   ]
  },
  {
   "cell_type": "code",
   "execution_count": 2,
   "id": "12c8ed16",
   "metadata": {
    "execution": {
     "iopub.execute_input": "2022-06-23T17:50:34.426380Z",
     "iopub.status.busy": "2022-06-23T17:50:34.425673Z",
     "iopub.status.idle": "2022-06-23T17:51:44.321627Z",
     "shell.execute_reply": "2022-06-23T17:51:44.320645Z"
    },
    "id": "2b4ef9b72d43",
    "papermill": {
     "duration": 69.910242,
     "end_time": "2022-06-23T17:51:44.324062",
     "exception": false,
     "start_time": "2022-06-23T17:50:34.413820",
     "status": "completed"
    },
    "tags": []
   },
   "outputs": [
    {
     "name": "stdout",
     "output_type": "stream",
     "text": [
      "\u001b[33mWARNING: Running pip as the 'root' user can result in broken permissions and conflicting behaviour with the system package manager. It is recommended to use a virtual environment instead: https://pip.pypa.io/warnings/venv\u001b[0m\u001b[33m\r\n",
      "\u001b[0m"
     ]
    },
    {
     "name": "stdout",
     "output_type": "stream",
     "text": [
      "\u001b[33mWARNING: Running pip as the 'root' user can result in broken permissions and conflicting behaviour with the system package manager. It is recommended to use a virtual environment instead: https://pip.pypa.io/warnings/venv\u001b[0m\u001b[33m\r\n",
      "\u001b[0m"
     ]
    },
    {
     "name": "stdout",
     "output_type": "stream",
     "text": [
      "\u001b[33mWARNING: Running pip as the 'root' user can result in broken permissions and conflicting behaviour with the system package manager. It is recommended to use a virtual environment instead: https://pip.pypa.io/warnings/venv\u001b[0m\u001b[33m\r\n",
      "\u001b[0m"
     ]
    }
   ],
   "source": [
    "import os\n",
    "\n",
    "# The Vertex AI Workbench Notebook product has specific requirements\n",
    "IS_WORKBENCH_NOTEBOOK = os.getenv(\"DL_ANACONDA_HOME\")\n",
    "IS_USER_MANAGED_WORKBENCH_NOTEBOOK = os.path.exists(\n",
    "    \"/opt/deeplearning/metadata/env_version\"\n",
    ")\n",
    "\n",
    "# Vertex AI Notebook requires dependencies to be installed with '--user'\n",
    "USER_FLAG = \"\"\n",
    "if IS_WORKBENCH_NOTEBOOK:\n",
    "    USER_FLAG = \"--user\"\n",
    "\n",
    "! pip3 install {USER_FLAG} --upgrade fsspec==2022.3.0 gcsfs==2022.3.0 pandas==1.3.5 tensorflow==2.8.0 joblib==1.1.0 -q\n",
    "! pip3 install {USER_FLAG} --force-reinstall git+https://github.com/googleapis/python-aiplatform@main -q\n",
    "! pip3 install {USER_FLAG} --upgrade python-dateutil==2.8.2 -q"
   ]
  },
  {
   "cell_type": "markdown",
   "id": "d2aab9fe",
   "metadata": {
    "id": "hhq5zEbGg0XX",
    "papermill": {
     "duration": 0.010952,
     "end_time": "2022-06-23T17:51:44.345904",
     "exception": false,
     "start_time": "2022-06-23T17:51:44.334952",
     "status": "completed"
    },
    "tags": []
   },
   "source": [
    "### Restart the kernel\n",
    "\n",
    "After you install the additional packages, you need to restart the notebook kernel so it can find the packages."
   ]
  },
  {
   "cell_type": "code",
   "execution_count": 3,
   "id": "f041916e",
   "metadata": {
    "execution": {
     "iopub.execute_input": "2022-06-23T17:51:44.369475Z",
     "iopub.status.busy": "2022-06-23T17:51:44.369082Z",
     "iopub.status.idle": "2022-06-23T17:51:44.374723Z",
     "shell.execute_reply": "2022-06-23T17:51:44.373762Z"
    },
    "id": "EzrelQZ22IZj",
    "papermill": {
     "duration": 0.020031,
     "end_time": "2022-06-23T17:51:44.376656",
     "exception": false,
     "start_time": "2022-06-23T17:51:44.356625",
     "status": "completed"
    },
    "tags": []
   },
   "outputs": [],
   "source": [
    "# Automatically restart kernel after installs\n",
    "import os\n",
    "\n",
    "if not os.getenv(\"IS_TESTING\"):\n",
    "    # Automatically restart kernel after installs\n",
    "    import IPython\n",
    "\n",
    "    app = IPython.Application.instance()\n",
    "    app.kernel.do_shutdown(True)"
   ]
  },
  {
   "cell_type": "markdown",
   "id": "12d92446",
   "metadata": {
    "id": "lWEdiXsJg0XY",
    "papermill": {
     "duration": 0.010306,
     "end_time": "2022-06-23T17:51:44.397372",
     "exception": false,
     "start_time": "2022-06-23T17:51:44.387066",
     "status": "completed"
    },
    "tags": []
   },
   "source": [
    "## Before you begin"
   ]
  },
  {
   "cell_type": "markdown",
   "id": "e8b310ae",
   "metadata": {
    "id": "BF1j6f9HApxa",
    "papermill": {
     "duration": 0.010252,
     "end_time": "2022-06-23T17:51:44.417779",
     "exception": false,
     "start_time": "2022-06-23T17:51:44.407527",
     "status": "completed"
    },
    "tags": []
   },
   "source": [
    "### Set up your Google Cloud project\n",
    "\n",
    "**The following steps are required, regardless of your notebook environment.**\n",
    "\n",
    "1. [Select or create a Google Cloud project](https://console.cloud.google.com/cloud-resource-manager). When you first create an account, you get a $300 free credit towards your compute/storage costs.\n",
    "\n",
    "1. [Make sure that billing is enabled for your project](https://cloud.google.com/billing/docs/how-to/modify-project).\n",
    "\n",
    "1. [Enable the Vertex AI API](https://console.cloud.google.com/flows/enableapi?apiid=aiplatform.googleapis.com).\n",
    "\n",
    "1. If you are running this notebook locally, you will need to install the [Cloud SDK](https://cloud.google.com/sdk).\n",
    "\n",
    "1. Enter your project ID in the cell below. Then run the cell to make sure the\n",
    "Cloud SDK uses the right project for all the commands in this notebook.\n",
    "\n",
    "**Note**: Jupyter runs lines prefixed with `!` as shell commands, and it interpolates Python variables prefixed with `$` into these commands."
   ]
  },
  {
   "cell_type": "markdown",
   "id": "698bafa6",
   "metadata": {
    "id": "WReHDGG5g0XY",
    "papermill": {
     "duration": 0.01023,
     "end_time": "2022-06-23T17:51:44.438171",
     "exception": false,
     "start_time": "2022-06-23T17:51:44.427941",
     "status": "completed"
    },
    "tags": []
   },
   "source": [
    "#### Set your project ID\n",
    "\n",
    "**If you don't know your project ID**, you may be able to get your project ID using `gcloud`."
   ]
  },
  {
   "cell_type": "code",
   "execution_count": 4,
   "id": "9314c839",
   "metadata": {
    "execution": {
     "iopub.execute_input": "2022-06-23T17:51:44.460802Z",
     "iopub.status.busy": "2022-06-23T17:51:44.460452Z",
     "iopub.status.idle": "2022-06-23T17:51:44.466479Z",
     "shell.execute_reply": "2022-06-23T17:51:44.465562Z"
    },
    "id": "oM1iC_MfAts1",
    "papermill": {
     "duration": 0.019684,
     "end_time": "2022-06-23T17:51:44.468530",
     "exception": false,
     "start_time": "2022-06-23T17:51:44.448846",
     "status": "completed"
    },
    "tags": []
   },
   "outputs": [],
   "source": [
    "import os\n",
    "\n",
    "PROJECT_ID = \"\"\n",
    "\n",
    "# Get your Google Cloud project ID from gcloud\n",
    "if not os.getenv(\"IS_TESTING\"):\n",
    "    shell_output = !gcloud config list --format 'value(core.project)' 2>/dev/null\n",
    "    PROJECT_ID = shell_output[0]\n",
    "    print(\"Project ID: \", PROJECT_ID)"
   ]
  },
  {
   "cell_type": "markdown",
   "id": "8af03fb6",
   "metadata": {
    "id": "qJYoRfYng0XZ",
    "papermill": {
     "duration": 0.010377,
     "end_time": "2022-06-23T17:51:44.489689",
     "exception": false,
     "start_time": "2022-06-23T17:51:44.479312",
     "status": "completed"
    },
    "tags": []
   },
   "source": [
    "Otherwise, set your project ID here."
   ]
  },
  {
   "cell_type": "code",
   "execution_count": 5,
   "id": "80dc3479",
   "metadata": {
    "execution": {
     "iopub.execute_input": "2022-06-23T17:51:44.512350Z",
     "iopub.status.busy": "2022-06-23T17:51:44.511679Z",
     "iopub.status.idle": "2022-06-23T17:51:44.516072Z",
     "shell.execute_reply": "2022-06-23T17:51:44.515282Z"
    },
    "id": "riG_qUokg0XZ",
    "papermill": {
     "duration": 0.017886,
     "end_time": "2022-06-23T17:51:44.517873",
     "exception": false,
     "start_time": "2022-06-23T17:51:44.499987",
     "status": "completed"
    },
    "tags": []
   },
   "outputs": [],
   "source": [
    "if PROJECT_ID == \"\" or PROJECT_ID is None:\n",
    "    PROJECT_ID = \"python-docs-samples-tests\"  # @param {type:\"string\"}"
   ]
  },
  {
   "cell_type": "code",
   "execution_count": 6,
   "id": "4704cdc4",
   "metadata": {
    "execution": {
     "iopub.execute_input": "2022-06-23T17:51:44.540721Z",
     "iopub.status.busy": "2022-06-23T17:51:44.539850Z",
     "iopub.status.idle": "2022-06-23T17:51:45.945439Z",
     "shell.execute_reply": "2022-06-23T17:51:45.944532Z"
    },
    "id": "wJyyYlKGYqaa",
    "papermill": {
     "duration": 1.419673,
     "end_time": "2022-06-23T17:51:45.947861",
     "exception": false,
     "start_time": "2022-06-23T17:51:44.528188",
     "status": "completed"
    },
    "tags": []
   },
   "outputs": [
    {
     "name": "stdout",
     "output_type": "stream",
     "text": [
      "Updated property [core/project].\r\n"
     ]
    },
    {
     "name": "stdout",
     "output_type": "stream",
     "text": [
      "\r\n",
      "\r\n",
      "Updates are available for some Cloud SDK components.  To install them,\r\n",
      "please run:\r\n",
      "  $ gcloud components update\r\n",
      "\r\n"
     ]
    }
   ],
   "source": [
    "!gcloud config set project $PROJECT_ID"
   ]
  },
  {
   "cell_type": "markdown",
   "id": "b482da00",
   "metadata": {
    "id": "88dd74c4c84e",
    "papermill": {
     "duration": 0.027099,
     "end_time": "2022-06-23T17:51:45.986826",
     "exception": false,
     "start_time": "2022-06-23T17:51:45.959727",
     "status": "completed"
    },
    "tags": []
   },
   "source": [
    "#### Region\n",
    "\n",
    "You can also change the `REGION` variable, which is used for operations\n",
    "throughout the rest of this notebook.  Below are regions supported for Vertex AI. We recommend that you choose the region closest to you.\n",
    "\n",
    "- Americas: `us-central1`\n",
    "- Europe: `europe-west4`\n",
    "- Asia Pacific: `asia-east1`\n",
    "\n",
    "You may not use a multi-regional bucket for training with Vertex AI. Not all regions provide support for all Vertex AI services.\n",
    "\n",
    "Learn more about [Vertex AI regions](https://cloud.google.com/vertex-ai/docs/general/locations)."
   ]
  },
  {
   "cell_type": "code",
   "execution_count": 7,
   "id": "0ec90529",
   "metadata": {
    "execution": {
     "iopub.execute_input": "2022-06-23T17:51:46.012592Z",
     "iopub.status.busy": "2022-06-23T17:51:46.011849Z",
     "iopub.status.idle": "2022-06-23T17:51:46.016305Z",
     "shell.execute_reply": "2022-06-23T17:51:46.015654Z"
    },
    "id": "5c615e53149f",
    "papermill": {
     "duration": 0.01968,
     "end_time": "2022-06-23T17:51:46.018393",
     "exception": false,
     "start_time": "2022-06-23T17:51:45.998713",
     "status": "completed"
    },
    "tags": []
   },
   "outputs": [],
   "source": [
    "REGION = \"us-central1\"  # @param {type: \"string\"}\n",
    "\n",
    "if REGION == \"us-central1\":\n",
    "    REGION = \"us-central1\""
   ]
  },
  {
   "cell_type": "markdown",
   "id": "7214a3b1",
   "metadata": {
    "id": "06571eb4063b",
    "papermill": {
     "duration": 0.01181,
     "end_time": "2022-06-23T17:51:46.042045",
     "exception": false,
     "start_time": "2022-06-23T17:51:46.030235",
     "status": "completed"
    },
    "tags": []
   },
   "source": [
    "#### Timestamp\n",
    "\n",
    "If you are in a live tutorial session, you might be using a shared test account or project. To avoid name collisions between users on resources created, you create a timestamp for each instance session, and append it onto the name of resources you create in this tutorial."
   ]
  },
  {
   "cell_type": "code",
   "execution_count": 8,
   "id": "e2bc16f8",
   "metadata": {
    "execution": {
     "iopub.execute_input": "2022-06-23T17:51:46.066920Z",
     "iopub.status.busy": "2022-06-23T17:51:46.066547Z",
     "iopub.status.idle": "2022-06-23T17:51:46.070825Z",
     "shell.execute_reply": "2022-06-23T17:51:46.069933Z"
    },
    "id": "697568e92bd6",
    "papermill": {
     "duration": 0.019684,
     "end_time": "2022-06-23T17:51:46.072992",
     "exception": false,
     "start_time": "2022-06-23T17:51:46.053308",
     "status": "completed"
    },
    "tags": []
   },
   "outputs": [],
   "source": [
    "from datetime import datetime\n",
    "\n",
    "TIMESTAMP = datetime.now().strftime(\"%Y%m%d%H%M%S\")"
   ]
  },
  {
   "cell_type": "markdown",
   "id": "f4caa7ed",
   "metadata": {
    "id": "dr--iN2kAylZ",
    "papermill": {
     "duration": 0.011858,
     "end_time": "2022-06-23T17:51:46.096596",
     "exception": false,
     "start_time": "2022-06-23T17:51:46.084738",
     "status": "completed"
    },
    "tags": []
   },
   "source": [
    "### Authenticate your Google Cloud account\n",
    "\n",
    "**If you are using Vertex AI Workbench Notebooks**, your environment is already\n",
    "authenticated. Skip this step."
   ]
  },
  {
   "cell_type": "markdown",
   "id": "2e0a85be",
   "metadata": {
    "id": "sBCra4QMA2wR",
    "papermill": {
     "duration": 0.011476,
     "end_time": "2022-06-23T17:51:46.119580",
     "exception": false,
     "start_time": "2022-06-23T17:51:46.108104",
     "status": "completed"
    },
    "tags": []
   },
   "source": [
    "**If you are using Colab**, run the cell below and follow the instructions\n",
    "when prompted to authenticate your account via oAuth.\n",
    "\n",
    "**Otherwise**, follow these steps:\n",
    "\n",
    "1. In the Cloud Console, go to the [**Create service account key**\n",
    "   page](https://console.cloud.google.com/apis/credentials/serviceaccountkey).\n",
    "\n",
    "2. Click **Create service account**.\n",
    "\n",
    "3. In the **Service account name** field, enter a name, and\n",
    "   click **Create**.\n",
    "\n",
    "4. In the **Grant this service account access to project** section, click the **Role** drop-down list. Type \"Vertex AI\"\n",
    "into the filter box, and select\n",
    "   **Vertex AI Administrator**. Type \"Storage Object Admin\" into the filter box, and select **Storage Object Admin**.\n",
    "\n",
    "5. Click *Create*. A JSON file that contains your key downloads to your\n",
    "local environment.\n",
    "\n",
    "6. Enter the path to your service account key as the\n",
    "`GOOGLE_APPLICATION_CREDENTIALS` variable in the cell below and run the cell."
   ]
  },
  {
   "cell_type": "code",
   "execution_count": 9,
   "id": "c6c53ca5",
   "metadata": {
    "execution": {
     "iopub.execute_input": "2022-06-23T17:51:46.144414Z",
     "iopub.status.busy": "2022-06-23T17:51:46.144060Z",
     "iopub.status.idle": "2022-06-23T17:51:46.151069Z",
     "shell.execute_reply": "2022-06-23T17:51:46.150249Z"
    },
    "id": "PyQmSRbKA8r-",
    "papermill": {
     "duration": 0.022128,
     "end_time": "2022-06-23T17:51:46.153142",
     "exception": false,
     "start_time": "2022-06-23T17:51:46.131014",
     "status": "completed"
    },
    "tags": []
   },
   "outputs": [],
   "source": [
    "# If you are running this notebook in Colab, run this cell and follow the\n",
    "# instructions to authenticate your GCP account. This provides access to your\n",
    "# Cloud Storage bucket and lets you submit training jobs and prediction\n",
    "# requests.\n",
    "\n",
    "import os\n",
    "import sys\n",
    "\n",
    "# If on Vertex AI Workbench, then don't execute this code\n",
    "\n",
    "IS_COLAB = False\n",
    "\n",
    "if not os.path.exists(\"/opt/deeplearning/metadata/env_version\") and not os.getenv(\n",
    "    \"DL_ANACONDA_HOME\"\n",
    "):\n",
    "    if \"google.colab\" in sys.modules:\n",
    "\n",
    "        IS_COLAB = True\n",
    "\n",
    "        from google.colab import auth as google_auth\n",
    "\n",
    "        google_auth.authenticate_user()\n",
    "\n",
    "    # If you are running this notebook locally, replace the string below with the\n",
    "    # path to your service account key and run this cell to authenticate your GCP\n",
    "    # account.\n",
    "\n",
    "    elif not os.getenv(\"IS_TESTING\"):\n",
    "\n",
    "        %env GOOGLE_APPLICATION_CREDENTIALS ''"
   ]
  },
  {
   "cell_type": "markdown",
   "id": "115aa7ff",
   "metadata": {
    "id": "zgPO1eR3CYjk",
    "papermill": {
     "duration": 0.011364,
     "end_time": "2022-06-23T17:51:46.176024",
     "exception": false,
     "start_time": "2022-06-23T17:51:46.164660",
     "status": "completed"
    },
    "tags": []
   },
   "source": [
    "### Create a Cloud Storage bucket\n",
    "\n",
    "**The following steps are required, regardless of your notebook environment.**\n",
    "\n",
    "When you initialize the Vertex SDK for Python, you specify a Cloud Storage staging bucket. The staging bucket is where all the data associated with your dataset and model resources are retained across sessions.\n",
    "\n",
    "Set the name of your Cloud Storage bucket below. Bucket names must be globally unique across all Google Cloud projects, including those outside of your organization."
   ]
  },
  {
   "cell_type": "code",
   "execution_count": 10,
   "id": "f7f8bc8a",
   "metadata": {
    "execution": {
     "iopub.execute_input": "2022-06-23T17:51:46.199891Z",
     "iopub.status.busy": "2022-06-23T17:51:46.199335Z",
     "iopub.status.idle": "2022-06-23T17:51:46.202977Z",
     "shell.execute_reply": "2022-06-23T17:51:46.202308Z"
    },
    "id": "MzGDU7TWdts_",
    "papermill": {
     "duration": 0.01769,
     "end_time": "2022-06-23T17:51:46.204759",
     "exception": false,
     "start_time": "2022-06-23T17:51:46.187069",
     "status": "completed"
    },
    "tags": []
   },
   "outputs": [],
   "source": [
    "BUCKET_NAME = \"[your-bucket-name]\"  # @param {type:\"string\"}\n",
    "BUCKET_URI = f\"gs://{BUCKET_NAME}\""
   ]
  },
  {
   "cell_type": "code",
   "execution_count": 11,
   "id": "b99cf8ce",
   "metadata": {
    "execution": {
     "iopub.execute_input": "2022-06-23T17:51:46.227841Z",
     "iopub.status.busy": "2022-06-23T17:51:46.227493Z",
     "iopub.status.idle": "2022-06-23T17:51:46.232257Z",
     "shell.execute_reply": "2022-06-23T17:51:46.231451Z"
    },
    "id": "cf221059d072",
    "papermill": {
     "duration": 0.018848,
     "end_time": "2022-06-23T17:51:46.234260",
     "exception": false,
     "start_time": "2022-06-23T17:51:46.215412",
     "status": "completed"
    },
    "tags": []
   },
   "outputs": [],
   "source": [
    "if BUCKET_NAME == \"\" or BUCKET_NAME is None or BUCKET_NAME == \"[your-bucket-name]\":\n",
    "    BUCKET_NAME = PROJECT_ID + \"aip-\" + TIMESTAMP\n",
    "    BUCKET_URI = f\"gs://{BUCKET_NAME}\""
   ]
  },
  {
   "cell_type": "markdown",
   "id": "a28b30b5",
   "metadata": {
    "id": "-EcIXiGsCePi",
    "papermill": {
     "duration": 0.010809,
     "end_time": "2022-06-23T17:51:46.255983",
     "exception": false,
     "start_time": "2022-06-23T17:51:46.245174",
     "status": "completed"
    },
    "tags": []
   },
   "source": [
    "**Only if your bucket doesn't already exist**: Run the following cell to create your Cloud Storage bucket."
   ]
  },
  {
   "cell_type": "code",
   "execution_count": 12,
   "id": "492fe1ad",
   "metadata": {
    "execution": {
     "iopub.execute_input": "2022-06-23T17:51:46.279597Z",
     "iopub.status.busy": "2022-06-23T17:51:46.278835Z",
     "iopub.status.idle": "2022-06-23T17:51:48.840623Z",
     "shell.execute_reply": "2022-06-23T17:51:48.839542Z"
    },
    "id": "NIq7R4HZCfIc",
    "papermill": {
     "duration": 2.576378,
     "end_time": "2022-06-23T17:51:48.843080",
     "exception": false,
     "start_time": "2022-06-23T17:51:46.266702",
     "status": "completed"
    },
    "tags": []
   },
   "outputs": [
    {
     "name": "stdout",
     "output_type": "stream",
     "text": [
      "Creating gs://python-docs-samples-testsaip-20220623175146/...\r\n"
     ]
    }
   ],
   "source": [
    "! gsutil mb -l $REGION -p $PROJECT_ID $BUCKET_URI"
   ]
  },
  {
   "cell_type": "markdown",
   "id": "66d26cec",
   "metadata": {
    "id": "ucvCsknMCims",
    "papermill": {
     "duration": 0.010986,
     "end_time": "2022-06-23T17:51:48.865252",
     "exception": false,
     "start_time": "2022-06-23T17:51:48.854266",
     "status": "completed"
    },
    "tags": []
   },
   "source": [
    "Finally, validate access to your Cloud Storage bucket by examining its contents:"
   ]
  },
  {
   "cell_type": "code",
   "execution_count": 13,
   "id": "3757e05c",
   "metadata": {
    "execution": {
     "iopub.execute_input": "2022-06-23T17:51:48.888915Z",
     "iopub.status.busy": "2022-06-23T17:51:48.888351Z",
     "iopub.status.idle": "2022-06-23T17:51:50.780689Z",
     "shell.execute_reply": "2022-06-23T17:51:50.779717Z"
    },
    "id": "vhOb7YnwClBb",
    "papermill": {
     "duration": 1.907112,
     "end_time": "2022-06-23T17:51:50.783170",
     "exception": false,
     "start_time": "2022-06-23T17:51:48.876058",
     "status": "completed"
    },
    "tags": []
   },
   "outputs": [],
   "source": [
    "! gsutil ls -al $BUCKET_URI"
   ]
  },
  {
   "cell_type": "markdown",
   "id": "d43d766c",
   "metadata": {
    "id": "0ljjTziu90rZ",
    "papermill": {
     "duration": 0.010931,
     "end_time": "2022-06-23T17:51:50.805423",
     "exception": false,
     "start_time": "2022-06-23T17:51:50.794492",
     "status": "completed"
    },
    "tags": []
   },
   "source": [
    "### Set project folder"
   ]
  },
  {
   "cell_type": "code",
   "execution_count": 14,
   "id": "7d5cc54d",
   "metadata": {
    "execution": {
     "iopub.execute_input": "2022-06-23T17:51:50.829885Z",
     "iopub.status.busy": "2022-06-23T17:51:50.828949Z",
     "iopub.status.idle": "2022-06-23T17:51:50.833741Z",
     "shell.execute_reply": "2022-06-23T17:51:50.832821Z"
    },
    "id": "AARD6Fsr-DSi",
    "papermill": {
     "duration": 0.019142,
     "end_time": "2022-06-23T17:51:50.835602",
     "exception": false,
     "start_time": "2022-06-23T17:51:50.816460",
     "status": "completed"
    },
    "tags": []
   },
   "outputs": [],
   "source": [
    "DATA_PATH = \"data\""
   ]
  },
  {
   "cell_type": "code",
   "execution_count": 15,
   "id": "7b7cdb88",
   "metadata": {
    "execution": {
     "iopub.execute_input": "2022-06-23T17:51:50.859343Z",
     "iopub.status.busy": "2022-06-23T17:51:50.858946Z",
     "iopub.status.idle": "2022-06-23T17:51:51.516984Z",
     "shell.execute_reply": "2022-06-23T17:51:51.515800Z"
    },
    "id": "oigzvA4m937q",
    "papermill": {
     "duration": 0.673065,
     "end_time": "2022-06-23T17:51:51.519542",
     "exception": false,
     "start_time": "2022-06-23T17:51:50.846477",
     "status": "completed"
    },
    "tags": []
   },
   "outputs": [],
   "source": [
    "!mkdir -m 777 -p {DATA_PATH}"
   ]
  },
  {
   "cell_type": "markdown",
   "id": "a6e926d4",
   "metadata": {
    "id": "UTjfRk2I9CGO",
    "papermill": {
     "duration": 0.010999,
     "end_time": "2022-06-23T17:51:51.541809",
     "exception": false,
     "start_time": "2022-06-23T17:51:51.530810",
     "status": "completed"
    },
    "tags": []
   },
   "source": [
    "### Get the data"
   ]
  },
  {
   "cell_type": "code",
   "execution_count": 16,
   "id": "c826efa7",
   "metadata": {
    "execution": {
     "iopub.execute_input": "2022-06-23T17:51:51.565834Z",
     "iopub.status.busy": "2022-06-23T17:51:51.565465Z",
     "iopub.status.idle": "2022-06-23T17:51:51.569976Z",
     "shell.execute_reply": "2022-06-23T17:51:51.569109Z"
    },
    "id": "3V6W2nIo9FtL",
    "papermill": {
     "duration": 0.019233,
     "end_time": "2022-06-23T17:51:51.571919",
     "exception": false,
     "start_time": "2022-06-23T17:51:51.552686",
     "status": "completed"
    },
    "tags": []
   },
   "outputs": [],
   "source": [
    "DATASET_URL = \"https://archive.ics.uci.edu/ml/machine-learning-databases/00359/NewsAggregatorDataset.zip\""
   ]
  },
  {
   "cell_type": "code",
   "execution_count": 17,
   "id": "b8c90b8a",
   "metadata": {
    "execution": {
     "iopub.execute_input": "2022-06-23T17:51:51.595896Z",
     "iopub.status.busy": "2022-06-23T17:51:51.595534Z",
     "iopub.status.idle": "2022-06-23T17:51:56.360096Z",
     "shell.execute_reply": "2022-06-23T17:51:56.359048Z"
    },
    "id": "L4tPQ0lG9HoG",
    "papermill": {
     "duration": 4.779395,
     "end_time": "2022-06-23T17:51:56.362480",
     "exception": false,
     "start_time": "2022-06-23T17:51:51.583085",
     "status": "completed"
    },
    "tags": []
   },
   "outputs": [
    {
     "name": "stdout",
     "output_type": "stream",
     "text": [
      "--2022-06-23 17:51:52--  https://archive.ics.uci.edu/ml/machine-learning-databases/00359/NewsAggregatorDataset.zip\r\n",
      "Resolving archive.ics.uci.edu (archive.ics.uci.edu)... "
     ]
    },
    {
     "name": "stdout",
     "output_type": "stream",
     "text": [
      "128.195.10.252\r\n",
      "Connecting to archive.ics.uci.edu (archive.ics.uci.edu)|128.195.10.252|:443... "
     ]
    },
    {
     "name": "stdout",
     "output_type": "stream",
     "text": [
      "connected.\r\n"
     ]
    },
    {
     "name": "stdout",
     "output_type": "stream",
     "text": [
      "HTTP request sent, awaiting response... "
     ]
    },
    {
     "name": "stdout",
     "output_type": "stream",
     "text": [
      "200 OK\r\n",
      "Length: 29224203 (28M) [application/x-httpd-php]\r\n",
      "Saving to: ‘data/NewsAggregatorDataset.zip’\r\n",
      "\r\n",
      "\r",
      "          NewsAggre   0%[                    ]       0  --.-KB/s               "
     ]
    },
    {
     "name": "stdout",
     "output_type": "stream",
     "text": [
      "\r",
      "         NewsAggreg   0%[                    ] 194.00K   970KB/s               "
     ]
    },
    {
     "name": "stdout",
     "output_type": "stream",
     "text": [
      "\r",
      "        NewsAggrega  11%[=>                  ]   3.19M  7.96MB/s               "
     ]
    },
    {
     "name": "stdout",
     "output_type": "stream",
     "text": [
      "\r",
      "       NewsAggregat  53%[=========>          ]  14.94M  24.9MB/s               "
     ]
    },
    {
     "name": "stdout",
     "output_type": "stream",
     "text": [
      "\r",
      "      NewsAggregato  95%[==================> ]  26.64M  33.3MB/s               \r",
      "NewsAggregatorDatas 100%[===================>]  27.87M  33.3MB/s    in 0.8s    \r\n",
      "\r\n",
      "2022-06-23 17:51:53 (33.3 MB/s) - ‘data/NewsAggregatorDataset.zip’ saved [29224203/29224203]\r\n",
      "\r\n"
     ]
    },
    {
     "name": "stdout",
     "output_type": "stream",
     "text": [
      "Archive:  data/NewsAggregatorDataset.zip\r\n",
      "  inflating: data/temp/2pageSessions.csv  \r\n",
      "   creating: data/temp/__MACOSX/\r\n",
      "  inflating: data/temp/__MACOSX/._2pageSessions.csv  \r\n",
      "  inflating: data/temp/newsCorpora.csv  "
     ]
    },
    {
     "name": "stdout",
     "output_type": "stream",
     "text": [
      "\r\n",
      "  inflating: data/temp/__MACOSX/._newsCorpora.csv  \r\n",
      "  inflating: data/temp/readme.txt    \r\n",
      "  inflating: data/temp/__MACOSX/._readme.txt  \r\n"
     ]
    }
   ],
   "source": [
    "!wget --no-parent {DATASET_URL} --directory-prefix={DATA_PATH}\n",
    "!mkdir -m 777 -p {DATA_PATH}/temp {DATA_PATH}/raw\n",
    "!unzip {DATA_PATH}/*.zip -d {DATA_PATH}/temp\n",
    "!mv {DATA_PATH}/temp/*.csv {DATA_PATH}/raw && rm -Rf {DATA_PATH}/temp && rm -f {DATA_PATH}/*.zip"
   ]
  },
  {
   "cell_type": "code",
   "execution_count": 18,
   "id": "98842dde",
   "metadata": {
    "execution": {
     "iopub.execute_input": "2022-06-23T17:51:56.390818Z",
     "iopub.status.busy": "2022-06-23T17:51:56.390002Z",
     "iopub.status.idle": "2022-06-23T17:52:00.374935Z",
     "shell.execute_reply": "2022-06-23T17:52:00.373671Z"
    },
    "id": "N-chqqLJAOpM",
    "papermill": {
     "duration": 4.001483,
     "end_time": "2022-06-23T17:52:00.377492",
     "exception": false,
     "start_time": "2022-06-23T17:51:56.376009",
     "status": "completed"
    },
    "tags": []
   },
   "outputs": [
    {
     "name": "stdout",
     "output_type": "stream",
     "text": [
      "Copying file://data/raw/2pageSessions.csv [Content-Type=text/csv]...\r\n",
      "/ [0/2 files][    0.0 B/100.5 MiB]   0% Done                                    \r",
      "Copying file://data/raw/newsCorpora.csv [Content-Type=text/csv]...\r\n",
      "/ [0/2 files][    0.0 B/100.5 MiB]   0% Done                                    \r"
     ]
    },
    {
     "name": "stdout",
     "output_type": "stream",
     "text": [
      "/ [1/2 files][ 10.1 MiB/100.5 MiB]  10% Done                                    \r"
     ]
    },
    {
     "name": "stdout",
     "output_type": "stream",
     "text": [
      "-\r"
     ]
    },
    {
     "name": "stdout",
     "output_type": "stream",
     "text": [
      "\\\r",
      "\\ [1/2 files][ 97.3 MiB/100.5 MiB]  96% Done                                    \r"
     ]
    },
    {
     "name": "stdout",
     "output_type": "stream",
     "text": [
      "\\ [2/2 files][100.5 MiB/100.5 MiB] 100% Done                                    \r",
      "\r\n",
      "Operation completed over 2 objects/100.5 MiB.                                    \r\n"
     ]
    }
   ],
   "source": [
    "!gsutil -m cp -R {DATA_PATH}/raw $BUCKET_URI/{DATA_PATH}/raw"
   ]
  },
  {
   "cell_type": "markdown",
   "id": "a8c80da1",
   "metadata": {
    "id": "XoEqT2Y4DJmf",
    "papermill": {
     "duration": 0.012426,
     "end_time": "2022-06-23T17:52:00.402900",
     "exception": false,
     "start_time": "2022-06-23T17:52:00.390474",
     "status": "completed"
    },
    "tags": []
   },
   "source": [
    "### Import libraries"
   ]
  },
  {
   "cell_type": "code",
   "execution_count": 19,
   "id": "3ca64b0b",
   "metadata": {
    "execution": {
     "iopub.execute_input": "2022-06-23T17:52:00.429741Z",
     "iopub.status.busy": "2022-06-23T17:52:00.429365Z",
     "iopub.status.idle": "2022-06-23T17:52:04.021437Z",
     "shell.execute_reply": "2022-06-23T17:52:04.020390Z"
    },
    "id": "pRUOFELefqf1",
    "papermill": {
     "duration": 3.608723,
     "end_time": "2022-06-23T17:52:04.023984",
     "exception": false,
     "start_time": "2022-06-23T17:52:00.415261",
     "status": "completed"
    },
    "tags": []
   },
   "outputs": [
    {
     "name": "stderr",
     "output_type": "stream",
     "text": [
      "2022-06-23 17:52:00.601334: W tensorflow/stream_executor/platform/default/dso_loader.cc:64] Could not load dynamic library 'libcudart.so.11.0'; dlerror: libcudart.so.11.0: cannot open shared object file: No such file or directory\n",
      "2022-06-23 17:52:00.601385: I tensorflow/stream_executor/cuda/cudart_stub.cc:29] Ignore above cudart dlerror if you do not have a GPU set up on your machine.\n"
     ]
    }
   ],
   "source": [
    "# General\n",
    "import logging\n",
    "\n",
    "logger = logging.getLogger(\"logger\")\n",
    "logging.basicConfig(level=logging.INFO)\n",
    "\n",
    "import time\n",
    "from json import dumps\n",
    "\n",
    "# Experiment\n",
    "import tensorflow as tf\n",
    "# Vertex AI\n",
    "from google.cloud import aiplatform as vertex_ai"
   ]
  },
  {
   "cell_type": "markdown",
   "id": "c8575739",
   "metadata": {
    "id": "oUiMepZvRiaa",
    "papermill": {
     "duration": 0.012283,
     "end_time": "2022-06-23T17:52:04.048824",
     "exception": false,
     "start_time": "2022-06-23T17:52:04.036541",
     "status": "completed"
    },
    "tags": []
   },
   "source": [
    "### Define constants"
   ]
  },
  {
   "cell_type": "code",
   "execution_count": 20,
   "id": "97555359",
   "metadata": {
    "execution": {
     "iopub.execute_input": "2022-06-23T17:52:04.076158Z",
     "iopub.status.busy": "2022-06-23T17:52:04.075353Z",
     "iopub.status.idle": "2022-06-23T17:52:04.082691Z",
     "shell.execute_reply": "2022-06-23T17:52:04.081960Z"
    },
    "id": "9zDMnU3gRhSn",
    "papermill": {
     "duration": 0.023469,
     "end_time": "2022-06-23T17:52:04.084486",
     "exception": false,
     "start_time": "2022-06-23T17:52:04.061017",
     "status": "completed"
    },
    "tags": []
   },
   "outputs": [],
   "source": [
    "# Base\n",
    "DATASET_NAME = \"news_corpora\"\n",
    "DATASET_URI = f\"{BUCKET_URI}/{DATA_PATH}/raw/newsCorpora.csv\"\n",
    "\n",
    "# Experiments\n",
    "TASK = \"classification\"\n",
    "MODEL_TYPE = \"naivebayes\"\n",
    "EXPERIMENT_NAME = f\"{TASK}-{MODEL_TYPE}-{TIMESTAMP}\"\n",
    "EXPERIMENT_RUN_NAME = \"run-1\"\n",
    "\n",
    "# Preprocessing\n",
    "PREPROCESSED_DATASET_NAME = f\"preprocessed_{DATASET_NAME}\"\n",
    "PREPROCESS_EXECUTION_NAME = \"preprocess\"\n",
    "COLUMN_NAMES = [\n",
    "    \"id\",\n",
    "    \"title\",\n",
    "    \"url\",\n",
    "    \"publisher\",\n",
    "    \"category\",\n",
    "    \"story\",\n",
    "    \"hostname\",\n",
    "    \"timestamp\",\n",
    "]\n",
    "DELIMITER = \"\t\"\n",
    "INDEX_COL = 0\n",
    "PREPROCESSED_DATASET_URI = (\n",
    "    f\"{BUCKET_URI}/{DATA_PATH}/preprocess/{PREPROCESSED_DATASET_NAME}.csv\"\n",
    ")\n",
    "\n",
    "# Training\n",
    "TRAIN_EXECUTION_NAME = \"train\"\n",
    "TARGET = \"category\"\n",
    "FEATURES = \"title\"\n",
    "TEST_SIZE = 0.2\n",
    "SEED = 8\n",
    "TRAINED_MODEL_URI = f\"{BUCKET_URI}/deliverables/{TIMESTAMP}\"\n",
    "MODEL_NAME = f\"{EXPERIMENT_NAME}-model\""
   ]
  },
  {
   "cell_type": "markdown",
   "id": "ddf2b42b",
   "metadata": {
    "id": "inR70nh38PeK",
    "papermill": {
     "duration": 0.012635,
     "end_time": "2022-06-23T17:52:04.109589",
     "exception": false,
     "start_time": "2022-06-23T17:52:04.096954",
     "status": "completed"
    },
    "tags": []
   },
   "source": [
    "### Initialize Vertex AI SDK for Python\n",
    "\n",
    "Initialize the Vertex AI SDK for Python for your project and corresponding bucket."
   ]
  },
  {
   "cell_type": "code",
   "execution_count": 21,
   "id": "47ed8c37",
   "metadata": {
    "execution": {
     "iopub.execute_input": "2022-06-23T17:52:04.136675Z",
     "iopub.status.busy": "2022-06-23T17:52:04.136118Z",
     "iopub.status.idle": "2022-06-23T17:52:04.798209Z",
     "shell.execute_reply": "2022-06-23T17:52:04.797240Z"
    },
    "id": "Nz0nasrh8T3c",
    "papermill": {
     "duration": 0.678829,
     "end_time": "2022-06-23T17:52:04.800937",
     "exception": false,
     "start_time": "2022-06-23T17:52:04.122108",
     "status": "completed"
    },
    "tags": []
   },
   "outputs": [],
   "source": [
    "vertex_ai.init(\n",
    "    project=PROJECT_ID, experiment=EXPERIMENT_NAME, staging_bucket=BUCKET_URI\n",
    ")"
   ]
  },
  {
   "cell_type": "markdown",
   "id": "2b39d593",
   "metadata": {
    "id": "container:training,prediction,xgboost",
    "papermill": {
     "duration": 0.013826,
     "end_time": "2022-06-23T17:52:04.828731",
     "exception": false,
     "start_time": "2022-06-23T17:52:04.814905",
     "status": "completed"
    },
    "tags": []
   },
   "source": [
    "### Set pre-built containers\n",
    "\n",
    "Set the pre-built Docker container image for training and prediction.\n",
    "\n",
    "\n",
    "For the latest list, see [Pre-built containers for training](https://cloud.google.com/ai-platform-unified/docs/training/pre-built-containers).\n",
    "\n",
    "\n",
    "For the latest list, see [Pre-built containers for prediction](https://cloud.google.com/ai-platform-unified/docs/predictions/pre-built-containers)."
   ]
  },
  {
   "cell_type": "code",
   "execution_count": 22,
   "id": "b9fc6eed",
   "metadata": {
    "execution": {
     "iopub.execute_input": "2022-06-23T17:52:04.859109Z",
     "iopub.status.busy": "2022-06-23T17:52:04.858274Z",
     "iopub.status.idle": "2022-06-23T17:52:04.863551Z",
     "shell.execute_reply": "2022-06-23T17:52:04.862429Z"
    },
    "id": "XujRA5ueox9U",
    "papermill": {
     "duration": 0.023135,
     "end_time": "2022-06-23T17:52:04.865812",
     "exception": false,
     "start_time": "2022-06-23T17:52:04.842677",
     "status": "completed"
    },
    "tags": []
   },
   "outputs": [],
   "source": [
    "SERVE_IMAGE = vertex_ai.helpers.get_prebuilt_prediction_container_uri(\n",
    "    framework=\"sklearn\", framework_version=\"1.0\", accelerator=\"cpu\"\n",
    ")"
   ]
  },
  {
   "cell_type": "markdown",
   "id": "e9be8cc6",
   "metadata": {
    "id": "9JSL9CzsZZZT",
    "papermill": {
     "duration": 0.012624,
     "end_time": "2022-06-23T17:52:04.891495",
     "exception": false,
     "start_time": "2022-06-23T17:52:04.878871",
     "status": "completed"
    },
    "tags": []
   },
   "source": [
    "### Initialize Experiment run"
   ]
  },
  {
   "cell_type": "code",
   "execution_count": 23,
   "id": "c6ad57fb",
   "metadata": {
    "execution": {
     "iopub.execute_input": "2022-06-23T17:52:04.919474Z",
     "iopub.status.busy": "2022-06-23T17:52:04.918722Z",
     "iopub.status.idle": "2022-06-23T17:52:05.633643Z",
     "shell.execute_reply": "2022-06-23T17:52:05.632481Z"
    },
    "id": "AmHX6qy6ZVoq",
    "papermill": {
     "duration": 0.731778,
     "end_time": "2022-06-23T17:52:05.636099",
     "exception": false,
     "start_time": "2022-06-23T17:52:04.904321",
     "status": "completed"
    },
    "tags": []
   },
   "outputs": [
    {
     "name": "stdout",
     "output_type": "stream",
     "text": [
      "Associating projects/1012616486416/locations/us-central1/metadataStores/default/contexts/classification-naivebayes-20220623175146-run-1 to Experiment: classification-naivebayes-20220623175146\n"
     ]
    },
    {
     "name": "stderr",
     "output_type": "stream",
     "text": [
      "INFO:google.cloud.aiplatform.metadata.experiment_resources:Associating projects/1012616486416/locations/us-central1/metadataStores/default/contexts/classification-naivebayes-20220623175146-run-1 to Experiment: classification-naivebayes-20220623175146\n"
     ]
    }
   ],
   "source": [
    "run = vertex_ai.start_run(EXPERIMENT_RUN_NAME)"
   ]
  },
  {
   "cell_type": "markdown",
   "id": "282b4b45",
   "metadata": {
    "id": "tysB_Zy68KIe",
    "papermill": {
     "duration": 0.012628,
     "end_time": "2022-06-23T17:52:05.661707",
     "exception": false,
     "start_time": "2022-06-23T17:52:05.649079",
     "status": "completed"
    },
    "tags": []
   },
   "source": [
    "## Model experimentation with pre-built data pre-processing code"
   ]
  },
  {
   "cell_type": "markdown",
   "id": "0aa85804",
   "metadata": {
    "id": "vEyXGFqq8cR_",
    "papermill": {
     "duration": 0.012548,
     "end_time": "2022-06-23T17:52:05.687181",
     "exception": false,
     "start_time": "2022-06-23T17:52:05.674633",
     "status": "completed"
    },
    "tags": []
   },
   "source": [
    "### Data preprocessing\n",
    "\n",
    "In this step, you simulate some preprocessing on raw data to create the training dataset.\n",
    "\n",
    "Indeed it would happen that you have some data preprocessing that others within your team may have written. For that reason, you need a way to integrate the preprocessing code in your experiment runs to standardize and reuse all the complex data wrangling that you are dealing with. \n",
    "\n",
    "Using Vertex AI Experiments, you can track that code as part of the run execution by adding one `with` statement in your experiment context. "
   ]
  },
  {
   "cell_type": "markdown",
   "id": "c895cd2a",
   "metadata": {
    "id": "43K9jkygpv9w",
    "papermill": {
     "duration": 0.012554,
     "end_time": "2022-06-23T17:52:05.712251",
     "exception": false,
     "start_time": "2022-06-23T17:52:05.699697",
     "status": "completed"
    },
    "tags": []
   },
   "source": [
    "#### Create a Dataset Metadata Artifact\n",
    "\n",
    "First you create the Dataset artifact to track the dataset resource in the Vertex AI ML Metadata and create the experiment lineage."
   ]
  },
  {
   "cell_type": "code",
   "execution_count": 24,
   "id": "e03c992e",
   "metadata": {
    "execution": {
     "iopub.execute_input": "2022-06-23T17:52:05.739343Z",
     "iopub.status.busy": "2022-06-23T17:52:05.738499Z",
     "iopub.status.idle": "2022-06-23T17:52:05.989977Z",
     "shell.execute_reply": "2022-06-23T17:52:05.988744Z"
    },
    "id": "configured-fetish",
    "papermill": {
     "duration": 0.268117,
     "end_time": "2022-06-23T17:52:05.992664",
     "exception": false,
     "start_time": "2022-06-23T17:52:05.724547",
     "status": "completed"
    },
    "tags": []
   },
   "outputs": [],
   "source": [
    "raw_dataset_artifact = vertex_ai.Artifact.create(\n",
    "    schema_title=\"system.Dataset\", display_name=DATASET_NAME, uri=DATASET_URI\n",
    ")"
   ]
  },
  {
   "cell_type": "markdown",
   "id": "90e26156",
   "metadata": {
    "id": "ZrtoR-V0GVzy",
    "papermill": {
     "duration": 0.01398,
     "end_time": "2022-06-23T17:52:06.020835",
     "exception": false,
     "start_time": "2022-06-23T17:52:06.006855",
     "status": "completed"
    },
    "tags": []
   },
   "source": [
    "#### Create a preprocess module\n",
    "\n",
    "Next, you build a simple preprocessing module to convert the text case and remove the punctuation."
   ]
  },
  {
   "cell_type": "markdown",
   "id": "c88ad708",
   "metadata": {
    "tags": [
     "papermill-error-cell-tag"
    ]
   },
   "source": [
    "<span id=\"papermill-error-cell\" style=\"color:red; font-family:Helvetica Neue, Helvetica, Arial, sans-serif; font-size:2em;\">Execution using papermill encountered an exception here and stopped:</span>"
   ]
  },
  {
   "cell_type": "code",
   "execution_count": 25,
   "id": "e275ce41",
   "metadata": {
    "execution": {
     "iopub.execute_input": "2022-06-23T17:52:06.050344Z",
     "iopub.status.busy": "2022-06-23T17:52:06.049617Z",
     "iopub.status.idle": "2022-06-23T17:52:07.022495Z",
     "shell.execute_reply": "2022-06-23T17:52:07.021136Z"
    },
    "id": "DjCc1Us_Gb5Q",
    "papermill": {
     "duration": 0.989708,
     "end_time": "2022-06-23T17:52:07.024218",
     "exception": true,
     "start_time": "2022-06-23T17:52:06.034510",
     "status": "failed"
    },
    "tags": []
   },
   "outputs": [
    {
     "ename": "ModuleNotFoundError",
     "evalue": "No module named 'dateutil.easter'",
     "output_type": "error",
     "traceback": [
      "\u001b[0;31m---------------------------------------------------------------------------\u001b[0m",
      "\u001b[0;31mModuleNotFoundError\u001b[0m                       Traceback (most recent call last)",
      "Input \u001b[0;32mIn [25]\u001b[0m, in \u001b[0;36m<cell line: 7>\u001b[0;34m()\u001b[0m\n\u001b[1;32m      1\u001b[0m \u001b[38;5;124;03m\"\"\"\u001b[39;00m\n\u001b[1;32m      2\u001b[0m \u001b[38;5;124;03mPreprocess module\u001b[39;00m\n\u001b[1;32m      3\u001b[0m \u001b[38;5;124;03m\"\"\"\u001b[39;00m\n\u001b[1;32m      5\u001b[0m \u001b[38;5;28;01mimport\u001b[39;00m \u001b[38;5;21;01mstring\u001b[39;00m\n\u001b[0;32m----> 7\u001b[0m \u001b[38;5;28;01mimport\u001b[39;00m \u001b[38;5;21;01mpandas\u001b[39;00m \u001b[38;5;28;01mas\u001b[39;00m \u001b[38;5;21;01mpd\u001b[39;00m\n\u001b[1;32m     10\u001b[0m \u001b[38;5;28;01mdef\u001b[39;00m \u001b[38;5;21mpreprocess\u001b[39m(df: pd\u001b[38;5;241m.\u001b[39mDataFrame, text_col: \u001b[38;5;28mstr\u001b[39m) \u001b[38;5;241m-\u001b[39m\u001b[38;5;241m>\u001b[39m pd\u001b[38;5;241m.\u001b[39mDataFrame:\n\u001b[1;32m     11\u001b[0m     \u001b[38;5;124;03m\"\"\"\u001b[39;00m\n\u001b[1;32m     12\u001b[0m \u001b[38;5;124;03m    Preprocess text\u001b[39;00m\n\u001b[1;32m     13\u001b[0m \u001b[38;5;124;03m    Args:\u001b[39;00m\n\u001b[0;32m   (...)\u001b[0m\n\u001b[1;32m     17\u001b[0m \u001b[38;5;124;03m        preprocessed_df: The datafrane with text in lowercase and without punctuation\u001b[39;00m\n\u001b[1;32m     18\u001b[0m \u001b[38;5;124;03m    \"\"\"\u001b[39;00m\n",
      "File \u001b[0;32m/usr/local/lib/python3.9/site-packages/pandas/__init__.py:22\u001b[0m, in \u001b[0;36m<module>\u001b[0;34m\u001b[0m\n\u001b[1;32m     19\u001b[0m \u001b[38;5;28;01mdel\u001b[39;00m hard_dependencies, dependency, missing_dependencies\n\u001b[1;32m     21\u001b[0m \u001b[38;5;66;03m# numpy compat\u001b[39;00m\n\u001b[0;32m---> 22\u001b[0m \u001b[38;5;28;01mfrom\u001b[39;00m \u001b[38;5;21;01mpandas\u001b[39;00m\u001b[38;5;21;01m.\u001b[39;00m\u001b[38;5;21;01mcompat\u001b[39;00m \u001b[38;5;28;01mimport\u001b[39;00m (\n\u001b[1;32m     23\u001b[0m     np_version_under1p18 \u001b[38;5;28;01mas\u001b[39;00m _np_version_under1p18,\n\u001b[1;32m     24\u001b[0m     is_numpy_dev \u001b[38;5;28;01mas\u001b[39;00m _is_numpy_dev,\n\u001b[1;32m     25\u001b[0m )\n\u001b[1;32m     27\u001b[0m \u001b[38;5;28;01mtry\u001b[39;00m:\n\u001b[1;32m     28\u001b[0m     \u001b[38;5;28;01mfrom\u001b[39;00m \u001b[38;5;21;01mpandas\u001b[39;00m\u001b[38;5;21;01m.\u001b[39;00m\u001b[38;5;21;01m_libs\u001b[39;00m \u001b[38;5;28;01mimport\u001b[39;00m hashtable \u001b[38;5;28;01mas\u001b[39;00m _hashtable, lib \u001b[38;5;28;01mas\u001b[39;00m _lib, tslib \u001b[38;5;28;01mas\u001b[39;00m _tslib\n",
      "File \u001b[0;32m/usr/local/lib/python3.9/site-packages/pandas/compat/__init__.py:15\u001b[0m, in \u001b[0;36m<module>\u001b[0;34m\u001b[0m\n\u001b[1;32m     12\u001b[0m \u001b[38;5;28;01mimport\u001b[39;00m \u001b[38;5;21;01mwarnings\u001b[39;00m\n\u001b[1;32m     14\u001b[0m \u001b[38;5;28;01mfrom\u001b[39;00m \u001b[38;5;21;01mpandas\u001b[39;00m\u001b[38;5;21;01m.\u001b[39;00m\u001b[38;5;21;01m_typing\u001b[39;00m \u001b[38;5;28;01mimport\u001b[39;00m F\n\u001b[0;32m---> 15\u001b[0m \u001b[38;5;28;01mfrom\u001b[39;00m \u001b[38;5;21;01mpandas\u001b[39;00m\u001b[38;5;21;01m.\u001b[39;00m\u001b[38;5;21;01mcompat\u001b[39;00m\u001b[38;5;21;01m.\u001b[39;00m\u001b[38;5;21;01mnumpy\u001b[39;00m \u001b[38;5;28;01mimport\u001b[39;00m (\n\u001b[1;32m     16\u001b[0m     is_numpy_dev,\n\u001b[1;32m     17\u001b[0m     np_array_datetime64_compat,\n\u001b[1;32m     18\u001b[0m     np_datetime64_compat,\n\u001b[1;32m     19\u001b[0m     np_version_under1p18,\n\u001b[1;32m     20\u001b[0m     np_version_under1p19,\n\u001b[1;32m     21\u001b[0m     np_version_under1p20,\n\u001b[1;32m     22\u001b[0m )\n\u001b[1;32m     23\u001b[0m \u001b[38;5;28;01mfrom\u001b[39;00m \u001b[38;5;21;01mpandas\u001b[39;00m\u001b[38;5;21;01m.\u001b[39;00m\u001b[38;5;21;01mcompat\u001b[39;00m\u001b[38;5;21;01m.\u001b[39;00m\u001b[38;5;21;01mpyarrow\u001b[39;00m \u001b[38;5;28;01mimport\u001b[39;00m (\n\u001b[1;32m     24\u001b[0m     pa_version_under1p0,\n\u001b[1;32m     25\u001b[0m     pa_version_under2p0,\n\u001b[1;32m     26\u001b[0m     pa_version_under3p0,\n\u001b[1;32m     27\u001b[0m     pa_version_under4p0,\n\u001b[1;32m     28\u001b[0m )\n\u001b[1;32m     30\u001b[0m PY38 \u001b[38;5;241m=\u001b[39m sys\u001b[38;5;241m.\u001b[39mversion_info \u001b[38;5;241m>\u001b[39m\u001b[38;5;241m=\u001b[39m (\u001b[38;5;241m3\u001b[39m, \u001b[38;5;241m8\u001b[39m)\n",
      "File \u001b[0;32m/usr/local/lib/python3.9/site-packages/pandas/compat/numpy/__init__.py:7\u001b[0m, in \u001b[0;36m<module>\u001b[0;34m\u001b[0m\n\u001b[1;32m      3\u001b[0m \u001b[38;5;28;01mimport\u001b[39;00m \u001b[38;5;21;01mre\u001b[39;00m\n\u001b[1;32m      5\u001b[0m \u001b[38;5;28;01mimport\u001b[39;00m \u001b[38;5;21;01mnumpy\u001b[39;00m \u001b[38;5;28;01mas\u001b[39;00m \u001b[38;5;21;01mnp\u001b[39;00m\n\u001b[0;32m----> 7\u001b[0m \u001b[38;5;28;01mfrom\u001b[39;00m \u001b[38;5;21;01mpandas\u001b[39;00m\u001b[38;5;21;01m.\u001b[39;00m\u001b[38;5;21;01mutil\u001b[39;00m\u001b[38;5;21;01m.\u001b[39;00m\u001b[38;5;21;01mversion\u001b[39;00m \u001b[38;5;28;01mimport\u001b[39;00m Version\n\u001b[1;32m      9\u001b[0m \u001b[38;5;66;03m# numpy versioning\u001b[39;00m\n\u001b[1;32m     10\u001b[0m _np_version \u001b[38;5;241m=\u001b[39m np\u001b[38;5;241m.\u001b[39m__version__\n",
      "File \u001b[0;32m/usr/local/lib/python3.9/site-packages/pandas/util/__init__.py:1\u001b[0m, in \u001b[0;36m<module>\u001b[0;34m\u001b[0m\n\u001b[0;32m----> 1\u001b[0m \u001b[38;5;28;01mfrom\u001b[39;00m \u001b[38;5;21;01mpandas\u001b[39;00m\u001b[38;5;21;01m.\u001b[39;00m\u001b[38;5;21;01mutil\u001b[39;00m\u001b[38;5;21;01m.\u001b[39;00m\u001b[38;5;21;01m_decorators\u001b[39;00m \u001b[38;5;28;01mimport\u001b[39;00m (  \u001b[38;5;66;03m# noqa\u001b[39;00m\n\u001b[1;32m      2\u001b[0m     Appender,\n\u001b[1;32m      3\u001b[0m     Substitution,\n\u001b[1;32m      4\u001b[0m     cache_readonly,\n\u001b[1;32m      5\u001b[0m )\n\u001b[1;32m      7\u001b[0m \u001b[38;5;28;01mfrom\u001b[39;00m \u001b[38;5;21;01mpandas\u001b[39;00m\u001b[38;5;21;01m.\u001b[39;00m\u001b[38;5;21;01mcore\u001b[39;00m\u001b[38;5;21;01m.\u001b[39;00m\u001b[38;5;21;01mutil\u001b[39;00m\u001b[38;5;21;01m.\u001b[39;00m\u001b[38;5;21;01mhashing\u001b[39;00m \u001b[38;5;28;01mimport\u001b[39;00m (  \u001b[38;5;66;03m# noqa\u001b[39;00m\n\u001b[1;32m      8\u001b[0m     hash_array,\n\u001b[1;32m      9\u001b[0m     hash_pandas_object,\n\u001b[1;32m     10\u001b[0m )\n\u001b[1;32m     13\u001b[0m \u001b[38;5;28;01mdef\u001b[39;00m \u001b[38;5;21m__getattr__\u001b[39m(name):\n",
      "File \u001b[0;32m/usr/local/lib/python3.9/site-packages/pandas/util/_decorators.py:14\u001b[0m, in \u001b[0;36m<module>\u001b[0;34m\u001b[0m\n\u001b[1;32m      6\u001b[0m \u001b[38;5;28;01mfrom\u001b[39;00m \u001b[38;5;21;01mtyping\u001b[39;00m \u001b[38;5;28;01mimport\u001b[39;00m (\n\u001b[1;32m      7\u001b[0m     Any,\n\u001b[1;32m      8\u001b[0m     Callable,\n\u001b[1;32m      9\u001b[0m     Mapping,\n\u001b[1;32m     10\u001b[0m     cast,\n\u001b[1;32m     11\u001b[0m )\n\u001b[1;32m     12\u001b[0m \u001b[38;5;28;01mimport\u001b[39;00m \u001b[38;5;21;01mwarnings\u001b[39;00m\n\u001b[0;32m---> 14\u001b[0m \u001b[38;5;28;01mfrom\u001b[39;00m \u001b[38;5;21;01mpandas\u001b[39;00m\u001b[38;5;21;01m.\u001b[39;00m\u001b[38;5;21;01m_libs\u001b[39;00m\u001b[38;5;21;01m.\u001b[39;00m\u001b[38;5;21;01mproperties\u001b[39;00m \u001b[38;5;28;01mimport\u001b[39;00m cache_readonly  \u001b[38;5;66;03m# noqa\u001b[39;00m\n\u001b[1;32m     15\u001b[0m \u001b[38;5;28;01mfrom\u001b[39;00m \u001b[38;5;21;01mpandas\u001b[39;00m\u001b[38;5;21;01m.\u001b[39;00m\u001b[38;5;21;01m_typing\u001b[39;00m \u001b[38;5;28;01mimport\u001b[39;00m F\n\u001b[1;32m     18\u001b[0m \u001b[38;5;28;01mdef\u001b[39;00m \u001b[38;5;21mdeprecate\u001b[39m(\n\u001b[1;32m     19\u001b[0m     name: \u001b[38;5;28mstr\u001b[39m,\n\u001b[1;32m     20\u001b[0m     alternative: Callable[\u001b[38;5;241m.\u001b[39m\u001b[38;5;241m.\u001b[39m\u001b[38;5;241m.\u001b[39m, Any],\n\u001b[0;32m   (...)\u001b[0m\n\u001b[1;32m     25\u001b[0m     msg: \u001b[38;5;28mstr\u001b[39m \u001b[38;5;241m|\u001b[39m \u001b[38;5;28;01mNone\u001b[39;00m \u001b[38;5;241m=\u001b[39m \u001b[38;5;28;01mNone\u001b[39;00m,\n\u001b[1;32m     26\u001b[0m ) \u001b[38;5;241m-\u001b[39m\u001b[38;5;241m>\u001b[39m Callable[[F], F]:\n",
      "File \u001b[0;32m/usr/local/lib/python3.9/site-packages/pandas/_libs/__init__.py:14\u001b[0m, in \u001b[0;36m<module>\u001b[0;34m\u001b[0m\n\u001b[1;32m      1\u001b[0m __all__ \u001b[38;5;241m=\u001b[39m [\n\u001b[1;32m      2\u001b[0m     \u001b[38;5;124m\"\u001b[39m\u001b[38;5;124mNaT\u001b[39m\u001b[38;5;124m\"\u001b[39m,\n\u001b[1;32m      3\u001b[0m     \u001b[38;5;124m\"\u001b[39m\u001b[38;5;124mNaTType\u001b[39m\u001b[38;5;124m\"\u001b[39m,\n\u001b[0;32m   (...)\u001b[0m\n\u001b[1;32m      9\u001b[0m     \u001b[38;5;124m\"\u001b[39m\u001b[38;5;124mInterval\u001b[39m\u001b[38;5;124m\"\u001b[39m,\n\u001b[1;32m     10\u001b[0m ]\n\u001b[1;32m     13\u001b[0m \u001b[38;5;28;01mfrom\u001b[39;00m \u001b[38;5;21;01mpandas\u001b[39;00m\u001b[38;5;21;01m.\u001b[39;00m\u001b[38;5;21;01m_libs\u001b[39;00m\u001b[38;5;21;01m.\u001b[39;00m\u001b[38;5;21;01minterval\u001b[39;00m \u001b[38;5;28;01mimport\u001b[39;00m Interval\n\u001b[0;32m---> 14\u001b[0m \u001b[38;5;28;01mfrom\u001b[39;00m \u001b[38;5;21;01mpandas\u001b[39;00m\u001b[38;5;21;01m.\u001b[39;00m\u001b[38;5;21;01m_libs\u001b[39;00m\u001b[38;5;21;01m.\u001b[39;00m\u001b[38;5;21;01mtslibs\u001b[39;00m \u001b[38;5;28;01mimport\u001b[39;00m (\n\u001b[1;32m     15\u001b[0m     NaT,\n\u001b[1;32m     16\u001b[0m     NaTType,\n\u001b[1;32m     17\u001b[0m     OutOfBoundsDatetime,\n\u001b[1;32m     18\u001b[0m     Period,\n\u001b[1;32m     19\u001b[0m     Timedelta,\n\u001b[1;32m     20\u001b[0m     Timestamp,\n\u001b[1;32m     21\u001b[0m     iNaT,\n\u001b[1;32m     22\u001b[0m )\n",
      "File \u001b[0;32m/usr/local/lib/python3.9/site-packages/pandas/_libs/tslibs/__init__.py:31\u001b[0m, in \u001b[0;36m<module>\u001b[0;34m\u001b[0m\n\u001b[1;32m      1\u001b[0m __all__ \u001b[38;5;241m=\u001b[39m [\n\u001b[1;32m      2\u001b[0m     \u001b[38;5;124m\"\u001b[39m\u001b[38;5;124mdtypes\u001b[39m\u001b[38;5;124m\"\u001b[39m,\n\u001b[1;32m      3\u001b[0m     \u001b[38;5;124m\"\u001b[39m\u001b[38;5;124mlocalize_pydatetime\u001b[39m\u001b[38;5;124m\"\u001b[39m,\n\u001b[0;32m   (...)\u001b[0m\n\u001b[1;32m     27\u001b[0m     \u001b[38;5;124m\"\u001b[39m\u001b[38;5;124mtz_compare\u001b[39m\u001b[38;5;124m\"\u001b[39m,\n\u001b[1;32m     28\u001b[0m ]\n\u001b[1;32m     30\u001b[0m \u001b[38;5;28;01mfrom\u001b[39;00m \u001b[38;5;21;01mpandas\u001b[39;00m\u001b[38;5;21;01m.\u001b[39;00m\u001b[38;5;21;01m_libs\u001b[39;00m\u001b[38;5;21;01m.\u001b[39;00m\u001b[38;5;21;01mtslibs\u001b[39;00m \u001b[38;5;28;01mimport\u001b[39;00m dtypes\n\u001b[0;32m---> 31\u001b[0m \u001b[38;5;28;01mfrom\u001b[39;00m \u001b[38;5;21;01mpandas\u001b[39;00m\u001b[38;5;21;01m.\u001b[39;00m\u001b[38;5;21;01m_libs\u001b[39;00m\u001b[38;5;21;01m.\u001b[39;00m\u001b[38;5;21;01mtslibs\u001b[39;00m\u001b[38;5;21;01m.\u001b[39;00m\u001b[38;5;21;01mconversion\u001b[39;00m \u001b[38;5;28;01mimport\u001b[39;00m (\n\u001b[1;32m     32\u001b[0m     OutOfBoundsTimedelta,\n\u001b[1;32m     33\u001b[0m     localize_pydatetime,\n\u001b[1;32m     34\u001b[0m )\n\u001b[1;32m     35\u001b[0m \u001b[38;5;28;01mfrom\u001b[39;00m \u001b[38;5;21;01mpandas\u001b[39;00m\u001b[38;5;21;01m.\u001b[39;00m\u001b[38;5;21;01m_libs\u001b[39;00m\u001b[38;5;21;01m.\u001b[39;00m\u001b[38;5;21;01mtslibs\u001b[39;00m\u001b[38;5;21;01m.\u001b[39;00m\u001b[38;5;21;01mdtypes\u001b[39;00m \u001b[38;5;28;01mimport\u001b[39;00m Resolution\n\u001b[1;32m     36\u001b[0m \u001b[38;5;28;01mfrom\u001b[39;00m \u001b[38;5;21;01mpandas\u001b[39;00m\u001b[38;5;21;01m.\u001b[39;00m\u001b[38;5;21;01m_libs\u001b[39;00m\u001b[38;5;21;01m.\u001b[39;00m\u001b[38;5;21;01mtslibs\u001b[39;00m\u001b[38;5;21;01m.\u001b[39;00m\u001b[38;5;21;01mnattype\u001b[39;00m \u001b[38;5;28;01mimport\u001b[39;00m (\n\u001b[1;32m     37\u001b[0m     NaT,\n\u001b[1;32m     38\u001b[0m     NaTType,\n\u001b[0;32m   (...)\u001b[0m\n\u001b[1;32m     41\u001b[0m     nat_strings,\n\u001b[1;32m     42\u001b[0m )\n",
      "File \u001b[0;32m/usr/local/lib/python3.9/site-packages/pandas/_libs/tslibs/conversion.pyx:63\u001b[0m, in \u001b[0;36minit pandas._libs.tslibs.conversion\u001b[0;34m()\u001b[0m\n",
      "File \u001b[0;32m/usr/local/lib/python3.9/site-packages/pandas/_libs/tslibs/parsing.pyx:1\u001b[0m, in \u001b[0;36minit pandas._libs.tslibs.parsing\u001b[0;34m()\u001b[0m\n",
      "File \u001b[0;32m/usr/local/lib/python3.9/site-packages/pandas/_libs/tslibs/offsets.pyx:21\u001b[0m, in \u001b[0;36minit pandas._libs.tslibs.offsets\u001b[0;34m()\u001b[0m\n",
      "\u001b[0;31mModuleNotFoundError\u001b[0m: No module named 'dateutil.easter'"
     ]
    }
   ],
   "source": [
    "\"\"\"\n",
    "Preprocess module\n",
    "\"\"\"\n",
    "\n",
    "import string\n",
    "\n",
    "import pandas as pd\n",
    "\n",
    "\n",
    "def preprocess(df: pd.DataFrame, text_col: str) -> pd.DataFrame:\n",
    "    \"\"\"\n",
    "    Preprocess text\n",
    "    Args:\n",
    "        df: The DataFrame to preprocesss\n",
    "        text_col: The text column name\n",
    "    Returns:\n",
    "        preprocessed_df: The datafrane with text in lowercase and without punctuation\n",
    "    \"\"\"\n",
    "    preprocessed_df = df.copy()\n",
    "    preprocessed_df[text_col] = preprocessed_df[text_col].apply(lambda x: x.lower())\n",
    "    preprocessed_df[text_col] = preprocessed_df[text_col].apply(\n",
    "        lambda x: x.translate(str.maketrans(\"\", \"\", string.punctuation))\n",
    "    )\n",
    "    return preprocessed_df"
   ]
  },
  {
   "cell_type": "markdown",
   "id": "a10bef3c",
   "metadata": {
    "id": "vSVFPWU9DFw_",
    "papermill": {
     "duration": null,
     "end_time": null,
     "exception": null,
     "start_time": null,
     "status": "pending"
    },
    "tags": []
   },
   "source": [
    "#### Add the `preprocessing` Execution\n",
    "\n",
    "You add the preprocessing step to track its execution in the lineage associated to Vertex AI Experiment. "
   ]
  },
  {
   "cell_type": "code",
   "execution_count": null,
   "id": "f693b67d",
   "metadata": {
    "id": "NI5e4a44EH4S",
    "papermill": {
     "duration": null,
     "end_time": null,
     "exception": null,
     "start_time": null,
     "status": "pending"
    },
    "tags": []
   },
   "outputs": [],
   "source": [
    "with vertex_ai.start_execution(\n",
    "    schema_title=\"system.ContainerExecution\", display_name=PREPROCESS_EXECUTION_NAME\n",
    ") as exc:\n",
    "    logging.info(f\"Start {PREPROCESS_EXECUTION_NAME} execution.\")\n",
    "    exc.assign_input_artifacts([raw_dataset_artifact])\n",
    "\n",
    "    # Log preprocessing params --------------------------------------------------\n",
    "    logging.info(\"Log preprocessing params.\")\n",
    "    vertex_ai.log_params(\n",
    "        {\n",
    "            \"delimiter\": DELIMITER,\n",
    "            \"features\": dumps(COLUMN_NAMES),\n",
    "            \"index_col\": INDEX_COL,\n",
    "        }\n",
    "    )\n",
    "\n",
    "    # Preprocessing ------------------------------------------------------------\n",
    "    logging.info(\"Preprocessing.\")\n",
    "    raw_df = pd.read_csv(\n",
    "        raw_dataset_artifact.uri,\n",
    "        delimiter=DELIMITER,\n",
    "        names=COLUMN_NAMES,\n",
    "        index_col=INDEX_COL,\n",
    "    )\n",
    "    preprocessed_df = preprocess(raw_df, \"title\")\n",
    "    preprocessed_df.to_csv(PREPROCESSED_DATASET_URI, sep=\",\")\n",
    "\n",
    "    # Log preprocessing metrics and store dataset artifact ---------------------\n",
    "    logging.info(f\"Log preprocessing metrics and {PREPROCESSED_DATASET_NAME} dataset.\")\n",
    "    vertex_ai.log_metrics(\n",
    "        {\n",
    "            \"n_records\": preprocessed_df.shape[0],\n",
    "            \"n_columns\": preprocessed_df.shape[1],\n",
    "        },\n",
    "    )\n",
    "\n",
    "    preprocessed_dataset_metadata = vertex_ai.Artifact.create(\n",
    "        schema_title=\"system.Dataset\",\n",
    "        display_name=PREPROCESSED_DATASET_NAME,\n",
    "        uri=PREPROCESSED_DATASET_URI,\n",
    "    )\n",
    "    exc.assign_output_artifacts([preprocessed_dataset_metadata])"
   ]
  },
  {
   "cell_type": "markdown",
   "id": "3a8770d2",
   "metadata": {
    "id": "blqKeaw9cigK",
    "papermill": {
     "duration": null,
     "end_time": null,
     "exception": null,
     "start_time": null,
     "status": "pending"
    },
    "tags": []
   },
   "source": [
    "### Model Training\n",
    "\n",
    "In this step, you train a multinomial Naive Bayes pipeline."
   ]
  },
  {
   "cell_type": "markdown",
   "id": "f6de7a55",
   "metadata": {
    "id": "9DIhphAwcpl2",
    "papermill": {
     "duration": null,
     "end_time": null,
     "exception": null,
     "start_time": null,
     "status": "pending"
    },
    "tags": []
   },
   "source": [
    "#### Create model training module\n",
    "\n",
    "Below the training module."
   ]
  },
  {
   "cell_type": "code",
   "execution_count": null,
   "id": "a2256ca1",
   "metadata": {
    "id": "XAV2Ew1Gc-dk",
    "papermill": {
     "duration": null,
     "end_time": null,
     "exception": null,
     "start_time": null,
     "status": "pending"
    },
    "tags": []
   },
   "outputs": [],
   "source": [
    "\"\"\"\n",
    "Train module\n",
    "\"\"\"\n",
    "\n",
    "import joblib\n",
    "import pandas as pd\n",
    "from sklearn.feature_extraction.text import CountVectorizer, TfidfTransformer\n",
    "from sklearn.metrics import accuracy_score, precision_score, recall_score\n",
    "from sklearn.model_selection import train_test_split\n",
    "from sklearn.naive_bayes import MultinomialNB\n",
    "from sklearn.pipeline import Pipeline\n",
    "\n",
    "\n",
    "def get_training_split(\n",
    "    x: pd.DataFrame, y: pd.Series, test_size: float, random_state: int\n",
    ") -> (pd.DataFrame, pd.Series, pd.DataFrame, pd.Series):\n",
    "    \"\"\"\n",
    "    Splits data into training and testing sets\n",
    "    Args:\n",
    "        x: The data to be split\n",
    "        y: The labels to be split\n",
    "        test_size: The proportion of the data to be reserved for testing\n",
    "        random_state: The seed used by the random number generator\n",
    "    Returns:\n",
    "        x_train: The training data\n",
    "        x_test: The testing data\n",
    "        y_train: The training labels\n",
    "        y_test: The testing labels\n",
    "    \"\"\"\n",
    "\n",
    "    x_train, x_val, y_train, y_val = train_test_split(\n",
    "        x, y, test_size=test_size, random_state=random_state\n",
    "    )\n",
    "    return x_train, x_val, y_train, y_val\n",
    "\n",
    "\n",
    "def get_pipeline():\n",
    "    \"\"\"\n",
    "    Get the model\n",
    "    Args:\n",
    "        None\n",
    "    Returns:\n",
    "        model: The model\n",
    "    \"\"\"\n",
    "    model = Pipeline(\n",
    "        [\n",
    "            (\"vect\", CountVectorizer()),\n",
    "            (\"tfidf\", TfidfTransformer()),\n",
    "            (\"clf\", MultinomialNB()),\n",
    "        ]\n",
    "    )\n",
    "    return model\n",
    "\n",
    "\n",
    "def train_pipeline(model: Pipeline, X_train: pd.Series, y_train: pd.Series) -> Pipeline:\n",
    "    \"\"\"\n",
    "    Train the model\n",
    "    Args:\n",
    "        model: The model to train\n",
    "        X_train: The training data\n",
    "        y_train: The training labels\n",
    "    Returns:\n",
    "        model: The trained model\n",
    "    \"\"\"\n",
    "    model.fit(X_train, y_train)\n",
    "    return model\n",
    "\n",
    "\n",
    "def evaluate_model(model: Pipeline, X_test: pd.Series, y_test: pd.Series) -> float:\n",
    "    \"\"\"\n",
    "    Evaluate the model\n",
    "    Args:\n",
    "        model: The model to evaluate\n",
    "        X_test: The testing data\n",
    "        y_test: The testing labels\n",
    "    Returns:\n",
    "        score: The accuracy of the model\n",
    "    \"\"\"\n",
    "    # Evaluate model\n",
    "    y_pred = model.predict(X_test)\n",
    "\n",
    "    # Store evaluation metrics\n",
    "    # Store evaluation metrics\n",
    "    metrics = {\n",
    "        \"accuracy\": round(accuracy_score(y_test, y_pred), 5),\n",
    "        \"precision\": round(precision_score(y_test, y_pred, average=\"weighted\"), 5),\n",
    "        \"recall\": round(recall_score(y_test, y_pred, average=\"weighted\"), 5),\n",
    "    }\n",
    "    return metrics\n",
    "\n",
    "\n",
    "def save_model(model: Pipeline, save_path: str) -> int:\n",
    "    model_path = f\"{save_path}/model.joblib\"\n",
    "    try:\n",
    "        joblib.dump(model, tf.io.gfile.GFile(model_path, \"wb\"))\n",
    "    except RuntimeError as error:\n",
    "        print(error)\n",
    "    return 1"
   ]
  },
  {
   "cell_type": "markdown",
   "id": "ef34d485",
   "metadata": {
    "id": "AHqNQ66EntqP",
    "papermill": {
     "duration": null,
     "end_time": null,
     "exception": null,
     "start_time": null,
     "status": "pending"
    },
    "tags": []
   },
   "source": [
    "#### Add the `train` Execution\n",
    "\n",
    "Next, you add the training task to the experiment execution to update the experiment lineage."
   ]
  },
  {
   "cell_type": "code",
   "execution_count": null,
   "id": "7afb04e4",
   "metadata": {
    "id": "5-kIK4obcbSr",
    "papermill": {
     "duration": null,
     "end_time": null,
     "exception": null,
     "start_time": null,
     "status": "pending"
    },
    "tags": []
   },
   "outputs": [],
   "source": [
    "with vertex_ai.start_execution(\n",
    "    schema_title=\"system.ContainerExecution\", display_name=TRAIN_EXECUTION_NAME\n",
    ") as exc:\n",
    "\n",
    "    exc.assign_input_artifacts([preprocessed_dataset_metadata])\n",
    "\n",
    "    # Get training and testing data\n",
    "    logging.info(\"Get training and testing data.\")\n",
    "    x_train, x_val, y_train, y_val = get_training_split(\n",
    "        preprocessed_df[FEATURES],\n",
    "        preprocessed_df[TARGET],\n",
    "        test_size=TEST_SIZE,\n",
    "        random_state=SEED,\n",
    "    )\n",
    "    # Get model pipeline\n",
    "    logging.info(\"Get model pipeline.\")\n",
    "    pipeline = get_pipeline()\n",
    "\n",
    "    # Log training param -------------------------------------------------------\n",
    "\n",
    "    # Log data parameters\n",
    "    logging.info(\"Log data parameters.\")\n",
    "    vertex_ai.log_params(\n",
    "        {\n",
    "            \"target\": TARGET,\n",
    "            \"features\": FEATURES,\n",
    "            \"test_size\": TEST_SIZE,\n",
    "            \"random_state\": SEED,\n",
    "        }\n",
    "    )\n",
    "\n",
    "    # Log pipeline parameters\n",
    "    logging.info(\"Log pipeline parameters.\")\n",
    "    vertex_ai.log_params(\n",
    "        {\n",
    "            \"pipeline_steps\": dumps(\n",
    "                {step[0]: str(step[1].__class__) for step in pipeline.steps}\n",
    "            )\n",
    "        }\n",
    "    )\n",
    "\n",
    "    # Training -----------------------------------------------------------------\n",
    "\n",
    "    # Train model pipeline\n",
    "    logging.info(\"Train model pipeline.\")\n",
    "    train_start = time.time()\n",
    "    trained_pipeline = train_pipeline(pipeline, x_train, y_train)\n",
    "    train_end = time.time()\n",
    "\n",
    "    # Evaluate model\n",
    "    logging.info(\"Evaluate model.\")\n",
    "    model_metrics = evaluate_model(trained_pipeline, x_val, y_val)\n",
    "\n",
    "    # Log training metrics and store model artifact ----------------------------\n",
    "\n",
    "    # Log training metrics\n",
    "    logging.info(\"Log training metrics.\")\n",
    "    vertex_ai.log_metrics(model_metrics)\n",
    "\n",
    "    # Generate first ten predictions\n",
    "    logging.info(\"Generate prediction sample.\")\n",
    "    prediction_sample = trained_pipeline.predict(x_val)[:10]\n",
    "    print(\"prediction sample:\", prediction_sample)\n",
    "\n",
    "    # Upload Model on Vertex AI\n",
    "    logging.info(\"Upload Model on Vertex AI.\")\n",
    "    loaded = save_model(trained_pipeline, TRAINED_MODEL_URI)\n",
    "    if loaded:\n",
    "        model = vertex_ai.Model.upload(\n",
    "            serving_container_image_uri=SERVE_IMAGE,\n",
    "            artifact_uri=TRAINED_MODEL_URI,\n",
    "            display_name=MODEL_NAME,\n",
    "        )\n",
    "\n",
    "    exc.assign_output_artifacts([model])"
   ]
  },
  {
   "cell_type": "markdown",
   "id": "2209fbe6",
   "metadata": {
    "id": "0KQbDqiRBV9x",
    "papermill": {
     "duration": null,
     "end_time": null,
     "exception": null,
     "start_time": null,
     "status": "pending"
    },
    "tags": []
   },
   "source": [
    "### Visualize Experiment Lineage\n",
    "\n",
    "Below you will get the link to Vertex AI Metadata UI in the console that will show the experiment lineage."
   ]
  },
  {
   "cell_type": "code",
   "execution_count": null,
   "id": "2cce7e09",
   "metadata": {
    "id": "4L_XvSllBeqC",
    "papermill": {
     "duration": null,
     "end_time": null,
     "exception": null,
     "start_time": null,
     "status": "pending"
    },
    "tags": []
   },
   "outputs": [],
   "source": [
    "print(\"Open the following link:\", exc.get_output_artifacts()[0].lineage_console_uri)"
   ]
  },
  {
   "cell_type": "markdown",
   "id": "5725ec1d",
   "metadata": {
    "id": "TpV-iwP9qw9c",
    "papermill": {
     "duration": null,
     "end_time": null,
     "exception": null,
     "start_time": null,
     "status": "pending"
    },
    "tags": []
   },
   "source": [
    "## Cleaning up\n",
    "\n",
    "To clean up all Google Cloud resources used in this project, you can [delete the Google Cloud\n",
    "project](https://cloud.google.com/resource-manager/docs/creating-managing-projects#shutting_down_projects) you used for the tutorial.\n",
    "\n",
    "Otherwise, you can delete the individual resources you created in this tutorial."
   ]
  },
  {
   "cell_type": "code",
   "execution_count": null,
   "id": "ebcf94fe",
   "metadata": {
    "id": "uGvJieN5BjPG",
    "papermill": {
     "duration": null,
     "end_time": null,
     "exception": null,
     "start_time": null,
     "status": "pending"
    },
    "tags": []
   },
   "outputs": [],
   "source": [
    "# Delete experiment\n",
    "exp = vertex_ai.Experiment(EXPERIMENT_NAME)\n",
    "exp.delete()"
   ]
  },
  {
   "cell_type": "code",
   "execution_count": null,
   "id": "f64d25dc",
   "metadata": {
    "id": "gW8Ddbr8xaKp",
    "papermill": {
     "duration": null,
     "end_time": null,
     "exception": null,
     "start_time": null,
     "status": "pending"
    },
    "tags": []
   },
   "outputs": [],
   "source": [
    "# Delete model\n",
    "model_list = vertex_ai.Model.list(filter=f'display_name=\"{MODEL_NAME}\"')\n",
    "for model in model_list:\n",
    "    model.delete()\n",
    "\n",
    "# Delete dataset\n",
    "for dataset_name in [DATASET_NAME, PREPROCESSED_DATASET_NAME]:\n",
    "    dataset_list = vertex_ai.TabularDataset.list(\n",
    "        filter=f'display_name=\"{dataset_name}\"'\n",
    "    )\n",
    "    for dataset in dataset_list:\n",
    "        dataset.delete()"
   ]
  },
  {
   "cell_type": "code",
   "execution_count": null,
   "id": "f2045160",
   "metadata": {
    "id": "sx_vKniMq9ZX",
    "papermill": {
     "duration": null,
     "end_time": null,
     "exception": null,
     "start_time": null,
     "status": "pending"
    },
    "tags": []
   },
   "outputs": [],
   "source": [
    "# Delete Cloud Storage objects that were created\n",
    "delete_bucket = False\n",
    "\n",
    "if delete_bucket or os.getenv(\"IS_TESTING\"):\n",
    "    ! gsutil -m rm -r n$BUCKET_URI"
   ]
  }
 ],
 "metadata": {
  "colab": {
   "collapsed_sections": [],
   "name": "build_model_experimentation_lineage_with_prebuild_code.ipynb",
   "toc_visible": true
  },
  "kernelspec": {
   "display_name": "Python 3",
   "name": "python3"
  },
  "language_info": {
   "codemirror_mode": {
    "name": "ipython",
    "version": 3
   },
   "file_extension": ".py",
   "mimetype": "text/x-python",
   "name": "python",
   "nbconvert_exporter": "python",
   "pygments_lexer": "ipython3",
   "version": "3.9.2"
  },
  "papermill": {
   "default_parameters": {},
   "duration": 97.433376,
   "end_time": "2022-06-23T17:52:10.256176",
   "environment_variables": {},
   "exception": true,
   "input_path": "notebooks/official/experiments/build_model_experimentation_lineage_with_prebuild_code.ipynb",
   "output_path": "notebooks/official/experiments/build_model_experimentation_lineage_with_prebuild_code.ipynb",
   "parameters": {},
   "start_time": "2022-06-23T17:50:32.822800",
   "version": "2.3.4"
  }
 },
 "nbformat": 4,
 "nbformat_minor": 5
}