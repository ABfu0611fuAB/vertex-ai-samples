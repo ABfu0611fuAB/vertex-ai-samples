{
 "cells": [
  {
   "cell_type": "code",
   "execution_count": null,
   "id": "95a2820e-2c3b-44db-a52c-3f7c6c4d6a20",
   "metadata": {
    "id": "18ebbd838e32"
   },
   "outputs": [],
   "source": [
    "# Copyright 2023 Google LLC\n",
    "#\n",
    "# Licensed under the Apache License, Version 2.0 (the \"License\");\n",
    "# you may not use this file except in compliance with the License.\n",
    "# You may obtain a copy of the License at\n",
    "#\n",
    "# https://www.apache.org/licenses/LICENSE-2.0\n",
    "#\n",
    "# Unless required by applicable law or agreed to in writing, software\n",
    "# distributed under the License is distributed on an \"AS IS\" BASIS,\n",
    "# WITHOUT WARRANTIES OR CONDITIONS OF ANY KIND, either express or implied.\n",
    "# See the License for the specific language governing permissions and\n",
    "# limitations under the License."
   ]
  },
  {
   "cell_type": "markdown",
   "id": "40d55237-22d3-40e6-92ca-82bf1d935378",
   "metadata": {},
   "source": [
    "# Tune the DreamBooth Stable Diffusion model using your own images"
   ]
  },
  {
   "cell_type": "code",
   "execution_count": 5,
   "id": "067304c0-653b-40aa-af21-1cf38bb61bfb",
   "metadata": {},
   "outputs": [
    {
     "name": "stdout",
     "output_type": "stream",
     "text": [
      "name, memory.total [MiB], memory.free [MiB]\n",
      "Tesla P100-PCIE-16GB, 16384 MiB, 16280 MiB\n"
     ]
    }
   ],
   "source": [
    "#@markdown Check type of GPU and VRAM available.\n",
    "!nvidia-smi --query-gpu=name,memory.total,memory.free --format=csv"
   ]
  },
  {
   "cell_type": "markdown",
   "id": "4d8eef7f-8c3a-428b-8c35-aafb754655ee",
   "metadata": {},
   "source": [
    "## Install dependencies\n",
    "Run in terminal\n",
    "```\n",
    "conda install pytorch torchvision torchaudio pytorch-cuda=11.6 -c pytorch -c nvidia\n",
    "```\n",
    "\n",
    "**NOTE: DID NOT WORK FOR REVIEWER** Switched to pip install instead"
   ]
  },
  {
   "cell_type": "code",
   "execution_count": 4,
   "id": "4e7594ae-e0b2-4309-913d-8d5f70775bce",
   "metadata": {},
   "outputs": [
    {
     "name": "stdout",
     "output_type": "stream",
     "text": [
      "Overwriting requirements.txt\n"
     ]
    }
   ],
   "source": [
    "%%writefile requirements.txt\n",
    "torch==1.9.1\n",
    "torchvision\n",
    "torchaudio\n",
    "tensorboard==1.15.0\n",
    "transformers\n",
    "ftfy\n",
    "bitsandbytes\n",
    "gradio\n",
    "ninja\n",
    "nvidia-pyindex\n",
    "nvidia-cuda-runtime\n",
    "natsort"
   ]
  },
  {
   "cell_type": "code",
   "execution_count": 5,
   "id": "d39c40f0-d2ea-4379-96bd-c96c520ac668",
   "metadata": {},
   "outputs": [
    {
     "name": "stdout",
     "output_type": "stream",
     "text": [
      "Looking in indexes: https://pypi.org/simple, https://pypi.ngc.nvidia.com\n",
      "Collecting torch==1.9.1\n",
      "  Downloading torch-1.9.1-cp37-cp37m-manylinux1_x86_64.whl (831.4 MB)\n",
      "\u001b[2K     \u001b[90m━━━━━━━━━━━━━━━━━━━━━━━━━━━━━━━━━━━━━\u001b[0m \u001b[32m831.4/831.4 MB\u001b[0m \u001b[31m172.5 MB/s\u001b[0m eta \u001b[36m0:00:00\u001b[0m00:01\u001b[0m00:01\u001b[0m\n",
      "\u001b[?25hRequirement already satisfied: torchvision in /opt/conda/lib/python3.7/site-packages (from -r requirements.txt (line 2)) (0.10.1+cu111)\n",
      "Requirement already satisfied: torchaudio in /opt/conda/lib/python3.7/site-packages (from -r requirements.txt (line 3)) (0.9.1)\n",
      "Requirement already satisfied: tensorboard==1.15.0 in /opt/conda/lib/python3.7/site-packages (from -r requirements.txt (line 4)) (1.15.0)\n",
      "Requirement already satisfied: transformers in /opt/conda/lib/python3.7/site-packages (from -r requirements.txt (line 5)) (4.26.0)\n",
      "Requirement already satisfied: ftfy in /opt/conda/lib/python3.7/site-packages (from -r requirements.txt (line 6)) (6.1.1)\n",
      "Requirement already satisfied: bitsandbytes in /opt/conda/lib/python3.7/site-packages (from -r requirements.txt (line 7)) (0.36.0.post2)\n",
      "Requirement already satisfied: gradio in /opt/conda/lib/python3.7/site-packages (from -r requirements.txt (line 8)) (3.17.0)\n",
      "Requirement already satisfied: ninja in /opt/conda/lib/python3.7/site-packages (from -r requirements.txt (line 9)) (1.11.1)\n",
      "Requirement already satisfied: nvidia-pyindex in /opt/conda/lib/python3.7/site-packages (from -r requirements.txt (line 10)) (1.0.9)\n",
      "Requirement already satisfied: nvidia-cuda-runtime in /opt/conda/lib/python3.7/site-packages (from -r requirements.txt (line 11)) (11.3.58)\n",
      "Requirement already satisfied: typing-extensions in /opt/conda/lib/python3.7/site-packages (from torch==1.9.1->-r requirements.txt (line 1)) (4.4.0)\n",
      "Requirement already satisfied: six>=1.10.0 in /opt/conda/lib/python3.7/site-packages (from tensorboard==1.15.0->-r requirements.txt (line 4)) (1.16.0)\n",
      "Requirement already satisfied: absl-py>=0.4 in /opt/conda/lib/python3.7/site-packages (from tensorboard==1.15.0->-r requirements.txt (line 4)) (1.4.0)\n",
      "Requirement already satisfied: grpcio>=1.6.3 in /opt/conda/lib/python3.7/site-packages (from tensorboard==1.15.0->-r requirements.txt (line 4)) (1.51.1)\n",
      "Requirement already satisfied: markdown>=2.6.8 in /opt/conda/lib/python3.7/site-packages (from tensorboard==1.15.0->-r requirements.txt (line 4)) (3.4.1)\n",
      "Requirement already satisfied: setuptools>=41.0.0 in /opt/conda/lib/python3.7/site-packages (from tensorboard==1.15.0->-r requirements.txt (line 4)) (66.1.1)\n",
      "Requirement already satisfied: wheel>=0.26 in /opt/conda/lib/python3.7/site-packages (from tensorboard==1.15.0->-r requirements.txt (line 4)) (0.38.4)\n",
      "Requirement already satisfied: werkzeug>=0.11.15 in /opt/conda/lib/python3.7/site-packages (from tensorboard==1.15.0->-r requirements.txt (line 4)) (2.2.2)\n",
      "Requirement already satisfied: numpy>=1.12.0 in /opt/conda/lib/python3.7/site-packages (from tensorboard==1.15.0->-r requirements.txt (line 4)) (1.21.6)\n",
      "Requirement already satisfied: protobuf>=3.6.0 in /opt/conda/lib/python3.7/site-packages (from tensorboard==1.15.0->-r requirements.txt (line 4)) (3.19.6)\n",
      "Requirement already satisfied: pillow>=5.3.0 in /opt/conda/lib/python3.7/site-packages (from torchvision->-r requirements.txt (line 2)) (9.4.0)\n",
      "Requirement already satisfied: regex!=2019.12.17 in /opt/conda/lib/python3.7/site-packages (from transformers->-r requirements.txt (line 5)) (2022.10.31)\n",
      "Requirement already satisfied: filelock in /opt/conda/lib/python3.7/site-packages (from transformers->-r requirements.txt (line 5)) (3.9.0)\n",
      "Requirement already satisfied: importlib-metadata in /opt/conda/lib/python3.7/site-packages (from transformers->-r requirements.txt (line 5)) (6.0.0)\n",
      "Requirement already satisfied: pyyaml>=5.1 in /opt/conda/lib/python3.7/site-packages (from transformers->-r requirements.txt (line 5)) (6.0)\n",
      "Requirement already satisfied: huggingface-hub<1.0,>=0.11.0 in /opt/conda/lib/python3.7/site-packages (from transformers->-r requirements.txt (line 5)) (0.12.0)\n",
      "Requirement already satisfied: tokenizers!=0.11.3,<0.14,>=0.11.1 in /opt/conda/lib/python3.7/site-packages (from transformers->-r requirements.txt (line 5)) (0.13.2)\n",
      "Requirement already satisfied: packaging>=20.0 in /opt/conda/lib/python3.7/site-packages (from transformers->-r requirements.txt (line 5)) (23.0)\n",
      "Requirement already satisfied: tqdm>=4.27 in /opt/conda/lib/python3.7/site-packages (from transformers->-r requirements.txt (line 5)) (4.64.1)\n",
      "Requirement already satisfied: requests in /opt/conda/lib/python3.7/site-packages (from transformers->-r requirements.txt (line 5)) (2.28.2)\n",
      "Requirement already satisfied: wcwidth>=0.2.5 in /opt/conda/lib/python3.7/site-packages (from ftfy->-r requirements.txt (line 6)) (0.2.6)\n",
      "Requirement already satisfied: aiofiles in /opt/conda/lib/python3.7/site-packages (from gradio->-r requirements.txt (line 8)) (22.1.0)\n",
      "Requirement already satisfied: jinja2 in /opt/conda/lib/python3.7/site-packages (from gradio->-r requirements.txt (line 8)) (3.1.2)\n",
      "Requirement already satisfied: orjson in /opt/conda/lib/python3.7/site-packages (from gradio->-r requirements.txt (line 8)) (3.8.5)\n",
      "Requirement already satisfied: pandas in /opt/conda/lib/python3.7/site-packages (from gradio->-r requirements.txt (line 8)) (1.3.5)\n",
      "Requirement already satisfied: matplotlib in /opt/conda/lib/python3.7/site-packages (from gradio->-r requirements.txt (line 8)) (3.5.3)\n",
      "Requirement already satisfied: aiohttp in /opt/conda/lib/python3.7/site-packages (from gradio->-r requirements.txt (line 8)) (3.8.3)\n",
      "Requirement already satisfied: altair>=4.2.0 in /opt/conda/lib/python3.7/site-packages (from gradio->-r requirements.txt (line 8)) (4.2.2)\n",
      "Requirement already satisfied: httpx in /opt/conda/lib/python3.7/site-packages (from gradio->-r requirements.txt (line 8)) (0.23.3)\n",
      "Requirement already satisfied: pycryptodome in /opt/conda/lib/python3.7/site-packages (from gradio->-r requirements.txt (line 8)) (3.17)\n",
      "Requirement already satisfied: uvicorn in /opt/conda/lib/python3.7/site-packages (from gradio->-r requirements.txt (line 8)) (0.20.0)\n",
      "Requirement already satisfied: websockets>=10.0 in /opt/conda/lib/python3.7/site-packages (from gradio->-r requirements.txt (line 8)) (10.4)\n",
      "Requirement already satisfied: markupsafe in /opt/conda/lib/python3.7/site-packages (from gradio->-r requirements.txt (line 8)) (2.1.2)\n",
      "Requirement already satisfied: markdown-it-py[linkify,plugins] in /opt/conda/lib/python3.7/site-packages (from gradio->-r requirements.txt (line 8)) (2.1.0)\n",
      "Requirement already satisfied: pydantic in /opt/conda/lib/python3.7/site-packages (from gradio->-r requirements.txt (line 8)) (1.10.4)\n",
      "Requirement already satisfied: python-multipart in /opt/conda/lib/python3.7/site-packages (from gradio->-r requirements.txt (line 8)) (0.0.5)\n",
      "Requirement already satisfied: ffmpy in /opt/conda/lib/python3.7/site-packages (from gradio->-r requirements.txt (line 8)) (0.3.0)\n",
      "Requirement already satisfied: fsspec in /opt/conda/lib/python3.7/site-packages (from gradio->-r requirements.txt (line 8)) (2023.1.0)\n",
      "Requirement already satisfied: pydub in /opt/conda/lib/python3.7/site-packages (from gradio->-r requirements.txt (line 8)) (0.25.1)\n",
      "Requirement already satisfied: fastapi in /opt/conda/lib/python3.7/site-packages (from gradio->-r requirements.txt (line 8)) (0.89.1)\n",
      "Requirement already satisfied: entrypoints in /opt/conda/lib/python3.7/site-packages (from altair>=4.2.0->gradio->-r requirements.txt (line 8)) (0.4)\n",
      "Requirement already satisfied: toolz in /opt/conda/lib/python3.7/site-packages (from altair>=4.2.0->gradio->-r requirements.txt (line 8)) (0.12.0)\n",
      "Requirement already satisfied: jsonschema>=3.0 in /opt/conda/lib/python3.7/site-packages (from altair>=4.2.0->gradio->-r requirements.txt (line 8)) (4.17.3)\n",
      "Requirement already satisfied: zipp>=0.5 in /opt/conda/lib/python3.7/site-packages (from importlib-metadata->transformers->-r requirements.txt (line 5)) (3.11.0)\n",
      "Requirement already satisfied: python-dateutil>=2.7.3 in /opt/conda/lib/python3.7/site-packages (from pandas->gradio->-r requirements.txt (line 8)) (2.8.2)\n",
      "Requirement already satisfied: pytz>=2017.3 in /opt/conda/lib/python3.7/site-packages (from pandas->gradio->-r requirements.txt (line 8)) (2022.7.1)\n",
      "Requirement already satisfied: attrs>=17.3.0 in /opt/conda/lib/python3.7/site-packages (from aiohttp->gradio->-r requirements.txt (line 8)) (22.2.0)\n",
      "Requirement already satisfied: yarl<2.0,>=1.0 in /opt/conda/lib/python3.7/site-packages (from aiohttp->gradio->-r requirements.txt (line 8)) (1.8.2)\n",
      "Requirement already satisfied: frozenlist>=1.1.1 in /opt/conda/lib/python3.7/site-packages (from aiohttp->gradio->-r requirements.txt (line 8)) (1.3.3)\n",
      "Requirement already satisfied: charset-normalizer<3.0,>=2.0 in /opt/conda/lib/python3.7/site-packages (from aiohttp->gradio->-r requirements.txt (line 8)) (2.1.1)\n",
      "Requirement already satisfied: multidict<7.0,>=4.5 in /opt/conda/lib/python3.7/site-packages (from aiohttp->gradio->-r requirements.txt (line 8)) (6.0.4)\n",
      "Requirement already satisfied: aiosignal>=1.1.2 in /opt/conda/lib/python3.7/site-packages (from aiohttp->gradio->-r requirements.txt (line 8)) (1.3.1)\n",
      "Requirement already satisfied: async-timeout<5.0,>=4.0.0a3 in /opt/conda/lib/python3.7/site-packages (from aiohttp->gradio->-r requirements.txt (line 8)) (4.0.2)\n",
      "Requirement already satisfied: asynctest==0.13.0 in /opt/conda/lib/python3.7/site-packages (from aiohttp->gradio->-r requirements.txt (line 8)) (0.13.0)\n",
      "Requirement already satisfied: starlette==0.22.0 in /opt/conda/lib/python3.7/site-packages (from fastapi->gradio->-r requirements.txt (line 8)) (0.22.0)\n",
      "Requirement already satisfied: anyio<5,>=3.4.0 in /opt/conda/lib/python3.7/site-packages (from starlette==0.22.0->fastapi->gradio->-r requirements.txt (line 8)) (3.6.2)\n",
      "Requirement already satisfied: sniffio in /opt/conda/lib/python3.7/site-packages (from httpx->gradio->-r requirements.txt (line 8)) (1.3.0)\n",
      "Requirement already satisfied: httpcore<0.17.0,>=0.15.0 in /opt/conda/lib/python3.7/site-packages (from httpx->gradio->-r requirements.txt (line 8)) (0.16.3)\n",
      "Requirement already satisfied: rfc3986[idna2008]<2,>=1.3 in /opt/conda/lib/python3.7/site-packages (from httpx->gradio->-r requirements.txt (line 8)) (1.5.0)\n",
      "Requirement already satisfied: certifi in /opt/conda/lib/python3.7/site-packages (from httpx->gradio->-r requirements.txt (line 8)) (2022.12.7)\n",
      "Requirement already satisfied: mdurl~=0.1 in /opt/conda/lib/python3.7/site-packages (from markdown-it-py[linkify,plugins]->gradio->-r requirements.txt (line 8)) (0.1.2)\n",
      "Requirement already satisfied: mdit-py-plugins in /opt/conda/lib/python3.7/site-packages (from markdown-it-py[linkify,plugins]->gradio->-r requirements.txt (line 8)) (0.3.3)\n",
      "Requirement already satisfied: linkify-it-py~=1.0 in /opt/conda/lib/python3.7/site-packages (from markdown-it-py[linkify,plugins]->gradio->-r requirements.txt (line 8)) (1.0.3)\n",
      "Requirement already satisfied: fonttools>=4.22.0 in /opt/conda/lib/python3.7/site-packages (from matplotlib->gradio->-r requirements.txt (line 8)) (4.38.0)\n",
      "Requirement already satisfied: kiwisolver>=1.0.1 in /opt/conda/lib/python3.7/site-packages (from matplotlib->gradio->-r requirements.txt (line 8)) (1.4.4)\n",
      "Requirement already satisfied: cycler>=0.10 in /opt/conda/lib/python3.7/site-packages (from matplotlib->gradio->-r requirements.txt (line 8)) (0.11.0)\n",
      "Requirement already satisfied: pyparsing>=2.2.1 in /opt/conda/lib/python3.7/site-packages (from matplotlib->gradio->-r requirements.txt (line 8)) (3.0.9)\n",
      "Requirement already satisfied: urllib3<1.27,>=1.21.1 in /opt/conda/lib/python3.7/site-packages (from requests->transformers->-r requirements.txt (line 5)) (1.26.14)\n",
      "Requirement already satisfied: idna<4,>=2.5 in /opt/conda/lib/python3.7/site-packages (from requests->transformers->-r requirements.txt (line 5)) (3.4)\n",
      "Requirement already satisfied: click>=7.0 in /opt/conda/lib/python3.7/site-packages (from uvicorn->gradio->-r requirements.txt (line 8)) (8.1.3)\n",
      "Requirement already satisfied: h11>=0.8 in /opt/conda/lib/python3.7/site-packages (from uvicorn->gradio->-r requirements.txt (line 8)) (0.14.0)\n",
      "Requirement already satisfied: pyrsistent!=0.17.0,!=0.17.1,!=0.17.2,>=0.14.0 in /opt/conda/lib/python3.7/site-packages (from jsonschema>=3.0->altair>=4.2.0->gradio->-r requirements.txt (line 8)) (0.19.3)\n",
      "Requirement already satisfied: pkgutil-resolve-name>=1.3.10 in /opt/conda/lib/python3.7/site-packages (from jsonschema>=3.0->altair>=4.2.0->gradio->-r requirements.txt (line 8)) (1.3.10)\n",
      "Requirement already satisfied: importlib-resources>=1.4.0 in /opt/conda/lib/python3.7/site-packages (from jsonschema>=3.0->altair>=4.2.0->gradio->-r requirements.txt (line 8)) (5.10.2)\n",
      "Requirement already satisfied: uc-micro-py in /opt/conda/lib/python3.7/site-packages (from linkify-it-py~=1.0->markdown-it-py[linkify,plugins]->gradio->-r requirements.txt (line 8)) (1.0.1)\n",
      "Installing collected packages: torch\n",
      "  Attempting uninstall: torch\n",
      "    Found existing installation: torch 1.13.1\n",
      "    Uninstalling torch-1.13.1:\n",
      "      Successfully uninstalled torch-1.13.1\n",
      "\u001b[31mERROR: pip's dependency resolver does not currently take into account all the packages that are installed. This behaviour is the source of the following dependency conflicts.\n",
      "xformers 0.0.16rc425 requires torch==1.13.1, but you have torch 1.9.1 which is incompatible.\u001b[0m\u001b[31m\n",
      "\u001b[0mSuccessfully installed torch-1.9.1\n"
     ]
    }
   ],
   "source": [
    "!pip install -r requirements.txt"
   ]
  },
  {
   "cell_type": "code",
   "execution_count": 9,
   "id": "583e68a4-281f-4dfe-ac63-67784c46ee66",
   "metadata": {},
   "outputs": [],
   "source": [
    "!sed -i '151 i\\            cuda_setup = CUDASetup.get_instance()' /opt/conda/lib/python3.7/site-packages/bitsandbytes/cuda_setup/main.py"
   ]
  },
  {
   "cell_type": "markdown",
   "id": "7181210a-c9b2-4ed6-8fb6-b52e603f619b",
   "metadata": {},
   "source": [
    "**HACK**: Manually uninstall the misplaced version of `nvidia_cublas_cu11`. Run the following command in the terminal.\n",
    "\n",
    "```bash\n",
    "pip uninstall nvidia_cublas_cu11\n",
    "```"
   ]
  },
  {
   "cell_type": "code",
   "execution_count": 9,
   "id": "fda8b8f8-97f4-4602-b465-552fd6f517f4",
   "metadata": {},
   "outputs": [
    {
     "name": "stdout",
     "output_type": "stream",
     "text": [
      "Looking in indexes: https://pypi.org/simple, https://pypi.ngc.nvidia.com\n",
      "Collecting git+https://github.com/ShivamShrirao/diffusers\n",
      "  Cloning https://github.com/ShivamShrirao/diffusers to /var/tmp/pip-req-build-3yhnnchd\n",
      "  Running command git clone --filter=blob:none --quiet https://github.com/ShivamShrirao/diffusers /var/tmp/pip-req-build-3yhnnchd\n",
      "  Resolved https://github.com/ShivamShrirao/diffusers to commit c1f887eccd2127f81283403ebcf9e2e435c8a9da\n",
      "  Installing build dependencies ... \u001b[?25ldone\n",
      "\u001b[?25h  Getting requirements to build wheel ... \u001b[?25ldone\n",
      "\u001b[?25h  Preparing metadata (pyproject.toml) ... \u001b[?25ldone\n",
      "\u001b[?25hRequirement already satisfied: huggingface-hub>=0.10.0 in /opt/conda/lib/python3.7/site-packages (from diffusers==0.9.0) (0.12.0)\n",
      "Requirement already satisfied: requests in /opt/conda/lib/python3.7/site-packages (from diffusers==0.9.0) (2.28.2)\n",
      "Requirement already satisfied: numpy in /opt/conda/lib/python3.7/site-packages (from diffusers==0.9.0) (1.21.6)\n",
      "Requirement already satisfied: filelock in /opt/conda/lib/python3.7/site-packages (from diffusers==0.9.0) (3.9.0)\n",
      "Requirement already satisfied: importlib-metadata in /opt/conda/lib/python3.7/site-packages (from diffusers==0.9.0) (6.0.0)\n",
      "Requirement already satisfied: regex!=2019.12.17 in /opt/conda/lib/python3.7/site-packages (from diffusers==0.9.0) (2022.10.31)\n",
      "Requirement already satisfied: Pillow in /opt/conda/lib/python3.7/site-packages (from diffusers==0.9.0) (9.4.0)\n",
      "Requirement already satisfied: typing-extensions>=3.7.4.3 in /opt/conda/lib/python3.7/site-packages (from huggingface-hub>=0.10.0->diffusers==0.9.0) (4.4.0)\n",
      "Requirement already satisfied: pyyaml>=5.1 in /opt/conda/lib/python3.7/site-packages (from huggingface-hub>=0.10.0->diffusers==0.9.0) (6.0)\n",
      "Requirement already satisfied: tqdm>=4.42.1 in /opt/conda/lib/python3.7/site-packages (from huggingface-hub>=0.10.0->diffusers==0.9.0) (4.64.1)\n",
      "Requirement already satisfied: packaging>=20.9 in /opt/conda/lib/python3.7/site-packages (from huggingface-hub>=0.10.0->diffusers==0.9.0) (23.0)\n",
      "Requirement already satisfied: zipp>=0.5 in /opt/conda/lib/python3.7/site-packages (from importlib-metadata->diffusers==0.9.0) (3.11.0)\n",
      "Requirement already satisfied: urllib3<1.27,>=1.21.1 in /opt/conda/lib/python3.7/site-packages (from requests->diffusers==0.9.0) (1.26.14)\n",
      "Requirement already satisfied: charset-normalizer<4,>=2 in /opt/conda/lib/python3.7/site-packages (from requests->diffusers==0.9.0) (2.1.1)\n",
      "Requirement already satisfied: idna<4,>=2.5 in /opt/conda/lib/python3.7/site-packages (from requests->diffusers==0.9.0) (3.4)\n",
      "Requirement already satisfied: certifi>=2017.4.17 in /opt/conda/lib/python3.7/site-packages (from requests->diffusers==0.9.0) (2022.12.7)\n",
      "Note: you may need to restart the kernel to use updated packages.\n",
      "Looking in indexes: https://pypi.org/simple, https://pypi.ngc.nvidia.com\n",
      "Requirement already satisfied: triton in /opt/conda/lib/python3.7/site-packages (2.0.0.dev20221202)\n",
      "Requirement already satisfied: torch in /opt/conda/lib/python3.7/site-packages (from triton) (1.13.1)\n",
      "Requirement already satisfied: filelock in /opt/conda/lib/python3.7/site-packages (from triton) (3.9.0)\n",
      "Requirement already satisfied: cmake in /opt/conda/lib/python3.7/site-packages (from triton) (3.25.0)\n",
      "Requirement already satisfied: nvidia-cudnn-cu11==8.5.0.96 in /opt/conda/lib/python3.7/site-packages (from torch->triton) (8.5.0.96)\n",
      "Requirement already satisfied: nvidia-cublas-cu11==11.10.3.66 in /opt/conda/lib/python3.7/site-packages (from torch->triton) (11.10.3.66)\n",
      "Requirement already satisfied: nvidia-cuda-runtime-cu11==11.7.99 in /opt/conda/lib/python3.7/site-packages (from torch->triton) (11.7.99)\n",
      "Requirement already satisfied: typing-extensions in /opt/conda/lib/python3.7/site-packages (from torch->triton) (4.4.0)\n",
      "Requirement already satisfied: nvidia-cuda-nvrtc-cu11==11.7.99 in /opt/conda/lib/python3.7/site-packages (from torch->triton) (11.7.99)\n",
      "Requirement already satisfied: setuptools in /opt/conda/lib/python3.7/site-packages (from nvidia-cublas-cu11==11.10.3.66->torch->triton) (66.1.1)\n",
      "Requirement already satisfied: wheel in /opt/conda/lib/python3.7/site-packages (from nvidia-cublas-cu11==11.10.3.66->torch->triton) (0.38.4)\n",
      "Note: you may need to restart the kernel to use updated packages.\n",
      "Looking in indexes: https://pypi.org/simple, https://pypi.ngc.nvidia.com\n",
      "Requirement already satisfied: xformers in /opt/conda/lib/python3.7/site-packages (0.0.16rc425)\n",
      "Requirement already satisfied: torch==1.13.1 in /opt/conda/lib/python3.7/site-packages (from xformers) (1.13.1)\n",
      "Requirement already satisfied: pyre-extensions==0.0.23 in /opt/conda/lib/python3.7/site-packages (from xformers) (0.0.23)\n",
      "Requirement already satisfied: numpy in /opt/conda/lib/python3.7/site-packages (from xformers) (1.21.6)\n",
      "Requirement already satisfied: typing-extensions in /opt/conda/lib/python3.7/site-packages (from pyre-extensions==0.0.23->xformers) (4.4.0)\n",
      "Requirement already satisfied: typing-inspect in /opt/conda/lib/python3.7/site-packages (from pyre-extensions==0.0.23->xformers) (0.8.0)\n",
      "Requirement already satisfied: nvidia-cuda-runtime-cu11==11.7.99 in /opt/conda/lib/python3.7/site-packages (from torch==1.13.1->xformers) (11.7.99)\n",
      "Requirement already satisfied: nvidia-cublas-cu11==11.10.3.66 in /opt/conda/lib/python3.7/site-packages (from torch==1.13.1->xformers) (11.10.3.66)\n",
      "Requirement already satisfied: nvidia-cudnn-cu11==8.5.0.96 in /opt/conda/lib/python3.7/site-packages (from torch==1.13.1->xformers) (8.5.0.96)\n",
      "Requirement already satisfied: nvidia-cuda-nvrtc-cu11==11.7.99 in /opt/conda/lib/python3.7/site-packages (from torch==1.13.1->xformers) (11.7.99)\n",
      "Requirement already satisfied: wheel in /opt/conda/lib/python3.7/site-packages (from nvidia-cublas-cu11==11.10.3.66->torch==1.13.1->xformers) (0.38.4)\n",
      "Requirement already satisfied: setuptools in /opt/conda/lib/python3.7/site-packages (from nvidia-cublas-cu11==11.10.3.66->torch==1.13.1->xformers) (66.1.1)\n",
      "Requirement already satisfied: mypy-extensions>=0.3.0 in /opt/conda/lib/python3.7/site-packages (from typing-inspect->pyre-extensions==0.0.23->xformers) (0.4.3)\n",
      "Note: you may need to restart the kernel to use updated packages.\n",
      "Looking in indexes: https://pypi.org/simple, https://pypi.ngc.nvidia.com\n",
      "Collecting accelerate==0.15.0\n",
      "  Downloading accelerate-0.15.0-py3-none-any.whl (191 kB)\n",
      "\u001b[2K     \u001b[90m━━━━━━━━━━━━━━━━━━━━━━━━━━━━━━━━━━━━━━━\u001b[0m \u001b[32m191.5/191.5 kB\u001b[0m \u001b[31m8.5 MB/s\u001b[0m eta \u001b[36m0:00:00\u001b[0m\n",
      "\u001b[?25hRequirement already satisfied: numpy>=1.17 in /opt/conda/lib/python3.7/site-packages (from accelerate==0.15.0) (1.21.6)\n",
      "Requirement already satisfied: pyyaml in /opt/conda/lib/python3.7/site-packages (from accelerate==0.15.0) (6.0)\n",
      "Requirement already satisfied: psutil in /opt/conda/lib/python3.7/site-packages (from accelerate==0.15.0) (5.9.3)\n",
      "Requirement already satisfied: packaging>=20.0 in /opt/conda/lib/python3.7/site-packages (from accelerate==0.15.0) (23.0)\n",
      "Requirement already satisfied: torch>=1.4.0 in /opt/conda/lib/python3.7/site-packages (from accelerate==0.15.0) (1.13.1)\n",
      "Requirement already satisfied: typing-extensions in /opt/conda/lib/python3.7/site-packages (from torch>=1.4.0->accelerate==0.15.0) (4.4.0)\n",
      "Requirement already satisfied: nvidia-cuda-runtime-cu11==11.7.99 in /opt/conda/lib/python3.7/site-packages (from torch>=1.4.0->accelerate==0.15.0) (11.7.99)\n",
      "Requirement already satisfied: nvidia-cuda-nvrtc-cu11==11.7.99 in /opt/conda/lib/python3.7/site-packages (from torch>=1.4.0->accelerate==0.15.0) (11.7.99)\n",
      "Requirement already satisfied: nvidia-cudnn-cu11==8.5.0.96 in /opt/conda/lib/python3.7/site-packages (from torch>=1.4.0->accelerate==0.15.0) (8.5.0.96)\n",
      "Requirement already satisfied: nvidia-cublas-cu11==11.10.3.66 in /opt/conda/lib/python3.7/site-packages (from torch>=1.4.0->accelerate==0.15.0) (11.10.3.66)\n",
      "Requirement already satisfied: wheel in /opt/conda/lib/python3.7/site-packages (from nvidia-cublas-cu11==11.10.3.66->torch>=1.4.0->accelerate==0.15.0) (0.38.4)\n",
      "Requirement already satisfied: setuptools in /opt/conda/lib/python3.7/site-packages (from nvidia-cublas-cu11==11.10.3.66->torch>=1.4.0->accelerate==0.15.0) (66.1.1)\n",
      "Installing collected packages: accelerate\n",
      "  Attempting uninstall: accelerate\n",
      "    Found existing installation: accelerate 0.12.0\n",
      "    Uninstalling accelerate-0.12.0:\n",
      "      Successfully uninstalled accelerate-0.12.0\n",
      "Successfully installed accelerate-0.15.0\n",
      "Note: you may need to restart the kernel to use updated packages.\n"
     ]
    }
   ],
   "source": [
    "!wget -q https://github.com/ShivamShrirao/diffusers/raw/main/examples/dreambooth/train_dreambooth.py\n",
    "%pip install git+https://github.com/ShivamShrirao/diffusers\n",
    "%pip install -U --pre triton\n",
    "%pip install -U --pre xformers\n",
    "#%pip install accelerate==0.12.0\n",
    "%pip install accelerate==0.15.0"
   ]
  },
  {
   "cell_type": "markdown",
   "id": "689fdc31-8d7d-4853-9897-256cab8b2863",
   "metadata": {},
   "source": [
    "## Configure paths for inputs and outputs"
   ]
  },
  {
   "cell_type": "code",
   "execution_count": 1,
   "id": "966fd3a0-ffa3-4bc9-b597-74c5d7669c7f",
   "metadata": {},
   "outputs": [
    {
     "name": "stdout",
     "output_type": "stream",
     "text": [
      "[*] Weights will be saved at /home/jupyter/stable_diffusion_weights/output\n"
     ]
    }
   ],
   "source": [
    "#@markdown Name/Path of the initial model.\n",
    "MODEL_NAME = \"CompVis/stable-diffusion-v1-4\" #@param {type:\"string\"}\n",
    "\n",
    "#@markdown Path for images of the concept for training.\n",
    "INSTANCE_DIR = \"/home/jupyter/DogInput\" #@param {type:\"string\"}\n",
    "\n",
    "# #@markdown A general name for class like dog for dog images.\n",
    "CLASS_DIR = f\"/home/jupyter/dog\"\n",
    "\n",
    "#@markdown If model weights should be saved directly in google drive (takes around 4-5 GB).\n",
    "save_to_gdrive = False #@param {type:\"boolean\"}\n",
    "if save_to_gdrive:\n",
    "    from google.colab import drive\n",
    "    # make sure google drive is unmounted before remount\n",
    "    drive.mount('/content/drive')\n",
    "\n",
    "#@markdown Enter the directory name to save model at.\n",
    "OUTPUT_DIR = \"stable_diffusion_weights/output\" #@param {type:\"string\"}\n",
    "if save_to_gdrive:\n",
    "    OUTPUT_DIR = \"/content/drive/MyDrive/\" + OUTPUT_DIR\n",
    "else:\n",
    "    OUTPUT_DIR = \"/home/jupyter/\" + OUTPUT_DIR\n",
    "\n",
    "print(f\"[*] Weights will be saved at {OUTPUT_DIR}\")\n",
    "\n",
    "!mkdir -p $INSTANCE_DIR\n",
    "!mkdir -p $OUTPUT_DIR\n",
    "\n",
    "#@markdown sks is a rare identifier, feel free to replace it."
   ]
  },
  {
   "cell_type": "markdown",
   "id": "52cfa0cd-f4ca-4175-a25a-886075b3747f",
   "metadata": {},
   "source": [
    "## Start training"
   ]
  },
  {
   "cell_type": "code",
   "execution_count": 11,
   "id": "71d097bf-e9bd-43b1-8355-5abb3c20711d",
   "metadata": {},
   "outputs": [
    {
     "name": "stdout",
     "output_type": "stream",
     "text": [
      "\u001b[2;36m[22:18:55]\u001b[0m\u001b[2;36m \u001b[0m\u001b[31mWARNING \u001b[0m The following values were not passed to       \u001b]8;id=794748;file:///opt/conda/lib/python3.7/site-packages/accelerate/commands/launch.py\u001b\\\u001b[2mlaunch.py\u001b[0m\u001b]8;;\u001b\\\u001b[2m:\u001b[0m\u001b]8;id=834181;file:///opt/conda/lib/python3.7/site-packages/accelerate/commands/launch.py#1088\u001b\\\u001b[2m1088\u001b[0m\u001b]8;;\u001b\\\n",
      "\u001b[2;36m           \u001b[0m         `accelerate launch` and had defaults used     \u001b[2m              \u001b[0m\n",
      "\u001b[2;36m           \u001b[0m         instead:                                      \u001b[2m              \u001b[0m\n",
      "\u001b[2;36m           \u001b[0m                 `--num_processes` was set to a value  \u001b[2m              \u001b[0m\n",
      "\u001b[2;36m           \u001b[0m         of `\u001b[1;36m1\u001b[0m`                                        \u001b[2m              \u001b[0m\n",
      "\u001b[2;36m           \u001b[0m                 `--num_machines` was set to a value   \u001b[2m              \u001b[0m\n",
      "\u001b[2;36m           \u001b[0m         of `\u001b[1;36m1\u001b[0m`                                        \u001b[2m              \u001b[0m\n",
      "\u001b[2;36m           \u001b[0m                 `--mixed_precision` was set to a      \u001b[2m              \u001b[0m\n",
      "\u001b[2;36m           \u001b[0m         value of `\u001b[32m'no'\u001b[0m`                               \u001b[2m              \u001b[0m\n",
      "\u001b[2;36m           \u001b[0m                 `--dynamo_backend` was set to a value \u001b[2m              \u001b[0m\n",
      "\u001b[2;36m           \u001b[0m         of `\u001b[32m'no'\u001b[0m`                                     \u001b[2m              \u001b[0m\n",
      "\u001b[2;36m           \u001b[0m         To avoid this warning pass in values for each \u001b[2m              \u001b[0m\n",
      "\u001b[2;36m           \u001b[0m         of the problematic parameters or run          \u001b[2m              \u001b[0m\n",
      "\u001b[2;36m           \u001b[0m         `accelerate config`.                          \u001b[2m              \u001b[0m\n",
      "\n",
      "===================================BUG REPORT===================================\n",
      "Welcome to bitsandbytes. For bug reports, please submit your error trace to: https://github.com/TimDettmers/bitsandbytes/issues\n",
      "For effortless bug reporting copy-paste your error into this form: https://docs.google.com/forms/d/e/1FAIpQLScPB8emS3Thkp66nvqwmjTEgxp8Y9ufuWTzFyr9kJ5AoI47dQ/viewform?usp=sf_link\n",
      "================================================================================\n",
      "/opt/conda/lib/python3.7/site-packages/bitsandbytes/cuda_setup/main.py:134: UserWarning: /opt/conda did not contain libcudart.so as expected! Searching further paths...\n",
      "  warn(msg)\n",
      "CUDA SETUP: CUDA runtime path found: /usr/local/cuda/lib64/libcudart.so\n",
      "CUDA SETUP: Highest compute capability among GPUs detected: 6.0\n",
      "CUDA SETUP: Detected CUDA version 110\n",
      "/opt/conda/lib/python3.7/site-packages/bitsandbytes/cuda_setup/main.py:134: UserWarning: WARNING: Compute capability < 7.5 detected! Proceeding to load CPU-only library...\n",
      "  warn(msg)\n",
      "CUDA SETUP: Loading binary /opt/conda/lib/python3.7/site-packages/bitsandbytes/libbitsandbytes_cuda110_nocublaslt.so...\n",
      "/opt/conda/lib/python3.7/site-packages/diffusers/utils/deprecation_utils.py:35: FutureWarning: It is deprecated to pass a pretrained model name or path to `from_config`.If you were trying to load a scheduler, please use <class 'diffusers.schedulers.scheduling_ddpm.DDPMScheduler'>.from_pretrained(...) instead. Otherwise, please make sure to pass a configuration dictionary instead. This functionality will be removed in v1.0.0.\n",
      "  warnings.warn(warning + message, FutureWarning)\n",
      "Caching latents: 100%|████████████████████████████| 5/5 [00:03<00:00,  1.32it/s]\n",
      "Steps: 100%|████████████████| 5/5 [00:13<00:00,  2.12s/it, loss=0.0524, lr=5e-6]\n",
      "Fetching 16 files: 100%|█████████████████████| 16/16 [00:00<00:00, 12666.83it/s]\u001b[A\n",
      "/opt/conda/lib/python3.7/site-packages/diffusers/utils/deprecation_utils.py:35: FutureWarning: The configuration file of this scheduler: DDIMScheduler {\n",
      "  \"_class_name\": \"DDIMScheduler\",\n",
      "  \"_diffusers_version\": \"0.9.0\",\n",
      "  \"beta_end\": 0.012,\n",
      "  \"beta_schedule\": \"scaled_linear\",\n",
      "  \"beta_start\": 0.00085,\n",
      "  \"clip_sample\": false,\n",
      "  \"num_train_timesteps\": 1000,\n",
      "  \"prediction_type\": \"epsilon\",\n",
      "  \"set_alpha_to_one\": false,\n",
      "  \"steps_offset\": 0,\n",
      "  \"trained_betas\": null\n",
      "}\n",
      " is outdated. `steps_offset` should be set to 1 instead of 0. Please make sure to update the config accordingly as leaving `steps_offset` might led to incorrect results in future versions. If you have downloaded this checkpoint from the Hugging Face Hub, it would be very nice if you could open a Pull request for the `scheduler/scheduler_config.json` file\n",
      "  warnings.warn(warning + message, FutureWarning)\n",
      "[*] Weights saved at /home/jupyter/stable_diffusion_weights/output/5\n",
      "Steps: 100%|████████████████| 5/5 [00:24<00:00,  4.88s/it, loss=0.0524, lr=5e-6]\n"
     ]
    }
   ],
   "source": [
    "#@title Setting up all training args\n",
    "from argparse import Namespace\n",
    "\n",
    "args = Namespace(\n",
    "    pretrained_model_name_or_path=MODEL_NAME,\n",
    "    center_crop=True,\n",
    "    instance_data_dir=INSTANCE_DIR,\n",
    "    #@markdown `instance_prompt` is a prompt that should contain a good description of what your object or style is\n",
    "    instance_prompt=\"dog\"  #@param {type:\"string\"}\n",
    "    ,\n",
    "    #@markdown `class_prompt` is a prompt that should contain a good description of what the class your object belongs to\n",
    "    class_prompt=\"dog\"  #@param {type:\"string\"}\n",
    "    ,\n",
    "    resolution=512 #@param {type:\"number\"}\n",
    "    ,\n",
    "    learning_rate=5e-06  #@param {type:\"number\"}\n",
    "    ,\n",
    "    max_train_steps=1000  #@param {type:\"number\"}\n",
    "    ,\n",
    "    train_batch_size=1,\n",
    "    gradient_accumulation_steps=1,\n",
    "    max_grad_norm=1.0,\n",
    "    mixed_precision=\"fp16\",\n",
    "    prior_loss_weight=1.0  #@param {type:\"number\"}\n",
    "    ,\n",
    "    sample_batch_size=4, # default: 2\n",
    "    class_data_dir=CLASS_DIR,\n",
    "    num_class_images=5  #@param {type:\"number\"}\n",
    "    ,\n",
    "    output_dir=OUTPUT_DIR,\n",
    "    lr_scheduler=\"constant\",\n",
    "    lr_warmup_steps=0,\n",
    "    seed=1337 #@param {type:\"number\"}\n",
    ")\n",
    "\n",
    "#@markdown ---\n",
    "\n",
    "#@markdown #Memory Usage Tips\n",
    "\n",
    "#@markdown Click `Show code`, add `--gradient_checkpointing` flag for around 9.92 GB VRAM usage.\n",
    "\n",
    "#@markdown remove `--use_8bit_adam` flag for full precision. Requires 15.79 GB with `--gradient_checkpointing` else 17.8 GB.\n",
    "\n",
    "!accelerate launch train_dreambooth.py \\\n",
    "--pretrained_model_name_or_path=$MODEL_NAME \\\n",
    "--instance_data_dir=$INSTANCE_DIR \\\n",
    "--class_data_dir=$CLASS_DIR \\\n",
    "--output_dir=$OUTPUT_DIR \\\n",
    "--with_prior_preservation \\\n",
    "--prior_loss_weight=1.0 \\\n",
    "--instance_prompt=\"dog\" \\\n",
    "--class_prompt=\"dog\" \\\n",
    "--seed=1337 \\\n",
    "--resolution=512 \\\n",
    "--center_crop \\\n",
    "--train_batch_size=1 \\\n",
    "--mixed_precision=\"fp16\" \\\n",
    "--use_8bit_adam \\\n",
    "--gradient_accumulation_steps=1 \\\n",
    "--learning_rate=5e-06  \\\n",
    "--lr_scheduler=\"constant\" \\\n",
    "--lr_warmup_steps=0 \\\n",
    "--num_class_images=5 \\\n",
    "--sample_batch_size=4"
   ]
  },
  {
   "cell_type": "markdown",
   "id": "7123482b-e653-4ac8-a49a-8a1ba57ac11b",
   "metadata": {},
   "source": [
    "## View output of training"
   ]
  },
  {
   "cell_type": "code",
   "execution_count": null,
   "id": "b0d5aa4e-4dbf-4a8e-8154-800b9deca71e",
   "metadata": {},
   "outputs": [
    {
     "name": "stdout",
     "output_type": "stream",
     "text": [
      "[*] WEIGHTS_DIR=/home/jupyter/stable_diffusion_weights/output/5\n"
     ]
    }
   ],
   "source": [
    "#@markdown Specify the weights directory to use (leave blank for latest)\n",
    "WEIGHTS_DIR = \"\" #@param {type:\"string\"}\n",
    "if WEIGHTS_DIR == \"\":\n",
    "    from natsort import natsorted\n",
    "    from glob import glob\n",
    "    import os\n",
    "    WEIGHTS_DIR = natsorted(glob(OUTPUT_DIR + os.sep + \"*\"))[-1]\n",
    "print(f\"[*] WEIGHTS_DIR={WEIGHTS_DIR}\")"
   ]
  },
  {
   "cell_type": "code",
   "execution_count": 16,
   "id": "4013986c-7370-4c8a-bfdd-570b4309a8e1",
   "metadata": {},
   "outputs": [],
   "source": [
    "!wget -q https://gist.github.com/jachiam/8a5c0b607e38fcc585168b90c686eb05/raw/2af0a9c0237ed98b863a75e1db21d7ed5541094f/convert_diffusers_to_sd.py"
   ]
  },
  {
   "cell_type": "code",
   "execution_count": 17,
   "id": "9795a719-b3ba-4cb2-ab1d-d68006a93a93",
   "metadata": {},
   "outputs": [],
   "source": [
    "!mv {WEIGHTS_DIR}/* {OUTPUT_DIR}"
   ]
  },
  {
   "cell_type": "code",
   "execution_count": null,
   "id": "2bebee56-043f-4303-a3ec-bd4b84bd57ee",
   "metadata": {},
   "outputs": [],
   "source": []
  }
 ],
 "metadata": {
  "environment": {
   "kernel": "python3",
   "name": "common-cu110.m103",
   "type": "gcloud",
   "uri": "gcr.io/deeplearning-platform-release/base-cu110:m103"
  },
  "kernelspec": {
   "display_name": "Python 3",
   "language": "python",
   "name": "python3"
  },
  "language_info": {
   "codemirror_mode": {
    "name": "ipython",
    "version": 3
   },
   "file_extension": ".py",
   "mimetype": "text/x-python",
   "name": "python",
   "nbconvert_exporter": "python",
   "pygments_lexer": "ipython3",
   "version": "3.7.12"
  }
 },
 "nbformat": 4,
 "nbformat_minor": 5
}
