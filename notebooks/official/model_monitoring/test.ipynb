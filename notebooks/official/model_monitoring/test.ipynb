{
 "cells": [
  {
   "cell_type": "markdown",
   "id": "5c1f49f1-aade-435f-b1ad-4e127de6280f",
   "metadata": {},
   "source": [
    "## Test CI notebook execution for METADATA error issues with TFDV and Vertex AI"
   ]
  },
  {
   "cell_type": "markdown",
   "id": "901a1787-1b14-4142-aae0-36883eb4f963",
   "metadata": {},
   "source": [
    "### Case 1:\n",
    "\n",
    "! pip3 install tensorflow-data-validation\n",
    "\n",
    "Error:\n",
    "FileNotFoundError: [Errno 2] No such file or directory: '/workspace/workspace/env/lib/python3.9/site-packages/protobuf-3.20.3.dist-info/METADATA'"
   ]
  },
  {
   "cell_type": "markdown",
   "id": "63a751b3-d3de-4f05-a711-b417fb5ee2f5",
   "metadata": {},
   "source": [
    "### Case 2:\n",
    "! pip3 install tensorflow-data-validation \\\n",
    "               protobuf\n",
    "               \n",
    "Error:\n",
    "FileNotFoundError: [Errno 2] No such file or directory: '/workspace/workspace/env/lib/python3.9/site-packages/protobuf-3.20.3.dist-info/METADATA'"
   ]
  },
  {
   "cell_type": "markdown",
   "id": "4e00f05f-15ed-4628-bfe9-41200cb85ce9",
   "metadata": {},
   "source": [
    "### Case 3:\n",
    "\n",
    "! pip3 install protobuf \\\n",
    "               tensorflow-data-validation\n",
    "               \n",
    "Error:\n",
    "FileNotFoundError: [Errno 2] No such file or directory: '/workspace/workspace/env/lib/python3.9/site-packages/protobuf-3.20.3.dist-info/METADATA'"
   ]
  },
  {
   "cell_type": "markdown",
   "id": "1165d98f-cf64-47ab-9f45-73f34855bb03",
   "metadata": {},
   "source": [
    "### Case 4:\n",
    "\n",
    "! pip3 install tensorflow-data-validation \\\n",
    "               protobuf==3.20.3\n",
    "               \n",
    "Error:\n",
    "FileNotFoundError: [Errno 2] No such file or directory: '/workspace/workspace/env/lib/python3.9/site-packages/cachetools-5.2.0.dist-info/METADATA'"
   ]
  },
  {
   "cell_type": "markdown",
   "id": "5b6eeb0e-7fc7-4276-86ae-b70e40123b39",
   "metadata": {},
   "source": [
    "### Case 5:\n",
    "\n",
    "! pip3 install tensorflow-data-validation \\\n",
    "               protobuf==3.20.3 \\\n",
    "               cachetools==5.2.0\n",
    "      \n",
    "Error:\n",
    " INFO: pip is looking at multiple versions of <Python from Requires-Python> to determine which version is compatible with other requirements. This could take a while.\n",
    "Step #5: Step #4: ERROR: Cannot install apache-beam[gcp]==2.38.0, apache-beam[gcp]==2.39.0, apache-beam[gcp]==2.40.0, apache-beam[gcp]==2.41.0, apache-beam[gcp]==2.42.0, apache-beam[gcp]==2.43.0 and cachetools==5.2.0 because these package versions have conflicting dependencies.\n",
    "\n",
    "Step #5: Step #4: ModuleNotFoundError: No module named 'tensorflow_data_validation'        "
   ]
  },
  {
   "cell_type": "markdown",
   "id": "3d622b24-5589-4c90-b47a-a2fe36fa477e",
   "metadata": {},
   "source": [
    "### Case 6:\n",
    "\n",
    "! pip3 install tensorflow-data-validation \\\n",
    "               protobuf==3.20.3\n",
    "! pip3 install cachetools==5.2.0\n",
    "\n",
    "! pip3 freeze\n",
    "\n",
    "SUCCEEDED"
   ]
  },
  {
   "cell_type": "code",
   "execution_count": null,
   "id": "49f08daf-c3c3-4a1f-9894-a7a312c774c8",
   "metadata": {},
   "outputs": [],
   "source": [
    "! pip3 install google-cloud-aiplatform \\\n",
    "               tensorflow-data-validation \\\n",
    "               protobuf==3.20.3\n",
    "! pip3 install cachetools==5.2.0"
   ]
  },
  {
   "cell_type": "code",
   "execution_count": null,
   "id": "709ac3bb-9528-4813-83e9-a06e5611f49f",
   "metadata": {},
   "outputs": [],
   "source": [
    "import google.cloud.aiplatform as aiplatform\n",
    "import tensorflow_data_validation as tfdv"
   ]
  },
  {
   "cell_type": "code",
   "execution_count": null,
   "id": "28b10c5b-88f5-46c3-80c8-b1460bf50c24",
   "metadata": {},
   "outputs": [],
   "source": []
  }
 ],
 "metadata": {
  "environment": {
   "kernel": "python3",
   "name": "common-cpu.m95",
   "type": "gcloud",
   "uri": "gcr.io/deeplearning-platform-release/base-cpu:m95"
  },
  "kernelspec": {
   "display_name": "Python 3",
   "language": "python",
   "name": "python3"
  },
  "language_info": {
   "codemirror_mode": {
    "name": "ipython",
    "version": 3
   },
   "file_extension": ".py",
   "mimetype": "text/x-python",
   "name": "python",
   "nbconvert_exporter": "python",
   "pygments_lexer": "ipython3",
   "version": "3.7.12"
  }
 },
 "nbformat": 4,
 "nbformat_minor": 5
}
