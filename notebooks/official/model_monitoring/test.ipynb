{
  "cells": [
    {
      "cell_type": "markdown",
      "id": "5c1f49f1-aade-435f-b1ad-4e127de6280f",
      "metadata": {
        "id": "605a7337b617"
      },
      "source": [
        "## Test CI notebook execution for METADATA error issues with TFDV and Vertex AI"
      ]
    },
    {
      "cell_type": "code",
      "execution_count": null,
      "id": "dc65f639-f5b4-4d8e-a204-f1f951ab6df0",
      "metadata": {
        "id": "4bc9122eb79c"
      },
      "outputs": [],
      "source": [
        "! pip3 install tensorflow-data-validation"
      ]
    },
    {
      "cell_type": "code",
      "execution_count": null,
      "id": "709ac3bb-9528-4813-83e9-a06e5611f49f",
      "metadata": {
        "id": "2e4424ec89c6"
      },
      "outputs": [],
      "source": [
        "import tensorflow_data_validation as tfdv"
      ]
    }
  ],
  "metadata": {
    "colab": {
      "name": "test.ipynb",
      "toc_visible": true
    },
    "kernelspec": {
      "display_name": "Python 3",
      "name": "python3"
    }
  },
  "nbformat": 4,
  "nbformat_minor": 0
}
