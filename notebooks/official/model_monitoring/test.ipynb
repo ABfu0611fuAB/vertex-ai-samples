{
  "cells": [
    {
      "cell_type": "code",
      "execution_count": null,
      "id": "415646a6-b435-409f-856b-ad06676c8dd2",
      "metadata": {
        "id": "030a58f6095a"
      },
      "outputs": [],
      "source": [
        "import os\n",
        "\n",
        "# The Vertex AI Workbench Notebook product has specific requirements\n",
        "IS_WORKBENCH_NOTEBOOK = os.getenv(\"DL_ANACONDA_HOME\") and not os.getenv(\"VIRTUAL_ENV\")\n",
        "IS_USER_MANAGED_WORKBENCH_NOTEBOOK = os.path.exists(\n",
        "    \"/opt/deeplearning/metadata/env_version\"\n",
        ")\n",
        "\n",
        "# Vertex AI Notebook requires dependencies to be installed with '--user'\n",
        "USER_FLAG = \"\"\n",
        "if IS_WORKBENCH_NOTEBOOK:\n",
        "    USER_FLAG = \"--user\"\n",
        "\n",
        "# Install the packages\n",
        "! pip3 install {USER_FLAG} -q --upgrade google-cloud-aiplatform \\\n",
        "                                        google-cloud-storage \\\n",
        "                                        pandas-gbq\n",
        "\n",
        "! pip3 install {USER_FLAG} -q -U google-cloud-aiplatform \"shapely<2\" \\\n",
        "                                 tensorflow==2.7 \\\n",
        "                                 google-api-core==2.10"
      ]
    },
    {
      "cell_type": "code",
      "execution_count": null,
      "id": "7018941a-8076-4dec-85cd-ad35394ad1ef",
      "metadata": {
        "id": "808793999306"
      },
      "outputs": [],
      "source": [
        "import google.cloud.aiplatform as aiplatform\n",
        "import pandas as pd\n",
        "import tensorflow"
      ]
    }
  ],
  "metadata": {
    "colab": {
      "name": "test.ipynb",
      "toc_visible": true
    },
    "kernelspec": {
      "display_name": "Python 3",
      "name": "python3"
    }
  },
  "nbformat": 4,
  "nbformat_minor": 0
}
