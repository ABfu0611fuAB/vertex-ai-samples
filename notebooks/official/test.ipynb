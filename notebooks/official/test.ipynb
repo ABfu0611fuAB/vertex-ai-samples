{
 "cells": [
  {
   "cell_type": "code",
   "execution_count": null,
   "metadata": {
    "id": "82b522b9e130"
   },
   "outputs": [],
   "source": [
    "import time"
   ]
  },
  {
   "cell_type": "code",
   "execution_count": null,
   "metadata": {
    "id": "7dc682542238"
   },
   "outputs": [],
   "source": [
    "# 5 mins\n",
    "time.sleep(5 * 60)"
   ]
  },
  {
   "cell_type": "code",
   "execution_count": null,
   "metadata": {
    "id": "3ab331234b42"
   },
   "outputs": [],
   "source": [
    "print(\"5 minutes\")"
   ]
  },
  {
   "cell_type": "code",
   "execution_count": null,
   "metadata": {
    "id": "2a5ea0ae33f0"
   },
   "outputs": [],
   "source": [
    "time.sleep(10 * 60)"
   ]
  },
  {
   "cell_type": "code",
   "execution_count": null,
   "metadata": {
    "id": "ab9a3894d60e"
   },
   "outputs": [],
   "source": [
    "print(\"15 minutes\")"
   ]
  },
  {
   "cell_type": "code",
   "execution_count": null,
   "metadata": {
    "id": "d9efa8e9b70a"
   },
   "outputs": [],
   "source": [
    "time.sleep(5 * 60)"
   ]
  },
  {
   "cell_type": "code",
   "execution_count": null,
   "metadata": {
    "id": "bc63b3db2e71"
   },
   "outputs": [],
   "source": [
    "print(\"20 minutes\")"
   ]
  }
 ],
 "metadata": {
  "colab": {
   "name": "test.ipynb",
   "toc_visible": true
  },
  "environment": {
   "kernel": "python3",
   "name": "common-cpu.m95",
   "type": "gcloud",
   "uri": "gcr.io/deeplearning-platform-release/base-cpu:m95"
  },
  "kernelspec": {
   "display_name": "Python 3",
   "language": "python",
   "name": "python3"
  },
  "language_info": {
   "codemirror_mode": {
    "name": "ipython",
    "version": 3
   },
   "file_extension": ".py",
   "mimetype": "text/x-python",
   "name": "python",
   "nbconvert_exporter": "python",
   "pygments_lexer": "ipython3",
   "version": "3.7.12"
  }
 },
 "nbformat": 4,
 "nbformat_minor": 4
}
