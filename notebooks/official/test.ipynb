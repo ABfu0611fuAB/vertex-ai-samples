{
 "cells": [
  {
   "cell_type": "code",
   "execution_count": null,
   "id": "346219a0-c421-4986-89c0-1cab5f9896bc",
   "metadata": {},
   "outputs": [],
   "source": [
    "import time"
   ]
  },
  {
   "cell_type": "code",
   "execution_count": null,
   "id": "fdeaadd2-900d-4580-a637-b0ec3c892ce7",
   "metadata": {},
   "outputs": [],
   "source": [
    "time.sleep(5 * 60)\n",
    "print(\"5 mins\")\n",
    "\n",
    "time.sleep(5 * 60)\n",
    "print(\"10 mins\")\n",
    "\n",
    "time.sleep(5 * 60)\n",
    "print(\"15 mins\")\n",
    "\n",
    "time.sleep(5 * 60)\n",
    "print(\"20 mins\")"
   ]
  }
 ],
 "metadata": {
  "environment": {
   "kernel": "python3",
   "name": "common-cpu.m95",
   "type": "gcloud",
   "uri": "gcr.io/deeplearning-platform-release/base-cpu:m95"
  },
  "kernelspec": {
   "display_name": "Python 3",
   "language": "python",
   "name": "python3"
  },
  "language_info": {
   "codemirror_mode": {
    "name": "ipython",
    "version": 3
   },
   "file_extension": ".py",
   "mimetype": "text/x-python",
   "name": "python",
   "nbconvert_exporter": "python",
   "pygments_lexer": "ipython3",
   "version": "3.7.12"
  }
 },
 "nbformat": 4,
 "nbformat_minor": 5
}
