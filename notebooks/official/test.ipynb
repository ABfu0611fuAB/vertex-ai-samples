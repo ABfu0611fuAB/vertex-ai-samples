{
  "cells": [
    {
      "cell_type": "code",
      "execution_count": null,
      "id": "5959e93c-3a37-46af-a9f4-440eb7962c0e",
      "metadata": {
        "id": "82b522b9e130"
      },
      "outputs": [],
      "source": [
        "import time"
      ]
    },
    {
      "cell_type": "code",
      "execution_count": null,
      "id": "fdf035db-07e8-4e29-82c5-345c54fd8d93",
      "metadata": {
        "id": "7dc682542238"
      },
      "outputs": [],
      "source": [
        "time.sleep(5 * 60)"
      ]
    },
    {
      "cell_type": "code",
      "execution_count": null,
      "id": "cac1d78b-1a5d-4be8-a390-3761b3044e96",
      "metadata": {
        "id": "3ab331234b42"
      },
      "outputs": [],
      "source": [
        "print(\"5 minutes\")"
      ]
    },
    {
      "cell_type": "code",
      "execution_count": null,
      "id": "c930dff9-a7a5-4f04-83cc-e7e4576b2aeb",
      "metadata": {
        "id": "2a5ea0ae33f0"
      },
      "outputs": [],
      "source": [
        "time.sleep(10 * 60)"
      ]
    },
    {
      "cell_type": "code",
      "execution_count": null,
      "id": "5f08e180-c790-4f5f-b7ec-ecd00303ca54",
      "metadata": {
        "id": "ab9a3894d60e"
      },
      "outputs": [],
      "source": [
        "print(\"15 minutes\")"
      ]
    },
    {
      "cell_type": "code",
      "execution_count": null,
      "id": "87b7a743-4602-453d-88a0-c67a600c569c",
      "metadata": {
        "id": "d9efa8e9b70a"
      },
      "outputs": [],
      "source": [
        "time.sleep(5 * 60)"
      ]
    },
    {
      "cell_type": "code",
      "execution_count": null,
      "id": "18fbc853-ec70-4da1-8671-396a2205da68",
      "metadata": {
        "id": "bc63b3db2e71"
      },
      "outputs": [],
      "source": [
        "print(\"20 minutes\")"
      ]
    }
  ],
  "metadata": {
    "colab": {
      "name": "test.ipynb",
      "toc_visible": true
    },
    "kernelspec": {
      "display_name": "Python 3",
      "name": "python3"
    }
  },
  "nbformat": 4,
  "nbformat_minor": 0
}
