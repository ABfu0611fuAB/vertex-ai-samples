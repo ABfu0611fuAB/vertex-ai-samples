{
 "cells": [
  {
   "cell_type": "code",
   "execution_count": null,
   "metadata": {
    "id": "ur8xi4C7S06n"
   },
   "outputs": [],
   "source": [
    "# Copyright 2022 Google LLC\n",
    "#\n",
    "# Licensed under the Apache License, Version 2.0 (the \"License\");\n",
    "# you may not use this file except in compliance with the License.\n",
    "# You may obtain a copy of the License at\n",
    "#\n",
    "#     https://www.apache.org/licenses/LICENSE-2.0\n",
    "#\n",
    "# Unless required by applicable law or agreed to in writing, software\n",
    "# distributed under the License is distributed on an \"AS IS\" BASIS,\n",
    "# WITHOUT WARRANTIES OR CONDITIONS OF ANY KIND, either express or implied.\n",
    "# See the License for the specific language governing permissions and\n",
    "# limitations under the License."
   ]
  },
  {
   "cell_type": "markdown",
   "metadata": {
    "id": "JAPoU8Sm5E6e"
   },
   "source": [
    "# Create Vertex AI Matching Engine index\n",
    "\n",
    "<table align=\"left\">\n",
    "  <td>\n",
    "    <a href=\"https://colab.research.google.com/github/GoogleCloudPlatform/vertex-ai-samples/blob/main/notebooks/official/matching_engine/sdk_matching_engine_for_indexing.ipynb\">\n",
    "      <img src=\"https://cloud.google.com/ml-engine/images/colab-logo-32px.png\" alt=\"Colab logo\"> Run in Colab\n",
    "    </a>\n",
    "  </td>\n",
    "  <td>\n",
    "    <a href=\"https://github.com/GoogleCloudPlatform/vertex-ai-samples/blob/main/notebooks/official/matching_engine/sdk_matching_engine_for_indexing.ipynb\">\n",
    "      <img src=\"https://cloud.google.com/ml-engine/images/github-logo-32px.png\" alt=\"GitHub logo\">\n",
    "      View on GitHub\n",
    "    </a>\n",
    "  </td>\n",
    "      <td>\n",
    "    <a href=\"https://console.cloud.google.com/vertex-ai/workbench/deploy-notebook?download_url=https://raw.githubusercontent.com/GoogleCloudPlatform/vertex-ai-samples/main/notebooks/official/matching_engine/sdk_matching_engine_for_indexing.ipynb\">\n",
    "      <img src=\"https://lh3.googleusercontent.com/UiNooY4LUgW_oTvpsNhPpQzsstV5W8F7rYgxgGBD85cWJoLmrOzhVs_ksK_vgx40SHs7jCqkTkCk=e14-rj-sc0xffffff-h130-w32\" alt=\"Vertex AI logo\">\n",
    "      Open in Vertex AI Workbench\n",
    "    </a>\n",
    "  </td>\n",
    "</table>"
   ]
  },
  {
   "cell_type": "markdown",
   "metadata": {
    "id": "b0a74aaf1481"
   },
   "source": [
    "## Overview\n",
    "\n",
    "This example demonstrates how to use the GCP ANN Service. It is a high scale, low latency solution, to find similar vectors (or more specifically \"embeddings\") for a large corpus. Moreover, it is a fully managed offering, further reducing operational overhead. It is built upon [Approximate Nearest Neighbor (ANN) technology](https://ai.googleblog.com/2020/07/announcing-scann-efficient-vector.html) developed by Google Research."
   ]
  },
  {
   "cell_type": "markdown",
   "metadata": {
    "id": "34a4b245e795"
   },
   "source": [
    "### Objective\n",
    "\n",
    "In this notebook, you learn how to create Approximate Nearest Neighbor (ANN) Index, query against indexes, and validate the performance of the index. \n",
    "\n",
    "The steps performed include:\n",
    "\n",
    "* Create ANN Index and Brute Force Index\n",
    "* Create an IndexEndpoint with VPC Network\n",
    "* Deploy ANN Index and Brute Force Index\n",
    "* Perform online query\n",
    "* Compute recall\n"
   ]
  },
  {
   "cell_type": "markdown",
   "metadata": {
    "id": "tvgnzT1CKxrO"
   },
   "source": [
    "### Dataset\n",
    "\n",
    "The dataset used for this tutorial is the [GloVe dataset](https://nlp.stanford.edu/projects/glove/).\n",
    "\n",
    "\"GloVe is an unsupervised learning algorithm for obtaining vector representations for words. Training is performed on aggregated global word-word co-occurrence statistics from a corpus, and the resulting representations showcase interesting linear substructures of the word vector space.\"\n"
   ]
  },
  {
   "cell_type": "markdown",
   "metadata": {
    "id": "d1e95a984673"
   },
   "source": [
    "## Before you begin\n",
    "\n",
    "### Set up your Google Cloud project\n",
    "\n",
    "**The following steps are required, regardless of your notebook environment.**\n",
    "\n",
    "1. [Select or create a Google Cloud project](https://console.cloud.google.com/cloud-resource-manager).\n",
    "\n",
    "1. [Make sure that billing is enabled for your project](https://cloud.google.com/billing/docs/how-to/modify-project).\n",
    "\n",
    "1. [Enable the Vertex AI API and Compute Engine API, and Service Networking API](https://console.cloud.google.com/flows/enableapi?apiid=aiplatform.googleapis.com,compute_component,servicenetworking.googleapis.com).\n",
    "\n",
    "1. Enter your project ID in the cell below. Then run the cell to make sure the\n",
    "Cloud SDK uses the right project for all the commands in this notebook.\n",
    "\n",
    "**Note**: Jupyter runs lines prefixed with `!` as shell commands, and it interpolates Python variables prefixed with `$` into these commands."
   ]
  },
  {
   "cell_type": "markdown",
   "metadata": {
    "id": "2b9daa35336a"
   },
   "source": [
    "### Authenticate your Google Cloud account\n",
    "\n",
    "**If you are using a Vertex AI Workbench notebook**, your environment is already\n",
    "authenticated. Skip this step."
   ]
  },
  {
   "cell_type": "markdown",
   "metadata": {
    "id": "c6bed8c6a6b3"
   },
   "source": [
    "**If you are using Colab**, run the cell below and follow the instructions\n",
    "when prompted to authenticate your account via oAuth.\n",
    "\n",
    "**Otherwise**, follow these steps:\n",
    "\n",
    "1. In the Cloud Console, go to the [**Create service account key**\n",
    "   page](https://console.cloud.google.com/apis/credentials/serviceaccountkey).\n",
    "\n",
    "2. Click **Create service account**.\n",
    "\n",
    "3. In the **Service account name** field, enter a name, and\n",
    "   click **Create**.\n",
    "\n",
    "4. In the **Grant this service account access to project** section, click the **Role** drop-down list. Type \"Vertex AI\"\n",
    "into the filter box, and select\n",
    "   **Vertex AI Administrator**. Type \"Storage Object Admin\" into the filter box, and select **Storage Object Admin**.\n",
    "\n",
    "5. Click *Create*. A JSON file that contains your key downloads to your\n",
    "local environment.\n",
    "\n",
    "6. Enter the path to your service account key as the\n",
    "`GOOGLE_APPLICATION_CREDENTIALS` variable in the cell below and run the cell."
   ]
  },
  {
   "cell_type": "code",
   "execution_count": null,
   "metadata": {
    "id": "3e2b43c2d2bf"
   },
   "outputs": [],
   "source": [
    "import os\n",
    "import sys\n",
    "\n",
    "# If you are running this notebook in Colab, run this cell and follow the\n",
    "# instructions to authenticate your GCP account. This provides access to your\n",
    "# Cloud Storage bucket and lets you submit training jobs and prediction\n",
    "# requests.\n",
    "\n",
    "# The Vertex AI Workbench notebook product has specific requirements\n",
    "IS_VERTEX_AI_WORKBENCH_NOTEBOOK = os.path.exists(\n",
    "    \"/opt/deeplearning/metadata/env_version\"\n",
    ")\n",
    "\n",
    "# If on a Vertex AI Workbench notebook, then don't execute this code\n",
    "if not IS_VERTEX_AI_WORKBENCH_NOTEBOOK:\n",
    "    if \"google.colab\" in sys.modules:\n",
    "        from google.colab import auth as google_auth\n",
    "\n",
    "        google_auth.authenticate_user()\n",
    "\n",
    "    # If you are running this notebook locally, log in using gcloud\n",
    "    elif not os.getenv(\"IS_TESTING\"):\n",
    "        ! gcloud auth login"
   ]
  },
  {
   "cell_type": "markdown",
   "metadata": {
    "id": "WReHDGG5g0XY"
   },
   "source": [
    "#### Set your project ID\n",
    "\n",
    "**If you don't know your project ID**, you may be able to get your project ID using `gcloud`."
   ]
  },
  {
   "cell_type": "code",
   "execution_count": 55,
   "metadata": {
    "id": "beb72f394541"
   },
   "outputs": [],
   "source": [
    "import os\n",
    "\n",
    "PROJECT_ID = \"python-docs-samples-tests\"  # @param {type:\"string\"}\n"
   ]
  },
  {
   "cell_type": "markdown",
   "metadata": {
    "id": "4962667eec8e"
   },
   "source": [
    "* **Prepare a VPC network**.  To reduce any network overhead that might lead to unnecessary increase in overhead latency, it is best to call the ANN endpoints from your VPC via a direct [VPC Peering](https://cloud.google.com/vertex-ai/docs/general/vpc-peering) connection. \n",
    "  * The following section describes how to setup a VPC Peering connection if you don't have one. \n",
    "  * This is a one-time initial setup task. You can also reuse existing VPC network and skip this section."
   ]
  },
  {
   "cell_type": "code",
   "execution_count": 56,
   "metadata": {
    "id": "KDH8CgQiSxhv"
   },
   "outputs": [],
   "source": [
    "# VPC_NETWORK = \"[your-vpc-network-name]\"  # @param {type:\"string\"}\n",
    "VPC_NETWORK = \"matching-engine-test\"  # @param {type:\"string\"}\n",
    "\n",
    "PEERING_RANGE_NAME = \"ann-haystack-range\""
   ]
  },
  {
   "cell_type": "code",
   "execution_count": 57,
   "metadata": {
    "id": "lW2LneA5mmmP"
   },
   "outputs": [
    {
     "name": "stdout",
     "output_type": "stream",
     "text": [
      "Created [https://www.googleapis.com/compute/v1/projects/python-docs-samples-tests/global/networks/matching-engine-test].\n",
      "NAME                  SUBNET_MODE  BGP_ROUTING_MODE  IPV4_RANGE  GATEWAY_IPV4\n",
      "matching-engine-test  AUTO         REGIONAL\n",
      "\n",
      "Instances on this network will not be reachable until firewall rules\n",
      "are created. As an example, you can allow all internal traffic between\n",
      "instances as well as SSH, RDP, and ICMP by running:\n",
      "\n",
      "$ gcloud compute firewall-rules create <FIREWALL_NAME> --network matching-engine-test --allow tcp,udp,icmp --source-ranges <IP_RANGE>\n",
      "$ gcloud compute firewall-rules create <FIREWALL_NAME> --network matching-engine-test --allow tcp:22,tcp:3389,icmp\n",
      "\n",
      "Creating firewall...⠹Created [https://www.googleapis.com/compute/v1/projects/python-docs-samples-tests/global/firewalls/matching-engine-test-allow-icmp].\n",
      "Creating firewall...done.                                                      \n",
      "NAME                             NETWORK               DIRECTION  PRIORITY  ALLOW  DENY  DISABLED\n",
      "matching-engine-test-allow-icmp  matching-engine-test  INGRESS    65534     icmp         False\n",
      "Creating firewall...⠹Created [https://www.googleapis.com/compute/v1/projects/python-docs-samples-tests/global/firewalls/matching-engine-test-allow-internal].\n",
      "Creating firewall...done.                                                      \n",
      "NAME                                 NETWORK               DIRECTION  PRIORITY  ALLOW  DENY  DISABLED\n",
      "matching-engine-test-allow-internal  matching-engine-test  INGRESS    65534     all          False\n",
      "Creating firewall...⠹Created [https://www.googleapis.com/compute/v1/projects/python-docs-samples-tests/global/firewalls/matching-engine-test-allow-rdp].\n",
      "Creating firewall...done.                                                      \n",
      "NAME                            NETWORK               DIRECTION  PRIORITY  ALLOW     DENY  DISABLED\n",
      "matching-engine-test-allow-rdp  matching-engine-test  INGRESS    65534     tcp:3389        False\n",
      "Creating firewall...⠹Created [https://www.googleapis.com/compute/v1/projects/python-docs-samples-tests/global/firewalls/matching-engine-test-allow-ssh].\n",
      "Creating firewall...done.                                                      \n",
      "NAME                            NETWORK               DIRECTION  PRIORITY  ALLOW   DENY  DISABLED\n",
      "matching-engine-test-allow-ssh  matching-engine-test  INGRESS    65534     tcp:22        False\n",
      "Created [https://www.googleapis.com/compute/v1/projects/python-docs-samples-tests/global/addresses/ann-haystack-range].\n",
      "Operation \"operations/pssn.p24-1012616486416-6a2876a8-cb05-43ec-a492-b7ce5b8bedb6\" finished successfully.\n"
     ]
    }
   ],
   "source": [
    "import os\n",
    "\n",
    "# Remove the if condition to run the encapsulated code\n",
    "if not os.getenv(\"IS_TESTING\"):\n",
    "    # Create a VPC network\n",
    "    ! gcloud compute networks create {VPC_NETWORK} --bgp-routing-mode=regional --subnet-mode=auto --project={PROJECT_ID}\n",
    "\n",
    "    # Add necessary firewall rules\n",
    "    ! gcloud compute firewall-rules create {VPC_NETWORK}-allow-icmp --network {VPC_NETWORK} --priority 65534 --project {PROJECT_ID} --allow icmp\n",
    "\n",
    "    ! gcloud compute firewall-rules create {VPC_NETWORK}-allow-internal --network {VPC_NETWORK} --priority 65534 --project {PROJECT_ID} --allow all --source-ranges 10.128.0.0/9\n",
    "\n",
    "    ! gcloud compute firewall-rules create {VPC_NETWORK}-allow-rdp --network {VPC_NETWORK} --priority 65534 --project {PROJECT_ID} --allow tcp:3389\n",
    "\n",
    "    ! gcloud compute firewall-rules create {VPC_NETWORK}-allow-ssh --network {VPC_NETWORK} --priority 65534 --project {PROJECT_ID} --allow tcp:22\n",
    "\n",
    "    # Reserve IP range\n",
    "    ! gcloud compute addresses create {PEERING_RANGE_NAME} --global --prefix-length=16 --network={VPC_NETWORK} --purpose=VPC_PEERING --project={PROJECT_ID} --description=\"peering range\"\n",
    "\n",
    "    # Set up peering with service networking\n",
    "    # Your account must have the \"Compute Network Admin\" role to run the following.\n",
    "    ! gcloud services vpc-peerings connect --service=servicenetworking.googleapis.com --network={VPC_NETWORK} --ranges={PEERING_RANGE_NAME} --project={PROJECT_ID}"
   ]
  },
  {
   "cell_type": "markdown",
   "metadata": {
    "id": "d3uj8x73nDX_"
   },
   "source": [
    "* Authentication: Rerun the `gcloud auth login` command in the Vertex AI Workbench notebook terminal when you are logged out and need the credential again."
   ]
  },
  {
   "cell_type": "markdown",
   "metadata": {
    "id": "d5de53b31bf1"
   },
   "source": [
    "## Make sure the following cells are run from inside the VPC network that you created in the previous step.\n",
    "\n",
    "* **WARNING:** The MatchingIndexEndpoint.match method (to create online queries against your deployed index) has to be executed in a Vertex AI Workbench notebook instance that is created with the following requirements:\n",
    "  * **In the same region as where your ANN service is deployed** (for example, if you set `REGION = \"us-central1\"` as same as the tutorial, the notebook instance has to be in `us-central1`).\n",
    "  * **Make sure you select the VPC network you created for ANN service** (instead of using the \"default\" one). That is, you will have to create the VPC network below and then create a new notebook instance that uses that VPC.  \n",
    "  * If you run it in the colab or a Vertex AI Workbench notebook instance in a different VPC network or region, \"Create Online Queries\" section will fail."
   ]
  },
  {
   "cell_type": "markdown",
   "metadata": {
    "id": "i7EUnXsZhAGF"
   },
   "source": [
    "### Installation\n",
    "\n",
    "Download and install the latest version of the Vertex SDK for Python."
   ]
  },
  {
   "cell_type": "code",
   "execution_count": 74,
   "metadata": {
    "id": "wyy5Lbnzg5fi"
   },
   "outputs": [
    {
     "name": "stdout",
     "output_type": "stream",
     "text": [
      "  \u001b[1;31merror\u001b[0m: \u001b[1msubprocess-exited-with-error\u001b[0m\n",
      "  \n",
      "  \u001b[31m×\u001b[0m \u001b[32mRunning setup.py install for grpcio\u001b[0m did not run successfully.\n",
      "  \u001b[31m│\u001b[0m exit code: \u001b[1;36m1\u001b[0m\n",
      "  \u001b[31m╰─>\u001b[0m \u001b[31m[693 lines of output]\u001b[0m\n",
      "  \u001b[31m   \u001b[0m ASM Builds for BoringSSL currently not supported on: macosx-12-arm64\n",
      "  \u001b[31m   \u001b[0m Found cython-generated files...\n",
      "  \u001b[31m   \u001b[0m running install\n",
      "  \u001b[31m   \u001b[0m /Users/ivanmkc/Documents/code/vertex-ai-samples/env/lib/python3.9/site-packages/setuptools/command/install.py:34: SetuptoolsDeprecationWarning: setup.py install is deprecated. Use build and pip and other standards-based tools.\n",
      "  \u001b[31m   \u001b[0m   warnings.warn(\n",
      "  \u001b[31m   \u001b[0m running build\n",
      "  \u001b[31m   \u001b[0m running build_py\n",
      "  \u001b[31m   \u001b[0m running build_project_metadata\n",
      "  \u001b[31m   \u001b[0m creating python_build\n",
      "  \u001b[31m   \u001b[0m creating python_build/lib.macosx-12-arm64-cpython-39\n",
      "  \u001b[31m   \u001b[0m creating python_build/lib.macosx-12-arm64-cpython-39/grpc\n",
      "  \u001b[31m   \u001b[0m copying src/python/grpcio/grpc/_compression.py -> python_build/lib.macosx-12-arm64-cpython-39/grpc\n",
      "  \u001b[31m   \u001b[0m copying src/python/grpcio/grpc/_channel.py -> python_build/lib.macosx-12-arm64-cpython-39/grpc\n",
      "  \u001b[31m   \u001b[0m copying src/python/grpcio/grpc/_common.py -> python_build/lib.macosx-12-arm64-cpython-39/grpc\n",
      "  \u001b[31m   \u001b[0m copying src/python/grpcio/grpc/__init__.py -> python_build/lib.macosx-12-arm64-cpython-39/grpc\n",
      "  \u001b[31m   \u001b[0m copying src/python/grpcio/grpc/_utilities.py -> python_build/lib.macosx-12-arm64-cpython-39/grpc\n",
      "  \u001b[31m   \u001b[0m copying src/python/grpcio/grpc/_simple_stubs.py -> python_build/lib.macosx-12-arm64-cpython-39/grpc\n",
      "  \u001b[31m   \u001b[0m copying src/python/grpcio/grpc/_plugin_wrapping.py -> python_build/lib.macosx-12-arm64-cpython-39/grpc\n",
      "  \u001b[31m   \u001b[0m copying src/python/grpcio/grpc/_interceptor.py -> python_build/lib.macosx-12-arm64-cpython-39/grpc\n",
      "  \u001b[31m   \u001b[0m copying src/python/grpcio/grpc/_grpcio_metadata.py -> python_build/lib.macosx-12-arm64-cpython-39/grpc\n",
      "  \u001b[31m   \u001b[0m copying src/python/grpcio/grpc/_server.py -> python_build/lib.macosx-12-arm64-cpython-39/grpc\n",
      "  \u001b[31m   \u001b[0m copying src/python/grpcio/grpc/_runtime_protos.py -> python_build/lib.macosx-12-arm64-cpython-39/grpc\n",
      "  \u001b[31m   \u001b[0m copying src/python/grpcio/grpc/_auth.py -> python_build/lib.macosx-12-arm64-cpython-39/grpc\n",
      "  \u001b[31m   \u001b[0m creating python_build/lib.macosx-12-arm64-cpython-39/grpc/beta\n",
      "  \u001b[31m   \u001b[0m copying src/python/grpcio/grpc/beta/_server_adaptations.py -> python_build/lib.macosx-12-arm64-cpython-39/grpc/beta\n",
      "  \u001b[31m   \u001b[0m copying src/python/grpcio/grpc/beta/interfaces.py -> python_build/lib.macosx-12-arm64-cpython-39/grpc/beta\n",
      "  \u001b[31m   \u001b[0m copying src/python/grpcio/grpc/beta/_metadata.py -> python_build/lib.macosx-12-arm64-cpython-39/grpc/beta\n",
      "  \u001b[31m   \u001b[0m copying src/python/grpcio/grpc/beta/__init__.py -> python_build/lib.macosx-12-arm64-cpython-39/grpc/beta\n",
      "  \u001b[31m   \u001b[0m copying src/python/grpcio/grpc/beta/utilities.py -> python_build/lib.macosx-12-arm64-cpython-39/grpc/beta\n",
      "  \u001b[31m   \u001b[0m copying src/python/grpcio/grpc/beta/implementations.py -> python_build/lib.macosx-12-arm64-cpython-39/grpc/beta\n",
      "  \u001b[31m   \u001b[0m copying src/python/grpcio/grpc/beta/_client_adaptations.py -> python_build/lib.macosx-12-arm64-cpython-39/grpc/beta\n",
      "  \u001b[31m   \u001b[0m creating python_build/lib.macosx-12-arm64-cpython-39/grpc/experimental\n",
      "  \u001b[31m   \u001b[0m copying src/python/grpcio/grpc/experimental/gevent.py -> python_build/lib.macosx-12-arm64-cpython-39/grpc/experimental\n",
      "  \u001b[31m   \u001b[0m copying src/python/grpcio/grpc/experimental/__init__.py -> python_build/lib.macosx-12-arm64-cpython-39/grpc/experimental\n",
      "  \u001b[31m   \u001b[0m copying src/python/grpcio/grpc/experimental/session_cache.py -> python_build/lib.macosx-12-arm64-cpython-39/grpc/experimental\n",
      "  \u001b[31m   \u001b[0m creating python_build/lib.macosx-12-arm64-cpython-39/grpc/framework\n",
      "  \u001b[31m   \u001b[0m copying src/python/grpcio/grpc/framework/__init__.py -> python_build/lib.macosx-12-arm64-cpython-39/grpc/framework\n",
      "  \u001b[31m   \u001b[0m creating python_build/lib.macosx-12-arm64-cpython-39/grpc/aio\n",
      "  \u001b[31m   \u001b[0m copying src/python/grpcio/grpc/aio/_base_server.py -> python_build/lib.macosx-12-arm64-cpython-39/grpc/aio\n",
      "  \u001b[31m   \u001b[0m copying src/python/grpcio/grpc/aio/_metadata.py -> python_build/lib.macosx-12-arm64-cpython-39/grpc/aio\n",
      "  \u001b[31m   \u001b[0m copying src/python/grpcio/grpc/aio/_typing.py -> python_build/lib.macosx-12-arm64-cpython-39/grpc/aio\n",
      "  \u001b[31m   \u001b[0m copying src/python/grpcio/grpc/aio/_call.py -> python_build/lib.macosx-12-arm64-cpython-39/grpc/aio\n",
      "  \u001b[31m   \u001b[0m copying src/python/grpcio/grpc/aio/_channel.py -> python_build/lib.macosx-12-arm64-cpython-39/grpc/aio\n",
      "  \u001b[31m   \u001b[0m copying src/python/grpcio/grpc/aio/__init__.py -> python_build/lib.macosx-12-arm64-cpython-39/grpc/aio\n",
      "  \u001b[31m   \u001b[0m copying src/python/grpcio/grpc/aio/_base_channel.py -> python_build/lib.macosx-12-arm64-cpython-39/grpc/aio\n",
      "  \u001b[31m   \u001b[0m copying src/python/grpcio/grpc/aio/_interceptor.py -> python_build/lib.macosx-12-arm64-cpython-39/grpc/aio\n",
      "  \u001b[31m   \u001b[0m copying src/python/grpcio/grpc/aio/_server.py -> python_build/lib.macosx-12-arm64-cpython-39/grpc/aio\n",
      "  \u001b[31m   \u001b[0m copying src/python/grpcio/grpc/aio/_base_call.py -> python_build/lib.macosx-12-arm64-cpython-39/grpc/aio\n",
      "  \u001b[31m   \u001b[0m copying src/python/grpcio/grpc/aio/_utils.py -> python_build/lib.macosx-12-arm64-cpython-39/grpc/aio\n",
      "  \u001b[31m   \u001b[0m creating python_build/lib.macosx-12-arm64-cpython-39/grpc/_cython\n",
      "  \u001b[31m   \u001b[0m copying src/python/grpcio/grpc/_cython/__init__.py -> python_build/lib.macosx-12-arm64-cpython-39/grpc/_cython\n",
      "  \u001b[31m   \u001b[0m creating python_build/lib.macosx-12-arm64-cpython-39/grpc/experimental/aio\n",
      "  \u001b[31m   \u001b[0m copying src/python/grpcio/grpc/experimental/aio/__init__.py -> python_build/lib.macosx-12-arm64-cpython-39/grpc/experimental/aio\n",
      "  \u001b[31m   \u001b[0m creating python_build/lib.macosx-12-arm64-cpython-39/grpc/framework/foundation\n",
      "  \u001b[31m   \u001b[0m copying src/python/grpcio/grpc/framework/foundation/callable_util.py -> python_build/lib.macosx-12-arm64-cpython-39/grpc/framework/foundation\n",
      "  \u001b[31m   \u001b[0m copying src/python/grpcio/grpc/framework/foundation/abandonment.py -> python_build/lib.macosx-12-arm64-cpython-39/grpc/framework/foundation\n",
      "  \u001b[31m   \u001b[0m copying src/python/grpcio/grpc/framework/foundation/__init__.py -> python_build/lib.macosx-12-arm64-cpython-39/grpc/framework/foundation\n",
      "  \u001b[31m   \u001b[0m copying src/python/grpcio/grpc/framework/foundation/stream.py -> python_build/lib.macosx-12-arm64-cpython-39/grpc/framework/foundation\n",
      "  \u001b[31m   \u001b[0m copying src/python/grpcio/grpc/framework/foundation/stream_util.py -> python_build/lib.macosx-12-arm64-cpython-39/grpc/framework/foundation\n",
      "  \u001b[31m   \u001b[0m copying src/python/grpcio/grpc/framework/foundation/future.py -> python_build/lib.macosx-12-arm64-cpython-39/grpc/framework/foundation\n",
      "  \u001b[31m   \u001b[0m copying src/python/grpcio/grpc/framework/foundation/logging_pool.py -> python_build/lib.macosx-12-arm64-cpython-39/grpc/framework/foundation\n",
      "  \u001b[31m   \u001b[0m creating python_build/lib.macosx-12-arm64-cpython-39/grpc/framework/common\n",
      "  \u001b[31m   \u001b[0m copying src/python/grpcio/grpc/framework/common/style.py -> python_build/lib.macosx-12-arm64-cpython-39/grpc/framework/common\n",
      "  \u001b[31m   \u001b[0m copying src/python/grpcio/grpc/framework/common/cardinality.py -> python_build/lib.macosx-12-arm64-cpython-39/grpc/framework/common\n",
      "  \u001b[31m   \u001b[0m copying src/python/grpcio/grpc/framework/common/__init__.py -> python_build/lib.macosx-12-arm64-cpython-39/grpc/framework/common\n",
      "  \u001b[31m   \u001b[0m creating python_build/lib.macosx-12-arm64-cpython-39/grpc/framework/interfaces\n",
      "  \u001b[31m   \u001b[0m copying src/python/grpcio/grpc/framework/interfaces/__init__.py -> python_build/lib.macosx-12-arm64-cpython-39/grpc/framework/interfaces\n",
      "  \u001b[31m   \u001b[0m creating python_build/lib.macosx-12-arm64-cpython-39/grpc/framework/interfaces/face\n",
      "  \u001b[31m   \u001b[0m copying src/python/grpcio/grpc/framework/interfaces/face/__init__.py -> python_build/lib.macosx-12-arm64-cpython-39/grpc/framework/interfaces/face\n",
      "  \u001b[31m   \u001b[0m copying src/python/grpcio/grpc/framework/interfaces/face/utilities.py -> python_build/lib.macosx-12-arm64-cpython-39/grpc/framework/interfaces/face\n",
      "  \u001b[31m   \u001b[0m copying src/python/grpcio/grpc/framework/interfaces/face/face.py -> python_build/lib.macosx-12-arm64-cpython-39/grpc/framework/interfaces/face\n",
      "  \u001b[31m   \u001b[0m creating python_build/lib.macosx-12-arm64-cpython-39/grpc/framework/interfaces/base\n",
      "  \u001b[31m   \u001b[0m copying src/python/grpcio/grpc/framework/interfaces/base/__init__.py -> python_build/lib.macosx-12-arm64-cpython-39/grpc/framework/interfaces/base\n",
      "  \u001b[31m   \u001b[0m copying src/python/grpcio/grpc/framework/interfaces/base/utilities.py -> python_build/lib.macosx-12-arm64-cpython-39/grpc/framework/interfaces/base\n",
      "  \u001b[31m   \u001b[0m copying src/python/grpcio/grpc/framework/interfaces/base/base.py -> python_build/lib.macosx-12-arm64-cpython-39/grpc/framework/interfaces/base\n",
      "  \u001b[31m   \u001b[0m creating python_build/lib.macosx-12-arm64-cpython-39/grpc/_cython/_cygrpc\n",
      "  \u001b[31m   \u001b[0m copying src/python/grpcio/grpc/_cython/_cygrpc/__init__.py -> python_build/lib.macosx-12-arm64-cpython-39/grpc/_cython/_cygrpc\n",
      "  \u001b[31m   \u001b[0m creating python_build/lib.macosx-12-arm64-cpython-39/grpc/_cython/_credentials\n",
      "  \u001b[31m   \u001b[0m copying src/python/grpcio/grpc/_cython/_credentials/roots.pem -> python_build/lib.macosx-12-arm64-cpython-39/grpc/_cython/_credentials\n",
      "  \u001b[31m   \u001b[0m running build_ext\n",
      "  \u001b[31m   \u001b[0m Found cython-generated files...\n",
      "  \u001b[31m   \u001b[0m building 'grpc._cython.cygrpc' extension\n",
      "  \u001b[31m   \u001b[0m creating python_build/temp.macosx-12-arm64-cpython-39\n",
      "  \u001b[31m   \u001b[0m creating python_build/temp.macosx-12-arm64-cpython-39/src\n",
      "  \u001b[31m   \u001b[0m creating python_build/temp.macosx-12-arm64-cpython-39/src/core\n",
      "  \u001b[31m   \u001b[0m creating python_build/temp.macosx-12-arm64-cpython-39/src/core/ext\n",
      "  \u001b[31m   \u001b[0m creating python_build/temp.macosx-12-arm64-cpython-39/src/core/ext/filters\n",
      "  \u001b[31m   \u001b[0m creating python_build/temp.macosx-12-arm64-cpython-39/src/core/ext/filters/census\n",
      "  \u001b[31m   \u001b[0m creating python_build/temp.macosx-12-arm64-cpython-39/src/core/ext/filters/channel_idle\n",
      "  \u001b[31m   \u001b[0m creating python_build/temp.macosx-12-arm64-cpython-39/src/core/ext/filters/client_channel\n",
      "  \u001b[31m   \u001b[0m creating python_build/temp.macosx-12-arm64-cpython-39/src/core/ext/filters/client_channel/health\n",
      "  \u001b[31m   \u001b[0m creating python_build/temp.macosx-12-arm64-cpython-39/src/core/ext/filters/client_channel/lb_policy\n",
      "  \u001b[31m   \u001b[0m creating python_build/temp.macosx-12-arm64-cpython-39/src/core/ext/filters/client_channel/lb_policy/grpclb\n",
      "  \u001b[31m   \u001b[0m creating python_build/temp.macosx-12-arm64-cpython-39/src/core/ext/filters/client_channel/lb_policy/outlier_detection\n",
      "  \u001b[31m   \u001b[0m creating python_build/temp.macosx-12-arm64-cpython-39/src/core/ext/filters/client_channel/lb_policy/pick_first\n",
      "  \u001b[31m   \u001b[0m creating python_build/temp.macosx-12-arm64-cpython-39/src/core/ext/filters/client_channel/lb_policy/priority\n",
      "  \u001b[31m   \u001b[0m creating python_build/temp.macosx-12-arm64-cpython-39/src/core/ext/filters/client_channel/lb_policy/ring_hash\n",
      "  \u001b[31m   \u001b[0m creating python_build/temp.macosx-12-arm64-cpython-39/src/core/ext/filters/client_channel/lb_policy/rls\n",
      "  \u001b[31m   \u001b[0m creating python_build/temp.macosx-12-arm64-cpython-39/src/core/ext/filters/client_channel/lb_policy/round_robin\n",
      "  \u001b[31m   \u001b[0m creating python_build/temp.macosx-12-arm64-cpython-39/src/core/ext/filters/client_channel/lb_policy/weighted_target\n",
      "  \u001b[31m   \u001b[0m creating python_build/temp.macosx-12-arm64-cpython-39/src/core/ext/filters/client_channel/lb_policy/xds\n",
      "  \u001b[31m   \u001b[0m creating python_build/temp.macosx-12-arm64-cpython-39/src/core/ext/filters/client_channel/resolver\n",
      "  \u001b[31m   \u001b[0m creating python_build/temp.macosx-12-arm64-cpython-39/src/core/ext/filters/client_channel/resolver/binder\n",
      "  \u001b[31m   \u001b[0m creating python_build/temp.macosx-12-arm64-cpython-39/src/core/ext/filters/client_channel/resolver/dns\n",
      "  \u001b[31m   \u001b[0m creating python_build/temp.macosx-12-arm64-cpython-39/src/core/ext/filters/client_channel/resolver/dns/c_ares\n",
      "  \u001b[31m   \u001b[0m creating python_build/temp.macosx-12-arm64-cpython-39/src/core/ext/filters/client_channel/resolver/dns/native\n",
      "  \u001b[31m   \u001b[0m creating python_build/temp.macosx-12-arm64-cpython-39/src/core/ext/filters/client_channel/resolver/fake\n",
      "  \u001b[31m   \u001b[0m creating python_build/temp.macosx-12-arm64-cpython-39/src/core/ext/filters/client_channel/resolver/google_c2p\n",
      "  \u001b[31m   \u001b[0m creating python_build/temp.macosx-12-arm64-cpython-39/src/core/ext/filters/client_channel/resolver/sockaddr\n",
      "  \u001b[31m   \u001b[0m creating python_build/temp.macosx-12-arm64-cpython-39/src/core/ext/filters/client_channel/resolver/xds\n",
      "  \u001b[31m   \u001b[0m creating python_build/temp.macosx-12-arm64-cpython-39/src/core/ext/filters/deadline\n",
      "  \u001b[31m   \u001b[0m creating python_build/temp.macosx-12-arm64-cpython-39/src/core/ext/filters/fault_injection\n",
      "  \u001b[31m   \u001b[0m creating python_build/temp.macosx-12-arm64-cpython-39/src/core/ext/filters/http\n",
      "  \u001b[31m   \u001b[0m creating python_build/temp.macosx-12-arm64-cpython-39/src/core/ext/filters/http/client\n",
      "  \u001b[31m   \u001b[0m creating python_build/temp.macosx-12-arm64-cpython-39/src/core/ext/filters/http/message_compress\n",
      "  \u001b[31m   \u001b[0m creating python_build/temp.macosx-12-arm64-cpython-39/src/core/ext/filters/http/server\n",
      "  \u001b[31m   \u001b[0m creating python_build/temp.macosx-12-arm64-cpython-39/src/core/ext/filters/message_size\n",
      "  \u001b[31m   \u001b[0m creating python_build/temp.macosx-12-arm64-cpython-39/src/core/ext/filters/rbac\n",
      "  \u001b[31m   \u001b[0m creating python_build/temp.macosx-12-arm64-cpython-39/src/core/ext/filters/server_config_selector\n",
      "  \u001b[31m   \u001b[0m creating python_build/temp.macosx-12-arm64-cpython-39/src/core/ext/transport\n",
      "  \u001b[31m   \u001b[0m creating python_build/temp.macosx-12-arm64-cpython-39/src/core/ext/transport/chttp2\n",
      "  \u001b[31m   \u001b[0m creating python_build/temp.macosx-12-arm64-cpython-39/src/core/ext/transport/chttp2/alpn\n",
      "  \u001b[31m   \u001b[0m creating python_build/temp.macosx-12-arm64-cpython-39/src/core/ext/transport/chttp2/client\n",
      "  \u001b[31m   \u001b[0m creating python_build/temp.macosx-12-arm64-cpython-39/src/core/ext/transport/chttp2/server\n",
      "  \u001b[31m   \u001b[0m creating python_build/temp.macosx-12-arm64-cpython-39/src/core/ext/transport/chttp2/transport\n",
      "  \u001b[31m   \u001b[0m creating python_build/temp.macosx-12-arm64-cpython-39/src/core/ext/transport/inproc\n",
      "  \u001b[31m   \u001b[0m creating python_build/temp.macosx-12-arm64-cpython-39/src/core/ext/upb-generated\n",
      "  \u001b[31m   \u001b[0m creating python_build/temp.macosx-12-arm64-cpython-39/src/core/ext/upb-generated/envoy\n",
      "  \u001b[31m   \u001b[0m creating python_build/temp.macosx-12-arm64-cpython-39/src/core/ext/upb-generated/envoy/admin\n",
      "  \u001b[31m   \u001b[0m creating python_build/temp.macosx-12-arm64-cpython-39/src/core/ext/upb-generated/envoy/admin/v3\n",
      "  \u001b[31m   \u001b[0m creating python_build/temp.macosx-12-arm64-cpython-39/src/core/ext/upb-generated/envoy/annotations\n",
      "  \u001b[31m   \u001b[0m creating python_build/temp.macosx-12-arm64-cpython-39/src/core/ext/upb-generated/envoy/config\n",
      "  \u001b[31m   \u001b[0m creating python_build/temp.macosx-12-arm64-cpython-39/src/core/ext/upb-generated/envoy/config/accesslog\n",
      "  \u001b[31m   \u001b[0m creating python_build/temp.macosx-12-arm64-cpython-39/src/core/ext/upb-generated/envoy/config/accesslog/v3\n",
      "  \u001b[31m   \u001b[0m creating python_build/temp.macosx-12-arm64-cpython-39/src/core/ext/upb-generated/envoy/config/bootstrap\n",
      "  \u001b[31m   \u001b[0m creating python_build/temp.macosx-12-arm64-cpython-39/src/core/ext/upb-generated/envoy/config/bootstrap/v3\n",
      "  \u001b[31m   \u001b[0m creating python_build/temp.macosx-12-arm64-cpython-39/src/core/ext/upb-generated/envoy/config/cluster\n",
      "  \u001b[31m   \u001b[0m creating python_build/temp.macosx-12-arm64-cpython-39/src/core/ext/upb-generated/envoy/config/cluster/v3\n",
      "  \u001b[31m   \u001b[0m creating python_build/temp.macosx-12-arm64-cpython-39/src/core/ext/upb-generated/envoy/config/common\n",
      "  \u001b[31m   \u001b[0m creating python_build/temp.macosx-12-arm64-cpython-39/src/core/ext/upb-generated/envoy/config/common/matcher\n",
      "  \u001b[31m   \u001b[0m creating python_build/temp.macosx-12-arm64-cpython-39/src/core/ext/upb-generated/envoy/config/common/matcher/v3\n",
      "  \u001b[31m   \u001b[0m creating python_build/temp.macosx-12-arm64-cpython-39/src/core/ext/upb-generated/envoy/config/core\n",
      "  \u001b[31m   \u001b[0m creating python_build/temp.macosx-12-arm64-cpython-39/src/core/ext/upb-generated/envoy/config/core/v3\n",
      "  \u001b[31m   \u001b[0m creating python_build/temp.macosx-12-arm64-cpython-39/src/core/ext/upb-generated/envoy/config/endpoint\n",
      "  \u001b[31m   \u001b[0m creating python_build/temp.macosx-12-arm64-cpython-39/src/core/ext/upb-generated/envoy/config/endpoint/v3\n",
      "  \u001b[31m   \u001b[0m creating python_build/temp.macosx-12-arm64-cpython-39/src/core/ext/upb-generated/envoy/config/listener\n",
      "  \u001b[31m   \u001b[0m creating python_build/temp.macosx-12-arm64-cpython-39/src/core/ext/upb-generated/envoy/config/listener/v3\n",
      "  \u001b[31m   \u001b[0m creating python_build/temp.macosx-12-arm64-cpython-39/src/core/ext/upb-generated/envoy/config/metrics\n",
      "  \u001b[31m   \u001b[0m creating python_build/temp.macosx-12-arm64-cpython-39/src/core/ext/upb-generated/envoy/config/metrics/v3\n",
      "  \u001b[31m   \u001b[0m creating python_build/temp.macosx-12-arm64-cpython-39/src/core/ext/upb-generated/envoy/config/overload\n",
      "  \u001b[31m   \u001b[0m creating python_build/temp.macosx-12-arm64-cpython-39/src/core/ext/upb-generated/envoy/config/overload/v3\n",
      "  \u001b[31m   \u001b[0m creating python_build/temp.macosx-12-arm64-cpython-39/src/core/ext/upb-generated/envoy/config/rbac\n",
      "  \u001b[31m   \u001b[0m creating python_build/temp.macosx-12-arm64-cpython-39/src/core/ext/upb-generated/envoy/config/rbac/v3\n",
      "  \u001b[31m   \u001b[0m creating python_build/temp.macosx-12-arm64-cpython-39/src/core/ext/upb-generated/envoy/config/route\n",
      "  \u001b[31m   \u001b[0m creating python_build/temp.macosx-12-arm64-cpython-39/src/core/ext/upb-generated/envoy/config/route/v3\n",
      "  \u001b[31m   \u001b[0m creating python_build/temp.macosx-12-arm64-cpython-39/src/core/ext/upb-generated/envoy/config/tap\n",
      "  \u001b[31m   \u001b[0m creating python_build/temp.macosx-12-arm64-cpython-39/src/core/ext/upb-generated/envoy/config/tap/v3\n",
      "  \u001b[31m   \u001b[0m creating python_build/temp.macosx-12-arm64-cpython-39/src/core/ext/upb-generated/envoy/config/trace\n",
      "  \u001b[31m   \u001b[0m creating python_build/temp.macosx-12-arm64-cpython-39/src/core/ext/upb-generated/envoy/config/trace/v3\n",
      "  \u001b[31m   \u001b[0m creating python_build/temp.macosx-12-arm64-cpython-39/src/core/ext/upb-generated/envoy/extensions\n",
      "  \u001b[31m   \u001b[0m creating python_build/temp.macosx-12-arm64-cpython-39/src/core/ext/upb-generated/envoy/extensions/clusters\n",
      "  \u001b[31m   \u001b[0m creating python_build/temp.macosx-12-arm64-cpython-39/src/core/ext/upb-generated/envoy/extensions/clusters/aggregate\n",
      "  \u001b[31m   \u001b[0m creating python_build/temp.macosx-12-arm64-cpython-39/src/core/ext/upb-generated/envoy/extensions/clusters/aggregate/v3\n",
      "  \u001b[31m   \u001b[0m creating python_build/temp.macosx-12-arm64-cpython-39/src/core/ext/upb-generated/envoy/extensions/filters\n",
      "  \u001b[31m   \u001b[0m creating python_build/temp.macosx-12-arm64-cpython-39/src/core/ext/upb-generated/envoy/extensions/filters/common\n",
      "  \u001b[31m   \u001b[0m creating python_build/temp.macosx-12-arm64-cpython-39/src/core/ext/upb-generated/envoy/extensions/filters/common/fault\n",
      "  \u001b[31m   \u001b[0m creating python_build/temp.macosx-12-arm64-cpython-39/src/core/ext/upb-generated/envoy/extensions/filters/common/fault/v3\n",
      "  \u001b[31m   \u001b[0m creating python_build/temp.macosx-12-arm64-cpython-39/src/core/ext/upb-generated/envoy/extensions/filters/http\n",
      "  \u001b[31m   \u001b[0m creating python_build/temp.macosx-12-arm64-cpython-39/src/core/ext/upb-generated/envoy/extensions/filters/http/fault\n",
      "  \u001b[31m   \u001b[0m creating python_build/temp.macosx-12-arm64-cpython-39/src/core/ext/upb-generated/envoy/extensions/filters/http/fault/v3\n",
      "  \u001b[31m   \u001b[0m creating python_build/temp.macosx-12-arm64-cpython-39/src/core/ext/upb-generated/envoy/extensions/filters/http/rbac\n",
      "  \u001b[31m   \u001b[0m creating python_build/temp.macosx-12-arm64-cpython-39/src/core/ext/upb-generated/envoy/extensions/filters/http/rbac/v3\n",
      "  \u001b[31m   \u001b[0m creating python_build/temp.macosx-12-arm64-cpython-39/src/core/ext/upb-generated/envoy/extensions/filters/http/router\n",
      "  \u001b[31m   \u001b[0m creating python_build/temp.macosx-12-arm64-cpython-39/src/core/ext/upb-generated/envoy/extensions/filters/http/router/v3\n",
      "  \u001b[31m   \u001b[0m creating python_build/temp.macosx-12-arm64-cpython-39/src/core/ext/upb-generated/envoy/extensions/filters/network\n",
      "  \u001b[31m   \u001b[0m creating python_build/temp.macosx-12-arm64-cpython-39/src/core/ext/upb-generated/envoy/extensions/filters/network/http_connection_manager\n",
      "  \u001b[31m   \u001b[0m creating python_build/temp.macosx-12-arm64-cpython-39/src/core/ext/upb-generated/envoy/extensions/filters/network/http_connection_manager/v3\n",
      "  \u001b[31m   \u001b[0m creating python_build/temp.macosx-12-arm64-cpython-39/src/core/ext/upb-generated/envoy/extensions/load_balancing_policies\n",
      "  \u001b[31m   \u001b[0m creating python_build/temp.macosx-12-arm64-cpython-39/src/core/ext/upb-generated/envoy/extensions/load_balancing_policies/ring_hash\n",
      "  \u001b[31m   \u001b[0m creating python_build/temp.macosx-12-arm64-cpython-39/src/core/ext/upb-generated/envoy/extensions/load_balancing_policies/ring_hash/v3\n",
      "  \u001b[31m   \u001b[0m creating python_build/temp.macosx-12-arm64-cpython-39/src/core/ext/upb-generated/envoy/extensions/load_balancing_policies/wrr_locality\n",
      "  \u001b[31m   \u001b[0m creating python_build/temp.macosx-12-arm64-cpython-39/src/core/ext/upb-generated/envoy/extensions/load_balancing_policies/wrr_locality/v3\n",
      "  \u001b[31m   \u001b[0m creating python_build/temp.macosx-12-arm64-cpython-39/src/core/ext/upb-generated/envoy/extensions/transport_sockets\n",
      "  \u001b[31m   \u001b[0m creating python_build/temp.macosx-12-arm64-cpython-39/src/core/ext/upb-generated/envoy/extensions/transport_sockets/tls\n",
      "  \u001b[31m   \u001b[0m creating python_build/temp.macosx-12-arm64-cpython-39/src/core/ext/upb-generated/envoy/extensions/transport_sockets/tls/v3\n",
      "  \u001b[31m   \u001b[0m creating python_build/temp.macosx-12-arm64-cpython-39/src/core/ext/upb-generated/envoy/service\n",
      "  \u001b[31m   \u001b[0m creating python_build/temp.macosx-12-arm64-cpython-39/src/core/ext/upb-generated/envoy/service/discovery\n",
      "  \u001b[31m   \u001b[0m creating python_build/temp.macosx-12-arm64-cpython-39/src/core/ext/upb-generated/envoy/service/discovery/v3\n",
      "  \u001b[31m   \u001b[0m creating python_build/temp.macosx-12-arm64-cpython-39/src/core/ext/upb-generated/envoy/service/load_stats\n",
      "  \u001b[31m   \u001b[0m creating python_build/temp.macosx-12-arm64-cpython-39/src/core/ext/upb-generated/envoy/service/load_stats/v3\n",
      "  \u001b[31m   \u001b[0m creating python_build/temp.macosx-12-arm64-cpython-39/src/core/ext/upb-generated/envoy/service/status\n",
      "  \u001b[31m   \u001b[0m creating python_build/temp.macosx-12-arm64-cpython-39/src/core/ext/upb-generated/envoy/service/status/v3\n",
      "  \u001b[31m   \u001b[0m creating python_build/temp.macosx-12-arm64-cpython-39/src/core/ext/upb-generated/envoy/type\n",
      "  \u001b[31m   \u001b[0m creating python_build/temp.macosx-12-arm64-cpython-39/src/core/ext/upb-generated/envoy/type/http\n",
      "  \u001b[31m   \u001b[0m creating python_build/temp.macosx-12-arm64-cpython-39/src/core/ext/upb-generated/envoy/type/http/v3\n",
      "  \u001b[31m   \u001b[0m creating python_build/temp.macosx-12-arm64-cpython-39/src/core/ext/upb-generated/envoy/type/matcher\n",
      "  \u001b[31m   \u001b[0m creating python_build/temp.macosx-12-arm64-cpython-39/src/core/ext/upb-generated/envoy/type/matcher/v3\n",
      "  \u001b[31m   \u001b[0m creating python_build/temp.macosx-12-arm64-cpython-39/src/core/ext/upb-generated/envoy/type/metadata\n",
      "  \u001b[31m   \u001b[0m creating python_build/temp.macosx-12-arm64-cpython-39/src/core/ext/upb-generated/envoy/type/metadata/v3\n",
      "  \u001b[31m   \u001b[0m creating python_build/temp.macosx-12-arm64-cpython-39/src/core/ext/upb-generated/envoy/type/tracing\n",
      "  \u001b[31m   \u001b[0m creating python_build/temp.macosx-12-arm64-cpython-39/src/core/ext/upb-generated/envoy/type/tracing/v3\n",
      "  \u001b[31m   \u001b[0m creating python_build/temp.macosx-12-arm64-cpython-39/src/core/ext/upb-generated/envoy/type/v3\n",
      "  \u001b[31m   \u001b[0m creating python_build/temp.macosx-12-arm64-cpython-39/src/core/ext/upb-generated/google\n",
      "  \u001b[31m   \u001b[0m creating python_build/temp.macosx-12-arm64-cpython-39/src/core/ext/upb-generated/google/api\n",
      "  \u001b[31m   \u001b[0m creating python_build/temp.macosx-12-arm64-cpython-39/src/core/ext/upb-generated/google/api/expr\n",
      "  \u001b[31m   \u001b[0m creating python_build/temp.macosx-12-arm64-cpython-39/src/core/ext/upb-generated/google/api/expr/v1alpha1\n",
      "  \u001b[31m   \u001b[0m creating python_build/temp.macosx-12-arm64-cpython-39/src/core/ext/upb-generated/google/protobuf\n",
      "  \u001b[31m   \u001b[0m creating python_build/temp.macosx-12-arm64-cpython-39/src/core/ext/upb-generated/google/rpc\n",
      "  \u001b[31m   \u001b[0m creating python_build/temp.macosx-12-arm64-cpython-39/src/core/ext/upb-generated/opencensus\n",
      "  \u001b[31m   \u001b[0m creating python_build/temp.macosx-12-arm64-cpython-39/src/core/ext/upb-generated/opencensus/proto\n",
      "  \u001b[31m   \u001b[0m creating python_build/temp.macosx-12-arm64-cpython-39/src/core/ext/upb-generated/opencensus/proto/trace\n",
      "  \u001b[31m   \u001b[0m creating python_build/temp.macosx-12-arm64-cpython-39/src/core/ext/upb-generated/opencensus/proto/trace/v1\n",
      "  \u001b[31m   \u001b[0m creating python_build/temp.macosx-12-arm64-cpython-39/src/core/ext/upb-generated/src\n",
      "  \u001b[31m   \u001b[0m creating python_build/temp.macosx-12-arm64-cpython-39/src/core/ext/upb-generated/src/proto\n",
      "  \u001b[31m   \u001b[0m creating python_build/temp.macosx-12-arm64-cpython-39/src/core/ext/upb-generated/src/proto/grpc\n",
      "  \u001b[31m   \u001b[0m creating python_build/temp.macosx-12-arm64-cpython-39/src/core/ext/upb-generated/src/proto/grpc/gcp\n",
      "  \u001b[31m   \u001b[0m creating python_build/temp.macosx-12-arm64-cpython-39/src/core/ext/upb-generated/src/proto/grpc/health\n",
      "  \u001b[31m   \u001b[0m creating python_build/temp.macosx-12-arm64-cpython-39/src/core/ext/upb-generated/src/proto/grpc/health/v1\n",
      "  \u001b[31m   \u001b[0m creating python_build/temp.macosx-12-arm64-cpython-39/src/core/ext/upb-generated/src/proto/grpc/lb\n",
      "  \u001b[31m   \u001b[0m creating python_build/temp.macosx-12-arm64-cpython-39/src/core/ext/upb-generated/src/proto/grpc/lb/v1\n",
      "  \u001b[31m   \u001b[0m creating python_build/temp.macosx-12-arm64-cpython-39/src/core/ext/upb-generated/src/proto/grpc/lookup\n",
      "  \u001b[31m   \u001b[0m creating python_build/temp.macosx-12-arm64-cpython-39/src/core/ext/upb-generated/src/proto/grpc/lookup/v1\n",
      "  \u001b[31m   \u001b[0m creating python_build/temp.macosx-12-arm64-cpython-39/src/core/ext/upb-generated/udpa\n",
      "  \u001b[31m   \u001b[0m creating python_build/temp.macosx-12-arm64-cpython-39/src/core/ext/upb-generated/udpa/annotations\n",
      "  \u001b[31m   \u001b[0m creating python_build/temp.macosx-12-arm64-cpython-39/src/core/ext/upb-generated/validate\n",
      "  \u001b[31m   \u001b[0m creating python_build/temp.macosx-12-arm64-cpython-39/src/core/ext/upb-generated/xds\n",
      "  \u001b[31m   \u001b[0m creating python_build/temp.macosx-12-arm64-cpython-39/src/core/ext/upb-generated/xds/annotations\n",
      "  \u001b[31m   \u001b[0m creating python_build/temp.macosx-12-arm64-cpython-39/src/core/ext/upb-generated/xds/annotations/v3\n",
      "  \u001b[31m   \u001b[0m creating python_build/temp.macosx-12-arm64-cpython-39/src/core/ext/upb-generated/xds/core\n",
      "  \u001b[31m   \u001b[0m creating python_build/temp.macosx-12-arm64-cpython-39/src/core/ext/upb-generated/xds/core/v3\n",
      "  \u001b[31m   \u001b[0m creating python_build/temp.macosx-12-arm64-cpython-39/src/core/ext/upb-generated/xds/data\n",
      "  \u001b[31m   \u001b[0m creating python_build/temp.macosx-12-arm64-cpython-39/src/core/ext/upb-generated/xds/data/orca\n",
      "  \u001b[31m   \u001b[0m creating python_build/temp.macosx-12-arm64-cpython-39/src/core/ext/upb-generated/xds/data/orca/v3\n",
      "  \u001b[31m   \u001b[0m creating python_build/temp.macosx-12-arm64-cpython-39/src/core/ext/upb-generated/xds/service\n",
      "  \u001b[31m   \u001b[0m creating python_build/temp.macosx-12-arm64-cpython-39/src/core/ext/upb-generated/xds/service/orca\n",
      "  \u001b[31m   \u001b[0m creating python_build/temp.macosx-12-arm64-cpython-39/src/core/ext/upb-generated/xds/service/orca/v3\n",
      "  \u001b[31m   \u001b[0m creating python_build/temp.macosx-12-arm64-cpython-39/src/core/ext/upb-generated/xds/type\n",
      "  \u001b[31m   \u001b[0m creating python_build/temp.macosx-12-arm64-cpython-39/src/core/ext/upb-generated/xds/type/matcher\n",
      "  \u001b[31m   \u001b[0m creating python_build/temp.macosx-12-arm64-cpython-39/src/core/ext/upb-generated/xds/type/matcher/v3\n",
      "  \u001b[31m   \u001b[0m creating python_build/temp.macosx-12-arm64-cpython-39/src/core/ext/upb-generated/xds/type/v3\n",
      "  \u001b[31m   \u001b[0m creating python_build/temp.macosx-12-arm64-cpython-39/src/core/ext/upbdefs-generated\n",
      "  \u001b[31m   \u001b[0m creating python_build/temp.macosx-12-arm64-cpython-39/src/core/ext/upbdefs-generated/envoy\n",
      "  \u001b[31m   \u001b[0m creating python_build/temp.macosx-12-arm64-cpython-39/src/core/ext/upbdefs-generated/envoy/admin\n",
      "  \u001b[31m   \u001b[0m creating python_build/temp.macosx-12-arm64-cpython-39/src/core/ext/upbdefs-generated/envoy/admin/v3\n",
      "  \u001b[31m   \u001b[0m creating python_build/temp.macosx-12-arm64-cpython-39/src/core/ext/upbdefs-generated/envoy/annotations\n",
      "  \u001b[31m   \u001b[0m creating python_build/temp.macosx-12-arm64-cpython-39/src/core/ext/upbdefs-generated/envoy/config\n",
      "  \u001b[31m   \u001b[0m creating python_build/temp.macosx-12-arm64-cpython-39/src/core/ext/upbdefs-generated/envoy/config/accesslog\n",
      "  \u001b[31m   \u001b[0m creating python_build/temp.macosx-12-arm64-cpython-39/src/core/ext/upbdefs-generated/envoy/config/accesslog/v3\n",
      "  \u001b[31m   \u001b[0m creating python_build/temp.macosx-12-arm64-cpython-39/src/core/ext/upbdefs-generated/envoy/config/bootstrap\n",
      "  \u001b[31m   \u001b[0m creating python_build/temp.macosx-12-arm64-cpython-39/src/core/ext/upbdefs-generated/envoy/config/bootstrap/v3\n",
      "  \u001b[31m   \u001b[0m creating python_build/temp.macosx-12-arm64-cpython-39/src/core/ext/upbdefs-generated/envoy/config/cluster\n",
      "  \u001b[31m   \u001b[0m creating python_build/temp.macosx-12-arm64-cpython-39/src/core/ext/upbdefs-generated/envoy/config/cluster/v3\n",
      "  \u001b[31m   \u001b[0m creating python_build/temp.macosx-12-arm64-cpython-39/src/core/ext/upbdefs-generated/envoy/config/common\n",
      "  \u001b[31m   \u001b[0m creating python_build/temp.macosx-12-arm64-cpython-39/src/core/ext/upbdefs-generated/envoy/config/common/matcher\n",
      "  \u001b[31m   \u001b[0m creating python_build/temp.macosx-12-arm64-cpython-39/src/core/ext/upbdefs-generated/envoy/config/common/matcher/v3\n",
      "  \u001b[31m   \u001b[0m creating python_build/temp.macosx-12-arm64-cpython-39/src/core/ext/upbdefs-generated/envoy/config/core\n",
      "  \u001b[31m   \u001b[0m creating python_build/temp.macosx-12-arm64-cpython-39/src/core/ext/upbdefs-generated/envoy/config/core/v3\n",
      "  \u001b[31m   \u001b[0m creating python_build/temp.macosx-12-arm64-cpython-39/src/core/ext/upbdefs-generated/envoy/config/endpoint\n",
      "  \u001b[31m   \u001b[0m creating python_build/temp.macosx-12-arm64-cpython-39/src/core/ext/upbdefs-generated/envoy/config/endpoint/v3\n",
      "  \u001b[31m   \u001b[0m creating python_build/temp.macosx-12-arm64-cpython-39/src/core/ext/upbdefs-generated/envoy/config/listener\n",
      "  \u001b[31m   \u001b[0m creating python_build/temp.macosx-12-arm64-cpython-39/src/core/ext/upbdefs-generated/envoy/config/listener/v3\n",
      "  \u001b[31m   \u001b[0m creating python_build/temp.macosx-12-arm64-cpython-39/src/core/ext/upbdefs-generated/envoy/config/metrics\n",
      "  \u001b[31m   \u001b[0m creating python_build/temp.macosx-12-arm64-cpython-39/src/core/ext/upbdefs-generated/envoy/config/metrics/v3\n",
      "  \u001b[31m   \u001b[0m creating python_build/temp.macosx-12-arm64-cpython-39/src/core/ext/upbdefs-generated/envoy/config/overload\n",
      "  \u001b[31m   \u001b[0m creating python_build/temp.macosx-12-arm64-cpython-39/src/core/ext/upbdefs-generated/envoy/config/overload/v3\n",
      "  \u001b[31m   \u001b[0m creating python_build/temp.macosx-12-arm64-cpython-39/src/core/ext/upbdefs-generated/envoy/config/rbac\n",
      "  \u001b[31m   \u001b[0m creating python_build/temp.macosx-12-arm64-cpython-39/src/core/ext/upbdefs-generated/envoy/config/rbac/v3\n",
      "  \u001b[31m   \u001b[0m creating python_build/temp.macosx-12-arm64-cpython-39/src/core/ext/upbdefs-generated/envoy/config/route\n",
      "  \u001b[31m   \u001b[0m creating python_build/temp.macosx-12-arm64-cpython-39/src/core/ext/upbdefs-generated/envoy/config/route/v3\n",
      "  \u001b[31m   \u001b[0m creating python_build/temp.macosx-12-arm64-cpython-39/src/core/ext/upbdefs-generated/envoy/config/tap\n",
      "  \u001b[31m   \u001b[0m creating python_build/temp.macosx-12-arm64-cpython-39/src/core/ext/upbdefs-generated/envoy/config/tap/v3\n",
      "  \u001b[31m   \u001b[0m creating python_build/temp.macosx-12-arm64-cpython-39/src/core/ext/upbdefs-generated/envoy/config/trace\n",
      "  \u001b[31m   \u001b[0m creating python_build/temp.macosx-12-arm64-cpython-39/src/core/ext/upbdefs-generated/envoy/config/trace/v3\n",
      "  \u001b[31m   \u001b[0m creating python_build/temp.macosx-12-arm64-cpython-39/src/core/ext/upbdefs-generated/envoy/extensions\n",
      "  \u001b[31m   \u001b[0m creating python_build/temp.macosx-12-arm64-cpython-39/src/core/ext/upbdefs-generated/envoy/extensions/clusters\n",
      "  \u001b[31m   \u001b[0m creating python_build/temp.macosx-12-arm64-cpython-39/src/core/ext/upbdefs-generated/envoy/extensions/clusters/aggregate\n",
      "  \u001b[31m   \u001b[0m creating python_build/temp.macosx-12-arm64-cpython-39/src/core/ext/upbdefs-generated/envoy/extensions/clusters/aggregate/v3\n",
      "  \u001b[31m   \u001b[0m creating python_build/temp.macosx-12-arm64-cpython-39/src/core/ext/upbdefs-generated/envoy/extensions/filters\n",
      "  \u001b[31m   \u001b[0m creating python_build/temp.macosx-12-arm64-cpython-39/src/core/ext/upbdefs-generated/envoy/extensions/filters/common\n",
      "  \u001b[31m   \u001b[0m creating python_build/temp.macosx-12-arm64-cpython-39/src/core/ext/upbdefs-generated/envoy/extensions/filters/common/fault\n",
      "  \u001b[31m   \u001b[0m creating python_build/temp.macosx-12-arm64-cpython-39/src/core/ext/upbdefs-generated/envoy/extensions/filters/common/fault/v3\n",
      "  \u001b[31m   \u001b[0m creating python_build/temp.macosx-12-arm64-cpython-39/src/core/ext/upbdefs-generated/envoy/extensions/filters/http\n",
      "  \u001b[31m   \u001b[0m creating python_build/temp.macosx-12-arm64-cpython-39/src/core/ext/upbdefs-generated/envoy/extensions/filters/http/fault\n",
      "  \u001b[31m   \u001b[0m creating python_build/temp.macosx-12-arm64-cpython-39/src/core/ext/upbdefs-generated/envoy/extensions/filters/http/fault/v3\n",
      "  \u001b[31m   \u001b[0m creating python_build/temp.macosx-12-arm64-cpython-39/src/core/ext/upbdefs-generated/envoy/extensions/filters/http/rbac\n",
      "  \u001b[31m   \u001b[0m creating python_build/temp.macosx-12-arm64-cpython-39/src/core/ext/upbdefs-generated/envoy/extensions/filters/http/rbac/v3\n",
      "  \u001b[31m   \u001b[0m creating python_build/temp.macosx-12-arm64-cpython-39/src/core/ext/upbdefs-generated/envoy/extensions/filters/http/router\n",
      "  \u001b[31m   \u001b[0m creating python_build/temp.macosx-12-arm64-cpython-39/src/core/ext/upbdefs-generated/envoy/extensions/filters/http/router/v3\n",
      "  \u001b[31m   \u001b[0m creating python_build/temp.macosx-12-arm64-cpython-39/src/core/ext/upbdefs-generated/envoy/extensions/filters/network\n",
      "  \u001b[31m   \u001b[0m creating python_build/temp.macosx-12-arm64-cpython-39/src/core/ext/upbdefs-generated/envoy/extensions/filters/network/http_connection_manager\n",
      "  \u001b[31m   \u001b[0m creating python_build/temp.macosx-12-arm64-cpython-39/src/core/ext/upbdefs-generated/envoy/extensions/filters/network/http_connection_manager/v3\n",
      "  \u001b[31m   \u001b[0m creating python_build/temp.macosx-12-arm64-cpython-39/src/core/ext/upbdefs-generated/envoy/extensions/transport_sockets\n",
      "  \u001b[31m   \u001b[0m creating python_build/temp.macosx-12-arm64-cpython-39/src/core/ext/upbdefs-generated/envoy/extensions/transport_sockets/tls\n",
      "  \u001b[31m   \u001b[0m creating python_build/temp.macosx-12-arm64-cpython-39/src/core/ext/upbdefs-generated/envoy/extensions/transport_sockets/tls/v3\n",
      "  \u001b[31m   \u001b[0m creating python_build/temp.macosx-12-arm64-cpython-39/src/core/ext/upbdefs-generated/envoy/service\n",
      "  \u001b[31m   \u001b[0m creating python_build/temp.macosx-12-arm64-cpython-39/src/core/ext/upbdefs-generated/envoy/service/discovery\n",
      "  \u001b[31m   \u001b[0m creating python_build/temp.macosx-12-arm64-cpython-39/src/core/ext/upbdefs-generated/envoy/service/discovery/v3\n",
      "  \u001b[31m   \u001b[0m creating python_build/temp.macosx-12-arm64-cpython-39/src/core/ext/upbdefs-generated/envoy/service/load_stats\n",
      "  \u001b[31m   \u001b[0m creating python_build/temp.macosx-12-arm64-cpython-39/src/core/ext/upbdefs-generated/envoy/service/load_stats/v3\n",
      "  \u001b[31m   \u001b[0m creating python_build/temp.macosx-12-arm64-cpython-39/src/core/ext/upbdefs-generated/envoy/service/status\n",
      "  \u001b[31m   \u001b[0m creating python_build/temp.macosx-12-arm64-cpython-39/src/core/ext/upbdefs-generated/envoy/service/status/v3\n",
      "  \u001b[31m   \u001b[0m creating python_build/temp.macosx-12-arm64-cpython-39/src/core/ext/upbdefs-generated/envoy/type\n",
      "  \u001b[31m   \u001b[0m creating python_build/temp.macosx-12-arm64-cpython-39/src/core/ext/upbdefs-generated/envoy/type/http\n",
      "  \u001b[31m   \u001b[0m creating python_build/temp.macosx-12-arm64-cpython-39/src/core/ext/upbdefs-generated/envoy/type/http/v3\n",
      "  \u001b[31m   \u001b[0m creating python_build/temp.macosx-12-arm64-cpython-39/src/core/ext/upbdefs-generated/envoy/type/matcher\n",
      "  \u001b[31m   \u001b[0m creating python_build/temp.macosx-12-arm64-cpython-39/src/core/ext/upbdefs-generated/envoy/type/matcher/v3\n",
      "  \u001b[31m   \u001b[0m creating python_build/temp.macosx-12-arm64-cpython-39/src/core/ext/upbdefs-generated/envoy/type/metadata\n",
      "  \u001b[31m   \u001b[0m creating python_build/temp.macosx-12-arm64-cpython-39/src/core/ext/upbdefs-generated/envoy/type/metadata/v3\n",
      "  \u001b[31m   \u001b[0m creating python_build/temp.macosx-12-arm64-cpython-39/src/core/ext/upbdefs-generated/envoy/type/tracing\n",
      "  \u001b[31m   \u001b[0m creating python_build/temp.macosx-12-arm64-cpython-39/src/core/ext/upbdefs-generated/envoy/type/tracing/v3\n",
      "  \u001b[31m   \u001b[0m creating python_build/temp.macosx-12-arm64-cpython-39/src/core/ext/upbdefs-generated/envoy/type/v3\n",
      "  \u001b[31m   \u001b[0m creating python_build/temp.macosx-12-arm64-cpython-39/src/core/ext/upbdefs-generated/google\n",
      "  \u001b[31m   \u001b[0m creating python_build/temp.macosx-12-arm64-cpython-39/src/core/ext/upbdefs-generated/google/api\n",
      "  \u001b[31m   \u001b[0m creating python_build/temp.macosx-12-arm64-cpython-39/src/core/ext/upbdefs-generated/google/api/expr\n",
      "  \u001b[31m   \u001b[0m creating python_build/temp.macosx-12-arm64-cpython-39/src/core/ext/upbdefs-generated/google/api/expr/v1alpha1\n",
      "  \u001b[31m   \u001b[0m creating python_build/temp.macosx-12-arm64-cpython-39/src/core/ext/upbdefs-generated/google/protobuf\n",
      "  \u001b[31m   \u001b[0m creating python_build/temp.macosx-12-arm64-cpython-39/src/core/ext/upbdefs-generated/google/rpc\n",
      "  \u001b[31m   \u001b[0m creating python_build/temp.macosx-12-arm64-cpython-39/src/core/ext/upbdefs-generated/opencensus\n",
      "  \u001b[31m   \u001b[0m creating python_build/temp.macosx-12-arm64-cpython-39/src/core/ext/upbdefs-generated/opencensus/proto\n",
      "  \u001b[31m   \u001b[0m creating python_build/temp.macosx-12-arm64-cpython-39/src/core/ext/upbdefs-generated/opencensus/proto/trace\n",
      "  \u001b[31m   \u001b[0m creating python_build/temp.macosx-12-arm64-cpython-39/src/core/ext/upbdefs-generated/opencensus/proto/trace/v1\n",
      "  \u001b[31m   \u001b[0m creating python_build/temp.macosx-12-arm64-cpython-39/src/core/ext/upbdefs-generated/src\n",
      "  \u001b[31m   \u001b[0m creating python_build/temp.macosx-12-arm64-cpython-39/src/core/ext/upbdefs-generated/src/proto\n",
      "  \u001b[31m   \u001b[0m creating python_build/temp.macosx-12-arm64-cpython-39/src/core/ext/upbdefs-generated/src/proto/grpc\n",
      "  \u001b[31m   \u001b[0m creating python_build/temp.macosx-12-arm64-cpython-39/src/core/ext/upbdefs-generated/src/proto/grpc/lookup\n",
      "  \u001b[31m   \u001b[0m creating python_build/temp.macosx-12-arm64-cpython-39/src/core/ext/upbdefs-generated/src/proto/grpc/lookup/v1\n",
      "  \u001b[31m   \u001b[0m creating python_build/temp.macosx-12-arm64-cpython-39/src/core/ext/upbdefs-generated/udpa\n",
      "  \u001b[31m   \u001b[0m creating python_build/temp.macosx-12-arm64-cpython-39/src/core/ext/upbdefs-generated/udpa/annotations\n",
      "  \u001b[31m   \u001b[0m creating python_build/temp.macosx-12-arm64-cpython-39/src/core/ext/upbdefs-generated/validate\n",
      "  \u001b[31m   \u001b[0m creating python_build/temp.macosx-12-arm64-cpython-39/src/core/ext/upbdefs-generated/xds\n",
      "  \u001b[31m   \u001b[0m creating python_build/temp.macosx-12-arm64-cpython-39/src/core/ext/upbdefs-generated/xds/annotations\n",
      "  \u001b[31m   \u001b[0m creating python_build/temp.macosx-12-arm64-cpython-39/src/core/ext/upbdefs-generated/xds/annotations/v3\n",
      "  \u001b[31m   \u001b[0m creating python_build/temp.macosx-12-arm64-cpython-39/src/core/ext/upbdefs-generated/xds/core\n",
      "  \u001b[31m   \u001b[0m creating python_build/temp.macosx-12-arm64-cpython-39/src/core/ext/upbdefs-generated/xds/core/v3\n",
      "  \u001b[31m   \u001b[0m creating python_build/temp.macosx-12-arm64-cpython-39/src/core/ext/upbdefs-generated/xds/type\n",
      "  \u001b[31m   \u001b[0m creating python_build/temp.macosx-12-arm64-cpython-39/src/core/ext/upbdefs-generated/xds/type/matcher\n",
      "  \u001b[31m   \u001b[0m creating python_build/temp.macosx-12-arm64-cpython-39/src/core/ext/upbdefs-generated/xds/type/matcher/v3\n",
      "  \u001b[31m   \u001b[0m creating python_build/temp.macosx-12-arm64-cpython-39/src/core/ext/upbdefs-generated/xds/type/v3\n",
      "  \u001b[31m   \u001b[0m creating python_build/temp.macosx-12-arm64-cpython-39/src/core/ext/xds\n",
      "  \u001b[31m   \u001b[0m creating python_build/temp.macosx-12-arm64-cpython-39/src/core/lib\n",
      "  \u001b[31m   \u001b[0m creating python_build/temp.macosx-12-arm64-cpython-39/src/core/lib/address_utils\n",
      "  \u001b[31m   \u001b[0m creating python_build/temp.macosx-12-arm64-cpython-39/src/core/lib/backoff\n",
      "  \u001b[31m   \u001b[0m creating python_build/temp.macosx-12-arm64-cpython-39/src/core/lib/channel\n",
      "  \u001b[31m   \u001b[0m creating python_build/temp.macosx-12-arm64-cpython-39/src/core/lib/compression\n",
      "  \u001b[31m   \u001b[0m creating python_build/temp.macosx-12-arm64-cpython-39/src/core/lib/config\n",
      "  \u001b[31m   \u001b[0m creating python_build/temp.macosx-12-arm64-cpython-39/src/core/lib/debug\n",
      "  \u001b[31m   \u001b[0m creating python_build/temp.macosx-12-arm64-cpython-39/src/core/lib/event_engine\n",
      "  \u001b[31m   \u001b[0m creating python_build/temp.macosx-12-arm64-cpython-39/src/core/lib/event_engine/executor\n",
      "  \u001b[31m   \u001b[0m creating python_build/temp.macosx-12-arm64-cpython-39/src/core/lib/event_engine/posix_engine\n",
      "  \u001b[31m   \u001b[0m creating python_build/temp.macosx-12-arm64-cpython-39/src/core/lib/event_engine/windows\n",
      "  \u001b[31m   \u001b[0m creating python_build/temp.macosx-12-arm64-cpython-39/src/core/lib/experiments\n",
      "  \u001b[31m   \u001b[0m creating python_build/temp.macosx-12-arm64-cpython-39/src/core/lib/gpr\n",
      "  \u001b[31m   \u001b[0m creating python_build/temp.macosx-12-arm64-cpython-39/src/core/lib/gprpp\n",
      "  \u001b[31m   \u001b[0m creating python_build/temp.macosx-12-arm64-cpython-39/src/core/lib/handshaker\n",
      "  \u001b[31m   \u001b[0m creating python_build/temp.macosx-12-arm64-cpython-39/src/core/lib/http\n",
      "  \u001b[31m   \u001b[0m creating python_build/temp.macosx-12-arm64-cpython-39/src/core/lib/iomgr\n",
      "  \u001b[31m   \u001b[0m creating python_build/temp.macosx-12-arm64-cpython-39/src/core/lib/json\n",
      "  \u001b[31m   \u001b[0m creating python_build/temp.macosx-12-arm64-cpython-39/src/core/lib/load_balancing\n",
      "  \u001b[31m   \u001b[0m creating python_build/temp.macosx-12-arm64-cpython-39/src/core/lib/matchers\n",
      "  \u001b[31m   \u001b[0m creating python_build/temp.macosx-12-arm64-cpython-39/src/core/lib/promise\n",
      "  \u001b[31m   \u001b[0m creating python_build/temp.macosx-12-arm64-cpython-39/src/core/lib/resolver\n",
      "  \u001b[31m   \u001b[0m creating python_build/temp.macosx-12-arm64-cpython-39/src/core/lib/resource_quota\n",
      "  \u001b[31m   \u001b[0m creating python_build/temp.macosx-12-arm64-cpython-39/src/core/lib/security\n",
      "  \u001b[31m   \u001b[0m creating python_build/temp.macosx-12-arm64-cpython-39/src/core/lib/security/authorization\n",
      "  \u001b[31m   \u001b[0m creating python_build/temp.macosx-12-arm64-cpython-39/src/core/lib/security/certificate_provider\n",
      "  \u001b[31m   \u001b[0m creating python_build/temp.macosx-12-arm64-cpython-39/src/core/lib/security/context\n",
      "  \u001b[31m   \u001b[0m creating python_build/temp.macosx-12-arm64-cpython-39/src/core/lib/security/credentials\n",
      "  \u001b[31m   \u001b[0m creating python_build/temp.macosx-12-arm64-cpython-39/src/core/lib/security/credentials/alts\n",
      "  \u001b[31m   \u001b[0m creating python_build/temp.macosx-12-arm64-cpython-39/src/core/lib/security/credentials/composite\n",
      "  \u001b[31m   \u001b[0m creating python_build/temp.macosx-12-arm64-cpython-39/src/core/lib/security/credentials/external\n",
      "  \u001b[31m   \u001b[0m creating python_build/temp.macosx-12-arm64-cpython-39/src/core/lib/security/credentials/fake\n",
      "  \u001b[31m   \u001b[0m creating python_build/temp.macosx-12-arm64-cpython-39/src/core/lib/security/credentials/google_default\n",
      "  \u001b[31m   \u001b[0m creating python_build/temp.macosx-12-arm64-cpython-39/src/core/lib/security/credentials/iam\n",
      "  \u001b[31m   \u001b[0m creating python_build/temp.macosx-12-arm64-cpython-39/src/core/lib/security/credentials/insecure\n",
      "  \u001b[31m   \u001b[0m creating python_build/temp.macosx-12-arm64-cpython-39/src/core/lib/security/credentials/jwt\n",
      "  \u001b[31m   \u001b[0m creating python_build/temp.macosx-12-arm64-cpython-39/src/core/lib/security/credentials/local\n",
      "  \u001b[31m   \u001b[0m creating python_build/temp.macosx-12-arm64-cpython-39/src/core/lib/security/credentials/oauth2\n",
      "  \u001b[31m   \u001b[0m creating python_build/temp.macosx-12-arm64-cpython-39/src/core/lib/security/credentials/plugin\n",
      "  \u001b[31m   \u001b[0m creating python_build/temp.macosx-12-arm64-cpython-39/src/core/lib/security/credentials/ssl\n",
      "  \u001b[31m   \u001b[0m creating python_build/temp.macosx-12-arm64-cpython-39/src/core/lib/security/credentials/tls\n",
      "  \u001b[31m   \u001b[0m creating python_build/temp.macosx-12-arm64-cpython-39/src/core/lib/security/credentials/xds\n",
      "  \u001b[31m   \u001b[0m creating python_build/temp.macosx-12-arm64-cpython-39/src/core/lib/security/security_connector\n",
      "  \u001b[31m   \u001b[0m creating python_build/temp.macosx-12-arm64-cpython-39/src/core/lib/security/security_connector/alts\n",
      "  \u001b[31m   \u001b[0m creating python_build/temp.macosx-12-arm64-cpython-39/src/core/lib/security/security_connector/fake\n",
      "  \u001b[31m   \u001b[0m creating python_build/temp.macosx-12-arm64-cpython-39/src/core/lib/security/security_connector/insecure\n",
      "  \u001b[31m   \u001b[0m creating python_build/temp.macosx-12-arm64-cpython-39/src/core/lib/security/security_connector/local\n",
      "  \u001b[31m   \u001b[0m creating python_build/temp.macosx-12-arm64-cpython-39/src/core/lib/security/security_connector/ssl\n",
      "  \u001b[31m   \u001b[0m creating python_build/temp.macosx-12-arm64-cpython-39/src/core/lib/security/security_connector/tls\n",
      "  \u001b[31m   \u001b[0m creating python_build/temp.macosx-12-arm64-cpython-39/src/core/lib/security/transport\n",
      "  \u001b[31m   \u001b[0m creating python_build/temp.macosx-12-arm64-cpython-39/src/core/lib/security/util\n",
      "  \u001b[31m   \u001b[0m creating python_build/temp.macosx-12-arm64-cpython-39/src/core/lib/service_config\n",
      "  \u001b[31m   \u001b[0m creating python_build/temp.macosx-12-arm64-cpython-39/src/core/lib/slice\n",
      "  \u001b[31m   \u001b[0m creating python_build/temp.macosx-12-arm64-cpython-39/src/core/lib/surface\n",
      "  \u001b[31m   \u001b[0m creating python_build/temp.macosx-12-arm64-cpython-39/src/core/lib/transport\n",
      "  \u001b[31m   \u001b[0m creating python_build/temp.macosx-12-arm64-cpython-39/src/core/lib/uri\n",
      "  \u001b[31m   \u001b[0m creating python_build/temp.macosx-12-arm64-cpython-39/src/core/plugin_registry\n",
      "  \u001b[31m   \u001b[0m creating python_build/temp.macosx-12-arm64-cpython-39/src/core/tsi\n",
      "  \u001b[31m   \u001b[0m creating python_build/temp.macosx-12-arm64-cpython-39/src/core/tsi/alts\n",
      "  \u001b[31m   \u001b[0m creating python_build/temp.macosx-12-arm64-cpython-39/src/core/tsi/alts/crypt\n",
      "  \u001b[31m   \u001b[0m creating python_build/temp.macosx-12-arm64-cpython-39/src/core/tsi/alts/frame_protector\n",
      "  \u001b[31m   \u001b[0m creating python_build/temp.macosx-12-arm64-cpython-39/src/core/tsi/alts/handshaker\n",
      "  \u001b[31m   \u001b[0m creating python_build/temp.macosx-12-arm64-cpython-39/src/core/tsi/alts/zero_copy_frame_protector\n",
      "  \u001b[31m   \u001b[0m creating python_build/temp.macosx-12-arm64-cpython-39/src/core/tsi/ssl\n",
      "  \u001b[31m   \u001b[0m creating python_build/temp.macosx-12-arm64-cpython-39/src/core/tsi/ssl/key_logging\n",
      "  \u001b[31m   \u001b[0m creating python_build/temp.macosx-12-arm64-cpython-39/src/core/tsi/ssl/session_cache\n",
      "  \u001b[31m   \u001b[0m creating python_build/temp.macosx-12-arm64-cpython-39/src/python\n",
      "  \u001b[31m   \u001b[0m creating python_build/temp.macosx-12-arm64-cpython-39/src/python/grpcio\n",
      "  \u001b[31m   \u001b[0m creating python_build/temp.macosx-12-arm64-cpython-39/src/python/grpcio/grpc\n",
      "  \u001b[31m   \u001b[0m creating python_build/temp.macosx-12-arm64-cpython-39/src/python/grpcio/grpc/_cython\n",
      "  \u001b[31m   \u001b[0m creating python_build/temp.macosx-12-arm64-cpython-39/third_party\n",
      "  \u001b[31m   \u001b[0m creating python_build/temp.macosx-12-arm64-cpython-39/third_party/abseil-cpp\n",
      "  \u001b[31m   \u001b[0m creating python_build/temp.macosx-12-arm64-cpython-39/third_party/abseil-cpp/absl\n",
      "  \u001b[31m   \u001b[0m creating python_build/temp.macosx-12-arm64-cpython-39/third_party/abseil-cpp/absl/base\n",
      "  \u001b[31m   \u001b[0m creating python_build/temp.macosx-12-arm64-cpython-39/third_party/abseil-cpp/absl/base/internal\n",
      "  \u001b[31m   \u001b[0m creating python_build/temp.macosx-12-arm64-cpython-39/third_party/abseil-cpp/absl/container\n",
      "  \u001b[31m   \u001b[0m creating python_build/temp.macosx-12-arm64-cpython-39/third_party/abseil-cpp/absl/container/internal\n",
      "  \u001b[31m   \u001b[0m creating python_build/temp.macosx-12-arm64-cpython-39/third_party/abseil-cpp/absl/debugging\n",
      "  \u001b[31m   \u001b[0m creating python_build/temp.macosx-12-arm64-cpython-39/third_party/abseil-cpp/absl/debugging/internal\n",
      "  \u001b[31m   \u001b[0m creating python_build/temp.macosx-12-arm64-cpython-39/third_party/abseil-cpp/absl/hash\n",
      "  \u001b[31m   \u001b[0m creating python_build/temp.macosx-12-arm64-cpython-39/third_party/abseil-cpp/absl/hash/internal\n",
      "  \u001b[31m   \u001b[0m creating python_build/temp.macosx-12-arm64-cpython-39/third_party/abseil-cpp/absl/numeric\n",
      "  \u001b[31m   \u001b[0m creating python_build/temp.macosx-12-arm64-cpython-39/third_party/abseil-cpp/absl/profiling\n",
      "  \u001b[31m   \u001b[0m creating python_build/temp.macosx-12-arm64-cpython-39/third_party/abseil-cpp/absl/profiling/internal\n",
      "  \u001b[31m   \u001b[0m creating python_build/temp.macosx-12-arm64-cpython-39/third_party/abseil-cpp/absl/random\n",
      "  \u001b[31m   \u001b[0m creating python_build/temp.macosx-12-arm64-cpython-39/third_party/abseil-cpp/absl/random/internal\n",
      "  \u001b[31m   \u001b[0m creating python_build/temp.macosx-12-arm64-cpython-39/third_party/abseil-cpp/absl/status\n",
      "  \u001b[31m   \u001b[0m creating python_build/temp.macosx-12-arm64-cpython-39/third_party/abseil-cpp/absl/strings\n",
      "  \u001b[31m   \u001b[0m creating python_build/temp.macosx-12-arm64-cpython-39/third_party/abseil-cpp/absl/strings/internal\n",
      "  \u001b[31m   \u001b[0m creating python_build/temp.macosx-12-arm64-cpython-39/third_party/abseil-cpp/absl/strings/internal/str_format\n",
      "  \u001b[31m   \u001b[0m creating python_build/temp.macosx-12-arm64-cpython-39/third_party/abseil-cpp/absl/synchronization\n",
      "  \u001b[31m   \u001b[0m creating python_build/temp.macosx-12-arm64-cpython-39/third_party/abseil-cpp/absl/synchronization/internal\n",
      "  \u001b[31m   \u001b[0m creating python_build/temp.macosx-12-arm64-cpython-39/third_party/abseil-cpp/absl/time\n",
      "  \u001b[31m   \u001b[0m creating python_build/temp.macosx-12-arm64-cpython-39/third_party/abseil-cpp/absl/time/internal\n",
      "  \u001b[31m   \u001b[0m creating python_build/temp.macosx-12-arm64-cpython-39/third_party/abseil-cpp/absl/time/internal/cctz\n",
      "  \u001b[31m   \u001b[0m creating python_build/temp.macosx-12-arm64-cpython-39/third_party/abseil-cpp/absl/time/internal/cctz/src\n",
      "  \u001b[31m   \u001b[0m creating python_build/temp.macosx-12-arm64-cpython-39/third_party/abseil-cpp/absl/types\n",
      "  \u001b[31m   \u001b[0m creating python_build/temp.macosx-12-arm64-cpython-39/third_party/address_sorting\n",
      "  \u001b[31m   \u001b[0m creating python_build/temp.macosx-12-arm64-cpython-39/third_party/boringssl-with-bazel\n",
      "  \u001b[31m   \u001b[0m creating python_build/temp.macosx-12-arm64-cpython-39/third_party/boringssl-with-bazel/src\n",
      "  \u001b[31m   \u001b[0m creating python_build/temp.macosx-12-arm64-cpython-39/third_party/boringssl-with-bazel/src/crypto\n",
      "  \u001b[31m   \u001b[0m creating python_build/temp.macosx-12-arm64-cpython-39/third_party/boringssl-with-bazel/src/crypto/asn1\n",
      "  \u001b[31m   \u001b[0m creating python_build/temp.macosx-12-arm64-cpython-39/third_party/boringssl-with-bazel/src/crypto/base64\n",
      "  \u001b[31m   \u001b[0m creating python_build/temp.macosx-12-arm64-cpython-39/third_party/boringssl-with-bazel/src/crypto/bio\n",
      "  \u001b[31m   \u001b[0m creating python_build/temp.macosx-12-arm64-cpython-39/third_party/boringssl-with-bazel/src/crypto/blake2\n",
      "  \u001b[31m   \u001b[0m creating python_build/temp.macosx-12-arm64-cpython-39/third_party/boringssl-with-bazel/src/crypto/bn_extra\n",
      "  \u001b[31m   \u001b[0m creating python_build/temp.macosx-12-arm64-cpython-39/third_party/boringssl-with-bazel/src/crypto/buf\n",
      "  \u001b[31m   \u001b[0m creating python_build/temp.macosx-12-arm64-cpython-39/third_party/boringssl-with-bazel/src/crypto/bytestring\n",
      "  \u001b[31m   \u001b[0m creating python_build/temp.macosx-12-arm64-cpython-39/third_party/boringssl-with-bazel/src/crypto/chacha\n",
      "  \u001b[31m   \u001b[0m creating python_build/temp.macosx-12-arm64-cpython-39/third_party/boringssl-with-bazel/src/crypto/cipher_extra\n",
      "  \u001b[31m   \u001b[0m creating python_build/temp.macosx-12-arm64-cpython-39/third_party/boringssl-with-bazel/src/crypto/cmac\n",
      "  \u001b[31m   \u001b[0m creating python_build/temp.macosx-12-arm64-cpython-39/third_party/boringssl-with-bazel/src/crypto/conf\n",
      "  \u001b[31m   \u001b[0m creating python_build/temp.macosx-12-arm64-cpython-39/third_party/boringssl-with-bazel/src/crypto/curve25519\n",
      "  \u001b[31m   \u001b[0m creating python_build/temp.macosx-12-arm64-cpython-39/third_party/boringssl-with-bazel/src/crypto/dh_extra\n",
      "  \u001b[31m   \u001b[0m creating python_build/temp.macosx-12-arm64-cpython-39/third_party/boringssl-with-bazel/src/crypto/digest_extra\n",
      "  \u001b[31m   \u001b[0m creating python_build/temp.macosx-12-arm64-cpython-39/third_party/boringssl-with-bazel/src/crypto/dsa\n",
      "  \u001b[31m   \u001b[0m creating python_build/temp.macosx-12-arm64-cpython-39/third_party/boringssl-with-bazel/src/crypto/ec_extra\n",
      "  \u001b[31m   \u001b[0m creating python_build/temp.macosx-12-arm64-cpython-39/third_party/boringssl-with-bazel/src/crypto/ecdh_extra\n",
      "  \u001b[31m   \u001b[0m creating python_build/temp.macosx-12-arm64-cpython-39/third_party/boringssl-with-bazel/src/crypto/ecdsa_extra\n",
      "  \u001b[31m   \u001b[0m creating python_build/temp.macosx-12-arm64-cpython-39/third_party/boringssl-with-bazel/src/crypto/engine\n",
      "  \u001b[31m   \u001b[0m creating python_build/temp.macosx-12-arm64-cpython-39/third_party/boringssl-with-bazel/src/crypto/err\n",
      "  \u001b[31m   \u001b[0m creating python_build/temp.macosx-12-arm64-cpython-39/third_party/boringssl-with-bazel/src/crypto/evp\n",
      "  \u001b[31m   \u001b[0m creating python_build/temp.macosx-12-arm64-cpython-39/third_party/boringssl-with-bazel/src/crypto/fipsmodule\n",
      "  \u001b[31m   \u001b[0m creating python_build/temp.macosx-12-arm64-cpython-39/third_party/boringssl-with-bazel/src/crypto/hkdf\n",
      "  \u001b[31m   \u001b[0m creating python_build/temp.macosx-12-arm64-cpython-39/third_party/boringssl-with-bazel/src/crypto/hpke\n",
      "  \u001b[31m   \u001b[0m creating python_build/temp.macosx-12-arm64-cpython-39/third_party/boringssl-with-bazel/src/crypto/hrss\n",
      "  \u001b[31m   \u001b[0m creating python_build/temp.macosx-12-arm64-cpython-39/third_party/boringssl-with-bazel/src/crypto/lhash\n",
      "  \u001b[31m   \u001b[0m creating python_build/temp.macosx-12-arm64-cpython-39/third_party/boringssl-with-bazel/src/crypto/obj\n",
      "  \u001b[31m   \u001b[0m creating python_build/temp.macosx-12-arm64-cpython-39/third_party/boringssl-with-bazel/src/crypto/pem\n",
      "  \u001b[31m   \u001b[0m creating python_build/temp.macosx-12-arm64-cpython-39/third_party/boringssl-with-bazel/src/crypto/pkcs7\n",
      "  \u001b[31m   \u001b[0m creating python_build/temp.macosx-12-arm64-cpython-39/third_party/boringssl-with-bazel/src/crypto/pkcs8\n",
      "  \u001b[31m   \u001b[0m creating python_build/temp.macosx-12-arm64-cpython-39/third_party/boringssl-with-bazel/src/crypto/poly1305\n",
      "  \u001b[31m   \u001b[0m creating python_build/temp.macosx-12-arm64-cpython-39/third_party/boringssl-with-bazel/src/crypto/pool\n",
      "  \u001b[31m   \u001b[0m creating python_build/temp.macosx-12-arm64-cpython-39/third_party/boringssl-with-bazel/src/crypto/rand_extra\n",
      "  \u001b[31m   \u001b[0m creating python_build/temp.macosx-12-arm64-cpython-39/third_party/boringssl-with-bazel/src/crypto/rc4\n",
      "  \u001b[31m   \u001b[0m creating python_build/temp.macosx-12-arm64-cpython-39/third_party/boringssl-with-bazel/src/crypto/rsa_extra\n",
      "  \u001b[31m   \u001b[0m creating python_build/temp.macosx-12-arm64-cpython-39/third_party/boringssl-with-bazel/src/crypto/siphash\n",
      "  \u001b[31m   \u001b[0m creating python_build/temp.macosx-12-arm64-cpython-39/third_party/boringssl-with-bazel/src/crypto/stack\n",
      "  \u001b[31m   \u001b[0m creating python_build/temp.macosx-12-arm64-cpython-39/third_party/boringssl-with-bazel/src/crypto/trust_token\n",
      "  \u001b[31m   \u001b[0m creating python_build/temp.macosx-12-arm64-cpython-39/third_party/boringssl-with-bazel/src/crypto/x509\n",
      "  \u001b[31m   \u001b[0m creating python_build/temp.macosx-12-arm64-cpython-39/third_party/boringssl-with-bazel/src/crypto/x509v3\n",
      "  \u001b[31m   \u001b[0m creating python_build/temp.macosx-12-arm64-cpython-39/third_party/boringssl-with-bazel/src/ssl\n",
      "  \u001b[31m   \u001b[0m creating python_build/temp.macosx-12-arm64-cpython-39/third_party/cares\n",
      "  \u001b[31m   \u001b[0m creating python_build/temp.macosx-12-arm64-cpython-39/third_party/cares/cares\n",
      "  \u001b[31m   \u001b[0m creating python_build/temp.macosx-12-arm64-cpython-39/third_party/cares/cares/src\n",
      "  \u001b[31m   \u001b[0m creating python_build/temp.macosx-12-arm64-cpython-39/third_party/cares/cares/src/lib\n",
      "  \u001b[31m   \u001b[0m creating python_build/temp.macosx-12-arm64-cpython-39/third_party/re2\n",
      "  \u001b[31m   \u001b[0m creating python_build/temp.macosx-12-arm64-cpython-39/third_party/re2/re2\n",
      "  \u001b[31m   \u001b[0m creating python_build/temp.macosx-12-arm64-cpython-39/third_party/re2/util\n",
      "  \u001b[31m   \u001b[0m creating python_build/temp.macosx-12-arm64-cpython-39/third_party/upb\n",
      "  \u001b[31m   \u001b[0m creating python_build/temp.macosx-12-arm64-cpython-39/third_party/upb/third_party\n",
      "  \u001b[31m   \u001b[0m creating python_build/temp.macosx-12-arm64-cpython-39/third_party/upb/third_party/utf8_range\n",
      "  \u001b[31m   \u001b[0m creating python_build/temp.macosx-12-arm64-cpython-39/third_party/upb/upb\n",
      "  \u001b[31m   \u001b[0m creating python_build/temp.macosx-12-arm64-cpython-39/third_party/zlib\n",
      "  \u001b[31m   \u001b[0m clang -Wno-unused-result -Wsign-compare -Wunreachable-code -fno-common -dynamic -DNDEBUG -g -fwrapv -O3 -Wall -D_WIN32_WINNT=1536 -DGRPC_XDS_USER_AGENT_NAME_SUFFIX=\\\"Python\\\" -DGRPC_XDS_USER_AGENT_VERSION_SUFFIX=\\\"1.50.0\\\" -DOPENSSL_NO_ASM=1 -DGPR_BACKWARDS_COMPATIBILITY_MODE=1 -DHAVE_CONFIG_H=1 -DGRPC_ENABLE_FORK_SUPPORT=1 \"-DPyMODINIT_FUNC=extern \\\"C\\\" __attribute__((visibility (\\\"default\\\"))) PyObject*\" -DGRPC_POSIX_FORK_ALLOW_PTHREAD_ATFORK=1 -Isrc/python/grpcio -Iinclude -I. -Ithird_party/abseil-cpp -Ithird_party/address_sorting/include -Ithird_party/cares/cares/include -Ithird_party/cares -Ithird_party/cares/cares -Ithird_party/cares/config_darwin -Ithird_party/re2 -Ithird_party/boringssl-with-bazel/src/include -Ithird_party/upb -Isrc/core/ext/upb-generated -Isrc/core/ext/upbdefs-generated -Ithird_party/xxhash -Ithird_party/zlib -I/Users/ivanmkc/Documents/code/vertex-ai-samples/env/include -I/opt/homebrew/opt/python@3.9/Frameworks/Python.framework/Versions/3.9/include/python3.9 -c src/core/ext/filters/census/grpc_context.cc -o python_build/temp.macosx-12-arm64-cpython-39/src/core/ext/filters/census/grpc_context.o -std=c++14 -stdlib=libc++ -fvisibility=hidden -fno-wrapv -fno-exceptions -DHAVE_UNISTD_H -pthread\n",
      "  \u001b[31m   \u001b[0m clang -Wno-unused-result -Wsign-compare -Wunreachable-code -fno-common -dynamic -DNDEBUG -g -fwrapv -O3 -Wall -D_WIN32_WINNT=1536 -DGRPC_XDS_USER_AGENT_NAME_SUFFIX=\\\"Python\\\" -DGRPC_XDS_USER_AGENT_VERSION_SUFFIX=\\\"1.50.0\\\" -DOPENSSL_NO_ASM=1 -DGPR_BACKWARDS_COMPATIBILITY_MODE=1 -DHAVE_CONFIG_H=1 -DGRPC_ENABLE_FORK_SUPPORT=1 \"-DPyMODINIT_FUNC=extern \\\"C\\\" __attribute__((visibility (\\\"default\\\"))) PyObject*\" -DGRPC_POSIX_FORK_ALLOW_PTHREAD_ATFORK=1 -Isrc/python/grpcio -Iinclude -I. -Ithird_party/abseil-cpp -Ithird_party/address_sorting/include -Ithird_party/cares/cares/include -Ithird_party/cares -Ithird_party/cares/cares -Ithird_party/cares/config_darwin -Ithird_party/re2 -Ithird_party/boringssl-with-bazel/src/include -Ithird_party/upb -Isrc/core/ext/upb-generated -Isrc/core/ext/upbdefs-generated -Ithird_party/xxhash -Ithird_party/zlib -I/Users/ivanmkc/Documents/code/vertex-ai-samples/env/include -I/opt/homebrew/opt/python@3.9/Frameworks/Python.framework/Versions/3.9/include/python3.9 -c src/core/ext/filters/client_channel/lb_policy/xds/xds_cluster_impl.cc -o python_build/temp.macosx-12-arm64-cpython-39/src/core/ext/filters/client_channel/lb_policy/xds/xds_cluster_impl.o -std=c++14 -stdlib=libc++ -fvisibility=hidden -fno-wrapv -fno-exceptions -DHAVE_UNISTD_H -pthread\n",
      "  \u001b[31m   \u001b[0m clang -Wno-unused-result -Wsign-compare -Wunreachable-code -fno-common -dynamic -DNDEBUG -g -fwrapv -O3 -Wall -D_WIN32_WINNT=1536 -DGRPC_XDS_USER_AGENT_NAME_SUFFIX=\\\"Python\\\" -DGRPC_XDS_USER_AGENT_VERSION_SUFFIX=\\\"1.50.0\\\" -DOPENSSL_NO_ASM=1 -DGPR_BACKWARDS_COMPATIBILITY_MODE=1 -DHAVE_CONFIG_H=1 -DGRPC_ENABLE_FORK_SUPPORT=1 \"-DPyMODINIT_FUNC=extern \\\"C\\\" __attribute__((visibility (\\\"default\\\"))) PyObject*\" -DGRPC_POSIX_FORK_ALLOW_PTHREAD_ATFORK=1 -Isrc/python/grpcio -Iinclude -I. -Ithird_party/abseil-cpp -Ithird_party/address_sorting/include -Ithird_party/cares/cares/include -Ithird_party/cares -Ithird_party/cares/cares -Ithird_party/cares/config_darwin -Ithird_party/re2 -Ithird_party/boringssl-with-bazel/src/include -Ithird_party/upb -Isrc/core/ext/upb-generated -Isrc/core/ext/upbdefs-generated -Ithird_party/xxhash -Ithird_party/zlib -I/Users/ivanmkc/Documents/code/vertex-ai-samples/env/include -I/opt/homebrew/opt/python@3.9/Frameworks/Python.framework/Versions/3.9/include/python3.9 -c src/core/ext/filters/http/http_filters_plugin.cc -o python_build/temp.macosx-12-arm64-cpython-39/src/core/ext/filters/http/http_filters_plugin.o -std=c++14 -stdlib=libc++ -fvisibility=hidden -fno-wrapv -fno-exceptions -DHAVE_UNISTD_H -pthread\n",
      "  \u001b[31m   \u001b[0m clang -Wno-unused-result -Wsign-compare -Wunreachable-code -fno-common -dynamic -DNDEBUG -g -fwrapv -O3 -Wall -D_WIN32_WINNT=1536 -DGRPC_XDS_USER_AGENT_NAME_SUFFIX=\\\"Python\\\" -DGRPC_XDS_USER_AGENT_VERSION_SUFFIX=\\\"1.50.0\\\" -DOPENSSL_NO_ASM=1 -DGPR_BACKWARDS_COMPATIBILITY_MODE=1 -DHAVE_CONFIG_H=1 -DGRPC_ENABLE_FORK_SUPPORT=1 \"-DPyMODINIT_FUNC=extern \\\"C\\\" __attribute__((visibility (\\\"default\\\"))) PyObject*\" -DGRPC_POSIX_FORK_ALLOW_PTHREAD_ATFORK=1 -Isrc/python/grpcio -Iinclude -I. -Ithird_party/abseil-cpp -Ithird_party/address_sorting/include -Ithird_party/cares/cares/include -Ithird_party/cares -Ithird_party/cares/cares -Ithird_party/cares/config_darwin -Ithird_party/re2 -Ithird_party/boringssl-with-bazel/src/include -Ithird_party/upb -Isrc/core/ext/upb-generated -Isrc/core/ext/upbdefs-generated -Ithird_party/xxhash -Ithird_party/zlib -I/Users/ivanmkc/Documents/code/vertex-ai-samples/env/include -I/opt/homebrew/opt/python@3.9/Frameworks/Python.framework/Versions/3.9/include/python3.9 -c src/core/ext/transport/chttp2/transport/stream_lists.cc -o python_build/temp.macosx-12-arm64-cpython-39/src/core/ext/transport/chttp2/transport/stream_lists.o -std=c++14 -stdlib=libc++ -fvisibility=hidden -fno-wrapv -fno-exceptions -DHAVE_UNISTD_H -pthread\n",
      "  \u001b[31m   \u001b[0m clang -Wno-unused-result -Wsign-compare -Wunreachable-code -fno-common -dynamic -DNDEBUG -g -fwrapv -O3 -Wall -D_WIN32_WINNT=1536 -DGRPC_XDS_USER_AGENT_NAME_SUFFIX=\\\"Python\\\" -DGRPC_XDS_USER_AGENT_VERSION_SUFFIX=\\\"1.50.0\\\" -DOPENSSL_NO_ASM=1 -DGPR_BACKWARDS_COMPATIBILITY_MODE=1 -DHAVE_CONFIG_H=1 -DGRPC_ENABLE_FORK_SUPPORT=1 \"-DPyMODINIT_FUNC=extern \\\"C\\\" __attribute__((visibility (\\\"default\\\"))) PyObject*\" -DGRPC_POSIX_FORK_ALLOW_PTHREAD_ATFORK=1 -Isrc/python/grpcio -Iinclude -I. -Ithird_party/abseil-cpp -Ithird_party/address_sorting/include -Ithird_party/cares/cares/include -Ithird_party/cares -Ithird_party/cares/cares -Ithird_party/cares/config_darwin -Ithird_party/re2 -Ithird_party/boringssl-with-bazel/src/include -Ithird_party/upb -Isrc/core/ext/upb-generated -Isrc/core/ext/upbdefs-generated -Ithird_party/xxhash -Ithird_party/zlib -I/Users/ivanmkc/Documents/code/vertex-ai-samples/env/include -I/opt/homebrew/opt/python@3.9/Frameworks/Python.framework/Versions/3.9/include/python3.9 -c src/core/ext/upb-generated/envoy/config/core/v3/extension.upb.c -o python_build/temp.macosx-12-arm64-cpython-39/src/core/ext/upb-generated/envoy/config/core/v3/extension.upb.o -std=c++14 -stdlib=libc++ -fvisibility=hidden -fno-wrapv -fno-exceptions -DHAVE_UNISTD_H -pthread\n",
      "  \u001b[31m   \u001b[0m clang -Wno-unused-result -Wsign-compare -Wunreachable-code -fno-common -dynamic -DNDEBUG -g -fwrapv -O3 -Wall -D_WIN32_WINNT=1536 -DGRPC_XDS_USER_AGENT_NAME_SUFFIX=\\\"Python\\\" -DGRPC_XDS_USER_AGENT_VERSION_SUFFIX=\\\"1.50.0\\\" -DOPENSSL_NO_ASM=1 -DGPR_BACKWARDS_COMPATIBILITY_MODE=1 -DHAVE_CONFIG_H=1 -DGRPC_ENABLE_FORK_SUPPORT=1 \"-DPyMODINIT_FUNC=extern \\\"C\\\" __attribute__((visibility (\\\"default\\\"))) PyObject*\" -DGRPC_POSIX_FORK_ALLOW_PTHREAD_ATFORK=1 -Isrc/python/grpcio -Iinclude -I. -Ithird_party/abseil-cpp -Ithird_party/address_sorting/include -Ithird_party/cares/cares/include -Ithird_party/cares -Ithird_party/cares/cares -Ithird_party/cares/config_darwin -Ithird_party/re2 -Ithird_party/boringssl-with-bazel/src/include -Ithird_party/upb -Isrc/core/ext/upb-generated -Isrc/core/ext/upbdefs-generated -Ithird_party/xxhash -Ithird_party/zlib -I/Users/ivanmkc/Documents/code/vertex-ai-samples/env/include -I/opt/homebrew/opt/python@3.9/Frameworks/Python.framework/Versions/3.9/include/python3.9 -c src/core/ext/upb-generated/envoy/config/trace/v3/opencensus.upb.c -o python_build/temp.macosx-12-arm64-cpython-39/src/core/ext/upb-generated/envoy/config/trace/v3/opencensus.upb.o -std=c++14 -stdlib=libc++ -fvisibility=hidden -fno-wrapv -fno-exceptions -DHAVE_UNISTD_H -pthread\n",
      "  \u001b[31m   \u001b[0m xcrun: error: invalid active developer path (/Library/Developer/CommandLineTools), missing xcrun at: /Library/Developer/CommandLineTools/usr/bin/xcrun\n",
      "  \u001b[31m   \u001b[0m clang -Wno-unused-result -Wsign-compare -Wunreachable-code -fno-common -dynamic -DNDEBUG -g -fwrapv -O3 -Wall -D_WIN32_WINNT=1536 -DGRPC_XDS_USER_AGENT_NAME_SUFFIX=\\\"Python\\\" -DGRPC_XDS_USER_AGENT_VERSION_SUFFIX=\\\"1.50.0\\\" -DOPENSSL_NO_ASM=1 -DGPR_BACKWARDS_COMPATIBILITY_MODE=1 -DHAVE_CONFIG_H=1 -DGRPC_ENABLE_FORK_SUPPORT=1 \"-DPyMODINIT_FUNC=extern \\\"C\\\" __attribute__((visibility (\\\"default\\\"))) PyObject*\" -DGRPC_POSIX_FORK_ALLOW_PTHREAD_ATFORK=1 -Isrc/python/grpcio -Iinclude -I. -Ithird_party/abseil-cpp -Ithird_party/address_sorting/include -Ithird_party/cares/cares/include -Ithird_party/cares -Ithird_party/cares/cares -Ithird_party/cares/config_darwin -Ithird_party/re2 -Ithird_party/boringssl-with-bazel/src/include -Ithird_party/upb -Isrc/core/ext/upb-generated -Isrc/core/ext/upbdefs-generated -Ithird_party/xxhash -Ithird_party/zlib -I/Users/ivanmkc/Documents/code/vertex-ai-samples/env/include -I/opt/homebrew/opt/python@3.9/Frameworks/Python.framework/Versions/3.9/include/python3.9 -c src/core/ext/upb-generated/envoy/type/matcher/v3/regex.upb.c -o python_build/temp.macosx-12-arm64-cpython-39/src/core/ext/upb-generated/envoy/type/matcher/v3/regex.upb.o -std=c++14 -stdlib=libc++ -fvisibility=hidden -fno-wrapv -fno-exceptions -DHAVE_UNISTD_H -pthread\n",
      "  \u001b[31m   \u001b[0m clang -Wno-unused-result -Wsign-compare -Wunreachable-code -fno-common -dynamic -DNDEBUG -g -fwrapv -O3 -Wall -D_WIN32_WINNT=1536 -DGRPC_XDS_USER_AGENT_NAME_SUFFIX=\\\"Python\\\" -DGRPC_XDS_USER_AGENT_VERSION_SUFFIX=\\\"1.50.0\\\" -DOPENSSL_NO_ASM=1 -DGPR_BACKWARDS_COMPATIBILITY_MODE=1 -DHAVE_CONFIG_H=1 -DGRPC_ENABLE_FORK_SUPPORT=1 \"-DPyMODINIT_FUNC=extern \\\"C\\\" __attribute__((visibility (\\\"default\\\"))) PyObject*\" -DGRPC_POSIX_FORK_ALLOW_PTHREAD_ATFORK=1 -Isrc/python/grpcio -Iinclude -I. -Ithird_party/abseil-cpp -Ithird_party/address_sorting/include -Ithird_party/cares/cares/include -Ithird_party/cares -Ithird_party/cares/cares -Ithird_party/cares/config_darwin -Ithird_party/re2 -Ithird_party/boringssl-with-bazel/src/include -Ithird_party/upb -Isrc/core/ext/upb-generated -Isrc/core/ext/upbdefs-generated -Ithird_party/xxhash -Ithird_party/zlib -I/Users/ivanmkc/Documents/code/vertex-ai-samples/env/include -I/opt/homebrew/opt/python@3.9/Frameworks/Python.framework/Versions/3.9/include/python3.9 -c src/core/ext/upb-generated/src/proto/grpc/gcp/transport_security_common.upb.c -o python_build/temp.macosx-12-arm64-cpython-39/src/core/ext/upb-generated/src/proto/grpc/gcp/transport_security_common.upb.o -std=c++14 -stdlib=libc++ -fvisibility=hidden -fno-wrapv -fno-exceptions -DHAVE_UNISTD_H -pthread\n",
      "  \u001b[31m   \u001b[0m clang -Wno-unused-result -Wsign-compare -Wunreachable-code -fno-common -dynamic -DNDEBUG -g -fwrapv -O3 -Wall -D_WIN32_WINNT=1536 -DGRPC_XDS_USER_AGENT_NAME_SUFFIX=\\\"Python\\\" -DGRPC_XDS_USER_AGENT_VERSION_SUFFIX=\\\"1.50.0\\\" -DOPENSSL_NO_ASM=1 -DGPR_BACKWARDS_COMPATIBILITY_MODE=1 -DHAVE_CONFIG_H=1 -DGRPC_ENABLE_FORK_SUPPORT=1 \"-DPyMODINIT_FUNC=extern \\\"C\\\" __attribute__((visibility (\\\"default\\\"))) PyObject*\" -DGRPC_POSIX_FORK_ALLOW_PTHREAD_ATFORK=1 -Isrc/python/grpcio -Iinclude -I. -Ithird_party/abseil-cpp -Ithird_party/address_sorting/include -Ithird_party/cares/cares/include -Ithird_party/cares -Ithird_party/cares/cares -Ithird_party/cares/config_darwin -Ithird_party/re2 -Ithird_party/boringssl-with-bazel/src/include -Ithird_party/upb -Isrc/core/ext/upb-generated -Isrc/core/ext/upbdefs-generated -Ithird_party/xxhash -Ithird_party/zlib -I/Users/ivanmkc/Documents/code/vertex-ai-samples/env/include -I/opt/homebrew/opt/python@3.9/Frameworks/Python.framework/Versions/3.9/include/python3.9 -c src/core/ext/upbdefs-generated/envoy/admin/v3/config_dump.upbdefs.c -o python_build/temp.macosx-12-arm64-cpython-39/src/core/ext/upbdefs-generated/envoy/admin/v3/config_dump.upbdefs.o -std=c++14 -stdlib=libc++ -fvisibility=hidden -fno-wrapv -fno-exceptions -DHAVE_UNISTD_H -pthread\n",
      "  \u001b[31m   \u001b[0m xcrun: error: invalid active developer path (/Library/Developer/CommandLineTools), missing xcrun at: /Library/Developer/CommandLineTools/usr/bin/xcrun\n",
      "  \u001b[31m   \u001b[0m clang -Wno-unused-result -Wsign-compare -Wunreachable-code -fno-common -dynamic -DNDEBUG -g -fwrapv -O3 -Wall -D_WIN32_WINNT=1536 -DGRPC_XDS_USER_AGENT_NAME_SUFFIX=\\\"Python\\\" -DGRPC_XDS_USER_AGENT_VERSION_SUFFIX=\\\"1.50.0\\\" -DOPENSSL_NO_ASM=1 -DGPR_BACKWARDS_COMPATIBILITY_MODE=1 -DHAVE_CONFIG_H=1 -DGRPC_ENABLE_FORK_SUPPORT=1 \"-DPyMODINIT_FUNC=extern \\\"C\\\" __attribute__((visibility (\\\"default\\\"))) PyObject*\" -DGRPC_POSIX_FORK_ALLOW_PTHREAD_ATFORK=1 -Isrc/python/grpcio -Iinclude -I. -Ithird_party/abseil-cpp -Ithird_party/address_sorting/include -Ithird_party/cares/cares/include -Ithird_party/cares -Ithird_party/cares/cares -Ithird_party/cares/config_darwin -Ithird_party/re2 -Ithird_party/boringssl-with-bazel/src/include -Ithird_party/upb -Isrc/core/ext/upb-generated -Isrc/core/ext/upbdefs-generated -Ithird_party/xxhash -Ithird_party/zlib -I/Users/ivanmkc/Documents/code/vertex-ai-samples/env/include -I/opt/homebrew/opt/python@3.9/Frameworks/Python.framework/Versions/3.9/include/python3.9 -c src/core/ext/upbdefs-generated/envoy/config/core/v3/socket_option.upbdefs.c -o python_build/temp.macosx-12-arm64-cpython-39/src/core/ext/upbdefs-generated/envoy/config/core/v3/socket_option.upbdefs.o -std=c++14 -stdlib=libc++ -fvisibility=hidden -fno-wrapv -fno-exceptions -DHAVE_UNISTD_H -pthread\n",
      "  \u001b[31m   \u001b[0m xcrun: error: invalid active developer path (/Library/Developer/CommandLineTools), missing xcrun at: /Library/Developer/CommandLineTools/usr/bin/xcrun\n",
      "  \u001b[31m   \u001b[0m xcrun: error: invalid active developer path (/Library/Developer/CommandLineTools), missing xcrun at: /Library/Developer/CommandLineTools/usr/bin/xcrun\n",
      "  \u001b[31m   \u001b[0m clang -Wno-unused-result -Wsign-compare -Wunreachable-code -fno-common -dynamic -DNDEBUG -g -fwrapv -O3 -Wall -D_WIN32_WINNT=1536 -DGRPC_XDS_USER_AGENT_NAME_SUFFIX=\\\"Python\\\" -DGRPC_XDS_USER_AGENT_VERSION_SUFFIX=\\\"1.50.0\\\" -DOPENSSL_NO_ASM=1 -DGPR_BACKWARDS_COMPATIBILITY_MODE=1 -DHAVE_CONFIG_H=1 -DGRPC_ENABLE_FORK_SUPPORT=1 \"-DPyMODINIT_FUNC=extern \\\"C\\\" __attribute__((visibility (\\\"default\\\"))) PyObject*\" -DGRPC_POSIX_FORK_ALLOW_PTHREAD_ATFORK=1 -Isrc/python/grpcio -Iinclude -I. -Ithird_party/abseil-cpp -Ithird_party/address_sorting/include -Ithird_party/cares/cares/include -Ithird_party/cares -Ithird_party/cares/cares -Ithird_party/cares/config_darwin -Ithird_party/re2 -Ithird_party/boringssl-with-bazel/src/include -Ithird_party/upb -Isrc/core/ext/upb-generated -Isrc/core/ext/upbdefs-generated -Ithird_party/xxhash -Ithird_party/zlib -I/Users/ivanmkc/Documents/code/vertex-ai-samples/env/include -I/opt/homebrew/opt/python@3.9/Frameworks/Python.framework/Versions/3.9/include/python3.9 -c src/core/ext/upbdefs-generated/envoy/extensions/filters/common/fault/v3/fault.upbdefs.c -o python_build/temp.macosx-12-arm64-cpython-39/src/core/ext/upbdefs-generated/envoy/extensions/filters/common/fault/v3/fault.upbdefs.o -std=c++14 -stdlib=libc++ -fvisibility=hidden -fno-wrapv -fno-exceptions -DHAVE_UNISTD_H -pthread\n",
      "  \u001b[31m   \u001b[0m clang -Wno-unused-result -Wsign-compare -Wunreachable-code -fno-common -dynamic -DNDEBUG -g -fwrapv -O3 -Wall -D_WIN32_WINNT=1536 -DGRPC_XDS_USER_AGENT_NAME_SUFFIX=\\\"Python\\\" -DGRPC_XDS_USER_AGENT_VERSION_SUFFIX=\\\"1.50.0\\\" -DOPENSSL_NO_ASM=1 -DGPR_BACKWARDS_COMPATIBILITY_MODE=1 -DHAVE_CONFIG_H=1 -DGRPC_ENABLE_FORK_SUPPORT=1 \"-DPyMODINIT_FUNC=extern \\\"C\\\" __attribute__((visibility (\\\"default\\\"))) PyObject*\" -DGRPC_POSIX_FORK_ALLOW_PTHREAD_ATFORK=1 -Isrc/python/grpcio -Iinclude -I. -Ithird_party/abseil-cpp -Ithird_party/address_sorting/include -Ithird_party/cares/cares/include -Ithird_party/cares -Ithird_party/cares/cares -Ithird_party/cares/config_darwin -Ithird_party/re2 -Ithird_party/boringssl-with-bazel/src/include -Ithird_party/upb -Isrc/core/ext/upb-generated -Isrc/core/ext/upbdefs-generated -Ithird_party/xxhash -Ithird_party/zlib -I/Users/ivanmkc/Documents/code/vertex-ai-samples/env/include -I/opt/homebrew/opt/python@3.9/Frameworks/Python.framework/Versions/3.9/include/python3.9 -c src/core/ext/upbdefs-generated/envoy/type/v3/range.upbdefs.c -o python_build/temp.macosx-12-arm64-cpython-39/src/core/ext/upbdefs-generated/envoy/type/v3/range.upbdefs.o -std=c++14 -stdlib=libc++ -fvisibility=hidden -fno-wrapv -fno-exceptions -DHAVE_UNISTD_H -pthread\n",
      "  \u001b[31m   \u001b[0m clang -Wno-unused-result -Wsign-compare -Wunreachable-code -fno-common -dynamic -DNDEBUG -g -fwrapv -O3 -Wall -D_WIN32_WINNT=1536 -DGRPC_XDS_USER_AGENT_NAME_SUFFIX=\\\"Python\\\" -DGRPC_XDS_USER_AGENT_VERSION_SUFFIX=\\\"1.50.0\\\" -DOPENSSL_NO_ASM=1 -DGPR_BACKWARDS_COMPATIBILITY_MODE=1 -DHAVE_CONFIG_H=1 -DGRPC_ENABLE_FORK_SUPPORT=1 \"-DPyMODINIT_FUNC=extern \\\"C\\\" __attribute__((visibility (\\\"default\\\"))) PyObject*\" -DGRPC_POSIX_FORK_ALLOW_PTHREAD_ATFORK=1 -Isrc/python/grpcio -Iinclude -I. -Ithird_party/abseil-cpp -Ithird_party/address_sorting/include -Ithird_party/cares/cares/include -Ithird_party/cares -Ithird_party/cares/cares -Ithird_party/cares/config_darwin -Ithird_party/re2 -Ithird_party/boringssl-with-bazel/src/include -Ithird_party/upb -Isrc/core/ext/upb-generated -Isrc/core/ext/upbdefs-generated -Ithird_party/xxhash -Ithird_party/zlib -I/Users/ivanmkc/Documents/code/vertex-ai-samples/env/include -I/opt/homebrew/opt/python@3.9/Frameworks/Python.framework/Versions/3.9/include/python3.9 -c src/core/ext/upbdefs-generated/xds/core/v3/authority.upbdefs.c -o python_build/temp.macosx-12-arm64-cpython-39/src/core/ext/upbdefs-generated/xds/core/v3/authority.upbdefs.o -std=c++14 -stdlib=libc++ -fvisibility=hidden -fno-wrapv -fno-exceptions -DHAVE_UNISTD_H -pthread\n",
      "  \u001b[31m   \u001b[0m clang -Wno-unused-result -Wsign-compare -Wunreachable-code -fno-common -dynamic -DNDEBUG -g -fwrapv -O3 -Wall -D_WIN32_WINNT=1536 -DGRPC_XDS_USER_AGENT_NAME_SUFFIX=\\\"Python\\\" -DGRPC_XDS_USER_AGENT_VERSION_SUFFIX=\\\"1.50.0\\\" -DOPENSSL_NO_ASM=1 -DGPR_BACKWARDS_COMPATIBILITY_MODE=1 -DHAVE_CONFIG_H=1 -DGRPC_ENABLE_FORK_SUPPORT=1 \"-DPyMODINIT_FUNC=extern \\\"C\\\" __attribute__((visibility (\\\"default\\\"))) PyObject*\" -DGRPC_POSIX_FORK_ALLOW_PTHREAD_ATFORK=1 -Isrc/python/grpcio -Iinclude -I. -Ithird_party/abseil-cpp -Ithird_party/address_sorting/include -Ithird_party/cares/cares/include -Ithird_party/cares -Ithird_party/cares/cares -Ithird_party/cares/config_darwin -Ithird_party/re2 -Ithird_party/boringssl-with-bazel/src/include -Ithird_party/upb -Isrc/core/ext/upb-generated -Isrc/core/ext/upbdefs-generated -Ithird_party/xxhash -Ithird_party/zlib -I/Users/ivanmkc/Documents/code/vertex-ai-samples/env/include -I/opt/homebrew/opt/python@3.9/Frameworks/Python.framework/Versions/3.9/include/python3.9 -c src/core/ext/xds/xds_route_config.cc -o python_build/temp.macosx-12-arm64-cpython-39/src/core/ext/xds/xds_route_config.o -std=c++14 -stdlib=libc++ -fvisibility=hidden -fno-wrapv -fno-exceptions -DHAVE_UNISTD_H -pthread\n",
      "  \u001b[31m   \u001b[0m xcrun: error: invalid active developer path (/Library/Developer/CommandLineTools), missing xcrun at: /Library/Developer/CommandLineTools/usr/bin/xcrun\n",
      "  \u001b[31m   \u001b[0m xcrun: error: invalid active developer path (/Library/Developer/CommandLineTools), missing xcrun at: /Library/Developer/CommandLineTools/usr/bin/xcrun\n",
      "  \u001b[31m   \u001b[0m xcrun: error: invalid active developer path (/Library/Developer/CommandLineTools), missing xcrun at: /Library/Developer/CommandLineTools/usr/bin/xcrun\n",
      "  \u001b[31m   \u001b[0m clang -Wno-unused-result -Wsign-compare -Wunreachable-code -fno-common -dynamic -DNDEBUG -g -fwrapv -O3 -Wall -D_WIN32_WINNT=1536 -DGRPC_XDS_USER_AGENT_NAME_SUFFIX=\\\"Python\\\" -DGRPC_XDS_USER_AGENT_VERSION_SUFFIX=\\\"1.50.0\\\" -DOPENSSL_NO_ASM=1 -DGPR_BACKWARDS_COMPATIBILITY_MODE=1 -DHAVE_CONFIG_H=1 -DGRPC_ENABLE_FORK_SUPPORT=1 \"-DPyMODINIT_FUNC=extern \\\"C\\\" __attribute__((visibility (\\\"default\\\"))) PyObject*\" -DGRPC_POSIX_FORK_ALLOW_PTHREAD_ATFORK=1 -Isrc/python/grpcio -Iinclude -I. -Ithird_party/abseil-cpp -Ithird_party/address_sorting/include -Ithird_party/cares/cares/include -Ithird_party/cares -Ithird_party/cares/cares -Ithird_party/cares/config_darwin -Ithird_party/re2 -Ithird_party/boringssl-with-bazel/src/include -Ithird_party/upb -Isrc/core/ext/upb-generated -Isrc/core/ext/upbdefs-generated -Ithird_party/xxhash -Ithird_party/zlib -I/Users/ivanmkc/Documents/code/vertex-ai-samples/env/include -I/opt/homebrew/opt/python@3.9/Frameworks/Python.framework/Versions/3.9/include/python3.9 -c src/core/lib/event_engine/posix_engine/posix_engine.cc -o python_build/temp.macosx-12-arm64-cpython-39/src/core/lib/event_engine/posix_engine/posix_engine.o -std=c++14 -stdlib=libc++ -fvisibility=hidden -fno-wrapv -fno-exceptions -DHAVE_UNISTD_H -pthread\n",
      "  \u001b[31m   \u001b[0m clang -Wno-unused-result -Wsign-compare -Wunreachable-code -fno-common -dynamic -DNDEBUG -g -fwrapv -O3 -Wall -D_WIN32_WINNT=1536 -DGRPC_XDS_USER_AGENT_NAME_SUFFIX=\\\"Python\\\" -DGRPC_XDS_USER_AGENT_VERSION_SUFFIX=\\\"1.50.0\\\" -DOPENSSL_NO_ASM=1 -DGPR_BACKWARDS_COMPATIBILITY_MODE=1 -DHAVE_CONFIG_H=1 -DGRPC_ENABLE_FORK_SUPPORT=1 \"-DPyMODINIT_FUNC=extern \\\"C\\\" __attribute__((visibility (\\\"default\\\"))) PyObject*\" -DGRPC_POSIX_FORK_ALLOW_PTHREAD_ATFORK=1 -Isrc/python/grpcio -Iinclude -I. -Ithird_party/abseil-cpp -Ithird_party/address_sorting/include -Ithird_party/cares/cares/include -Ithird_party/cares -Ithird_party/cares/cares -Ithird_party/cares/config_darwin -Ithird_party/re2 -Ithird_party/boringssl-with-bazel/src/include -Ithird_party/upb -Isrc/core/ext/upb-generated -Isrc/core/ext/upbdefs-generated -Ithird_party/xxhash -Ithird_party/zlib -I/Users/ivanmkc/Documents/code/vertex-ai-samples/env/include -I/opt/homebrew/opt/python@3.9/Frameworks/Python.framework/Versions/3.9/include/python3.9 -c src/core/lib/gpr/string_windows.cc -o python_build/temp.macosx-12-arm64-cpython-39/src/core/lib/gpr/string_windows.o -std=c++14 -stdlib=libc++ -fvisibility=hidden -fno-wrapv -fno-exceptions -DHAVE_UNISTD_H -pthread\n",
      "  \u001b[31m   \u001b[0m xcrun: error: invalid active developer path (/Library/Developer/CommandLineTools), missing xcrun at: /Library/Developer/CommandLineTools/usr/bin/xcrun\n",
      "  \u001b[31m   \u001b[0m clang -Wno-unused-result -Wsign-compare -Wunreachable-code -fno-common -dynamic -DNDEBUG -g -fwrapv -O3 -Wall -D_WIN32_WINNT=1536 -DGRPC_XDS_USER_AGENT_NAME_SUFFIX=\\\"Python\\\" -DGRPC_XDS_USER_AGENT_VERSION_SUFFIX=\\\"1.50.0\\\" -DOPENSSL_NO_ASM=1 -DGPR_BACKWARDS_COMPATIBILITY_MODE=1 -DHAVE_CONFIG_H=1 -DGRPC_ENABLE_FORK_SUPPORT=1 \"-DPyMODINIT_FUNC=extern \\\"C\\\" __attribute__((visibility (\\\"default\\\"))) PyObject*\" -DGRPC_POSIX_FORK_ALLOW_PTHREAD_ATFORK=1 -Isrc/python/grpcio -Iinclude -I. -Ithird_party/abseil-cpp -Ithird_party/address_sorting/include -Ithird_party/cares/cares/include -Ithird_party/cares -Ithird_party/cares/cares -Ithird_party/cares/config_darwin -Ithird_party/re2 -Ithird_party/boringssl-with-bazel/src/include -Ithird_party/upb -Isrc/core/ext/upb-generated -Isrc/core/ext/upbdefs-generated -Ithird_party/xxhash -Ithird_party/zlib -I/Users/ivanmkc/Documents/code/vertex-ai-samples/env/include -I/opt/homebrew/opt/python@3.9/Frameworks/Python.framework/Versions/3.9/include/python3.9 -c src/core/lib/gprpp/work_serializer.cc -o python_build/temp.macosx-12-arm64-cpython-39/src/core/lib/gprpp/work_serializer.o -std=c++14 -stdlib=libc++ -fvisibility=hidden -fno-wrapv -fno-exceptions -DHAVE_UNISTD_H -pthread\n",
      "  \u001b[31m   \u001b[0m xcrun: error: invalid active developer path (/Library/Developer/CommandLineTools), missing xcrun at: /Library/Developer/CommandLineTools/usr/bin/xcrun\n",
      "  \u001b[31m   \u001b[0m xcrun: error: invalid active developer path (/Library/Developer/CommandLineTools), missing xcrun at: /Library/Developer/CommandLineTools/usr/bin/xcrun\n",
      "  \u001b[31m   \u001b[0m clang -Wno-unused-result -Wsign-compare -Wunreachable-code -fno-common -dynamic -DNDEBUG -g -fwrapv -O3 -Wall -D_WIN32_WINNT=1536 -DGRPC_XDS_USER_AGENT_NAME_SUFFIX=\\\"Python\\\" -DGRPC_XDS_USER_AGENT_VERSION_SUFFIX=\\\"1.50.0\\\" -DOPENSSL_NO_ASM=1 -DGPR_BACKWARDS_COMPATIBILITY_MODE=1 -DHAVE_CONFIG_H=1 -DGRPC_ENABLE_FORK_SUPPORT=1 \"-DPyMODINIT_FUNC=extern \\\"C\\\" __attribute__((visibility (\\\"default\\\"))) PyObject*\" -DGRPC_POSIX_FORK_ALLOW_PTHREAD_ATFORK=1 -Isrc/python/grpcio -Iinclude -I. -Ithird_party/abseil-cpp -Ithird_party/address_sorting/include -Ithird_party/cares/cares/include -Ithird_party/cares -Ithird_party/cares/cares -Ithird_party/cares/config_darwin -Ithird_party/re2 -Ithird_party/boringssl-with-bazel/src/include -Ithird_party/upb -Isrc/core/ext/upb-generated -Isrc/core/ext/upbdefs-generated -Ithird_party/xxhash -Ithird_party/zlib -I/Users/ivanmkc/Documents/code/vertex-ai-samples/env/include -I/opt/homebrew/opt/python@3.9/Frameworks/Python.framework/Versions/3.9/include/python3.9 -c src/core/lib/iomgr/internal_errqueue.cc -o python_build/temp.macosx-12-arm64-cpython-39/src/core/lib/iomgr/internal_errqueue.o -std=c++14 -stdlib=libc++ -fvisibility=hidden -fno-wrapv -fno-exceptions -DHAVE_UNISTD_H -pthread\n",
      "  \u001b[31m   \u001b[0m clang -Wno-unused-result -Wsign-compare -Wunreachable-code -fno-common -dynamic -DNDEBUG -g -fwrapv -O3 -Wall -D_WIN32_WINNT=1536 -DGRPC_XDS_USER_AGENT_NAME_SUFFIX=\\\"Python\\\" -DGRPC_XDS_USER_AGENT_VERSION_SUFFIX=\\\"1.50.0\\\" -DOPENSSL_NO_ASM=1 -DGPR_BACKWARDS_COMPATIBILITY_MODE=1 -DHAVE_CONFIG_H=1 -DGRPC_ENABLE_FORK_SUPPORT=1 \"-DPyMODINIT_FUNC=extern \\\"C\\\" __attribute__((visibility (\\\"default\\\"))) PyObject*\" -DGRPC_POSIX_FORK_ALLOW_PTHREAD_ATFORK=1 -Isrc/python/grpcio -Iinclude -I. -Ithird_party/abseil-cpp -Ithird_party/address_sorting/include -Ithird_party/cares/cares/include -Ithird_party/cares -Ithird_party/cares/cares -Ithird_party/cares/config_darwin -Ithird_party/re2 -Ithird_party/boringssl-with-bazel/src/include -Ithird_party/upb -Isrc/core/ext/upb-generated -Isrc/core/ext/upbdefs-generated -Ithird_party/xxhash -Ithird_party/zlib -I/Users/ivanmkc/Documents/code/vertex-ai-samples/env/include -I/opt/homebrew/opt/python@3.9/Frameworks/Python.framework/Versions/3.9/include/python3.9 -c src/core/lib/iomgr/tcp_server_posix.cc -o python_build/temp.macosx-12-arm64-cpython-39/src/core/lib/iomgr/tcp_server_posix.o -std=c++14 -stdlib=libc++ -fvisibility=hidden -fno-wrapv -fno-exceptions -DHAVE_UNISTD_H -pthread\n",
      "  \u001b[31m   \u001b[0m xcrun: error: invalid active developer path (/Library/Developer/CommandLineTools), missing xcrun at: /Library/Developer/CommandLineTools/usr/bin/xcrun\n",
      "  \u001b[31m   \u001b[0m xcrun: error: invalid active developer path (/Library/Developer/CommandLineTools), missing xcrun at: /Library/Developer/CommandLineTools/usr/bin/xcrun\n",
      "  \u001b[31m   \u001b[0m clang -Wno-unused-result -Wsign-compare -Wunreachable-code -fno-common -dynamic -DNDEBUG -g -fwrapv -O3 -Wall -D_WIN32_WINNT=1536 -DGRPC_XDS_USER_AGENT_NAME_SUFFIX=\\\"Python\\\" -DGRPC_XDS_USER_AGENT_VERSION_SUFFIX=\\\"1.50.0\\\" -DOPENSSL_NO_ASM=1 -DGPR_BACKWARDS_COMPATIBILITY_MODE=1 -DHAVE_CONFIG_H=1 -DGRPC_ENABLE_FORK_SUPPORT=1 \"-DPyMODINIT_FUNC=extern \\\"C\\\" __attribute__((visibility (\\\"default\\\"))) PyObject*\" -DGRPC_POSIX_FORK_ALLOW_PTHREAD_ATFORK=1 -Isrc/python/grpcio -Iinclude -I. -Ithird_party/abseil-cpp -Ithird_party/address_sorting/include -Ithird_party/cares/cares/include -Ithird_party/cares -Ithird_party/cares/cares -Ithird_party/cares/config_darwin -Ithird_party/re2 -Ithird_party/boringssl-with-bazel/src/include -Ithird_party/upb -Isrc/core/ext/upb-generated -Isrc/core/ext/upbdefs-generated -Ithird_party/xxhash -Ithird_party/zlib -I/Users/ivanmkc/Documents/code/vertex-ai-samples/env/include -I/opt/homebrew/opt/python@3.9/Frameworks/Python.framework/Versions/3.9/include/python3.9 -c src/core/lib/resource_quota/periodic_update.cc -o python_build/temp.macosx-12-arm64-cpython-39/src/core/lib/resource_quota/periodic_update.o -std=c++14 -stdlib=libc++ -fvisibility=hidden -fno-wrapv -fno-exceptions -DHAVE_UNISTD_H -pthread\n",
      "  \u001b[31m   \u001b[0m clang -Wno-unused-result -Wsign-compare -Wunreachable-code -fno-common -dynamic -DNDEBUG -g -fwrapv -O3 -Wall -D_WIN32_WINNT=1536 -DGRPC_XDS_USER_AGENT_NAME_SUFFIX=\\\"Python\\\" -DGRPC_XDS_USER_AGENT_VERSION_SUFFIX=\\\"1.50.0\\\" -DOPENSSL_NO_ASM=1 -DGPR_BACKWARDS_COMPATIBILITY_MODE=1 -DHAVE_CONFIG_H=1 -DGRPC_ENABLE_FORK_SUPPORT=1 \"-DPyMODINIT_FUNC=extern \\\"C\\\" __attribute__((visibility (\\\"default\\\"))) PyObject*\" -DGRPC_POSIX_FORK_ALLOW_PTHREAD_ATFORK=1 -Isrc/python/grpcio -Iinclude -I. -Ithird_party/abseil-cpp -Ithird_party/address_sorting/include -Ithird_party/cares/cares/include -Ithird_party/cares -Ithird_party/cares/cares -Ithird_party/cares/config_darwin -Ithird_party/re2 -Ithird_party/boringssl-with-bazel/src/include -Ithird_party/upb -Isrc/core/ext/upb-generated -Isrc/core/ext/upbdefs-generated -Ithird_party/xxhash -Ithird_party/zlib -I/Users/ivanmkc/Documents/code/vertex-ai-samples/env/include -I/opt/homebrew/opt/python@3.9/Frameworks/Python.framework/Versions/3.9/include/python3.9 -c src/core/lib/security/credentials/google_default/google_default_credentials.cc -o python_build/temp.macosx-12-arm64-cpython-39/src/core/lib/security/credentials/google_default/google_default_credentials.o -std=c++14 -stdlib=libc++ -fvisibility=hidden -fno-wrapv -fno-exceptions -DHAVE_UNISTD_H -pthread\n",
      "  \u001b[31m   \u001b[0m xcrun: error: invalid active developer path (/Library/Developer/CommandLineTools), missing xcrun at: /Library/Developer/CommandLineTools/usr/bin/xcrun\n",
      "  \u001b[31m   \u001b[0m clang -Wno-unused-result -Wsign-compare -Wunreachable-code -fno-common -dynamic -DNDEBUG -g -fwrapv -O3 -Wall -D_WIN32_WINNT=1536 -DGRPC_XDS_USER_AGENT_NAME_SUFFIX=\\\"Python\\\" -DGRPC_XDS_USER_AGENT_VERSION_SUFFIX=\\\"1.50.0\\\" -DOPENSSL_NO_ASM=1 -DGPR_BACKWARDS_COMPATIBILITY_MODE=1 -DHAVE_CONFIG_H=1 -DGRPC_ENABLE_FORK_SUPPORT=1 \"-DPyMODINIT_FUNC=extern \\\"C\\\" __attribute__((visibility (\\\"default\\\"))) PyObject*\" -DGRPC_POSIX_FORK_ALLOW_PTHREAD_ATFORK=1 -Isrc/python/grpcio -Iinclude -I. -Ithird_party/abseil-cpp -Ithird_party/address_sorting/include -Ithird_party/cares/cares/include -Ithird_party/cares -Ithird_party/cares/cares -Ithird_party/cares/config_darwin -Ithird_party/re2 -Ithird_party/boringssl-with-bazel/src/include -Ithird_party/upb -Isrc/core/ext/upb-generated -Isrc/core/ext/upbdefs-generated -Ithird_party/xxhash -Ithird_party/zlib -I/Users/ivanmkc/Documents/code/vertex-ai-samples/env/include -I/opt/homebrew/opt/python@3.9/Frameworks/Python.framework/Versions/3.9/include/python3.9 -c src/core/lib/security/transport/server_auth_filter.cc -o python_build/temp.macosx-12-arm64-cpython-39/src/core/lib/security/transport/server_auth_filter.o -std=c++14 -stdlib=libc++ -fvisibility=hidden -fno-wrapv -fno-exceptions -DHAVE_UNISTD_H -pthread\n",
      "  \u001b[31m   \u001b[0m xcrun: error: invalid active developer path (/Library/Developer/CommandLineTools), missing xcrun at: /Library/Developer/CommandLineTools/usr/bin/xcrun\n",
      "  \u001b[31m   \u001b[0m clang -Wno-unused-result -Wsign-compare -Wunreachable-code -fno-common -dynamic -DNDEBUG -g -fwrapv -O3 -Wall -D_WIN32_WINNT=1536 -DGRPC_XDS_USER_AGENT_NAME_SUFFIX=\\\"Python\\\" -DGRPC_XDS_USER_AGENT_VERSION_SUFFIX=\\\"1.50.0\\\" -DOPENSSL_NO_ASM=1 -DGPR_BACKWARDS_COMPATIBILITY_MODE=1 -DHAVE_CONFIG_H=1 -DGRPC_ENABLE_FORK_SUPPORT=1 \"-DPyMODINIT_FUNC=extern \\\"C\\\" __attribute__((visibility (\\\"default\\\"))) PyObject*\" -DGRPC_POSIX_FORK_ALLOW_PTHREAD_ATFORK=1 -Isrc/python/grpcio -Iinclude -I. -Ithird_party/abseil-cpp -Ithird_party/address_sorting/include -Ithird_party/cares/cares/include -Ithird_party/cares -Ithird_party/cares/cares -Ithird_party/cares/config_darwin -Ithird_party/re2 -Ithird_party/boringssl-with-bazel/src/include -Ithird_party/upb -Isrc/core/ext/upb-generated -Isrc/core/ext/upbdefs-generated -Ithird_party/xxhash -Ithird_party/zlib -I/Users/ivanmkc/Documents/code/vertex-ai-samples/env/include -I/opt/homebrew/opt/python@3.9/Frameworks/Python.framework/Versions/3.9/include/python3.9 -c src/core/lib/surface/server.cc -o python_build/temp.macosx-12-arm64-cpython-39/src/core/lib/surface/server.o -std=c++14 -stdlib=libc++ -fvisibility=hidden -fno-wrapv -fno-exceptions -DHAVE_UNISTD_H -pthread\n",
      "  \u001b[31m   \u001b[0m xcrun: error: invalid active developer path (/Library/Developer/CommandLineTools), missing xcrun at: /Library/Developer/CommandLineTools/usr/bin/xcrun\n",
      "  \u001b[31m   \u001b[0m xcrun: error: invalid active developer path (/Library/Developer/CommandLineTools), missing xcrun at: /Library/Developer/CommandLineTools/usr/bin/xcrun\n",
      "  \u001b[31m   \u001b[0m clang -Wno-unused-result -Wsign-compare -Wunreachable-code -fno-common -dynamic -DNDEBUG -g -fwrapv -O3 -Wall -D_WIN32_WINNT=1536 -DGRPC_XDS_USER_AGENT_NAME_SUFFIX=\\\"Python\\\" -DGRPC_XDS_USER_AGENT_VERSION_SUFFIX=\\\"1.50.0\\\" -DOPENSSL_NO_ASM=1 -DGPR_BACKWARDS_COMPATIBILITY_MODE=1 -DHAVE_CONFIG_H=1 -DGRPC_ENABLE_FORK_SUPPORT=1 \"-DPyMODINIT_FUNC=extern \\\"C\\\" __attribute__((visibility (\\\"default\\\"))) PyObject*\" -DGRPC_POSIX_FORK_ALLOW_PTHREAD_ATFORK=1 -Isrc/python/grpcio -Iinclude -I. -Ithird_party/abseil-cpp -Ithird_party/address_sorting/include -Ithird_party/cares/cares/include -Ithird_party/cares -Ithird_party/cares/cares -Ithird_party/cares/config_darwin -Ithird_party/re2 -Ithird_party/boringssl-with-bazel/src/include -Ithird_party/upb -Isrc/core/ext/upb-generated -Isrc/core/ext/upbdefs-generated -Ithird_party/xxhash -Ithird_party/zlib -I/Users/ivanmkc/Documents/code/vertex-ai-samples/env/include -I/opt/homebrew/opt/python@3.9/Frameworks/Python.framework/Versions/3.9/include/python3.9 -c src/core/tsi/alts/handshaker/alts_tsi_handshaker.cc -o python_build/temp.macosx-12-arm64-cpython-39/src/core/tsi/alts/handshaker/alts_tsi_handshaker.o -std=c++14 -stdlib=libc++ -fvisibility=hidden -fno-wrapv -fno-exceptions -DHAVE_UNISTD_H -pthread\n",
      "  \u001b[31m   \u001b[0m xcrun: error: invalid active developer path (/Library/Developer/CommandLineTools), missing xcrun at: /Library/Developer/CommandLineTools/usr/bin/xcrun\n",
      "  \u001b[31m   \u001b[0m clang -Wno-unused-result -Wsign-compare -Wunreachable-code -fno-common -dynamic -DNDEBUG -g -fwrapv -O3 -Wall -D_WIN32_WINNT=1536 -DGRPC_XDS_USER_AGENT_NAME_SUFFIX=\\\"Python\\\" -DGRPC_XDS_USER_AGENT_VERSION_SUFFIX=\\\"1.50.0\\\" -DOPENSSL_NO_ASM=1 -DGPR_BACKWARDS_COMPATIBILITY_MODE=1 -DHAVE_CONFIG_H=1 -DGRPC_ENABLE_FORK_SUPPORT=1 \"-DPyMODINIT_FUNC=extern \\\"C\\\" __attribute__((visibility (\\\"default\\\"))) PyObject*\" -DGRPC_POSIX_FORK_ALLOW_PTHREAD_ATFORK=1 -Isrc/python/grpcio -Iinclude -I. -Ithird_party/abseil-cpp -Ithird_party/address_sorting/include -Ithird_party/cares/cares/include -Ithird_party/cares -Ithird_party/cares/cares -Ithird_party/cares/config_darwin -Ithird_party/re2 -Ithird_party/boringssl-with-bazel/src/include -Ithird_party/upb -Isrc/core/ext/upb-generated -Isrc/core/ext/upbdefs-generated -Ithird_party/xxhash -Ithird_party/zlib -I/Users/ivanmkc/Documents/code/vertex-ai-samples/env/include -I/opt/homebrew/opt/python@3.9/Frameworks/Python.framework/Versions/3.9/include/python3.9 -c third_party/abseil-cpp/absl/container/internal/raw_hash_set.cc -o python_build/temp.macosx-12-arm64-cpython-39/third_party/abseil-cpp/absl/container/internal/raw_hash_set.o -std=c++14 -stdlib=libc++ -fvisibility=hidden -fno-wrapv -fno-exceptions -DHAVE_UNISTD_H -pthread\n",
      "  \u001b[31m   \u001b[0m xcrun: error: invalid active developer path (/Library/Developer/CommandLineTools), missing xcrun at: /Library/Developer/CommandLineTools/usr/bin/xcrun\n",
      "  \u001b[31m   \u001b[0m xcrun: error: invalid active developer path (/Library/Developer/CommandLineTools), missing xcrun at: /Library/Developer/CommandLineTools/usr/bin/xcrun\n",
      "  \u001b[31m   \u001b[0m clang -Wno-unused-result -Wsign-compare -Wunreachable-code -fno-common -dynamic -DNDEBUG -g -fwrapv -O3 -Wall -D_WIN32_WINNT=1536 -DGRPC_XDS_USER_AGENT_NAME_SUFFIX=\\\"Python\\\" -DGRPC_XDS_USER_AGENT_VERSION_SUFFIX=\\\"1.50.0\\\" -DOPENSSL_NO_ASM=1 -DGPR_BACKWARDS_COMPATIBILITY_MODE=1 -DHAVE_CONFIG_H=1 -DGRPC_ENABLE_FORK_SUPPORT=1 \"-DPyMODINIT_FUNC=extern \\\"C\\\" __attribute__((visibility (\\\"default\\\"))) PyObject*\" -DGRPC_POSIX_FORK_ALLOW_PTHREAD_ATFORK=1 -Isrc/python/grpcio -Iinclude -I. -Ithird_party/abseil-cpp -Ithird_party/address_sorting/include -Ithird_party/cares/cares/include -Ithird_party/cares -Ithird_party/cares/cares -Ithird_party/cares/config_darwin -Ithird_party/re2 -Ithird_party/boringssl-with-bazel/src/include -Ithird_party/upb -Isrc/core/ext/upb-generated -Isrc/core/ext/upbdefs-generated -Ithird_party/xxhash -Ithird_party/zlib -I/Users/ivanmkc/Documents/code/vertex-ai-samples/env/include -I/opt/homebrew/opt/python@3.9/Frameworks/Python.framework/Versions/3.9/include/python3.9 -c third_party/abseil-cpp/absl/strings/escaping.cc -o python_build/temp.macosx-12-arm64-cpython-39/third_party/abseil-cpp/absl/strings/escaping.o -std=c++14 -stdlib=libc++ -fvisibility=hidden -fno-wrapv -fno-exceptions -DHAVE_UNISTD_H -pthread\n",
      "  \u001b[31m   \u001b[0m clang -Wno-unused-result -Wsign-compare -Wunreachable-code -fno-common -dynamic -DNDEBUG -g -fwrapv -O3 -Wall -D_WIN32_WINNT=1536 -DGRPC_XDS_USER_AGENT_NAME_SUFFIX=\\\"Python\\\" -DGRPC_XDS_USER_AGENT_VERSION_SUFFIX=\\\"1.50.0\\\" -DOPENSSL_NO_ASM=1 -DGPR_BACKWARDS_COMPATIBILITY_MODE=1 -DHAVE_CONFIG_H=1 -DGRPC_ENABLE_FORK_SUPPORT=1 \"-DPyMODINIT_FUNC=extern \\\"C\\\" __attribute__((visibility (\\\"default\\\"))) PyObject*\" -DGRPC_POSIX_FORK_ALLOW_PTHREAD_ATFORK=1 -Isrc/python/grpcio -Iinclude -I. -Ithird_party/abseil-cpp -Ithird_party/address_sorting/include -Ithird_party/cares/cares/include -Ithird_party/cares -Ithird_party/cares/cares -Ithird_party/cares/config_darwin -Ithird_party/re2 -Ithird_party/boringssl-with-bazel/src/include -Ithird_party/upb -Isrc/core/ext/upb-generated -Isrc/core/ext/upbdefs-generated -Ithird_party/xxhash -Ithird_party/zlib -I/Users/ivanmkc/Documents/code/vertex-ai-samples/env/include -I/opt/homebrew/opt/python@3.9/Frameworks/Python.framework/Versions/3.9/include/python3.9 -c third_party/abseil-cpp/absl/synchronization/blocking_counter.cc -o python_build/temp.macosx-12-arm64-cpython-39/third_party/abseil-cpp/absl/synchronization/blocking_counter.o -std=c++14 -stdlib=libc++ -fvisibility=hidden -fno-wrapv -fno-exceptions -DHAVE_UNISTD_H -pthread\n",
      "  \u001b[31m   \u001b[0m clang -Wno-unused-result -Wsign-compare -Wunreachable-code -fno-common -dynamic -DNDEBUG -g -fwrapv -O3 -Wall -D_WIN32_WINNT=1536 -DGRPC_XDS_USER_AGENT_NAME_SUFFIX=\\\"Python\\\" -DGRPC_XDS_USER_AGENT_VERSION_SUFFIX=\\\"1.50.0\\\" -DOPENSSL_NO_ASM=1 -DGPR_BACKWARDS_COMPATIBILITY_MODE=1 -DHAVE_CONFIG_H=1 -DGRPC_ENABLE_FORK_SUPPORT=1 \"-DPyMODINIT_FUNC=extern \\\"C\\\" __attribute__((visibility (\\\"default\\\"))) PyObject*\" -DGRPC_POSIX_FORK_ALLOW_PTHREAD_ATFORK=1 -Isrc/python/grpcio -Iinclude -I. -Ithird_party/abseil-cpp -Ithird_party/address_sorting/include -Ithird_party/cares/cares/include -Ithird_party/cares -Ithird_party/cares/cares -Ithird_party/cares/config_darwin -Ithird_party/re2 -Ithird_party/boringssl-with-bazel/src/include -Ithird_party/upb -Isrc/core/ext/upb-generated -Isrc/core/ext/upbdefs-generated -Ithird_party/xxhash -Ithird_party/zlib -I/Users/ivanmkc/Documents/code/vertex-ai-samples/env/include -I/opt/homebrew/opt/python@3.9/Frameworks/Python.framework/Versions/3.9/include/python3.9 -c third_party/boringssl-with-bazel/src/crypto/asn1/a_dup.c -o python_build/temp.macosx-12-arm64-cpython-39/third_party/boringssl-with-bazel/src/crypto/asn1/a_dup.o -std=c++14 -stdlib=libc++ -fvisibility=hidden -fno-wrapv -fno-exceptions -DHAVE_UNISTD_H -pthread\n",
      "  \u001b[31m   \u001b[0m xcrun: error: invalid active developer path (/Library/Developer/CommandLineTools), missing xcrun at: /Library/Developer/CommandLineTools/usr/bin/xcrun\n",
      "  \u001b[31m   \u001b[0m clang -Wno-unused-result -Wsign-compare -Wunreachable-code -fno-common -dynamic -DNDEBUG -g -fwrapv -O3 -Wall -D_WIN32_WINNT=1536 -DGRPC_XDS_USER_AGENT_NAME_SUFFIX=\\\"Python\\\" -DGRPC_XDS_USER_AGENT_VERSION_SUFFIX=\\\"1.50.0\\\" -DOPENSSL_NO_ASM=1 -DGPR_BACKWARDS_COMPATIBILITY_MODE=1 -DHAVE_CONFIG_H=1 -DGRPC_ENABLE_FORK_SUPPORT=1 \"-DPyMODINIT_FUNC=extern \\\"C\\\" __attribute__((visibility (\\\"default\\\"))) PyObject*\" -DGRPC_POSIX_FORK_ALLOW_PTHREAD_ATFORK=1 -Isrc/python/grpcio -Iinclude -I. -Ithird_party/abseil-cpp -Ithird_party/address_sorting/include -Ithird_party/cares/cares/include -Ithird_party/cares -Ithird_party/cares/cares -Ithird_party/cares/config_darwin -Ithird_party/re2 -Ithird_party/boringssl-with-bazel/src/include -Ithird_party/upb -Isrc/core/ext/upb-generated -Isrc/core/ext/upbdefs-generated -Ithird_party/xxhash -Ithird_party/zlib -I/Users/ivanmkc/Documents/code/vertex-ai-samples/env/include -I/opt/homebrew/opt/python@3.9/Frameworks/Python.framework/Versions/3.9/include/python3.9 -c third_party/boringssl-with-bazel/src/crypto/bio/fd.c -o python_build/temp.macosx-12-arm64-cpython-39/third_party/boringssl-with-bazel/src/crypto/bio/fd.o -std=c++14 -stdlib=libc++ -fvisibility=hidden -fno-wrapv -fno-exceptions -DHAVE_UNISTD_H -pthread\n",
      "  \u001b[31m   \u001b[0m xcrun: error: invalid active developer path (/Library/Developer/CommandLineTools), missing xcrun at: /Library/Developer/CommandLineTools/usr/bin/xcrun\n",
      "  \u001b[31m   \u001b[0m clang -Wno-unused-result -Wsign-compare -Wunreachable-code -fno-common -dynamic -DNDEBUG -g -fwrapv -O3 -Wall -D_WIN32_WINNT=1536 -DGRPC_XDS_USER_AGENT_NAME_SUFFIX=\\\"Python\\\" -DGRPC_XDS_USER_AGENT_VERSION_SUFFIX=\\\"1.50.0\\\" -DOPENSSL_NO_ASM=1 -DGPR_BACKWARDS_COMPATIBILITY_MODE=1 -DHAVE_CONFIG_H=1 -DGRPC_ENABLE_FORK_SUPPORT=1 \"-DPyMODINIT_FUNC=extern \\\"C\\\" __attribute__((visibility (\\\"default\\\"))) PyObject*\" -DGRPC_POSIX_FORK_ALLOW_PTHREAD_ATFORK=1 -Isrc/python/grpcio -Iinclude -I. -Ithird_party/abseil-cpp -Ithird_party/address_sorting/include -Ithird_party/cares/cares/include -Ithird_party/cares -Ithird_party/cares/cares -Ithird_party/cares/config_darwin -Ithird_party/re2 -Ithird_party/boringssl-with-bazel/src/include -Ithird_party/upb -Isrc/core/ext/upb-generated -Isrc/core/ext/upbdefs-generated -Ithird_party/xxhash -Ithird_party/zlib -I/Users/ivanmkc/Documents/code/vertex-ai-samples/env/include -I/opt/homebrew/opt/python@3.9/Frameworks/Python.framework/Versions/3.9/include/python3.9 -c third_party/boringssl-with-bazel/src/crypto/cpu-aarch64-linux.c -o python_build/temp.macosx-12-arm64-cpython-39/third_party/boringssl-with-bazel/src/crypto/cpu-aarch64-linux.o -std=c++14 -stdlib=libc++ -fvisibility=hidden -fno-wrapv -fno-exceptions -DHAVE_UNISTD_H -pthread\n",
      "  \u001b[31m   \u001b[0m xcrun: error: invalid active developer path (/Library/Developer/CommandLineTools), missing xcrun at: /Library/Developer/CommandLineTools/usr/bin/xcrun\n",
      "  \u001b[31m   \u001b[0m xcrun: error: invalid active developer path (/Library/Developer/CommandLineTools), missing xcrun at: /Library/Developer/CommandLineTools/usr/bin/xcrun\n",
      "  \u001b[31m   \u001b[0m xcrun: error: invalid active developer path (/Library/Developer/CommandLineTools), missing xcrun at: /Library/Developer/CommandLineTools/usr/bin/xcrun\n",
      "  \u001b[31m   \u001b[0m clang -Wno-unused-result -Wsign-compare -Wunreachable-code -fno-common -dynamic -DNDEBUG -g -fwrapv -O3 -Wall -D_WIN32_WINNT=1536 -DGRPC_XDS_USER_AGENT_NAME_SUFFIX=\\\"Python\\\" -DGRPC_XDS_USER_AGENT_VERSION_SUFFIX=\\\"1.50.0\\\" -DOPENSSL_NO_ASM=1 -DGPR_BACKWARDS_COMPATIBILITY_MODE=1 -DHAVE_CONFIG_H=1 -DGRPC_ENABLE_FORK_SUPPORT=1 \"-DPyMODINIT_FUNC=extern \\\"C\\\" __attribute__((visibility (\\\"default\\\"))) PyObject*\" -DGRPC_POSIX_FORK_ALLOW_PTHREAD_ATFORK=1 -Isrc/python/grpcio -Iinclude -I. -Ithird_party/abseil-cpp -Ithird_party/address_sorting/include -Ithird_party/cares/cares/include -Ithird_party/cares -Ithird_party/cares/cares -Ithird_party/cares/config_darwin -Ithird_party/re2 -Ithird_party/boringssl-with-bazel/src/include -Ithird_party/upb -Isrc/core/ext/upb-generated -Isrc/core/ext/upbdefs-generated -Ithird_party/xxhash -Ithird_party/zlib -I/Users/ivanmkc/Documents/code/vertex-ai-samples/env/include -I/opt/homebrew/opt/python@3.9/Frameworks/Python.framework/Versions/3.9/include/python3.9 -c third_party/boringssl-with-bazel/src/crypto/evp/p_rsa_asn1.c -o python_build/temp.macosx-12-arm64-cpython-39/third_party/boringssl-with-bazel/src/crypto/evp/p_rsa_asn1.o -std=c++14 -stdlib=libc++ -fvisibility=hidden -fno-wrapv -fno-exceptions -DHAVE_UNISTD_H -pthread\n",
      "  \u001b[31m   \u001b[0m xcrun: error: invalid active developer path (/Library/Developer/CommandLineTools), missing xcrun at: /Library/Developer/CommandLineTools/usr/bin/xcrun\n",
      "  \u001b[31m   \u001b[0m clang -Wno-unused-result -Wsign-compare -Wunreachable-code -fno-common -dynamic -DNDEBUG -g -fwrapv -O3 -Wall -D_WIN32_WINNT=1536 -DGRPC_XDS_USER_AGENT_NAME_SUFFIX=\\\"Python\\\" -DGRPC_XDS_USER_AGENT_VERSION_SUFFIX=\\\"1.50.0\\\" -DOPENSSL_NO_ASM=1 -DGPR_BACKWARDS_COMPATIBILITY_MODE=1 -DHAVE_CONFIG_H=1 -DGRPC_ENABLE_FORK_SUPPORT=1 \"-DPyMODINIT_FUNC=extern \\\"C\\\" __attribute__((visibility (\\\"default\\\"))) PyObject*\" -DGRPC_POSIX_FORK_ALLOW_PTHREAD_ATFORK=1 -Isrc/python/grpcio -Iinclude -I. -Ithird_party/abseil-cpp -Ithird_party/address_sorting/include -Ithird_party/cares/cares/include -Ithird_party/cares -Ithird_party/cares/cares -Ithird_party/cares/config_darwin -Ithird_party/re2 -Ithird_party/boringssl-with-bazel/src/include -Ithird_party/upb -Isrc/core/ext/upb-generated -Isrc/core/ext/upbdefs-generated -Ithird_party/xxhash -Ithird_party/zlib -I/Users/ivanmkc/Documents/code/vertex-ai-samples/env/include -I/opt/homebrew/opt/python@3.9/Frameworks/Python.framework/Versions/3.9/include/python3.9 -c third_party/boringssl-with-bazel/src/crypto/poly1305/poly1305_arm.c -o python_build/temp.macosx-12-arm64-cpython-39/third_party/boringssl-with-bazel/src/crypto/poly1305/poly1305_arm.o -std=c++14 -stdlib=libc++ -fvisibility=hidden -fno-wrapv -fno-exceptions -DHAVE_UNISTD_H -pthread\n",
      "  \u001b[31m   \u001b[0m clang -Wno-unused-result -Wsign-compare -Wunreachable-code -fno-common -dynamic -DNDEBUG -g -fwrapv -O3 -Wall -D_WIN32_WINNT=1536 -DGRPC_XDS_USER_AGENT_NAME_SUFFIX=\\\"Python\\\" -DGRPC_XDS_USER_AGENT_VERSION_SUFFIX=\\\"1.50.0\\\" -DOPENSSL_NO_ASM=1 -DGPR_BACKWARDS_COMPATIBILITY_MODE=1 -DHAVE_CONFIG_H=1 -DGRPC_ENABLE_FORK_SUPPORT=1 \"-DPyMODINIT_FUNC=extern \\\"C\\\" __attribute__((visibility (\\\"default\\\"))) PyObject*\" -DGRPC_POSIX_FORK_ALLOW_PTHREAD_ATFORK=1 -Isrc/python/grpcio -Iinclude -I. -Ithird_party/abseil-cpp -Ithird_party/address_sorting/include -Ithird_party/cares/cares/include -Ithird_party/cares -Ithird_party/cares/cares -Ithird_party/cares/config_darwin -Ithird_party/re2 -Ithird_party/boringssl-with-bazel/src/include -Ithird_party/upb -Isrc/core/ext/upb-generated -Isrc/core/ext/upbdefs-generated -Ithird_party/xxhash -Ithird_party/zlib -I/Users/ivanmkc/Documents/code/vertex-ai-samples/env/include -I/opt/homebrew/opt/python@3.9/Frameworks/Python.framework/Versions/3.9/include/python3.9 -c third_party/boringssl-with-bazel/src/crypto/x509/name_print.c -o python_build/temp.macosx-12-arm64-cpython-39/third_party/boringssl-with-bazel/src/crypto/x509/name_print.o -std=c++14 -stdlib=libc++ -fvisibility=hidden -fno-wrapv -fno-exceptions -DHAVE_UNISTD_H -pthread\n",
      "  \u001b[31m   \u001b[0m clang -Wno-unused-result -Wsign-compare -Wunreachable-code -fno-common -dynamic -DNDEBUG -g -fwrapv -O3 -Wall -D_WIN32_WINNT=1536 -DGRPC_XDS_USER_AGENT_NAME_SUFFIX=\\\"Python\\\" -DGRPC_XDS_USER_AGENT_VERSION_SUFFIX=\\\"1.50.0\\\" -DOPENSSL_NO_ASM=1 -DGPR_BACKWARDS_COMPATIBILITY_MODE=1 -DHAVE_CONFIG_H=1 -DGRPC_ENABLE_FORK_SUPPORT=1 \"-DPyMODINIT_FUNC=extern \\\"C\\\" __attribute__((visibility (\\\"default\\\"))) PyObject*\" -DGRPC_POSIX_FORK_ALLOW_PTHREAD_ATFORK=1 -Isrc/python/grpcio -Iinclude -I. -Ithird_party/abseil-cpp -Ithird_party/address_sorting/include -Ithird_party/cares/cares/include -Ithird_party/cares -Ithird_party/cares/cares -Ithird_party/cares/config_darwin -Ithird_party/re2 -Ithird_party/boringssl-with-bazel/src/include -Ithird_party/upb -Isrc/core/ext/upb-generated -Isrc/core/ext/upbdefs-generated -Ithird_party/xxhash -Ithird_party/zlib -I/Users/ivanmkc/Documents/code/vertex-ai-samples/env/include -I/opt/homebrew/opt/python@3.9/Frameworks/Python.framework/Versions/3.9/include/python3.9 -c third_party/boringssl-with-bazel/src/crypto/x509/x_name.c -o python_build/temp.macosx-12-arm64-cpython-39/third_party/boringssl-with-bazel/src/crypto/x509/x_name.o -std=c++14 -stdlib=libc++ -fvisibility=hidden -fno-wrapv -fno-exceptions -DHAVE_UNISTD_H -pthread\n",
      "  \u001b[31m   \u001b[0m xcrun: error: invalid active developer path (/Library/Developer/CommandLineTools), missing xcrun at: /Library/Developer/CommandLineTools/usr/bin/xcrun\n",
      "  \u001b[31m   \u001b[0m xcrun: error: invalid active developer path (/Library/Developer/CommandLineTools), missing xcrun at: /Library/Developer/CommandLineTools/usr/bin/xcrun\n",
      "  \u001b[31m   \u001b[0m xcrun: error: invalid active developer path (/Library/Developer/CommandLineTools), missing xcrun at: /Library/Developer/CommandLineTools/usr/bin/xcrun\n",
      "  \u001b[31m   \u001b[0m xcrun: error: invalid active developer path (/Library/Developer/CommandLineTools), missing xcrun at: /Library/Developer/CommandLineTools/usr/bin/xcrun\n",
      "  \u001b[31m   \u001b[0m clang -Wno-unused-result -Wsign-compare -Wunreachable-code -fno-common -dynamic -DNDEBUG -g -fwrapv -O3 -Wall -D_WIN32_WINNT=1536 -DGRPC_XDS_USER_AGENT_NAME_SUFFIX=\\\"Python\\\" -DGRPC_XDS_USER_AGENT_VERSION_SUFFIX=\\\"1.50.0\\\" -DOPENSSL_NO_ASM=1 -DGPR_BACKWARDS_COMPATIBILITY_MODE=1 -DHAVE_CONFIG_H=1 -DGRPC_ENABLE_FORK_SUPPORT=1 \"-DPyMODINIT_FUNC=extern \\\"C\\\" __attribute__((visibility (\\\"default\\\"))) PyObject*\" -DGRPC_POSIX_FORK_ALLOW_PTHREAD_ATFORK=1 -Isrc/python/grpcio -Iinclude -I. -Ithird_party/abseil-cpp -Ithird_party/address_sorting/include -Ithird_party/cares/cares/include -Ithird_party/cares -Ithird_party/cares/cares -Ithird_party/cares/config_darwin -Ithird_party/re2 -Ithird_party/boringssl-with-bazel/src/include -Ithird_party/upb -Isrc/core/ext/upb-generated -Isrc/core/ext/upbdefs-generated -Ithird_party/xxhash -Ithird_party/zlib -I/Users/ivanmkc/Documents/code/vertex-ai-samples/env/include -I/opt/homebrew/opt/python@3.9/Frameworks/Python.framework/Versions/3.9/include/python3.9 -c third_party/boringssl-with-bazel/src/crypto/x509v3/v3_ocsp.c -o python_build/temp.macosx-12-arm64-cpython-39/third_party/boringssl-with-bazel/src/crypto/x509v3/v3_ocsp.o -std=c++14 -stdlib=libc++ -fvisibility=hidden -fno-wrapv -fno-exceptions -DHAVE_UNISTD_H -pthread\n",
      "  \u001b[31m   \u001b[0m clang -Wno-unused-result -Wsign-compare -Wunreachable-code -fno-common -dynamic -DNDEBUG -g -fwrapv -O3 -Wall -D_WIN32_WINNT=1536 -DGRPC_XDS_USER_AGENT_NAME_SUFFIX=\\\"Python\\\" -DGRPC_XDS_USER_AGENT_VERSION_SUFFIX=\\\"1.50.0\\\" -DOPENSSL_NO_ASM=1 -DGPR_BACKWARDS_COMPATIBILITY_MODE=1 -DHAVE_CONFIG_H=1 -DGRPC_ENABLE_FORK_SUPPORT=1 \"-DPyMODINIT_FUNC=extern \\\"C\\\" __attribute__((visibility (\\\"default\\\"))) PyObject*\" -DGRPC_POSIX_FORK_ALLOW_PTHREAD_ATFORK=1 -Isrc/python/grpcio -Iinclude -I. -Ithird_party/abseil-cpp -Ithird_party/address_sorting/include -Ithird_party/cares/cares/include -Ithird_party/cares -Ithird_party/cares/cares -Ithird_party/cares/config_darwin -Ithird_party/re2 -Ithird_party/boringssl-with-bazel/src/include -Ithird_party/upb -Isrc/core/ext/upb-generated -Isrc/core/ext/upbdefs-generated -Ithird_party/xxhash -Ithird_party/zlib -I/Users/ivanmkc/Documents/code/vertex-ai-samples/env/include -I/opt/homebrew/opt/python@3.9/Frameworks/Python.framework/Versions/3.9/include/python3.9 -c third_party/boringssl-with-bazel/src/ssl/ssl_key_share.cc -o python_build/temp.macosx-12-arm64-cpython-39/third_party/boringssl-with-bazel/src/ssl/ssl_key_share.o -std=c++14 -stdlib=libc++ -fvisibility=hidden -fno-wrapv -fno-exceptions -DHAVE_UNISTD_H -pthread\n",
      "  \u001b[31m   \u001b[0m xcrun: error: invalid active developer path (/Library/Developer/CommandLineTools), missing xcrun at: /Library/Developer/CommandLineTools/usr/bin/xcrun\n",
      "  \u001b[31m   \u001b[0m clang -Wno-unused-result -Wsign-compare -Wunreachable-code -fno-common -dynamic -DNDEBUG -g -fwrapv -O3 -Wall -D_WIN32_WINNT=1536 -DGRPC_XDS_USER_AGENT_NAME_SUFFIX=\\\"Python\\\" -DGRPC_XDS_USER_AGENT_VERSION_SUFFIX=\\\"1.50.0\\\" -DOPENSSL_NO_ASM=1 -DGPR_BACKWARDS_COMPATIBILITY_MODE=1 -DHAVE_CONFIG_H=1 -DGRPC_ENABLE_FORK_SUPPORT=1 \"-DPyMODINIT_FUNC=extern \\\"C\\\" __attribute__((visibility (\\\"default\\\"))) PyObject*\" -DGRPC_POSIX_FORK_ALLOW_PTHREAD_ATFORK=1 -Isrc/python/grpcio -Iinclude -I. -Ithird_party/abseil-cpp -Ithird_party/address_sorting/include -Ithird_party/cares/cares/include -Ithird_party/cares -Ithird_party/cares/cares -Ithird_party/cares/config_darwin -Ithird_party/re2 -Ithird_party/boringssl-with-bazel/src/include -Ithird_party/upb -Isrc/core/ext/upb-generated -Isrc/core/ext/upbdefs-generated -Ithird_party/xxhash -Ithird_party/zlib -I/Users/ivanmkc/Documents/code/vertex-ai-samples/env/include -I/opt/homebrew/opt/python@3.9/Frameworks/Python.framework/Versions/3.9/include/python3.9 -c third_party/cares/cares/src/lib/ares_free_string.c -o python_build/temp.macosx-12-arm64-cpython-39/third_party/cares/cares/src/lib/ares_free_string.o -std=c++14 -stdlib=libc++ -fvisibility=hidden -fno-wrapv -fno-exceptions -DHAVE_UNISTD_H -pthread\n",
      "  \u001b[31m   \u001b[0m clang -Wno-unused-result -Wsign-compare -Wunreachable-code -fno-common -dynamic -DNDEBUG -g -fwrapv -O3 -Wall -D_WIN32_WINNT=1536 -DGRPC_XDS_USER_AGENT_NAME_SUFFIX=\\\"Python\\\" -DGRPC_XDS_USER_AGENT_VERSION_SUFFIX=\\\"1.50.0\\\" -DOPENSSL_NO_ASM=1 -DGPR_BACKWARDS_COMPATIBILITY_MODE=1 -DHAVE_CONFIG_H=1 -DGRPC_ENABLE_FORK_SUPPORT=1 \"-DPyMODINIT_FUNC=extern \\\"C\\\" __attribute__((visibility (\\\"default\\\"))) PyObject*\" -DGRPC_POSIX_FORK_ALLOW_PTHREAD_ATFORK=1 -Isrc/python/grpcio -Iinclude -I. -Ithird_party/abseil-cpp -Ithird_party/address_sorting/include -Ithird_party/cares/cares/include -Ithird_party/cares -Ithird_party/cares/cares -Ithird_party/cares/config_darwin -Ithird_party/re2 -Ithird_party/boringssl-with-bazel/src/include -Ithird_party/upb -Isrc/core/ext/upb-generated -Isrc/core/ext/upbdefs-generated -Ithird_party/xxhash -Ithird_party/zlib -I/Users/ivanmkc/Documents/code/vertex-ai-samples/env/include -I/opt/homebrew/opt/python@3.9/Frameworks/Python.framework/Versions/3.9/include/python3.9 -c third_party/cares/cares/src/lib/ares_strerror.c -o python_build/temp.macosx-12-arm64-cpython-39/third_party/cares/cares/src/lib/ares_strerror.o -std=c++14 -stdlib=libc++ -fvisibility=hidden -fno-wrapv -fno-exceptions -DHAVE_UNISTD_H -pthread\n",
      "  \u001b[31m   \u001b[0m xcrun: error: invalid active developer path (/Library/Developer/CommandLineTools), missing xcrun at: /Library/Developer/CommandLineTools/usr/bin/xcrun\n",
      "  \u001b[31m   \u001b[0m clang -Wno-unused-result -Wsign-compare -Wunreachable-code -fno-common -dynamic -DNDEBUG -g -fwrapv -O3 -Wall -D_WIN32_WINNT=1536 -DGRPC_XDS_USER_AGENT_NAME_SUFFIX=\\\"Python\\\" -DGRPC_XDS_USER_AGENT_VERSION_SUFFIX=\\\"1.50.0\\\" -DOPENSSL_NO_ASM=1 -DGPR_BACKWARDS_COMPATIBILITY_MODE=1 -DHAVE_CONFIG_H=1 -DGRPC_ENABLE_FORK_SUPPORT=1 \"-DPyMODINIT_FUNC=extern \\\"C\\\" __attribute__((visibility (\\\"default\\\"))) PyObject*\" -DGRPC_POSIX_FORK_ALLOW_PTHREAD_ATFORK=1 -Isrc/python/grpcio -Iinclude -I. -Ithird_party/abseil-cpp -Ithird_party/address_sorting/include -Ithird_party/cares/cares/include -Ithird_party/cares -Ithird_party/cares/cares -Ithird_party/cares/config_darwin -Ithird_party/re2 -Ithird_party/boringssl-with-bazel/src/include -Ithird_party/upb -Isrc/core/ext/upb-generated -Isrc/core/ext/upbdefs-generated -Ithird_party/xxhash -Ithird_party/zlib -I/Users/ivanmkc/Documents/code/vertex-ai-samples/env/include -I/opt/homebrew/opt/python@3.9/Frameworks/Python.framework/Versions/3.9/include/python3.9 -c third_party/re2/util/strutil.cc -o python_build/temp.macosx-12-arm64-cpython-39/third_party/re2/util/strutil.o -std=c++14 -stdlib=libc++ -fvisibility=hidden -fno-wrapv -fno-exceptions -DHAVE_UNISTD_H -pthread\n",
      "  \u001b[31m   \u001b[0m clang -Wno-unused-result -Wsign-compare -Wunreachable-code -fno-common -dynamic -DNDEBUG -g -fwrapv -O3 -Wall -D_WIN32_WINNT=1536 -DGRPC_XDS_USER_AGENT_NAME_SUFFIX=\\\"Python\\\" -DGRPC_XDS_USER_AGENT_VERSION_SUFFIX=\\\"1.50.0\\\" -DOPENSSL_NO_ASM=1 -DGPR_BACKWARDS_COMPATIBILITY_MODE=1 -DHAVE_CONFIG_H=1 -DGRPC_ENABLE_FORK_SUPPORT=1 \"-DPyMODINIT_FUNC=extern \\\"C\\\" __attribute__((visibility (\\\"default\\\"))) PyObject*\" -DGRPC_POSIX_FORK_ALLOW_PTHREAD_ATFORK=1 -Isrc/python/grpcio -Iinclude -I. -Ithird_party/abseil-cpp -Ithird_party/address_sorting/include -Ithird_party/cares/cares/include -Ithird_party/cares -Ithird_party/cares/cares -Ithird_party/cares/config_darwin -Ithird_party/re2 -Ithird_party/boringssl-with-bazel/src/include -Ithird_party/upb -Isrc/core/ext/upb-generated -Isrc/core/ext/upbdefs-generated -Ithird_party/xxhash -Ithird_party/zlib -I/Users/ivanmkc/Documents/code/vertex-ai-samples/env/include -I/opt/homebrew/opt/python@3.9/Frameworks/Python.framework/Versions/3.9/include/python3.9 -c third_party/zlib/inflate.c -o python_build/temp.macosx-12-arm64-cpython-39/third_party/zlib/inflate.o -std=c++14 -stdlib=libc++ -fvisibility=hidden -fno-wrapv -fno-exceptions -DHAVE_UNISTD_H -pthread\n",
      "  \u001b[31m   \u001b[0m xcrun: error: invalid active developer path (/Library/Developer/CommandLineTools), missing xcrun at: /Library/Developer/CommandLineTools/usr/bin/xcrun\n",
      "  \u001b[31m   \u001b[0m xcrun: error: invalid active developer path (/Library/Developer/CommandLineTools), missing xcrun at: /Library/Developer/CommandLineTools/usr/bin/xcrun\n",
      "  \u001b[31m   \u001b[0m xcrun: error: invalid active developer path (/Library/Developer/CommandLineTools), missing xcrun at: /Library/Developer/CommandLineTools/usr/bin/xcrun\n",
      "  \u001b[31m   \u001b[0m xcrun: error: invalid active developer path (/Library/Developer/CommandLineTools), missing xcrun at: /Library/Developer/CommandLineTools/usr/bin/xcrun\n",
      "  \u001b[31m   \u001b[0m xcrun: error: invalid active developer path (/Library/Developer/CommandLineTools), missing xcrun at: /Library/Developer/CommandLineTools/usr/bin/xcrun\n",
      "  \u001b[31m   \u001b[0m xcrun: error: invalid active developer path (/Library/Developer/CommandLineTools), missing xcrun at: /Library/Developer/CommandLineTools/usr/bin/xcrun\n",
      "  \u001b[31m   \u001b[0m xcrun: error: invalid active developer path (/Library/Developer/CommandLineTools), missing xcrun at: /Library/Developer/CommandLineTools/usr/bin/xcrun\n",
      "  \u001b[31m   \u001b[0m xcrun: error: invalid active developer path (/Library/Developer/CommandLineTools), missing xcrun at: /Library/Developer/CommandLineTools/usr/bin/xcrun\n",
      "  \u001b[31m   \u001b[0m xcrun: error: invalid active developer path (/Library/Developer/CommandLineTools), missing xcrun at: /Library/Developer/CommandLineTools/usr/bin/xcrun\n",
      "  \u001b[31m   \u001b[0m creating None\n",
      "  \u001b[31m   \u001b[0m creating None/var\n",
      "  \u001b[31m   \u001b[0m creating None/var/folders\n",
      "  \u001b[31m   \u001b[0m creating None/var/folders/r0\n",
      "  \u001b[31m   \u001b[0m creating None/var/folders/r0/7z2vjlt92lsgs7lj7pt_wjh000rmmq\n",
      "  \u001b[31m   \u001b[0m creating None/var/folders/r0/7z2vjlt92lsgs7lj7pt_wjh000rmmq/T\n",
      "  \u001b[31m   \u001b[0m creating None/var/folders/r0/7z2vjlt92lsgs7lj7pt_wjh000rmmq/T/tmpm7z36zap\n",
      "  \u001b[31m   \u001b[0m clang -Wno-unused-result -Wsign-compare -Wunreachable-code -fno-common -dynamic -DNDEBUG -g -fwrapv -O3 -Wall -I/Users/ivanmkc/Documents/code/vertex-ai-samples/env/include -I/opt/homebrew/opt/python@3.9/Frameworks/Python.framework/Versions/3.9/include/python3.9 -c /var/folders/r0/7z2vjlt92lsgs7lj7pt_wjh000rmmq/T/tmpm7z36zap/a.c -o None/var/folders/r0/7z2vjlt92lsgs7lj7pt_wjh000rmmq/T/tmpm7z36zap/a.o\n",
      "  \u001b[31m   \u001b[0m xcrun: error: invalid active developer path (/Library/Developer/CommandLineTools), missing xcrun at: /Library/Developer/CommandLineTools/usr/bin/xcrun\n",
      "  \u001b[31m   \u001b[0m \n",
      "  \u001b[31m   \u001b[0m Could not find <Python.h>. This could mean the following:\n",
      "  \u001b[31m   \u001b[0m   * You're on Ubuntu and haven't run `apt-get install python3-dev`.\n",
      "  \u001b[31m   \u001b[0m   * You're on RHEL/Fedora and haven't run `yum install python3-devel` or\n",
      "  \u001b[31m   \u001b[0m     `dnf install python3-devel` (make sure you also have redhat-rpm-config\n",
      "  \u001b[31m   \u001b[0m     installed)\n",
      "  \u001b[31m   \u001b[0m   * You're on Mac OS X and the usual Python framework was somehow corrupted\n",
      "  \u001b[31m   \u001b[0m     (check your environment variables or try re-installing?)\n",
      "  \u001b[31m   \u001b[0m   * You're on Windows and your Python installation was somehow corrupted\n",
      "  \u001b[31m   \u001b[0m     (check your environment variables or try re-installing?)\n",
      "  \u001b[31m   \u001b[0m Traceback (most recent call last):\n",
      "  \u001b[31m   \u001b[0m   File \"/Users/ivanmkc/Documents/code/vertex-ai-samples/env/lib/python3.9/site-packages/setuptools/_distutils/unixccompiler.py\", line 173, in _compile\n",
      "  \u001b[31m   \u001b[0m     self.spawn(compiler_so + cc_args + [src, '-o', obj] +\n",
      "  \u001b[31m   \u001b[0m   File \"/private/var/folders/r0/7z2vjlt92lsgs7lj7pt_wjh000rmmq/T/pip-install-zzgab3x5/grpcio_1cb981259e1d4417b10212d206cb5418/src/python/grpcio/_spawn_patch.py\", line 54, in _commandfile_spawn\n",
      "  \u001b[31m   \u001b[0m     _classic_spawn(self, command)\n",
      "  \u001b[31m   \u001b[0m   File \"/Users/ivanmkc/Documents/code/vertex-ai-samples/env/lib/python3.9/site-packages/setuptools/_distutils/ccompiler.py\", line 917, in spawn\n",
      "  \u001b[31m   \u001b[0m     spawn(cmd, dry_run=self.dry_run, **kwargs)\n",
      "  \u001b[31m   \u001b[0m   File \"/Users/ivanmkc/Documents/code/vertex-ai-samples/env/lib/python3.9/site-packages/setuptools/_distutils/spawn.py\", line 68, in spawn\n",
      "  \u001b[31m   \u001b[0m     raise DistutilsExecError(\n",
      "  \u001b[31m   \u001b[0m distutils.errors.DistutilsExecError: command '/usr/bin/clang' failed with exit code 1\n",
      "  \u001b[31m   \u001b[0m \n",
      "  \u001b[31m   \u001b[0m During handling of the above exception, another exception occurred:\n",
      "  \u001b[31m   \u001b[0m \n",
      "  \u001b[31m   \u001b[0m Traceback (most recent call last):\n",
      "  \u001b[31m   \u001b[0m   File \"/private/var/folders/r0/7z2vjlt92lsgs7lj7pt_wjh000rmmq/T/pip-install-zzgab3x5/grpcio_1cb981259e1d4417b10212d206cb5418/src/python/grpcio/commands.py\", line 280, in build_extensions\n",
      "  \u001b[31m   \u001b[0m     build_ext.build_ext.build_extensions(self)\n",
      "  \u001b[31m   \u001b[0m   File \"/Users/ivanmkc/Documents/code/vertex-ai-samples/env/lib/python3.9/site-packages/setuptools/_distutils/command/build_ext.py\", line 448, in build_extensions\n",
      "  \u001b[31m   \u001b[0m     self._build_extensions_serial()\n",
      "  \u001b[31m   \u001b[0m   File \"/Users/ivanmkc/Documents/code/vertex-ai-samples/env/lib/python3.9/site-packages/setuptools/_distutils/command/build_ext.py\", line 473, in _build_extensions_serial\n",
      "  \u001b[31m   \u001b[0m     self.build_extension(ext)\n",
      "  \u001b[31m   \u001b[0m   File \"/Users/ivanmkc/Documents/code/vertex-ai-samples/env/lib/python3.9/site-packages/setuptools/command/build_ext.py\", line 202, in build_extension\n",
      "  \u001b[31m   \u001b[0m     _build_ext.build_extension(self, ext)\n",
      "  \u001b[31m   \u001b[0m   File \"/Users/ivanmkc/Documents/code/vertex-ai-samples/env/lib/python3.9/site-packages/setuptools/_distutils/command/build_ext.py\", line 528, in build_extension\n",
      "  \u001b[31m   \u001b[0m     objects = self.compiler.compile(sources,\n",
      "  \u001b[31m   \u001b[0m   File \"/private/var/folders/r0/7z2vjlt92lsgs7lj7pt_wjh000rmmq/T/pip-install-zzgab3x5/grpcio_1cb981259e1d4417b10212d206cb5418/src/python/grpcio/_parallel_compile_patch.py\", line 58, in _parallel_compile\n",
      "  \u001b[31m   \u001b[0m     multiprocessing.pool.ThreadPool(BUILD_EXT_COMPILER_JOBS).map(\n",
      "  \u001b[31m   \u001b[0m   File \"/opt/homebrew/Cellar/python@3.9/3.9.13_1/Frameworks/Python.framework/Versions/3.9/lib/python3.9/multiprocessing/pool.py\", line 364, in map\n",
      "  \u001b[31m   \u001b[0m     return self._map_async(func, iterable, mapstar, chunksize).get()\n",
      "  \u001b[31m   \u001b[0m   File \"/opt/homebrew/Cellar/python@3.9/3.9.13_1/Frameworks/Python.framework/Versions/3.9/lib/python3.9/multiprocessing/pool.py\", line 771, in get\n",
      "  \u001b[31m   \u001b[0m     raise self._value\n",
      "  \u001b[31m   \u001b[0m   File \"/opt/homebrew/Cellar/python@3.9/3.9.13_1/Frameworks/Python.framework/Versions/3.9/lib/python3.9/multiprocessing/pool.py\", line 125, in worker\n",
      "  \u001b[31m   \u001b[0m     result = (True, func(*args, **kwds))\n",
      "  \u001b[31m   \u001b[0m   File \"/opt/homebrew/Cellar/python@3.9/3.9.13_1/Frameworks/Python.framework/Versions/3.9/lib/python3.9/multiprocessing/pool.py\", line 48, in mapstar\n",
      "  \u001b[31m   \u001b[0m     return list(map(*args))\n",
      "  \u001b[31m   \u001b[0m   File \"/private/var/folders/r0/7z2vjlt92lsgs7lj7pt_wjh000rmmq/T/pip-install-zzgab3x5/grpcio_1cb981259e1d4417b10212d206cb5418/src/python/grpcio/_parallel_compile_patch.py\", line 54, in _compile_single_file\n",
      "  \u001b[31m   \u001b[0m     self._compile(obj, src, ext, cc_args, extra_postargs, pp_opts)\n",
      "  \u001b[31m   \u001b[0m   File \"/Users/ivanmkc/Documents/code/vertex-ai-samples/env/lib/python3.9/site-packages/setuptools/_distutils/unixccompiler.py\", line 176, in _compile\n",
      "  \u001b[31m   \u001b[0m     raise CompileError(msg)\n",
      "  \u001b[31m   \u001b[0m distutils.errors.CompileError: command '/usr/bin/clang' failed with exit code 1\n",
      "  \u001b[31m   \u001b[0m \n",
      "  \u001b[31m   \u001b[0m During handling of the above exception, another exception occurred:\n",
      "  \u001b[31m   \u001b[0m \n",
      "  \u001b[31m   \u001b[0m Traceback (most recent call last):\n",
      "  \u001b[31m   \u001b[0m   File \"<string>\", line 2, in <module>\n",
      "  \u001b[31m   \u001b[0m   File \"<pip-setuptools-caller>\", line 34, in <module>\n",
      "  \u001b[31m   \u001b[0m   File \"/private/var/folders/r0/7z2vjlt92lsgs7lj7pt_wjh000rmmq/T/pip-install-zzgab3x5/grpcio_1cb981259e1d4417b10212d206cb5418/setup.py\", line 540, in <module>\n",
      "  \u001b[31m   \u001b[0m     setuptools.setup(\n",
      "  \u001b[31m   \u001b[0m   File \"/Users/ivanmkc/Documents/code/vertex-ai-samples/env/lib/python3.9/site-packages/setuptools/__init__.py\", line 87, in setup\n",
      "  \u001b[31m   \u001b[0m     return distutils.core.setup(**attrs)\n",
      "  \u001b[31m   \u001b[0m   File \"/Users/ivanmkc/Documents/code/vertex-ai-samples/env/lib/python3.9/site-packages/setuptools/_distutils/core.py\", line 148, in setup\n",
      "  \u001b[31m   \u001b[0m     return run_commands(dist)\n",
      "  \u001b[31m   \u001b[0m   File \"/Users/ivanmkc/Documents/code/vertex-ai-samples/env/lib/python3.9/site-packages/setuptools/_distutils/core.py\", line 163, in run_commands\n",
      "  \u001b[31m   \u001b[0m     dist.run_commands()\n",
      "  \u001b[31m   \u001b[0m   File \"/Users/ivanmkc/Documents/code/vertex-ai-samples/env/lib/python3.9/site-packages/setuptools/_distutils/dist.py\", line 967, in run_commands\n",
      "  \u001b[31m   \u001b[0m     self.run_command(cmd)\n",
      "  \u001b[31m   \u001b[0m   File \"/Users/ivanmkc/Documents/code/vertex-ai-samples/env/lib/python3.9/site-packages/setuptools/dist.py\", line 1229, in run_command\n",
      "  \u001b[31m   \u001b[0m     super().run_command(command)\n",
      "  \u001b[31m   \u001b[0m   File \"/Users/ivanmkc/Documents/code/vertex-ai-samples/env/lib/python3.9/site-packages/setuptools/_distutils/dist.py\", line 986, in run_command\n",
      "  \u001b[31m   \u001b[0m     cmd_obj.run()\n",
      "  \u001b[31m   \u001b[0m   File \"/Users/ivanmkc/Documents/code/vertex-ai-samples/env/lib/python3.9/site-packages/setuptools/command/install.py\", line 68, in run\n",
      "  \u001b[31m   \u001b[0m     return orig.install.run(self)\n",
      "  \u001b[31m   \u001b[0m   File \"/Users/ivanmkc/Documents/code/vertex-ai-samples/env/lib/python3.9/site-packages/setuptools/_distutils/command/install.py\", line 670, in run\n",
      "  \u001b[31m   \u001b[0m     self.run_command('build')\n",
      "  \u001b[31m   \u001b[0m   File \"/Users/ivanmkc/Documents/code/vertex-ai-samples/env/lib/python3.9/site-packages/setuptools/_distutils/cmd.py\", line 313, in run_command\n",
      "  \u001b[31m   \u001b[0m     self.distribution.run_command(command)\n",
      "  \u001b[31m   \u001b[0m   File \"/Users/ivanmkc/Documents/code/vertex-ai-samples/env/lib/python3.9/site-packages/setuptools/dist.py\", line 1229, in run_command\n",
      "  \u001b[31m   \u001b[0m     super().run_command(command)\n",
      "  \u001b[31m   \u001b[0m   File \"/Users/ivanmkc/Documents/code/vertex-ai-samples/env/lib/python3.9/site-packages/setuptools/_distutils/dist.py\", line 986, in run_command\n",
      "  \u001b[31m   \u001b[0m     cmd_obj.run()\n",
      "  \u001b[31m   \u001b[0m   File \"/Users/ivanmkc/Documents/code/vertex-ai-samples/env/lib/python3.9/site-packages/setuptools/_distutils/command/build.py\", line 136, in run\n",
      "  \u001b[31m   \u001b[0m     self.run_command(cmd_name)\n",
      "  \u001b[31m   \u001b[0m   File \"/Users/ivanmkc/Documents/code/vertex-ai-samples/env/lib/python3.9/site-packages/setuptools/_distutils/cmd.py\", line 313, in run_command\n",
      "  \u001b[31m   \u001b[0m     self.distribution.run_command(command)\n",
      "  \u001b[31m   \u001b[0m   File \"/Users/ivanmkc/Documents/code/vertex-ai-samples/env/lib/python3.9/site-packages/setuptools/dist.py\", line 1229, in run_command\n",
      "  \u001b[31m   \u001b[0m     super().run_command(command)\n",
      "  \u001b[31m   \u001b[0m   File \"/Users/ivanmkc/Documents/code/vertex-ai-samples/env/lib/python3.9/site-packages/setuptools/_distutils/dist.py\", line 986, in run_command\n",
      "  \u001b[31m   \u001b[0m     cmd_obj.run()\n",
      "  \u001b[31m   \u001b[0m   File \"/Users/ivanmkc/Documents/code/vertex-ai-samples/env/lib/python3.9/site-packages/setuptools/command/build_ext.py\", line 79, in run\n",
      "  \u001b[31m   \u001b[0m     _build_ext.run(self)\n",
      "  \u001b[31m   \u001b[0m   File \"/Users/ivanmkc/Documents/code/vertex-ai-samples/env/lib/python3.9/site-packages/setuptools/_distutils/command/build_ext.py\", line 339, in run\n",
      "  \u001b[31m   \u001b[0m     self.build_extensions()\n",
      "  \u001b[31m   \u001b[0m   File \"/private/var/folders/r0/7z2vjlt92lsgs7lj7pt_wjh000rmmq/T/pip-install-zzgab3x5/grpcio_1cb981259e1d4417b10212d206cb5418/src/python/grpcio/commands.py\", line 283, in build_extensions\n",
      "  \u001b[31m   \u001b[0m     support.diagnose_build_ext_error(self, error, formatted_exception)\n",
      "  \u001b[31m   \u001b[0m   File \"/private/var/folders/r0/7z2vjlt92lsgs7lj7pt_wjh000rmmq/T/pip-install-zzgab3x5/grpcio_1cb981259e1d4417b10212d206cb5418/src/python/grpcio/support.py\", line 117, in diagnose_build_ext_error\n",
      "  \u001b[31m   \u001b[0m     diagnostic(build_ext, error)\n",
      "  \u001b[31m   \u001b[0m   File \"/private/var/folders/r0/7z2vjlt92lsgs7lj7pt_wjh000rmmq/T/pip-install-zzgab3x5/grpcio_1cb981259e1d4417b10212d206cb5418/src/python/grpcio/support.py\", line 76, in diagnose_compile_error\n",
      "  \u001b[31m   \u001b[0m     _expect_compile(build_ext.compiler, c_check, message)\n",
      "  \u001b[31m   \u001b[0m   File \"/private/var/folders/r0/7z2vjlt92lsgs7lj7pt_wjh000rmmq/T/pip-install-zzgab3x5/grpcio_1cb981259e1d4417b10212d206cb5418/src/python/grpcio/support.py\", line 68, in _expect_compile\n",
      "  \u001b[31m   \u001b[0m     raise commands.CommandError(\n",
      "  \u001b[31m   \u001b[0m commands.CommandError: Diagnostics found a compilation environment issue:\n",
      "  \u001b[31m   \u001b[0m \n",
      "  \u001b[31m   \u001b[0m Could not find <Python.h>. This could mean the following:\n",
      "  \u001b[31m   \u001b[0m   * You're on Ubuntu and haven't run `apt-get install python3-dev`.\n",
      "  \u001b[31m   \u001b[0m   * You're on RHEL/Fedora and haven't run `yum install python3-devel` or\n",
      "  \u001b[31m   \u001b[0m     `dnf install python3-devel` (make sure you also have redhat-rpm-config\n",
      "  \u001b[31m   \u001b[0m     installed)\n",
      "  \u001b[31m   \u001b[0m   * You're on Mac OS X and the usual Python framework was somehow corrupted\n",
      "  \u001b[31m   \u001b[0m     (check your environment variables or try re-installing?)\n",
      "  \u001b[31m   \u001b[0m   * You're on Windows and your Python installation was somehow corrupted\n",
      "  \u001b[31m   \u001b[0m     (check your environment variables or try re-installing?)\n",
      "  \u001b[31m   \u001b[0m \n",
      "  \u001b[31m   \u001b[0m \u001b[31m[end of output]\u001b[0m\n",
      "  \n",
      "  \u001b[1;35mnote\u001b[0m: This error originates from a subprocess, and is likely not a problem with pip.\n",
      "\u001b[33m  WARNING: No metadata found in /Users/ivanmkc/Documents/code/vertex-ai-samples/env/lib/python3.9/site-packages\u001b[0m\u001b[33m\n",
      "\u001b[0m\u001b[1;31merror\u001b[0m: \u001b[1mlegacy-install-failure\u001b[0m\n",
      "\n",
      "\u001b[31m×\u001b[0m Encountered error while trying to install package.\n",
      "\u001b[31m╰─>\u001b[0m grpcio\n",
      "\n",
      "\u001b[1;35mnote\u001b[0m: This is an issue with the package mentioned above, not pip.\n",
      "\u001b[1;36mhint\u001b[0m: See above for output from the failure.\n"
     ]
    }
   ],
   "source": [
    "! pip install --upgrade --quiet google-cloud-aiplatform grpcio-tools h5py"
   ]
  },
  {
   "cell_type": "markdown",
   "metadata": {
    "id": "irSMQn6gZ19l"
   },
   "source": [
    "Install the `h5py` to prepare sample dataset, and the `grpcio-tools` for querying against the index. "
   ]
  },
  {
   "cell_type": "markdown",
   "metadata": {
    "id": "hhq5zEbGg0XX"
   },
   "source": [
    "### Restart the kernel\n",
    "\n",
    "After you install the additional packages, you need to restart the notebook kernel so it can find the packages."
   ]
  },
  {
   "cell_type": "code",
   "execution_count": null,
   "metadata": {
    "id": "EzrelQZ22IZj"
   },
   "outputs": [],
   "source": [
    "if not os.getenv(\"IS_TESTING\"):\n",
    "    # Automatically restart kernel after installs\n",
    "    import IPython\n",
    "\n",
    "    app = IPython.Application.instance()\n",
    "    app.kernel.do_shutdown(True)"
   ]
  },
  {
   "cell_type": "markdown",
   "metadata": {
    "id": "q7tcBkCDI1_M"
   },
   "source": [
    "### Random ID\n",
    "\n",
    "To avoid name collisions between users on resources created, create a random ID for each instance session, and append the id onto the name of resources you create in this tutorial."
   ]
  },
  {
   "cell_type": "code",
   "execution_count": 59,
   "metadata": {
    "id": "HpIK91y1IzDr"
   },
   "outputs": [],
   "source": [
    "import random\n",
    "import string\n",
    "\n",
    "RANDOM_ID = \"\".join(random.choices(string.ascii_lowercase + string.digits, k=8))"
   ]
  },
  {
   "cell_type": "markdown",
   "metadata": {
    "id": "zgPO1eR3CYjk"
   },
   "source": [
    "### Create a Cloud Storage bucket\n",
    "\n",
    "**The following steps are required, regardless of your notebook environment.**\n",
    "\n",
    "Set the name of your Cloud Storage bucket below. It must be unique across all\n",
    "Cloud Storage buckets.\n",
    "\n",
    "You may also change the `REGION` variable, which is used for operations\n",
    "throughout the rest of this notebook. Make sure to [choose a region where Vertex AI services are\n",
    "available](https://cloud.google.com/vertex-ai/docs/general/locations#available_regions). You may\n",
    "not use a Multi-Regional Storage bucket for training with Vertex AI."
   ]
  },
  {
   "cell_type": "code",
   "execution_count": 60,
   "metadata": {
    "id": "MzGDU7TWdts_"
   },
   "outputs": [],
   "source": [
    "BUCKET_URI = \"gs://[your-bucket-name]\"  # @param {type:\"string\"}\n",
    "REGION = \"[your-region]\"  # @param {type:\"string\"}"
   ]
  },
  {
   "cell_type": "code",
   "execution_count": 61,
   "metadata": {
    "id": "cf221059d072"
   },
   "outputs": [],
   "source": [
    "if BUCKET_URI == \"\" or BUCKET_URI is None or BUCKET_URI == \"gs://[your-bucket-name]\":\n",
    "    BUCKET_URI = \"gs://\" + PROJECT_ID + \"aip-\" + RANDOM_ID\n",
    "\n",
    "if REGION == \"[your-region]\":\n",
    "    REGION = \"us-central1\""
   ]
  },
  {
   "cell_type": "markdown",
   "metadata": {
    "id": "-EcIXiGsCePi"
   },
   "source": [
    "**Only if your bucket doesn't already exist**: Run the following cell to create your Cloud Storage bucket."
   ]
  },
  {
   "cell_type": "code",
   "execution_count": 62,
   "metadata": {
    "id": "NIq7R4HZCfIc"
   },
   "outputs": [
    {
     "name": "stdout",
     "output_type": "stream",
     "text": [
      "Creating gs://python-docs-samples-testsaip-xzt60uhl/...\n"
     ]
    }
   ],
   "source": [
    "! gsutil mb -l $REGION -p $PROJECT_ID $BUCKET_URI"
   ]
  },
  {
   "cell_type": "markdown",
   "metadata": {
    "id": "ucvCsknMCims"
   },
   "source": [
    "Finally, validate access to your Cloud Storage bucket by examining its contents:"
   ]
  },
  {
   "cell_type": "code",
   "execution_count": 63,
   "metadata": {
    "id": "vhOb7YnwClBb"
   },
   "outputs": [],
   "source": [
    "! gsutil ls -al $BUCKET_URI"
   ]
  },
  {
   "cell_type": "markdown",
   "metadata": {
    "id": "76f7b9ffde0b"
   },
   "source": [
    "Use gcloud to retrieve the project number."
   ]
  },
  {
   "cell_type": "code",
   "execution_count": 64,
   "metadata": {
    "id": "pRUOFELefqf1"
   },
   "outputs": [
    {
     "name": "stdout",
     "output_type": "stream",
     "text": [
      "PROJECT_ID: python-docs-samples-tests\n",
      "REGION: us-central1\n",
      "Updated property [core/project].\n",
      "Updated property [ai_platform/region].\n"
     ]
    }
   ],
   "source": [
    "PROJECT_NUMBER = !gcloud projects list --filter=\"PROJECT_ID:'{PROJECT_ID}'\" --format='value(PROJECT_NUMBER)'\n",
    "PROJECT_NUMBER = PROJECT_NUMBER[0]\n",
    "\n",
    "PARENT = \"projects/{}/locations/{}\".format(PROJECT_ID, REGION)\n",
    "\n",
    "print(\"PROJECT_ID: {}\".format(PROJECT_ID))\n",
    "print(\"REGION: {}\".format(REGION))\n",
    "\n",
    "!gcloud config set project {PROJECT_ID} --quiet\n",
    "!gcloud config set ai_platform/region {REGION} --quiet"
   ]
  },
  {
   "cell_type": "markdown",
   "metadata": {
    "id": "lR6Wwv-hCCN-"
   },
   "source": [
    "## Prepare the data\n",
    "\n",
    "The GloVe dataset consists of a set of pre-trained embeddings. The embeddings are split into a \"train\" split, and a \"test\" split.\n",
    "We will create a vector search index from the \"train\" split, and use the embedding vectors in the \"test\" split as query vectors to test the vector search index.\n",
    "\n",
    "**Note:** While the data split uses the term \"train\", these are pre-trained embeddings and therefore are ready to be indexed for search. The terms \"train\" and \"test\" split are used just to be consistent with machine learning terminology.\n",
    "\n",
    "Download the GloVe dataset.\n"
   ]
  },
  {
   "cell_type": "code",
   "execution_count": null,
   "metadata": {
    "id": "9wzS85TeB9dG"
   },
   "outputs": [],
   "source": [
    "! gsutil cp gs://cloud-samples-data/vertex-ai/matching_engine/glove-100-angular.hdf5 ."
   ]
  },
  {
   "cell_type": "markdown",
   "metadata": {
    "id": "4fAO9CMoCNtq"
   },
   "source": [
    "Read the data into memory.\n"
   ]
  },
  {
   "cell_type": "code",
   "execution_count": 4,
   "metadata": {
    "id": "lZ3JQTS6CN-3"
   },
   "outputs": [],
   "source": [
    "import h5py\n",
    "\n",
    "# The number of nearest neighbors to be retrieved from database for each query.\n",
    "NUM_NEIGHBOURS = 10\n",
    "\n",
    "h5 = h5py.File(\"glove-100-angular.hdf5\", \"r\")\n",
    "train = h5[\"train\"]\n",
    "test = h5[\"test\"]"
   ]
  },
  {
   "cell_type": "code",
   "execution_count": 5,
   "metadata": {
    "id": "pE6bBBo7GjJK"
   },
   "outputs": [
    {
     "data": {
      "text/plain": [
       "array([-0.11333  ,  0.48402  ,  0.090771 , -0.22439  ,  0.034206 ,\n",
       "       -0.55831  ,  0.041849 , -0.53573  ,  0.18809  , -0.58722  ,\n",
       "        0.015313 , -0.014555 ,  0.80842  , -0.038519 ,  0.75348  ,\n",
       "        0.70502  , -0.17863  ,  0.3222   ,  0.67575  ,  0.67198  ,\n",
       "        0.26044  ,  0.4187   , -0.34122  ,  0.2286   , -0.53529  ,\n",
       "        1.2582   , -0.091543 ,  0.19716  , -0.037454 , -0.3336   ,\n",
       "        0.31399  ,  0.36488  ,  0.71263  ,  0.1307   , -0.24654  ,\n",
       "       -0.52445  , -0.036091 ,  0.55068  ,  0.10017  ,  0.48095  ,\n",
       "        0.71104  , -0.053462 ,  0.22325  ,  0.30917  , -0.39926  ,\n",
       "        0.036634 , -0.35431  , -0.42795  ,  0.46444  ,  0.25586  ,\n",
       "        0.68257  , -0.20821  ,  0.38433  ,  0.055773 , -0.2539   ,\n",
       "       -0.20804  ,  0.52522  , -0.11399  , -0.3253   , -0.44104  ,\n",
       "        0.17528  ,  0.62255  ,  0.50237  , -0.7607   , -0.071786 ,\n",
       "        0.0080131, -0.13286  ,  0.50097  ,  0.18824  , -0.54722  ,\n",
       "       -0.42664  ,  0.4292   ,  0.14877  , -0.0072514, -0.16484  ,\n",
       "       -0.059798 ,  0.9895   , -0.61738  ,  0.054169 ,  0.48424  ,\n",
       "       -0.35084  , -0.27053  ,  0.37829  ,  0.11503  , -0.39613  ,\n",
       "        0.24266  ,  0.39147  , -0.075256 ,  0.65093  , -0.20822  ,\n",
       "       -0.17456  ,  0.53571  , -0.16537  ,  0.13582  , -0.56016  ,\n",
       "        0.016964 ,  0.1277   ,  0.94071  , -0.22608  , -0.021106 ],\n",
       "      dtype=float32)"
      ]
     },
     "execution_count": 5,
     "metadata": {},
     "output_type": "execute_result"
    }
   ],
   "source": [
    "train[0]"
   ]
  },
  {
   "cell_type": "markdown",
   "metadata": {
    "id": "aQIQSyF9GtSv"
   },
   "source": [
    "#### Save the train split in JSONL format.\n",
    "\n",
    "Add restricts to each data point, in this demo, we only add one namespace and the allowlist is set to be the same as the id.\n",
    "Later on, we will demo how to return only the allowlisted data points.\n",
    "Split datapoints into two groups 'a' and 'b'. The datapoint whose ids are even are in group 'a', otherwise are in group 'b'\n",
    "We will demo how to configure the query to return up to k data points for each group."
   ]
  },
  {
   "cell_type": "code",
   "execution_count": 53,
   "metadata": {},
   "outputs": [],
   "source": [
    "import json\n",
    "\n",
    "with open(\"glove100.json\", \"w\") as f:\n",
    "    embeddings_formatted = [\n",
    "            json.dumps({\n",
    "                \"id\": str(index), \n",
    "                \"embedding\" : [str(value) for value in train[index]],\n",
    "                \"restricts\": [\n",
    "                    {\n",
    "                        \"namespace\": \"class\", \n",
    "                        \"allow_list\": [\"even\" if index % 2 == 0 else \"odd\"]\n",
    "                    }\n",
    "                ]\n",
    "            }) + \"\\n\"\n",
    "        for index, embedding in enumerate(train)\n",
    "    ]\n",
    "    f.writelines(embeddings_formatted)"
   ]
  },
  {
   "cell_type": "markdown",
   "metadata": {
    "id": "QuVl8DrWG8NS"
   },
   "source": [
    "Upload the training data to GCS."
   ]
  },
  {
   "cell_type": "code",
   "execution_count": 65,
   "metadata": {
    "id": "3PgsA_vbI8Vg"
   },
   "outputs": [
    {
     "name": "stdout",
     "output_type": "stream",
     "text": [
      "Copying file://glove100.json [Content-Type=application/json]...\n",
      "==> NOTE: You are uploading one or more large file(s), which would run          \n",
      "significantly faster if you enable parallel composite uploads. This\n",
      "feature can be enabled by editing the\n",
      "\"parallel_composite_upload_threshold\" value in your .boto\n",
      "configuration file. However, note that if you do this large files will\n",
      "be uploaded as `composite objects\n",
      "<https://cloud.google.com/storage/docs/composite-objects>`_,which\n",
      "means that any user who downloads such objects will need to have a\n",
      "compiled crcmod installed (see \"gsutil help crcmod\"). This is because\n",
      "without a compiled crcmod, computing checksums on composite objects is\n",
      "so slow that gsutil disables downloads of composite objects.\n",
      "\n",
      "- [1 files][  1.4 GiB/  1.4 GiB]   17.9 MiB/s                                   \n",
      "Operation completed over 1 objects/1.4 GiB.                                      \n"
     ]
    }
   ],
   "source": [
    "EMBEDDINGS_INITIAL_URI = f\"{BUCKET_URI}/matching_engine/initial/\"\n",
    "! gsutil cp glove100.json {EMBEDDINGS_INITIAL_URI}"
   ]
  },
  {
   "cell_type": "markdown",
   "metadata": {
    "id": "mglUPwHpJH98"
   },
   "source": [
    "## Create Indexes\n"
   ]
  },
  {
   "cell_type": "markdown",
   "metadata": {
    "id": "qhIBCQ7dDSbW"
   },
   "source": [
    "### Create ANN Index (for Production Usage)"
   ]
  },
  {
   "cell_type": "code",
   "execution_count": 66,
   "metadata": {
    "id": "qiIg9b5zJLi1"
   },
   "outputs": [],
   "source": [
    "DIMENSIONS = 100\n",
    "DISPLAY_NAME = \"glove_100_1\"\n",
    "DISPLAY_NAME_BRUTE_FORCE = DISPLAY_NAME + \"_brute_force\""
   ]
  },
  {
   "cell_type": "markdown",
   "metadata": {
    "id": "svLYiDf0OD2G"
   },
   "source": [
    "Create the ANN index configuration:\n",
    "\n",
    "Please read the documentation to understand the various configuration parameters that can be used to tune the index\n"
   ]
  },
  {
   "cell_type": "code",
   "execution_count": 67,
   "metadata": {
    "id": "Y4zooldkGoM4"
   },
   "outputs": [],
   "source": [
    "import os\n",
    "import sys\n",
    "\n",
    "from google.cloud import aiplatform\n",
    "\n",
    "aiplatform.init(project=PROJECT_ID, location=REGION, staging_bucket=BUCKET_URI)"
   ]
  },
  {
   "cell_type": "code",
   "execution_count": 68,
   "metadata": {
    "id": "xzY7TpUSJcTV"
   },
   "outputs": [
    {
     "name": "stdout",
     "output_type": "stream",
     "text": [
      "Creating MatchingEngineIndex\n",
      "Create MatchingEngineIndex backing LRO: projects/1012616486416/locations/us-central1/indexes/4072951709096214528/operations/4148683115079925760\n",
      "MatchingEngineIndex created. Resource name: projects/1012616486416/locations/us-central1/indexes/4072951709096214528\n",
      "To use this MatchingEngineIndex in another session:\n",
      "index = aiplatform.MatchingEngineIndex('projects/1012616486416/locations/us-central1/indexes/4072951709096214528')\n"
     ]
    }
   ],
   "source": [
    "tree_ah_index = aiplatform.MatchingEngineIndex.create_tree_ah_index(\n",
    "    display_name=DISPLAY_NAME_BRUTE_FORCE,\n",
    "    contents_delta_uri=EMBEDDINGS_INITIAL_URI,\n",
    "    dimensions=DIMENSIONS,\n",
    "    approximate_neighbors_count=150,\n",
    "    distance_measure_type=\"DOT_PRODUCT_DISTANCE\",\n",
    "    leaf_node_embedding_count=500,\n",
    "    leaf_nodes_to_search_percent=7,\n",
    "    description=\"Glove 100 ANN index\",\n",
    "    labels={\"label_name\": \"label_value\"},\n",
    ")"
   ]
  },
  {
   "cell_type": "code",
   "execution_count": 69,
   "metadata": {
    "id": "17jrQi501QyX"
   },
   "outputs": [
    {
     "data": {
      "text/plain": [
       "'projects/1012616486416/locations/us-central1/indexes/4072951709096214528'"
      ]
     },
     "execution_count": 69,
     "metadata": {},
     "output_type": "execute_result"
    }
   ],
   "source": [
    "INDEX_RESOURCE_NAME = tree_ah_index.resource_name\n",
    "INDEX_RESOURCE_NAME"
   ]
  },
  {
   "cell_type": "markdown",
   "metadata": {
    "id": "0f1a9fbecabb"
   },
   "source": [
    "Using the resource name, you can retrieve an existing MatchingEngineIndex."
   ]
  },
  {
   "cell_type": "code",
   "execution_count": 75,
   "metadata": {
    "id": "1ddb70647d98"
   },
   "outputs": [],
   "source": [
    "tree_ah_index = aiplatform.MatchingEngineIndex(index_name=INDEX_RESOURCE_NAME)"
   ]
  },
  {
   "cell_type": "markdown",
   "metadata": {
    "id": "kSsqZuyoA1SG"
   },
   "source": [
    "### Create Brute Force Index (for Ground Truth)\n",
    "\n",
    "The brute force index uses a naive brute force method to find the nearest neighbors. This method is not fast or efficient. Hence brute force indices are not recommended for production usage. They are to be used to find the \"ground truth\" set of neighbors, so that the \"ground truth\" set can be used to measure recall of the indices being tuned for production usage. To ensure an apples to apples comparison, the `distanceMeasureType` and `dimensions` of the brute force index should match those of the production indices being tuned.\n",
    "\n",
    "Create the brute force index configuration:"
   ]
  },
  {
   "cell_type": "code",
   "execution_count": null,
   "metadata": {
    "id": "DXnBLqjXBsv8"
   },
   "outputs": [
    {
     "name": "stdout",
     "output_type": "stream",
     "text": [
      "Creating MatchingEngineIndex\n",
      "Create MatchingEngineIndex backing LRO: projects/1012616486416/locations/us-central1/indexes/1687169806496694272/operations/912635676581691392\n"
     ]
    }
   ],
   "source": [
    "brute_force_index = aiplatform.MatchingEngineIndex.create_brute_force_index(\n",
    "    display_name=DISPLAY_NAME,\n",
    "    contents_delta_uri=EMBEDDINGS_INITIAL_URI,\n",
    "    dimensions=DIMENSIONS,\n",
    "    distance_measure_type=\"DOT_PRODUCT_DISTANCE\",\n",
    "    description=\"Glove 100 index (brute force)\",\n",
    "    labels={\"label_name\": \"label_value\"},\n",
    ")"
   ]
  },
  {
   "cell_type": "code",
   "execution_count": null,
   "metadata": {
    "id": "_oD5SieYJbbW"
   },
   "outputs": [],
   "source": [
    "INDEX_BRUTE_FORCE_RESOURCE_NAME = brute_force_index.resource_name\n",
    "INDEX_BRUTE_FORCE_RESOURCE_NAME"
   ]
  },
  {
   "cell_type": "code",
   "execution_count": null,
   "metadata": {
    "id": "865fcad494d7"
   },
   "outputs": [],
   "source": [
    "brute_force_index = aiplatform.MatchingEngineIndex(\n",
    "    index_name=INDEX_BRUTE_FORCE_RESOURCE_NAME\n",
    ")"
   ]
  },
  {
   "cell_type": "markdown",
   "metadata": {
    "id": "omlgEZ-sGoM5"
   },
   "source": [
    "## Update Indexes\n",
    "\n",
    "Create incremental data file.\n"
   ]
  },
  {
   "cell_type": "code",
   "execution_count": null,
   "metadata": {
    "id": "DDAvm_mj_BVs"
   },
   "outputs": [],
   "source": [
    "with open(\"glove100_incremental.json\", \"w\") as f:\n",
    "    index = 0\n",
    "    f.write(\n",
    "        json.dumps(\n",
    "            {\n",
    "                \"id\": str(index), \n",
    "                \"embedding\" : [str(0) for _ in train[index]],\n",
    "                \"restricts\": [\n",
    "                    {\n",
    "                        \"namespace\": \"class\", \n",
    "                        \"allow_list\": [\"even\" if index % 2 == 0 else \"odd\"]\n",
    "                    }\n",
    "                ]\n",
    "            }\n",
    "        ) + \"\\n\"\n",
    "    )"
   ]
  },
  {
   "cell_type": "markdown",
   "metadata": {
    "id": "ZU7TU7C7GoM6"
   },
   "source": [
    "Copy the incremental data file to a new subdirectory.\n"
   ]
  },
  {
   "cell_type": "code",
   "execution_count": null,
   "metadata": {
    "id": "RLWcDvNLGoM6"
   },
   "outputs": [],
   "source": [
    "EMBEDDINGS_UPDATE_URI = f\"{BUCKET_URI}/matching-engine/incremental/\""
   ]
  },
  {
   "cell_type": "code",
   "execution_count": null,
   "metadata": {
    "id": "FgpEDX0oGoM6"
   },
   "outputs": [],
   "source": [
    "! gsutil cp glove100_incremental.json {EMBEDDINGS_UPDATE_URI}"
   ]
  },
  {
   "cell_type": "markdown",
   "metadata": {
    "id": "aiXtF_x0GoM6"
   },
   "source": [
    "Create update index request\n"
   ]
  },
  {
   "cell_type": "code",
   "execution_count": null,
   "metadata": {
    "id": "tvedBONtGoM6"
   },
   "outputs": [],
   "source": [
    "tree_ah_index = tree_ah_index.update_embeddings(\n",
    "    contents_delta_uri=EMBEDDINGS_UPDATE_URI,\n",
    ")"
   ]
  },
  {
   "cell_type": "code",
   "execution_count": null,
   "metadata": {
    "id": "HKPDojFpGoM6"
   },
   "outputs": [],
   "source": [
    "INDEX_RESOURCE_NAME = tree_ah_index.resource_name\n",
    "INDEX_RESOURCE_NAME"
   ]
  },
  {
   "cell_type": "markdown",
   "metadata": {
    "id": "qV2xjAnDDObD"
   },
   "source": [
    "## Create an IndexEndpoint with VPC Network"
   ]
  },
  {
   "cell_type": "code",
   "execution_count": null,
   "metadata": {
    "id": "BpZQoJyxDlbO"
   },
   "outputs": [],
   "source": [
    "VPC_NETWORK = \"[your-network-name]\"\n",
    "VPC_NETWORK_FULL = \"projects/{}/global/networks/{}\".format(PROJECT_NUMBER, VPC_NETWORK)\n",
    "VPC_NETWORK_FULL"
   ]
  },
  {
   "cell_type": "code",
   "execution_count": null,
   "metadata": {
    "id": "QuARXzJVGyQX"
   },
   "outputs": [],
   "source": [
    "my_index_endpoint = aiplatform.MatchingEngineIndexEndpoint.create(\n",
    "    display_name=\"index_endpoint_for_demo\",\n",
    "    description=\"index endpoint description\",\n",
    "    network=VPC_NETWORK_FULL,\n",
    ")"
   ]
  },
  {
   "cell_type": "code",
   "execution_count": null,
   "metadata": {
    "id": "PJ3bcZqi-cfM"
   },
   "outputs": [],
   "source": [
    "INDEX_ENDPOINT_NAME = my_index_endpoint.resource_name\n",
    "INDEX_ENDPOINT_NAME"
   ]
  },
  {
   "cell_type": "markdown",
   "metadata": {
    "id": "np2cgVuuIe9k"
   },
   "source": [
    "## Deploy Indexes"
   ]
  },
  {
   "cell_type": "markdown",
   "metadata": {
    "id": "8Ew1UgcIIiJG"
   },
   "source": [
    "### Deploy ANN Index"
   ]
  },
  {
   "cell_type": "code",
   "execution_count": null,
   "metadata": {
    "id": "nLOYTGygIlMK"
   },
   "outputs": [],
   "source": [
    "DEPLOYED_INDEX_ID = f\"tree_ah_glove_deployed_{RANDOM_ID}\""
   ]
  },
  {
   "cell_type": "code",
   "execution_count": null,
   "metadata": {
    "id": "_uK4WOgqN1NG"
   },
   "outputs": [],
   "source": [
    "my_index_endpoint = my_index_endpoint.deploy_index(\n",
    "    index=tree_ah_index, deployed_index_id=DEPLOYED_INDEX_ID\n",
    ")\n",
    "\n",
    "my_index_endpoint.deployed_indexes"
   ]
  },
  {
   "cell_type": "markdown",
   "metadata": {
    "id": "RNZnXmO5AhDO"
   },
   "source": [
    "### Deploy Brute Force Index"
   ]
  },
  {
   "cell_type": "code",
   "execution_count": null,
   "metadata": {
    "id": "3p9e4828AkSv"
   },
   "outputs": [],
   "source": [
    "DEPLOYED_BRUTE_FORCE_INDEX_ID = f\"glove_brute_force_deployed_{RANDOM_ID}\""
   ]
  },
  {
   "cell_type": "code",
   "execution_count": null,
   "metadata": {
    "id": "-2kgd01SA4rk"
   },
   "outputs": [],
   "source": [
    "my_index_endpoint = my_index_endpoint.deploy_index(\n",
    "    index=brute_force_index, deployed_index_id=DEPLOYED_BRUTE_FORCE_INDEX_ID\n",
    ")\n",
    "\n",
    "my_index_endpoint.deployed_indexes"
   ]
  },
  {
   "cell_type": "markdown",
   "metadata": {
    "id": "6LCGvBNvBd8D"
   },
   "source": [
    "## Create Online Queries\n",
    "\n",
    "After you built your indexes, you may query against the deployed index through the online querying gRPC API (Match service) within the virtual machine instances from the same region (for example 'us-central1' in this tutorial).  "
   ]
  },
  {
   "cell_type": "markdown",
   "metadata": {
    "id": "IcXa9lSuB9AT"
   },
   "source": [
    "Test your query:"
   ]
  },
  {
   "cell_type": "code",
   "execution_count": null,
   "metadata": {
    "id": "A3KYVw5HB-4v"
   },
   "outputs": [],
   "source": [
    "# Test query\n",
    "response = my_index_endpoint.match(\n",
    "    deployed_index_id=DEPLOYED_INDEX_ID, queries=test[:1], num_neighbors=NUM_NEIGHBOURS\n",
    ")\n",
    "\n",
    "response"
   ]
  },
  {
   "cell_type": "markdown",
   "metadata": {
    "id": "xeUZO3bAGoM-"
   },
   "source": [
    "### Compute Recall\n",
    "\n",
    "Use the deployed brute force Index as the ground truth to calculate the recall of ANN Index. Note that you can run multiple queries in a single match call."
   ]
  },
  {
   "cell_type": "code",
   "execution_count": null,
   "metadata": {
    "id": "U9dNIbkEGoM-"
   },
   "outputs": [],
   "source": [
    "# Retrieve nearest neighbors for both the tree-AH index and the brute-force index\n",
    "tree_ah_response_test = my_index_endpoint.match(\n",
    "    deployed_index_id=DEPLOYED_INDEX_ID,\n",
    "    queries=list(test),\n",
    "    num_neighbors=NUM_NEIGHBOURS,\n",
    ")\n",
    "brute_force_response_test = my_index_endpoint.match(\n",
    "    deployed_index_id=DEPLOYED_BRUTE_FORCE_INDEX_ID,\n",
    "    queries=list(test),\n",
    "    num_neighbors=NUM_NEIGHBOURS,\n",
    ")"
   ]
  },
  {
   "cell_type": "code",
   "execution_count": null,
   "metadata": {
    "id": "V-eMF05UGoM-"
   },
   "outputs": [],
   "source": [
    "# Calculate recall by determining how many neighbors were correctly retrieved as compared to the brute-force option.\n",
    "recalled_neighbors = 0\n",
    "for tree_ah_neighbors, brute_force_neighbors in zip(\n",
    "    tree_ah_response_test, brute_force_response_test\n",
    "):\n",
    "    tree_ah_neighbor_ids = [neighbor.id for neighbor in tree_ah_neighbors]\n",
    "    brute_force_neighbor_ids = [neighbor.id for neighbor in brute_force_neighbors]\n",
    "\n",
    "    recalled_neighbors += len(\n",
    "        set(tree_ah_neighbor_ids).intersection(brute_force_neighbor_ids)\n",
    "    )\n",
    "\n",
    "recall = recalled_neighbors / len(\n",
    "    [neighbor for neighbors in brute_force_response_test for neighbor in neighbors]\n",
    ")\n",
    "\n",
    "print(\"Recall: {}\".format(recall))"
   ]
  },
  {
   "cell_type": "markdown",
   "metadata": {},
   "source": [
    "### Filtering results\n",
    "\n",
    "TODO"
   ]
  },
  {
   "cell_type": "code",
   "execution_count": null,
   "metadata": {},
   "outputs": [],
   "source": [
    "from google.cloud.aiplatform.matching_engine.matching_engine_index_endpoint import (\n",
    "    Namespace,\n",
    ")\n",
    "\n",
    "# Test query\n",
    "response = my_index_endpoint.match(\n",
    "    deployed_index_id=DEPLOYED_INDEX_ID, \n",
    "    queries=test[:1], \n",
    "    num_neighbors=NUM_NEIGHBOURS,\n",
    "    filter=[Namespace(\"class\", [\"even\"])],    \n",
    ")\n",
    "\n",
    "response"
   ]
  },
  {
   "cell_type": "markdown",
   "metadata": {
    "id": "TpV-iwP9qw9c"
   },
   "source": [
    "## Cleaning up\n",
    "\n",
    "To clean up all Google Cloud resources used in this project, you can [delete the Google Cloud\n",
    "project](https://cloud.google.com/resource-manager/docs/creating-managing-projects#shutting_down_projects) you used for the tutorial.\n",
    "You can also manually delete resources that you created by running the following code."
   ]
  },
  {
   "cell_type": "code",
   "execution_count": null,
   "metadata": {
    "id": "sx_vKniMq9ZX"
   },
   "outputs": [],
   "source": [
    "# Force undeployment of indexes and delete endpoint\n",
    "my_index_endpoint.delete(force=True)"
   ]
  },
  {
   "cell_type": "code",
   "execution_count": null,
   "metadata": {
    "id": "omj7N9iWv-Tq"
   },
   "outputs": [],
   "source": [
    "# Delete indexes\n",
    "tree_ah_index.delete()\n",
    "brute_force_index.delete()"
   ]
  }
 ],
 "metadata": {
  "colab": {
   "collapsed_sections": [],
   "name": "sdk_matching_engine_for_indexing.ipynb",
   "toc_visible": true
  },
  "kernelspec": {
   "display_name": "Python 3 (ipykernel)",
   "language": "python",
   "name": "python3"
  },
  "language_info": {
   "codemirror_mode": {
    "name": "ipython",
    "version": 3
   },
   "file_extension": ".py",
   "mimetype": "text/x-python",
   "name": "python",
   "nbconvert_exporter": "python",
   "pygments_lexer": "ipython3",
   "version": "3.9.13"
  }
 },
 "nbformat": 4,
 "nbformat_minor": 4
}
